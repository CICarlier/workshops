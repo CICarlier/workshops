{
 "cells": [
  {
   "cell_type": "markdown",
   "metadata": {},
   "source": [
    "# GEE analysis of growth trajectories of children"
   ]
  },
  {
   "cell_type": "markdown",
   "metadata": {},
   "source": [
    "GEE is commonly used in longitudinal data analysis.  Here we\n",
    "consider a dataset in which repeated measures of weight were made on\n",
    "young children over several years in early childhood.\n",
    "GEE allows us to use linear modeling techniques\n",
    "similar to OLS, and still rigorously account for the repeated\n",
    "measures aspect of the data."
   ]
  },
  {
   "cell_type": "markdown",
   "metadata": {},
   "source": [
    "The data we will use are obtained from this page:\n",
    "http://www.bristol.ac.uk/cmm/learning/support/datasets"
   ]
  },
  {
   "cell_type": "markdown",
   "metadata": {},
   "source": [
    "These are the packages we will be using:"
   ]
  },
  {
   "cell_type": "code",
   "execution_count": 1,
   "metadata": {},
   "outputs": [
    {
     "name": "stderr",
     "output_type": "stream",
     "text": [
      "/nfs/kshedden/python3/lib/python3.7/site-packages/statsmodels/compat/pandas.py:23: FutureWarning: The Panel class is removed from pandas. Accessing it from the top-level namespace will also be removed in the next version\n",
      "  data_klasses = (pandas.Series, pandas.DataFrame, pandas.Panel)\n"
     ]
    }
   ],
   "source": [
    "import pandas as pd\n",
    "import numpy as np\n",
    "import statsmodels.api as sm"
   ]
  },
  {
   "cell_type": "markdown",
   "metadata": {},
   "source": [
    "The data are in \"fixed width\" format, so we use some special\n",
    "techniques for reading them:"
   ]
  },
  {
   "cell_type": "code",
   "execution_count": 2,
   "metadata": {},
   "outputs": [],
   "source": [
    "colspecs = [(0, 4), (4, 7), (7, 12), (12, 16), (16, 17)]\n",
    "df = pd.read_fwf(\"../data/growth/ASIAN.DAT\", colspecs=colspecs, header=None)\n",
    "df.columns = [\"Id\", \"Age\", \"Weight\", \"BWeight\", \"Gender\"]\n",
    "df[\"Female\"] = 1*(df.Gender == 2)\n",
    "df = df.dropna()"
   ]
  },
  {
   "cell_type": "markdown",
   "metadata": {},
   "source": [
    "Some of the analyses below will use logged data:"
   ]
  },
  {
   "cell_type": "code",
   "execution_count": 3,
   "metadata": {},
   "outputs": [],
   "source": [
    "df[\"LogWeight\"] = np.log(df.Weight) / np.log(2)\n",
    "df[\"LogBWeight\"] = np.log(df.BWeight) / np.log(2)"
   ]
  },
  {
   "cell_type": "markdown",
   "metadata": {},
   "source": [
    "The first model that we consider treats weight as a linear function of age, and\n",
    "ignores the repeated measures structure.  The point estimates from\n",
    "this model are valid, but the standard errors are not."
   ]
  },
  {
   "cell_type": "code",
   "execution_count": 4,
   "metadata": {},
   "outputs": [
    {
     "name": "stdout",
     "output_type": "stream",
     "text": [
      "                 Generalized Linear Model Regression Results                  \n",
      "==============================================================================\n",
      "Dep. Variable:                 Weight   No. Observations:                 1572\n",
      "Model:                            GLM   Df Residuals:                     1568\n",
      "Model Family:                Gaussian   Df Model:                            3\n",
      "Link Function:               identity   Scale:                      2.0045e+06\n",
      "Method:                          IRLS   Log-Likelihood:                -13634.\n",
      "Date:                Mon, 17 Feb 2020   Deviance:                   3.1431e+09\n",
      "Time:                        13:48:28   Pearson chi2:                 3.14e+09\n",
      "No. Iterations:                     3                                         \n",
      "Covariance Type:            nonrobust                                         \n",
      "==============================================================================\n",
      "                 coef    std err          z      P>|z|      [0.025      0.975]\n",
      "------------------------------------------------------------------------------\n",
      "Intercept   2601.2871    231.095     11.256      0.000    2148.350    3054.225\n",
      "Age           10.1121      0.123     82.027      0.000       9.870      10.354\n",
      "BWeight        0.8866      0.071     12.478      0.000       0.747       1.026\n",
      "Female      -520.3096     71.478     -7.279      0.000    -660.404    -380.215\n",
      "==============================================================================\n"
     ]
    }
   ],
   "source": [
    "model0 = sm.GLM.from_formula(\"Weight ~ Age + BWeight + Female\", data=df)\n",
    "rslt0 = model0.fit()\n",
    "print(rslt0.summary())"
   ]
  },
  {
   "cell_type": "markdown",
   "metadata": {},
   "source": [
    "Here is a GEE model with the same mean structure as in the cell\n",
    "above, but using GEE gives us meaningful standard errors:"
   ]
  },
  {
   "cell_type": "code",
   "execution_count": 5,
   "metadata": {},
   "outputs": [
    {
     "name": "stdout",
     "output_type": "stream",
     "text": [
      "                               GEE Regression Results                              \n",
      "===================================================================================\n",
      "Dep. Variable:                      Weight   No. Observations:                 1572\n",
      "Model:                                 GEE   No. clusters:                      568\n",
      "Method:                        Generalized   Min. cluster size:                   1\n",
      "                      Estimating Equations   Max. cluster size:                   5\n",
      "Family:                           Gaussian   Mean cluster size:                 2.8\n",
      "Dependence structure:         Independence   Num. iterations:                     3\n",
      "Date:                     Mon, 17 Feb 2020   Scale:                     2004506.825\n",
      "Covariance type:                    robust   Time:                         13:48:29\n",
      "==============================================================================\n",
      "                 coef    std err          z      P>|z|      [0.025      0.975]\n",
      "------------------------------------------------------------------------------\n",
      "Intercept   2601.2871    268.766      9.679      0.000    2074.515    3128.059\n",
      "Age           10.1121      0.111     90.912      0.000       9.894      10.330\n",
      "BWeight        0.8866      0.086     10.367      0.000       0.719       1.054\n",
      "Female      -520.3096     79.384     -6.554      0.000    -675.900    -364.719\n",
      "==============================================================================\n",
      "Skew:                          0.3683   Kurtosis:                       0.1819\n",
      "Centered skew:                -0.2702   Centered kurtosis:              0.0109\n",
      "==============================================================================\n"
     ]
    }
   ],
   "source": [
    "model1 = sm.GEE.from_formula(\"Weight ~ Age + BWeight + Female\", groups=\"Id\", data=df)\n",
    "rslt1 = model1.fit()\n",
    "print(rslt1.summary())"
   ]
  },
  {
   "cell_type": "markdown",
   "metadata": {},
   "source": [
    "Now we fit the same model as a log/log regression.  Specifically,\n",
    "the relationship between weight in childhood at a given age and\n",
    "birth weight is modeled as a log/log relationship.  This means that when\n",
    "comparing two children of the same sex whose birth weights differed\n",
    "by a given percentage, say $x$, then their childhood weights at a\n",
    "given age differ on average by a corresponding percentage $b\\cdot\n",
    "x$, where $b$ is the coefficient of LogBWeight in the model.  Typically we\n",
    "anticipate that $0 \\le b \\le 1$ in this type of regression.  If $b\n",
    "\\approx 1$ then, say, two kids whose weights at birth differ by\n",
    "20% will continue to have weights differing by 20% as they age.\n",
    "If $b < 1$, then the 20% difference at birth will attenuate as the\n",
    "kids age."
   ]
  },
  {
   "cell_type": "code",
   "execution_count": 6,
   "metadata": {},
   "outputs": [
    {
     "name": "stdout",
     "output_type": "stream",
     "text": [
      "                               GEE Regression Results                              \n",
      "===================================================================================\n",
      "Dep. Variable:                   LogWeight   No. Observations:                 1572\n",
      "Model:                                 GEE   No. clusters:                      568\n",
      "Method:                        Generalized   Min. cluster size:                   1\n",
      "                      Estimating Equations   Max. cluster size:                   5\n",
      "Family:                           Gaussian   Mean cluster size:                 2.8\n",
      "Dependence structure:         Independence   Num. iterations:                     2\n",
      "Date:                     Mon, 17 Feb 2020   Scale:                           0.094\n",
      "Covariance type:                    robust   Time:                         13:48:29\n",
      "==============================================================================\n",
      "                 coef    std err          z      P>|z|      [0.025      0.975]\n",
      "------------------------------------------------------------------------------\n",
      "Intercept      9.0936      0.501     18.151      0.000       8.112      10.076\n",
      "Age            0.0018   1.86e-05     95.480      0.000       0.002       0.002\n",
      "LogBWeight     0.2839      0.043      6.599      0.000       0.200       0.368\n",
      "Female        -0.0910      0.014     -6.439      0.000      -0.119      -0.063\n",
      "==============================================================================\n",
      "Skew:                         -0.0690   Kurtosis:                      -0.9649\n",
      "Centered skew:                -0.2631   Centered kurtosis:             -0.8613\n",
      "==============================================================================\n"
     ]
    }
   ],
   "source": [
    "model2 = sm.GEE.from_formula(\"LogWeight ~ Age + LogBWeight + Female\", groups=\"Id\", data=df)\n",
    "rslt2 = model2.fit()\n",
    "print(rslt2.summary())"
   ]
  },
  {
   "cell_type": "markdown",
   "metadata": {},
   "source": [
    "It isn't very likely that weight varies either linearly or\n",
    "exponentially with age.  We can use splines to capture a much\n",
    "broader range of relationships."
   ]
  },
  {
   "cell_type": "code",
   "execution_count": 7,
   "metadata": {},
   "outputs": [
    {
     "name": "stdout",
     "output_type": "stream",
     "text": [
      "                               GEE Regression Results                              \n",
      "===================================================================================\n",
      "Dep. Variable:                   LogWeight   No. Observations:                 1572\n",
      "Model:                                 GEE   No. clusters:                      568\n",
      "Method:                        Generalized   Min. cluster size:                   1\n",
      "                      Estimating Equations   Max. cluster size:                   5\n",
      "Family:                           Gaussian   Mean cluster size:                 2.8\n",
      "Dependence structure:         Independence   Num. iterations:                     2\n",
      "Date:                     Mon, 17 Feb 2020   Scale:                           0.024\n",
      "Covariance type:                    robust   Time:                         13:48:29\n",
      "=================================================================================\n",
      "                    coef    std err          z      P>|z|      [0.025      0.975]\n",
      "---------------------------------------------------------------------------------\n",
      "Intercept         7.9489      0.384     20.675      0.000       7.195       8.702\n",
      "bs(Age, 4)[0]     0.9993      0.038     26.229      0.000       0.925       1.074\n",
      "bs(Age, 4)[1]     1.6037      0.037     42.999      0.000       1.531       1.677\n",
      "bs(Age, 4)[2]     1.8115      0.064     28.180      0.000       1.685       1.937\n",
      "bs(Age, 4)[3]     1.8769      0.028     67.049      0.000       1.822       1.932\n",
      "LogBWeight        0.3375      0.033     10.193      0.000       0.273       0.402\n",
      "Female           -0.0859      0.011     -7.719      0.000      -0.108      -0.064\n",
      "==============================================================================\n",
      "Skew:                          0.1011   Kurtosis:                       0.9305\n",
      "Centered skew:                 0.2006   Centered kurtosis:              4.5751\n",
      "==============================================================================\n"
     ]
    }
   ],
   "source": [
    "model3 = sm.GEE.from_formula(\"LogWeight ~ bs(Age, 4) + LogBWeight + Female\", groups=\"Id\", data=df)\n",
    "rslt3 = model3.fit()\n",
    "print(rslt3.summary())"
   ]
  },
  {
   "cell_type": "markdown",
   "metadata": {},
   "source": [
    "It is quite possible that the relationships between birth weight and\n",
    "childhood weight differ between girls and boys.  An interaction\n",
    "captures this possibility."
   ]
  },
  {
   "cell_type": "code",
   "execution_count": 8,
   "metadata": {},
   "outputs": [
    {
     "name": "stdout",
     "output_type": "stream",
     "text": [
      "                               GEE Regression Results                              \n",
      "===================================================================================\n",
      "Dep. Variable:                   LogWeight   No. Observations:                 1572\n",
      "Model:                                 GEE   No. clusters:                      568\n",
      "Method:                        Generalized   Min. cluster size:                   1\n",
      "                      Estimating Equations   Max. cluster size:                   5\n",
      "Family:                           Gaussian   Mean cluster size:                 2.8\n",
      "Dependence structure:         Independence   Num. iterations:                     2\n",
      "Date:                     Mon, 17 Feb 2020   Scale:                           0.024\n",
      "Covariance type:                    robust   Time:                         13:48:29\n",
      "=====================================================================================\n",
      "                        coef    std err          z      P>|z|      [0.025      0.975]\n",
      "-------------------------------------------------------------------------------------\n",
      "Intercept             8.0705      0.621     12.991      0.000       6.853       9.288\n",
      "bs(Age, 4)[0]         0.9988      0.038     26.309      0.000       0.924       1.073\n",
      "bs(Age, 4)[1]         1.6042      0.037     43.008      0.000       1.531       1.677\n",
      "bs(Age, 4)[2]         1.8095      0.064     28.255      0.000       1.684       1.935\n",
      "bs(Age, 4)[3]         1.8779      0.028     67.290      0.000       1.823       1.933\n",
      "LogBWeight            0.3270      0.054      6.103      0.000       0.222       0.432\n",
      "Female               -0.3500      0.714     -0.490      0.624      -1.749       1.049\n",
      "LogBWeight:Female     0.0228      0.062      0.371      0.711      -0.098       0.143\n",
      "==============================================================================\n",
      "Skew:                          0.1026   Kurtosis:                       0.9416\n",
      "Centered skew:                 0.2000   Centered kurtosis:              4.5762\n",
      "==============================================================================\n"
     ]
    }
   ],
   "source": [
    "model4 = sm.GEE.from_formula(\"LogWeight ~ bs(Age, 4) + LogBWeight*Female\", groups=\"Id\", data=df)\n",
    "rslt4 = model4.fit()\n",
    "print(rslt4.summary())"
   ]
  },
  {
   "cell_type": "markdown",
   "metadata": {},
   "source": [
    "Although GEE does not require us to specify an accurate covariance\n",
    "structure, we will have more power if we do so.  We will also learn\n",
    "something about the strength of the within-subject dependence that\n",
    "we would not learn when using the independence model."
   ]
  },
  {
   "cell_type": "code",
   "execution_count": 9,
   "metadata": {},
   "outputs": [
    {
     "name": "stdout",
     "output_type": "stream",
     "text": [
      "                               GEE Regression Results                              \n",
      "===================================================================================\n",
      "Dep. Variable:                   LogWeight   No. Observations:                 1572\n",
      "Model:                                 GEE   No. clusters:                      568\n",
      "Method:                        Generalized   Min. cluster size:                   1\n",
      "                      Estimating Equations   Max. cluster size:                   5\n",
      "Family:                           Gaussian   Mean cluster size:                 2.8\n",
      "Dependence structure:         Exchangeable   Num. iterations:                     6\n",
      "Date:                     Mon, 17 Feb 2020   Scale:                           0.024\n",
      "Covariance type:                    robust   Time:                         13:48:30\n",
      "=================================================================================\n",
      "                    coef    std err          z      P>|z|      [0.025      0.975]\n",
      "---------------------------------------------------------------------------------\n",
      "Intercept         7.7638      0.361     21.482      0.000       7.055       8.472\n",
      "bs(Age, 4)[0]     0.9613      0.032     29.705      0.000       0.898       1.025\n",
      "bs(Age, 4)[1]     1.6186      0.031     52.824      0.000       1.559       1.679\n",
      "bs(Age, 4)[2]     1.7834      0.054     32.797      0.000       1.677       1.890\n",
      "bs(Age, 4)[3]     1.8689      0.024     77.722      0.000       1.822       1.916\n",
      "LogBWeight        0.3543      0.031     11.410      0.000       0.293       0.415\n",
      "Female           -0.0796      0.011     -7.363      0.000      -0.101      -0.058\n",
      "==============================================================================\n",
      "Skew:                          0.1188   Kurtosis:                       0.9295\n",
      "Centered skew:                 0.1842   Centered kurtosis:              4.6793\n",
      "==============================================================================\n",
      "The correlation between two observations in the same cluster is 0.466\n"
     ]
    }
   ],
   "source": [
    "model5 = sm.GEE.from_formula(\"LogWeight ~ bs(Age, 4) + LogBWeight + Female\", groups=\"Id\",\n",
    "                             cov_struct=sm.cov_struct.Exchangeable(), data=df)\n",
    "rslt5 = model5.fit()\n",
    "print(rslt5.summary())\n",
    "print(rslt5.cov_struct.summary())"
   ]
  },
  {
   "cell_type": "markdown",
   "metadata": {},
   "source": [
    "In general, it is better to use the default \"robust\" approach for\n",
    "covariance estimation.  This allows the covariance model to be\n",
    "mis-specified, while still yielding valid parameter estimates and\n",
    "standard errors.  If you are very confident that your working\n",
    "covariance model is correct, you can specify the \"naive\" approach to\n",
    "covariance estimation, as below.  In this case, the standard errors will be\n",
    "meaningful only if the working correlation model is correct."
   ]
  },
  {
   "cell_type": "code",
   "execution_count": 10,
   "metadata": {},
   "outputs": [
    {
     "name": "stdout",
     "output_type": "stream",
     "text": [
      "                               GEE Regression Results                              \n",
      "===================================================================================\n",
      "Dep. Variable:                   LogWeight   No. Observations:                 1572\n",
      "Model:                                 GEE   No. clusters:                      568\n",
      "Method:                        Generalized   Min. cluster size:                   1\n",
      "                      Estimating Equations   Max. cluster size:                   5\n",
      "Family:                           Gaussian   Mean cluster size:                 2.8\n",
      "Dependence structure:         Exchangeable   Num. iterations:                     6\n",
      "Date:                     Mon, 17 Feb 2020   Scale:                           0.024\n",
      "Covariance type:                     naive   Time:                         13:48:31\n",
      "=================================================================================\n",
      "                    coef    std err          z      P>|z|      [0.025      0.975]\n",
      "---------------------------------------------------------------------------------\n",
      "Intercept         7.7638      0.249     31.119      0.000       7.275       8.253\n",
      "bs(Age, 4)[0]     0.9613      0.035     27.482      0.000       0.893       1.030\n",
      "bs(Age, 4)[1]     1.6186      0.033     49.210      0.000       1.554       1.683\n",
      "bs(Age, 4)[2]     1.7834      0.058     30.567      0.000       1.669       1.898\n",
      "bs(Age, 4)[3]     1.8689      0.027     69.786      0.000       1.816       1.921\n",
      "LogBWeight        0.3543      0.021     16.490      0.000       0.312       0.396\n",
      "Female           -0.0796      0.011     -7.356      0.000      -0.101      -0.058\n",
      "==============================================================================\n",
      "Skew:                          0.1188   Kurtosis:                       0.9295\n",
      "Centered skew:                 0.1842   Centered kurtosis:              4.6793\n",
      "==============================================================================\n"
     ]
    }
   ],
   "source": [
    "model6 = sm.GEE.from_formula(\"LogWeight ~ bs(Age, 4) + LogBWeight + Female\", groups=\"Id\",\n",
    "                             cov_struct=sm.cov_struct.Exchangeable(), data=df)\n",
    "rslt6 = model6.fit(cov_type=\"naive\")\n",
    "print(rslt6.summary())"
   ]
  }
 ],
 "metadata": {
  "jupytext": {
   "cell_metadata_filter": "-all"
  },
  "kernelspec": {
   "display_name": "Python 3",
   "language": "python",
   "name": "python3"
  },
  "language_info": {
   "codemirror_mode": {
    "name": "ipython",
    "version": 3
   },
   "file_extension": ".py",
   "mimetype": "text/x-python",
   "name": "python",
   "nbconvert_exporter": "python",
   "pygments_lexer": "ipython3",
   "version": "3.7.3"
  }
 },
 "nbformat": 4,
 "nbformat_minor": 2
}
