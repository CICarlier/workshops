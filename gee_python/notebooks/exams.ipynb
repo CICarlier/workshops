{
 "cells": [
  {
   "cell_type": "code",
   "execution_count": 1,
   "metadata": {},
   "outputs": [
    {
     "name": "stderr",
     "output_type": "stream",
     "text": [
      "/nfs/kshedden/python3/lib/python3.7/site-packages/statsmodels/compat/pandas.py:23: FutureWarning: The Panel class is removed from pandas. Accessing it from the top-level namespace will also be removed in the next version\n",
      "  data_klasses = (pandas.Series, pandas.DataFrame, pandas.Panel)\n"
     ]
    }
   ],
   "source": [
    "import pandas as pd\n",
    "import numpy as np\n",
    "import statsmodels.api as sm"
   ]
  },
  {
   "cell_type": "markdown",
   "metadata": {},
   "source": [
    "# GEE analysis of test score data"
   ]
  },
  {
   "cell_type": "markdown",
   "metadata": {},
   "source": [
    "Generalized estimating equations (GEE) can be used to analyze\n",
    "multilevel data that arises in educational research, for example\n",
    "when students taking a test are grouped into classrooms."
   ]
  },
  {
   "cell_type": "markdown",
   "metadata": {},
   "source": [
    "The examination data analyzed here are obtained from this page:\n",
    "http://www.bristol.ac.uk/cmm/learning/support/datasets/"
   ]
  },
  {
   "cell_type": "markdown",
   "metadata": {},
   "source": [
    "The data are in fixed-width format, we can load it as follows:"
   ]
  },
  {
   "cell_type": "code",
   "execution_count": 2,
   "metadata": {},
   "outputs": [],
   "source": [
    "colspecs = [(0, 5), (6, 10), (11, 12), (13, 16), (17, 20)]\n",
    "df = pd.read_fwf(\"../data/exam_scores/SCI.DAT\", colspecs=colspecs, header=None)\n",
    "df.columns = [\"schoolid\", \"subjectid\", \"gender\", \"score1\", \"score2\"]\n",
    "df[\"female\"] = 1*(df.gender == 1)\n",
    "df = df.dropna()"
   ]
  },
  {
   "cell_type": "markdown",
   "metadata": {},
   "source": [
    "Here is a basic model looking at the scores on exam 1 by gender, using\n",
    "the default independence working correlation structure."
   ]
  },
  {
   "cell_type": "code",
   "execution_count": 3,
   "metadata": {},
   "outputs": [
    {
     "name": "stdout",
     "output_type": "stream",
     "text": [
      "                               GEE Regression Results                              \n",
      "===================================================================================\n",
      "Dep. Variable:                      score1   No. Observations:                 1905\n",
      "Model:                                 GEE   No. clusters:                       73\n",
      "Method:                        Generalized   Min. cluster size:                   2\n",
      "                      Estimating Equations   Max. cluster size:                 104\n",
      "Family:                           Gaussian   Mean cluster size:                26.1\n",
      "Dependence structure:         Independence   Num. iterations:                     2\n",
      "Date:                     Mon, 17 Feb 2020   Scale:                         451.997\n",
      "Covariance type:                    robust   Time:                         19:21:02\n",
      "==============================================================================\n",
      "                 coef    std err          z      P>|z|      [0.025      0.975]\n",
      "------------------------------------------------------------------------------\n",
      "Intercept     78.2136      1.864     41.960      0.000      74.560      81.867\n",
      "female        -5.5292      1.183     -4.673      0.000      -7.848      -3.210\n",
      "==============================================================================\n",
      "Skew:                         -0.0935   Kurtosis:                      -0.0730\n",
      "Centered skew:                 0.1914   Centered kurtosis:              0.1835\n",
      "==============================================================================\n"
     ]
    }
   ],
   "source": [
    "# A school-clustered model for exam score 1 with no correlation.\n",
    "model1 = sm.GEE.from_formula(\"score1 ~ female\", groups=\"schoolid\", data=df)\n",
    "rslt1 = model1.fit()\n",
    "print(rslt1.summary())"
   ]
  },
  {
   "cell_type": "markdown",
   "metadata": {},
   "source": [
    "Here is the same mean structure model, now specifying that the students\n",
    "are exchangeably correlated within classrooms."
   ]
  },
  {
   "cell_type": "code",
   "execution_count": 4,
   "metadata": {},
   "outputs": [
    {
     "name": "stdout",
     "output_type": "stream",
     "text": [
      "                               GEE Regression Results                              \n",
      "===================================================================================\n",
      "Dep. Variable:                      score1   No. Observations:                 1905\n",
      "Model:                                 GEE   No. clusters:                       73\n",
      "Method:                        Generalized   Min. cluster size:                   2\n",
      "                      Estimating Equations   Max. cluster size:                 104\n",
      "Family:                           Gaussian   Mean cluster size:                26.1\n",
      "Dependence structure:         Exchangeable   Num. iterations:                     7\n",
      "Date:                     Mon, 17 Feb 2020   Scale:                         456.642\n",
      "Covariance type:                    robust   Time:                         19:21:03\n",
      "==============================================================================\n",
      "                 coef    std err          z      P>|z|      [0.025      0.975]\n",
      "------------------------------------------------------------------------------\n",
      "Intercept     79.2582      1.561     50.764      0.000      76.198      82.318\n",
      "female        -3.9121      0.922     -4.243      0.000      -5.719      -2.105\n",
      "==============================================================================\n",
      "Skew:                         -0.0987   Kurtosis:                      -0.0675\n",
      "Centered skew:                 0.1848   Centered kurtosis:              0.1751\n",
      "==============================================================================\n",
      "The correlation between two observations in the same cluster is 0.422\n"
     ]
    }
   ],
   "source": [
    "# A school-clustered model for exam score 1 with exchangeable correlations.\n",
    "model2 = sm.GEE.from_formula(\"score1 ~ female\", groups=\"schoolid\",\n",
    "                             cov_struct=sm.cov_struct.Exchangeable(), data=df)\n",
    "rslt2 = model2.fit()\n",
    "print(rslt2.summary())\n",
    "print(model2.cov_struct.summary())"
   ]
  },
  {
   "cell_type": "markdown",
   "metadata": {},
   "source": [
    "Next we will pivot the exam scores so that each subject has two observations\n",
    "on a single \"test\" variable (one observation for the first test and one for\n",
    "the second test).  This is a form of repeated measures, but since the tests\n",
    "are different, we also include a covariate indicating which test is being\n",
    "recorded.  We now have two levels of repeated structure: two test scores per\n",
    "student, and multiple students per classroom.  We can use a nested correlation\n",
    "structure to estimate the variance contributions from the two levels."
   ]
  },
  {
   "cell_type": "code",
   "execution_count": 5,
   "metadata": {},
   "outputs": [],
   "source": [
    "# Prepare to do a joint analysis of the two scores.\n",
    "dx = pd.melt(df, id_vars=[\"subjectid\", \"schoolid\", \"female\"],\n",
    "             value_vars=[\"score1\", \"score2\"], var_name=\"test\",\n",
    "             value_name=\"score\")"
   ]
  },
  {
   "cell_type": "code",
   "execution_count": 6,
   "metadata": {},
   "outputs": [
    {
     "name": "stdout",
     "output_type": "stream",
     "text": [
      "                               GEE Regression Results                              \n",
      "===================================================================================\n",
      "Dep. Variable:                       score   No. Observations:                 3810\n",
      "Model:                                 GEE   No. clusters:                       73\n",
      "Method:                        Generalized   Min. cluster size:                   4\n",
      "                      Estimating Equations   Max. cluster size:                 208\n",
      "Family:                           Gaussian   Mean cluster size:                52.2\n",
      "Dependence structure:               Nested   Num. iterations:                     7\n",
      "Date:                     Mon, 17 Feb 2020   Scale:                         388.593\n",
      "Covariance type:                    robust   Time:                         19:21:03\n",
      "==================================================================================\n",
      "                     coef    std err          z      P>|z|      [0.025      0.975]\n",
      "----------------------------------------------------------------------------------\n",
      "Intercept         75.0859      1.629     46.081      0.000      71.892      78.280\n",
      "test[T.score2]     4.0950      1.564      2.618      0.009       1.030       7.160\n",
      "female             1.7597      0.899      1.958      0.050      -0.002       3.521\n",
      "==============================================================================\n",
      "Skew:                         -0.3370   Kurtosis:                       0.2129\n",
      "Centered skew:                -0.1909   Centered kurtosis:              0.4841\n",
      "==============================================================================\n",
      "             Variance\n",
      "schoolid   119.911185\n",
      "subjectid   57.843633\n",
      "Residual   210.837685\n"
     ]
    }
   ],
   "source": [
    "# A nested model for subjects within schools, having two scores per subject.\n",
    "model3 = sm.GEE.from_formula(\"score ~ female + test\", groups=\"schoolid\", dep_data=\"0 + subjectid\",\n",
    "                             cov_struct=sm.cov_struct.Nested(), data=dx)\n",
    "rslt3 = model3.fit()\n",
    "print(rslt3.summary())\n",
    "print(model3.cov_struct.summary())"
   ]
  }
 ],
 "metadata": {
  "jupytext": {
   "cell_metadata_filter": "-all"
  },
  "kernelspec": {
   "display_name": "Python 3",
   "language": "python",
   "name": "python3"
  },
  "language_info": {
   "codemirror_mode": {
    "name": "ipython",
    "version": 3
   },
   "file_extension": ".py",
   "mimetype": "text/x-python",
   "name": "python",
   "nbconvert_exporter": "python",
   "pygments_lexer": "ipython3",
   "version": "3.7.3"
  }
 },
 "nbformat": 4,
 "nbformat_minor": 2
}
