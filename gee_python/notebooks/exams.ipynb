{
 "cells": [
  {
   "cell_type": "code",
   "execution_count": 1,
   "metadata": {},
   "outputs": [
    {
     "name": "stderr",
     "output_type": "stream",
     "text": [
      "/nfs/kshedden/python3/lib/python3.7/site-packages/statsmodels/compat/pandas.py:23: FutureWarning: The Panel class is removed from pandas. Accessing it from the top-level namespace will also be removed in the next version\n",
      "  data_klasses = (pandas.Series, pandas.DataFrame, pandas.Panel)\n"
     ]
    }
   ],
   "source": [
    "import pandas as pd\n",
    "import numpy as np\n",
    "import statsmodels.api as sm"
   ]
  },
  {
   "cell_type": "markdown",
   "metadata": {},
   "source": [
    "Exam scores data from this page:\n",
    "http://www.bristol.ac.uk/cmm/learning/support/datasets/"
   ]
  },
  {
   "cell_type": "code",
   "execution_count": 2,
   "metadata": {},
   "outputs": [],
   "source": [
    "colspecs = [(0, 5), (6, 10), (11, 12), (13, 16), (17, 20)]"
   ]
  },
  {
   "cell_type": "code",
   "execution_count": 3,
   "metadata": {},
   "outputs": [],
   "source": [
    "df = pd.read_fwf(\"../data/exam_scores/SCI.DAT\", colspecs=colspecs, header=None)\n",
    "df.columns = [\"schoolid\", \"subjectid\", \"gender\", \"score1\", \"score2\"]\n",
    "df[\"female\"] = 1*(df.gender == 1)\n",
    "df = df.dropna()"
   ]
  },
  {
   "cell_type": "code",
   "execution_count": 4,
   "metadata": {},
   "outputs": [],
   "source": [
    "# A school-clustered model for exam score 1 with no correlation.\n",
    "model1 = sm.GEE.from_formula(\"score1 ~ female\", groups=\"schoolid\", data=df)\n",
    "rslt1 = model1.fit()"
   ]
  },
  {
   "cell_type": "code",
   "execution_count": 5,
   "metadata": {},
   "outputs": [],
   "source": [
    "# A school-clustered model for exam score 1 with exchangeable correlations.\n",
    "model2 = sm.GEE.from_formula(\"score1 ~ female\", groups=\"schoolid\",\n",
    "                             cov_struct=sm.cov_struct.Exchangeable(), data=df)\n",
    "rslt2 = model2.fit()"
   ]
  },
  {
   "cell_type": "code",
   "execution_count": 6,
   "metadata": {},
   "outputs": [],
   "source": [
    "# A subject-clustered model for exam score 1 with exchangeable correlations.\n",
    "model3 = sm.GEE.from_formula(\"score1 ~ female\", groups=\"subjectid\",\n",
    "                             cov_struct=sm.cov_struct.Exchangeable(), data=df)\n",
    "rslt3 = model3.fit()"
   ]
  },
  {
   "cell_type": "code",
   "execution_count": 7,
   "metadata": {},
   "outputs": [],
   "source": [
    "# Prepare to do a joint analysis of the two scores.\n",
    "dx = pd.melt(df, id_vars=[\"subjectid\", \"schoolid\", \"female\"],\n",
    "             value_vars=[\"score1\", \"score2\"], var_name=\"test\",\n",
    "             value_name=\"score\")"
   ]
  },
  {
   "cell_type": "code",
   "execution_count": 8,
   "metadata": {},
   "outputs": [],
   "source": [
    "# A nested model for subjects within schools, having two scores per subject.\n",
    "model3 = sm.GEE.from_formula(\"score ~ female + test\", groups=\"schoolid\", dep_data=\"0 + subjectid\",\n",
    "                             cov_struct=sm.cov_struct.Nested(), data=dx)\n",
    "rslt3 = model3.fit()"
   ]
  }
 ],
 "metadata": {
  "jupytext": {
   "cell_metadata_filter": "-all"
  },
  "kernelspec": {
   "display_name": "Python 3",
   "language": "python",
   "name": "python3"
  },
  "language_info": {
   "codemirror_mode": {
    "name": "ipython",
    "version": 3
   },
   "file_extension": ".py",
   "mimetype": "text/x-python",
   "name": "python",
   "nbconvert_exporter": "python",
   "pygments_lexer": "ipython3",
   "version": "3.7.3"
  }
 },
 "nbformat": 4,
 "nbformat_minor": 2
}
