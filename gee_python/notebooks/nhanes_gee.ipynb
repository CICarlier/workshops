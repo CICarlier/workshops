{
 "cells": [
  {
   "cell_type": "markdown",
   "metadata": {},
   "source": [
    "# Generalized estimating equations (GEE)"
   ]
  },
  {
   "cell_type": "markdown",
   "metadata": {},
   "source": [
    "Generalized estimating equations (GEE) is an approach to fitting\n",
    "regression models that was first formalized in the 1980's, building\n",
    "on and unifying earlier work.  The main goal of GEE is to extend the\n",
    "framework of generalized linear modeling (GLM) to handle certain\n",
    "types of dependent data.  Like GLM, GEE focuses primarily on the\n",
    "*mean structure* $E[y | x_1, \\ldots, x_p]$, where $y$ here is the\n",
    "dependent variable of the regression, and $x_1, \\ldots, x_p$ are the\n",
    "covariates.  As in GLM, a link function $g$ is used, so we will be\n",
    "relating the mean to the linear predictor through the mean structure\n",
    "model"
   ]
  },
  {
   "cell_type": "markdown",
   "metadata": {},
   "source": [
    "$$\n",
    "g(E[y | x_1, \\ldots, x_p]) = b_0 + b_1x_1 + \\cdots + b_px_p.\n",
    "$$"
   ]
  },
  {
   "cell_type": "markdown",
   "metadata": {},
   "source": [
    "A GEE regression also involves a mean/variance relationship function\n",
    "$f$, which plays the same role as in a GLM:"
   ]
  },
  {
   "cell_type": "markdown",
   "metadata": {},
   "source": [
    "$$\n",
    "{\\rm Var}[y | x_1, \\ldots, x_p] = \\phi\\cdot f(E[y | x_1, \\ldots, x_p]).\n",
    "$$"
   ]
  },
  {
   "cell_type": "markdown",
   "metadata": {},
   "source": [
    "Other concepts from GLM like the scale parameter ($\\phi$) and family\n",
    "(e.g. `binomial`) play similar roles in GEE as they do in GLM."
   ]
  },
  {
   "cell_type": "markdown",
   "metadata": {},
   "source": [
    "The main aspect of a GEE that is not present in a GLM is the\n",
    "*working dependence structure*, or *working correlation*.  This\n",
    "specifies how observations are related to each other.  In a GLM, the\n",
    "observations are treated as being independent of each other, while\n",
    "GEE can accommodate many different forms of dependence between\n",
    "observations."
   ]
  },
  {
   "cell_type": "markdown",
   "metadata": {},
   "source": [
    "The reason that the dependence structure in a GEE is referred to as\n",
    "a \"working\" dependence structure is that it does not have to be\n",
    "correct in order for the results of the regression to be valid.  If\n",
    "the working dependence structure is correct, the GEE results will be\n",
    "more efficient (i.e. the estimates will be more accurate, and the\n",
    "standard errors will tend to be smaller).  If the working dependence\n",
    "structure is incorrect, the parameter estimates will be less\n",
    "accurate, and the standard errors will be correspondingly larger.\n",
    "However the standard errors continue to correctly reflect the\n",
    "uncertainty in the parameter estimates, and with enough data, the\n",
    "parameter estimates will still become arbitrarily accurate."
   ]
  },
  {
   "cell_type": "markdown",
   "metadata": {},
   "source": [
    "This notebook is organized as a case study.  We begin by using data\n",
    "from [NHANES](https://www.cdc.gov/nchs/nhanes/index.htm), the\n",
    "*National Health and Nutrition Examination Survey*."
   ]
  },
  {
   "cell_type": "markdown",
   "metadata": {},
   "source": [
    "First we import the libraries that we will be using."
   ]
  },
  {
   "cell_type": "code",
   "execution_count": 1,
   "metadata": {},
   "outputs": [
    {
     "name": "stderr",
     "output_type": "stream",
     "text": [
      "/nfs/kshedden/python3/lib/python3.7/site-packages/statsmodels/compat/pandas.py:23: FutureWarning: The Panel class is removed from pandas. Accessing it from the top-level namespace will also be removed in the next version\n",
      "  data_klasses = (pandas.Series, pandas.DataFrame, pandas.Panel)\n"
     ]
    }
   ],
   "source": [
    "import matplotlib.pyplot as plt\n",
    "import seaborn as sns\n",
    "import pandas as pd\n",
    "import statsmodels.api as sm\n",
    "import numpy as np"
   ]
  },
  {
   "cell_type": "markdown",
   "metadata": {},
   "source": [
    "Next we read the data. For simplicity, here we will use \"complete\n",
    "case analysis\", meaning that we drop all cases with a missing value\n",
    "on any variable of potential interest."
   ]
  },
  {
   "cell_type": "code",
   "execution_count": 2,
   "metadata": {},
   "outputs": [],
   "source": [
    "url = \"https://raw.githubusercontent.com/kshedden/statswpy/master/NHANES/merged/nhanes_2015_2016.csv\"\n",
    "da = pd.read_csv(url)\n",
    "\n",
    "# Drop unused columns, drop rows with any missing values.\n",
    "vars = [\"SEQN\", \"BPXSY1\", \"BPXSY2\", \"RIDAGEYR\", \"RIAGENDR\", \"RIDRETH1\",\n",
    "        \"DMDEDUC2\", \"BMXBMI\", \"SMQ020\", \"INDFMPIR\", \"SDMVSTRA\", \"SDMVPSU\",\n",
    "        \"DMDMARTL\"]\n",
    "da = da[vars].dropna()"
   ]
  },
  {
   "cell_type": "markdown",
   "metadata": {},
   "source": [
    "Below we will be using several NHANES variables that are\n",
    "categorical.  To make the results easier to interpret, we next\n",
    "create variables that express the groups using text labels."
   ]
  },
  {
   "cell_type": "code",
   "execution_count": 3,
   "metadata": {},
   "outputs": [],
   "source": [
    "da[\"RIAGENDRx\"] = da.RIAGENDR.replace({1: \"Male\", 2: \"Female\"})\n",
    "\n",
    "da[\"RIDRETH1x\"] = da.RIDRETH1.replace({1: \"MexicanAmerican\", 2: \"OtherHispanic\",\n",
    "                   3: \"NonHispanicWhite\", 4: \"NonHispanicBlack\", 5: \"Other\"})\n",
    "\n",
    "da[\"DMDEDUC2x\"] = da.DMDEDUC2.replace({1: \"Lt9\", 2: \"g9-11\", 3: \"HS\", 4: \"SomeCollege\",\n",
    "                      5: \"College\", 6: np.nan, 7: np.nan, 9: np.nan})\n",
    "\n",
    "da[\"DMDMARTLx\"] = da.DMDMARTL.replace({1: \"Married\", 2: \"Widowed\", 3: \"Divorced\",\n",
    "                         4: \"Separated\", 5: \"NeverMarried\", 6: \"Partnered\",\n",
    "                         77: np.nan, 99: np.nan})"
   ]
  },
  {
   "cell_type": "markdown",
   "metadata": {},
   "source": [
    "## Cluster samples and grouped data"
   ]
  },
  {
   "cell_type": "markdown",
   "metadata": {},
   "source": [
    "The overall NHANES sample for one wave is intended to represent the\n",
    "adult US population at a particular point in time (strictly\n",
    "speaking, sampling weights are required for the sample to be\n",
    "representative, but here we ignore the weights for simplicity).  To\n",
    "produce one wave of data for the NHANES study, the research staff\n",
    "visit multiple sites in the US, and sample people at each site.\n",
    "Since people who live in the same geographical region tend to be\n",
    "more alike than people living in different regions, the cluster\n",
    "sampling used in NHANES induces correlations in the data.  For this\n",
    "reason, it is not fully correct to analyze the NHANES data using a\n",
    "method like GLM that treats the cases as an independent sample."
   ]
  },
  {
   "cell_type": "markdown",
   "metadata": {},
   "source": [
    "Below we create a \"group\" variable corresponding to the distinct\n",
    "combinations of a masked stratum (`SDMVSTRA`) and a masked sampling\n",
    "cluster (`SDMVPSU`), and treat this as a single level of \"grouping\n",
    "structure\" in the data. The reference to \"masking\" is due to the\n",
    "fact that for confidentiality reasons, the strata and clusters\n",
    "provided in the dataset are not the actual strata and clusters in\n",
    "the survey.  See the NHANES data documentation for more details on\n",
    "this point."
   ]
  },
  {
   "cell_type": "code",
   "execution_count": 4,
   "metadata": {},
   "outputs": [],
   "source": [
    "da[\"group\"] = 10 * da.SDMVSTRA + da.SDMVPSU\n",
    "\n",
    "# Make sure we distinguish all unique values\n",
    "a = da.SDMVSTRA.unique().size * da.SDMVPSU.unique().size\n",
    "b = da.group.unique().size\n",
    "assert(a == b)"
   ]
  },
  {
   "cell_type": "markdown",
   "metadata": {},
   "source": [
    "When data are collected in groups, it is usually the case that units\n",
    "within a group are more similar than units in different groups.  Not\n",
    "accounting for this similarity has several consequences, most\n",
    "notably that the standard errors and other quantities needed for\n",
    "statistical inference are not correct.  Below we consider several\n",
    "approaches for addressing this issue."
   ]
  },
  {
   "cell_type": "markdown",
   "metadata": {},
   "source": [
    "## Fixed effects analysis\n",
    "\n",
    "One way to account for the relationships induced by cluster sampling\n",
    "is to include \"fixed effects\" for each group, i.e. to include the\n",
    "group as a covariate in the model.  Since group is categorical, it\n",
    "will automatically be converted into a series of indicator variables\n",
    "(omitting one group as the reference).  This approach can be useful,\n",
    "especially if there are relatively few groups that are large.  But\n",
    "when there are a large number of small groups, the model parameters\n",
    "can be highly inaccurate (technically, \"inconsistent\") when using\n",
    "fixed effects analysis.  This is called the \"Neyman-Scott\" problem."
   ]
  },
  {
   "cell_type": "markdown",
   "metadata": {},
   "source": [
    "Below we will focus on regression models in which the dependent\n",
    "variable is a measure of poverty, `INDFMPIR`.  This is the ratio\n",
    "between a household's income and the poverty threshold.  Since it is\n",
    "a ratio, it makes sense to logarithmically transform it."
   ]
  },
  {
   "cell_type": "markdown",
   "metadata": {},
   "source": [
    "Below we fit a fixed effects model using OLS:"
   ]
  },
  {
   "cell_type": "code",
   "execution_count": 5,
   "metadata": {},
   "outputs": [
    {
     "name": "stdout",
     "output_type": "stream",
     "text": [
      "                            OLS Regression Results                            \n",
      "==============================================================================\n",
      "Dep. Variable:            logINDFMPIR   R-squared:                       0.105\n",
      "Model:                            OLS   Adj. R-squared:                  0.098\n",
      "Method:                 Least Squares   F-statistic:                     15.02\n",
      "Date:                Mon, 17 Feb 2020   Prob (F-statistic):           2.08e-83\n",
      "Time:                        13:47:34   Log-Likelihood:                -5580.7\n",
      "No. Observations:                4499   AIC:                         1.123e+04\n",
      "Df Residuals:                    4463   BIC:                         1.146e+04\n",
      "Df Model:                          35                                         \n",
      "Covariance Type:            nonrobust                                         \n",
      "=================================================================================================\n",
      "                                    coef    std err          t      P>|t|      [0.025      0.975]\n",
      "-------------------------------------------------------------------------------------------------\n",
      "Intercept                         0.1231      0.094      1.316      0.188      -0.060       0.307\n",
      "RIAGENDRx[T.Male]                 0.0538      0.025      2.138      0.033       0.004       0.103\n",
      "RIDRETH1x[T.NonHispanicBlack]     0.3213      0.050      6.471      0.000       0.224       0.419\n",
      "RIDRETH1x[T.NonHispanicWhite]     0.6236      0.044     14.022      0.000       0.536       0.711\n",
      "RIDRETH1x[T.Other]                0.4937      0.051      9.648      0.000       0.393       0.594\n",
      "RIDRETH1x[T.OtherHispanic]        0.1968      0.052      3.808      0.000       0.095       0.298\n",
      "C(group)[T.1192]                  0.0436      0.116      0.378      0.706      -0.183       0.270\n",
      "C(group)[T.1201]                  0.0598      0.105      0.572      0.568      -0.145       0.265\n",
      "C(group)[T.1202]                  0.1178      0.115      1.028      0.304      -0.107       0.343\n",
      "C(group)[T.1211]                 -0.0300      0.102     -0.294      0.769      -0.230       0.170\n",
      "C(group)[T.1212]                  0.2200      0.103      2.143      0.032       0.019       0.421\n",
      "C(group)[T.1221]                  0.0180      0.105      0.172      0.863      -0.188       0.224\n",
      "C(group)[T.1222]                  0.1826      0.105      1.743      0.081      -0.023       0.388\n",
      "C(group)[T.1231]                  0.1512      0.102      1.486      0.137      -0.048       0.351\n",
      "C(group)[T.1232]                  0.1741      0.106      1.637      0.102      -0.034       0.382\n",
      "C(group)[T.1241]                  0.0831      0.097      0.852      0.394      -0.108       0.274\n",
      "C(group)[T.1242]                  0.2913      0.111      2.614      0.009       0.073       0.510\n",
      "C(group)[T.1251]                 -0.3155      0.097     -3.238      0.001      -0.506      -0.124\n",
      "C(group)[T.1252]                 -0.1569      0.099     -1.583      0.113      -0.351       0.037\n",
      "C(group)[T.1261]                 -0.1236      0.105     -1.172      0.241      -0.330       0.083\n",
      "C(group)[T.1262]                 -0.2402      0.102     -2.353      0.019      -0.440      -0.040\n",
      "C(group)[T.1271]                  0.1410      0.103      1.372      0.170      -0.060       0.342\n",
      "C(group)[T.1272]                  0.3905      0.102      3.841      0.000       0.191       0.590\n",
      "C(group)[T.1281]                 -0.0072      0.102     -0.071      0.943      -0.207       0.193\n",
      "C(group)[T.1282]                  0.4178      0.110      3.790      0.000       0.202       0.634\n",
      "C(group)[T.1291]                  0.1888      0.105      1.801      0.072      -0.017       0.394\n",
      "C(group)[T.1292]                  0.2376      0.105      2.259      0.024       0.031       0.444\n",
      "C(group)[T.1301]                  0.0506      0.103      0.493      0.622      -0.151       0.252\n",
      "C(group)[T.1302]                 -0.0036      0.102     -0.036      0.971      -0.203       0.196\n",
      "C(group)[T.1311]                  0.1389      0.102      1.361      0.174      -0.061       0.339\n",
      "C(group)[T.1312]                 -0.1156      0.100     -1.162      0.245      -0.311       0.080\n",
      "C(group)[T.1321]                  0.1175      0.102      1.154      0.249      -0.082       0.317\n",
      "C(group)[T.1322]                 -0.3259      0.098     -3.334      0.001      -0.518      -0.134\n",
      "C(group)[T.1331]                  0.2183      0.113      1.923      0.055      -0.004       0.441\n",
      "C(group)[T.1332]                  0.2364      0.103      2.295      0.022       0.034       0.438\n",
      "RIDAGEYR                          0.0005      0.001      0.691      0.489      -0.001       0.002\n",
      "==============================================================================\n",
      "Omnibus:                     1304.756   Durbin-Watson:                   2.003\n",
      "Prob(Omnibus):                  0.000   Jarque-Bera (JB):             4742.129\n",
      "Skew:                          -1.417   Prob(JB):                         0.00\n",
      "Kurtosis:                       7.155   Cond. No.                     1.76e+03\n",
      "==============================================================================\n",
      "\n",
      "Warnings:\n",
      "[1] Standard Errors assume that the covariance matrix of the errors is correctly specified.\n",
      "[2] The condition number is large, 1.76e+03. This might indicate that there are\n",
      "strong multicollinearity or other numerical problems.\n"
     ]
    }
   ],
   "source": [
    "da = da.loc[da.INDFMPIR >0, :]\n",
    "da[\"logINDFMPIR\"] = np.log(da.INDFMPIR)\n",
    "\n",
    "model = sm.OLS.from_formula(\"logINDFMPIR ~ RIDAGEYR + RIAGENDRx + RIDRETH1x + C(group)\",\n",
    "                            data=da)\n",
    "result = model.fit()\n",
    "print(result.summary())"
   ]
  },
  {
   "cell_type": "markdown",
   "metadata": {},
   "source": [
    "There are many rows in the above output for the fixed effects\n",
    "parameters for groups.  As with any categorical covariate, one group\n",
    "was dropped and used as the reference group.  The parameter\n",
    "estimates and p-values in the table above are contrasts relative to\n",
    "the reference group.  Since the reference group was chosen\n",
    "arbitrarily, it is not very meaningful to consider the p-values."
   ]
  },
  {
   "cell_type": "markdown",
   "metadata": {},
   "source": [
    "## GEE"
   ]
  },
  {
   "cell_type": "markdown",
   "metadata": {},
   "source": [
    "GEE is another method for analyzing a clustered sample.  In GEE, the\n",
    "groups are viewed as inducing a correlation between observations in\n",
    "the same group.  Thus, instead of modeling the impact of the groups\n",
    "through the mean structure, as in fixed effects analysis, the group\n",
    "effect is treated as a form of correlation (dependence) structure."
   ]
  },
  {
   "cell_type": "markdown",
   "metadata": {},
   "source": [
    "To begin, we fit a series of \"marginal\" mean structure models using\n",
    "OLS and GEE.  The term \"marginal\" here refers to the fact that the\n",
    "parameter estimates reflect average effects over the groups, as\n",
    "opposed to being conditional on a group.  For example, if we are\n",
    "interested in the difference between women and men, and we have an\n",
    "indicator variable ${\\rm female}$ for female sex, with coefficient\n",
    "$b$, then $b$ represents the average difference between a female and\n",
    "a male, who could be either in the same group, or in different\n",
    "groups."
   ]
  },
  {
   "cell_type": "markdown",
   "metadata": {},
   "source": [
    "The models below use age, gender, and ethnicity to predict family\n",
    "income.  We first fit a marginal mean structure model using linear\n",
    "least squares (OLS), ignoring the \"group\" information."
   ]
  },
  {
   "cell_type": "code",
   "execution_count": 6,
   "metadata": {},
   "outputs": [
    {
     "name": "stdout",
     "output_type": "stream",
     "text": [
      "                            OLS Regression Results                            \n",
      "==============================================================================\n",
      "Dep. Variable:            logINDFMPIR   R-squared:                       0.063\n",
      "Model:                            OLS   Adj. R-squared:                  0.062\n",
      "Method:                 Least Squares   F-statistic:                     50.50\n",
      "Date:                Mon, 17 Feb 2020   Prob (F-statistic):           2.19e-60\n",
      "Time:                        13:47:34   Log-Likelihood:                -5684.4\n",
      "No. Observations:                4499   AIC:                         1.138e+04\n",
      "Df Residuals:                    4492   BIC:                         1.143e+04\n",
      "Df Model:                           6                                         \n",
      "Covariance Type:            nonrobust                                         \n",
      "=================================================================================================\n",
      "                                    coef    std err          t      P>|t|      [0.025      0.975]\n",
      "-------------------------------------------------------------------------------------------------\n",
      "Intercept                         0.2342      0.048      4.886      0.000       0.140       0.328\n",
      "RIAGENDRx[T.Male]                 0.0503      0.026      1.966      0.049       0.000       0.101\n",
      "RIDRETH1x[T.NonHispanicBlack]     0.2447      0.042      5.859      0.000       0.163       0.327\n",
      "RIDRETH1x[T.NonHispanicWhite]     0.5781      0.038     15.298      0.000       0.504       0.652\n",
      "RIDRETH1x[T.Other]                0.5167      0.045     11.392      0.000       0.428       0.606\n",
      "RIDRETH1x[T.OtherHispanic]        0.2016      0.047      4.304      0.000       0.110       0.293\n",
      "RIDAGEYR                       -5.34e-05      0.001     -0.072      0.942      -0.001       0.001\n",
      "==============================================================================\n",
      "Omnibus:                     1273.517   Durbin-Watson:                   2.009\n",
      "Prob(Omnibus):                  0.000   Jarque-Bera (JB):             4437.847\n",
      "Skew:                          -1.397   Prob(JB):                         0.00\n",
      "Kurtosis:                       6.983   Cond. No.                         308.\n",
      "==============================================================================\n",
      "\n",
      "Warnings:\n",
      "[1] Standard Errors assume that the covariance matrix of the errors is correctly specified.\n"
     ]
    }
   ],
   "source": [
    "model = sm.OLS.from_formula(\"logINDFMPIR ~ RIDAGEYR + RIAGENDRx + RIDRETH1x\", data=da)\n",
    "result = model.fit()\n",
    "print(result.summary())"
   ]
  },
  {
   "cell_type": "markdown",
   "metadata": {},
   "source": [
    "Next we fit the model using GEE with an \"independent\" working\n",
    "dependence structure.  Here, the working covariance structure states\n",
    "that observations within a cluster are independent.  As noted above,\n",
    "the working dependence structure does not need to be correct.\n",
    "However to the extent that there is correlation within groups, this\n",
    "fit will be less efficient than one that accounts for the\n",
    "dependence."
   ]
  },
  {
   "cell_type": "code",
   "execution_count": 7,
   "metadata": {},
   "outputs": [
    {
     "name": "stdout",
     "output_type": "stream",
     "text": [
      "                               GEE Regression Results                              \n",
      "===================================================================================\n",
      "Dep. Variable:                 logINDFMPIR   No. Observations:                 4499\n",
      "Model:                                 GEE   No. clusters:                       30\n",
      "Method:                        Generalized   Min. cluster size:                  93\n",
      "                      Estimating Equations   Max. cluster size:                 210\n",
      "Family:                           Gaussian   Mean cluster size:               150.0\n",
      "Dependence structure:         Independence   Num. iterations:                     2\n",
      "Date:                     Mon, 17 Feb 2020   Scale:                           0.734\n",
      "Covariance type:                    robust   Time:                         13:47:34\n",
      "=================================================================================================\n",
      "                                    coef    std err          z      P>|z|      [0.025      0.975]\n",
      "-------------------------------------------------------------------------------------------------\n",
      "Intercept                         0.2342      0.077      3.032      0.002       0.083       0.386\n",
      "RIAGENDRx[T.Male]                 0.0503      0.019      2.654      0.008       0.013       0.088\n",
      "RIDRETH1x[T.NonHispanicBlack]     0.2447      0.078      3.134      0.002       0.092       0.398\n",
      "RIDRETH1x[T.NonHispanicWhite]     0.5781      0.067      8.626      0.000       0.447       0.709\n",
      "RIDRETH1x[T.Other]                0.5167      0.093      5.532      0.000       0.334       0.700\n",
      "RIDRETH1x[T.OtherHispanic]        0.2016      0.082      2.446      0.014       0.040       0.363\n",
      "RIDAGEYR                       -5.34e-05      0.001     -0.049      0.961      -0.002       0.002\n",
      "==============================================================================\n",
      "Skew:                         -1.3972   Kurtosis:                       3.9831\n",
      "Centered skew:                -1.4205   Centered kurtosis:              4.1579\n",
      "==============================================================================\n",
      "Observations within a cluster are modeled as being independent.\n"
     ]
    }
   ],
   "source": [
    "model = sm.GEE.from_formula(\"logINDFMPIR ~ RIDAGEYR + RIAGENDRx + RIDRETH1x\", groups=\"group\",\n",
    "                            data=da)\n",
    "result = model.fit()\n",
    "print(result.summary())\n",
    "print(result.cov_struct.summary())"
   ]
  },
  {
   "cell_type": "markdown",
   "metadata": {},
   "source": [
    "Note that the estimated regression parameters in the OLS and\n",
    "independence GEE are identical (this will always be the case), but\n",
    "the standard errors differ.  In general, the standard errors in the\n",
    "OLS fit will be too small, and GEE will give larger, and more\n",
    "correct standard errors.  Here we see that the standard errors are\n",
    "around twice as large in GEE compared to OLS."
   ]
  },
  {
   "cell_type": "code",
   "execution_count": 8,
   "metadata": {},
   "outputs": [
    {
     "name": "stdout",
     "output_type": "stream",
     "text": [
      "                               GEE Regression Results                              \n",
      "===================================================================================\n",
      "Dep. Variable:                 logINDFMPIR   No. Observations:                 4499\n",
      "Model:                                 GEE   No. clusters:                       30\n",
      "Method:                        Generalized   Min. cluster size:                  93\n",
      "                      Estimating Equations   Max. cluster size:                 210\n",
      "Family:                           Gaussian   Mean cluster size:               150.0\n",
      "Dependence structure:         Exchangeable   Num. iterations:                     8\n",
      "Date:                     Mon, 17 Feb 2020   Scale:                           0.735\n",
      "Covariance type:                    robust   Time:                         13:47:34\n",
      "=================================================================================================\n",
      "                                    coef    std err          z      P>|z|      [0.025      0.975]\n",
      "-------------------------------------------------------------------------------------------------\n",
      "Intercept                         0.2009      0.087      2.301      0.021       0.030       0.372\n",
      "RIAGENDRx[T.Male]                 0.0535      0.018      2.894      0.004       0.017       0.090\n",
      "RIDRETH1x[T.NonHispanicBlack]     0.3091      0.076      4.083      0.000       0.161       0.458\n",
      "RIDRETH1x[T.NonHispanicWhite]     0.6161      0.070      8.741      0.000       0.478       0.754\n",
      "RIDRETH1x[T.Other]                0.4971      0.088      5.673      0.000       0.325       0.669\n",
      "RIDRETH1x[T.OtherHispanic]        0.1961      0.088      2.220      0.026       0.023       0.369\n",
      "RIDAGEYR                          0.0004      0.001      0.420      0.674      -0.002       0.002\n",
      "==============================================================================\n",
      "Skew:                         -1.3887   Kurtosis:                       3.9525\n",
      "Centered skew:                -1.4180   Centered kurtosis:              4.1571\n",
      "==============================================================================\n",
      "The correlation between two observations in the same cluster is 0.043\n"
     ]
    }
   ],
   "source": [
    "model = sm.GEE.from_formula(\"logINDFMPIR ~ RIDAGEYR + RIAGENDRx + RIDRETH1x\", groups=\"group\",\n",
    "                            cov_struct=sm.cov_struct.Exchangeable(), data=da)\n",
    "result = model.fit()\n",
    "print(result.summary())\n",
    "print(result.cov_struct.summary())"
   ]
  },
  {
   "cell_type": "markdown",
   "metadata": {},
   "source": [
    "Next we use another type of working correlation structure called\n",
    "\"exchangeable\" that is suitable for use with grouped data.  The\n",
    "exchangeable correlation structure stipulates that any two\n",
    "observations in the same group have the same level of correlation\n",
    "between them.  This common correlation parameter can be estimated\n",
    "from the data.  Any two observations in different groups are modeled\n",
    "as being independent.  The correlation between two observations in\n",
    "the same group is called the \"intraclass correlation coefficient\",\n",
    "or \"ICC\".  We are able to see here that the estimated ICC is around\n",
    "0.04.  The ICC ranges from 0 to 1, with an ICC of zero meaning that\n",
    "the groups are irrelevant to the outcome, and an ICC of one meaning\n",
    "that the outcome is totally determined by the groups.  While an ICC\n",
    "of 0.04 seems small, for reasons discussed below it is large enough\n",
    "to have a noticeable impact, especially when the groups are large,\n",
    "as is the case here."
   ]
  },
  {
   "cell_type": "markdown",
   "metadata": {},
   "source": [
    "The presence of positive correlations within groups reduces the\n",
    "amount of information in the data for some purposes, and enhances\n",
    "the information for other purposes.  The impact of within-cluster\n",
    "dependence can be better understood by considering two quantities\n",
    "called the \"design effect\" and the \"effective sample size\".  These\n",
    "values quantify the loss of information when the goal is to estimate\n",
    "a mean.  When the ICC is positive, the effective sample size\n",
    "represents a hypothetical sample size (smaller than the nominal\n",
    "sample size) such that the precision for estimating a mean using an\n",
    "independent sample of size equal to the effective sample size is the\n",
    "same as would be obtained using the actual (dependent) sample."
   ]
  },
  {
   "cell_type": "markdown",
   "metadata": {},
   "source": [
    "For example, if the ICC is zero, then the effective sample size is\n",
    "the same as the nominal sample size (the number of observed data\n",
    "values).  If the ICC is close to 1, then the effective sample size\n",
    "will become close to the number of groups (irrespective of how many\n",
    "observations are made within a group).  The design effect and\n",
    "effective sample size are calculated in the cell below."
   ]
  },
  {
   "cell_type": "code",
   "execution_count": 9,
   "metadata": {},
   "outputs": [
    {
     "name": "stdout",
     "output_type": "stream",
     "text": [
      "ICC = 0.042893\n",
      "\n",
      "Average cluster size = 149.966667\n",
      "\n",
      "Design effect = 7.389598\n",
      "\n",
      "Number of observations = 4499.000000\n",
      "\n",
      "Effective sample size = 608.828778\n",
      "\n"
     ]
    }
   ],
   "source": [
    "icc = result.cov_struct.dep_params\n",
    "print(\"ICC = %f\\n\" % icc)\n",
    "n = da.groupby(\"group\").size().mean()\n",
    "print(\"Average cluster size = %f\\n\" % n)\n",
    "de = 1 + (n - 1) * icc\n",
    "print(\"Design effect = %f\\n\" % de)\n",
    "ess = model.nobs / de\n",
    "print(\"Number of observations = %f\\n\" % model.nobs)\n",
    "print(\"Effective sample size = %f\\n\" % ess)"
   ]
  },
  {
   "cell_type": "markdown",
   "metadata": {},
   "source": [
    "In this example, the design effect is around 7, meaning that the ICC\n",
    "of around 0.04 reduces the information in our sample by around a\n",
    "factor of 7.  Since standard errors scale with the square root of\n",
    "the sample size, this means that the standard errors of the\n",
    "parameters may increase by a factor of 2-3 when properly accounting\n",
    "for the dependence structure.  This is roughly consistent with the\n",
    "results shown above, comparing the OLS standard errors to either of\n",
    "the GEE standard errors.  Note however that regression parameters do\n",
    "not behave exactly like means, so the design effect is only a rough\n",
    "indication of how the standard errors for regression parameters are\n",
    "impacted by dependence due to the clusters."
   ]
  },
  {
   "cell_type": "markdown",
   "metadata": {},
   "source": [
    "One way to think about the intraclass correlation is to imagine that\n",
    "it is driven by unobserved cluster-level covariates.  That is, there\n",
    "are likely to be characteristics shared by all people in the same\n",
    "cluster that we do not observe.  Our failure to account for these\n",
    "covariates in the mean structure model induces intra-cluster\n",
    "dependence.  In fact, we do have access to many additional\n",
    "covariates in NHANES that could be included in the regressions, and\n",
    "we see below that as we include fewer covariates the ICC tends to\n",
    "increase, and as we include more covariates, the ICC tends to\n",
    "decrease:"
   ]
  },
  {
   "cell_type": "code",
   "execution_count": 10,
   "metadata": {},
   "outputs": [
    {
     "name": "stdout",
     "output_type": "stream",
     "text": [
      "                               GEE Regression Results                              \n",
      "===================================================================================\n",
      "Dep. Variable:                 logINDFMPIR   No. Observations:                 4499\n",
      "Model:                                 GEE   No. clusters:                       30\n",
      "Method:                        Generalized   Min. cluster size:                  93\n",
      "                      Estimating Equations   Max. cluster size:                 210\n",
      "Family:                           Gaussian   Mean cluster size:               150.0\n",
      "Dependence structure:         Exchangeable   Num. iterations:                     7\n",
      "Date:                     Mon, 17 Feb 2020   Scale:                           0.782\n",
      "Covariance type:                    robust   Time:                         13:47:34\n",
      "=====================================================================================\n",
      "                        coef    std err          z      P>|z|      [0.025      0.975]\n",
      "-------------------------------------------------------------------------------------\n",
      "Intercept             0.5241      0.073      7.218      0.000       0.382       0.666\n",
      "RIAGENDRx[T.Male]     0.0662      0.019      3.521      0.000       0.029       0.103\n",
      "RIDAGEYR              0.0015      0.001      1.291      0.197      -0.001       0.004\n",
      "==============================================================================\n",
      "Skew:                         -1.3793   Kurtosis:                       3.7642\n",
      "Centered skew:                -1.4172   Centered kurtosis:              4.0956\n",
      "==============================================================================\n",
      "The correlation between two observations in the same cluster is 0.055\n"
     ]
    }
   ],
   "source": [
    "model = sm.GEE.from_formula(\"logINDFMPIR ~ RIDAGEYR + RIAGENDRx\", groups=\"group\",\n",
    "                            cov_struct=sm.cov_struct.Exchangeable(), data=da)\n",
    "result = model.fit()\n",
    "print(result.summary())\n",
    "print(result.cov_struct.summary())"
   ]
  },
  {
   "cell_type": "code",
   "execution_count": 11,
   "metadata": {},
   "outputs": [
    {
     "name": "stdout",
     "output_type": "stream",
     "text": [
      "                               GEE Regression Results                              \n",
      "===================================================================================\n",
      "Dep. Variable:                 logINDFMPIR   No. Observations:                 4497\n",
      "Model:                                 GEE   No. clusters:                       30\n",
      "Method:                        Generalized   Min. cluster size:                  92\n",
      "                      Estimating Equations   Max. cluster size:                 210\n",
      "Family:                           Gaussian   Mean cluster size:               149.9\n",
      "Dependence structure:         Exchangeable   Num. iterations:                     9\n",
      "Date:                     Mon, 17 Feb 2020   Scale:                           0.600\n",
      "Covariance type:                    robust   Time:                         13:47:34\n",
      "=================================================================================================\n",
      "                                    coef    std err          z      P>|z|      [0.025      0.975]\n",
      "-------------------------------------------------------------------------------------------------\n",
      "Intercept                         0.5822      0.087      6.714      0.000       0.412       0.752\n",
      "RIAGENDRx[T.Male]                 0.0497      0.019      2.669      0.008       0.013       0.086\n",
      "RIDRETH1x[T.NonHispanicBlack]     0.1300      0.059      2.192      0.028       0.014       0.246\n",
      "RIDRETH1x[T.NonHispanicWhite]     0.3042      0.057      5.374      0.000       0.193       0.415\n",
      "RIDRETH1x[T.Other]                0.1769      0.073      2.431      0.015       0.034       0.320\n",
      "RIDRETH1x[T.OtherHispanic]        0.1079      0.067      1.622      0.105      -0.022       0.238\n",
      "DMDMARTLx[T.Married]              0.3286      0.038      8.584      0.000       0.254       0.404\n",
      "DMDMARTLx[T.NeverMarried]         0.0467      0.057      0.826      0.409      -0.064       0.158\n",
      "DMDMARTLx[T.Partnered]            0.0315      0.069      0.455      0.649      -0.104       0.167\n",
      "DMDMARTLx[T.Separated]           -0.0986      0.073     -1.356      0.175      -0.241       0.044\n",
      "DMDMARTLx[T.Widowed]              0.0872      0.051      1.709      0.087      -0.013       0.187\n",
      "DMDEDUC2x[T.HS]                  -0.5730      0.035    -16.458      0.000      -0.641      -0.505\n",
      "DMDEDUC2x[T.Lt9]                 -1.0331      0.049    -20.946      0.000      -1.130      -0.936\n",
      "DMDEDUC2x[T.SomeCollege]         -0.3640      0.036    -10.144      0.000      -0.434      -0.294\n",
      "DMDEDUC2x[T.g9-11]               -0.8189      0.042    -19.430      0.000      -0.902      -0.736\n",
      "RIDAGEYR                          0.0021      0.001      2.076      0.038       0.000       0.004\n",
      "==============================================================================\n",
      "Skew:                         -1.5643   Kurtosis:                       5.3198\n",
      "Centered skew:                -1.5705   Centered kurtosis:              5.5112\n",
      "==============================================================================\n",
      "The correlation between two observations in the same cluster is 0.020\n"
     ]
    }
   ],
   "source": [
    "model = sm.GEE.from_formula(\"logINDFMPIR ~ RIDAGEYR + RIAGENDRx + RIDRETH1x + DMDMARTLx + DMDEDUC2x\", groups=\"group\",\n",
    "                            cov_struct=sm.cov_struct.Exchangeable(), data=da)\n",
    "result = model.fit()\n",
    "print(result.summary())\n",
    "print(result.cov_struct.summary())"
   ]
  },
  {
   "cell_type": "markdown",
   "metadata": {},
   "source": [
    "## Grouped data with nonlinear mean structures"
   ]
  },
  {
   "cell_type": "markdown",
   "metadata": {},
   "source": [
    "The GEE analysis above uses a linear mean structure.  In this\n",
    "setting, GEE is equivalent to an older procedure called \"Generalized\n",
    "Least Squares\" (GLS).  While GEE and GLS estimate the regression\n",
    "parameters in the same way, GEE carries out inference (standard\n",
    "error calculations) using a robust approach that gives correct\n",
    "results even if the working dependence is wrong.  This robust\n",
    "inference also has a history predating GEE, and is alternatively\n",
    "known as \"Huber-White\" or \"sandwich\" covariance estimation."
   ]
  },
  {
   "cell_type": "markdown",
   "metadata": {},
   "source": [
    "GEE can be used with any GLM link function and family, giving rise\n",
    "to nonlinear mean relationships and non-constant mean/variance\n",
    "relationships.  For example, there are GEE analogues of logistic and\n",
    "Poisson regression. In the case where the link function is not\n",
    "linear, the fitting algorithm is not least squares, but it can be\n",
    "viewed as the limit of a sequence of least squares fits, and thus\n",
    "may be referred to as \"iteratively reweighted least squares\"."
   ]
  },
  {
   "cell_type": "markdown",
   "metadata": {},
   "source": [
    "To demonstrate GEE with a nonlinear mean struture, we use the\n",
    "smoking status variable in NHANES, which is binary.  First, for\n",
    "reference, we fit a binomial GLM (standard logistic regression).\n",
    "This analysis does not account for the cluster (grouping) structure\n",
    "in the data, so has the potential to give misleading results."
   ]
  },
  {
   "cell_type": "code",
   "execution_count": 12,
   "metadata": {},
   "outputs": [
    {
     "name": "stdout",
     "output_type": "stream",
     "text": [
      "                 Generalized Linear Model Regression Results                  \n",
      "==============================================================================\n",
      "Dep. Variable:                  Smoke   No. Observations:                 4496\n",
      "Model:                            GLM   Df Residuals:                     4493\n",
      "Model Family:                Binomial   Df Model:                            2\n",
      "Link Function:                  logit   Scale:                          1.0000\n",
      "Method:                          IRLS   Log-Likelihood:                -2916.5\n",
      "Date:                Mon, 17 Feb 2020   Deviance:                       5833.1\n",
      "Time:                        13:47:35   Pearson chi2:                 4.50e+03\n",
      "No. Iterations:                     4                                         \n",
      "Covariance Type:            nonrobust                                         \n",
      "=====================================================================================\n",
      "                        coef    std err          z      P>|z|      [0.025      0.975]\n",
      "-------------------------------------------------------------------------------------\n",
      "Intercept            -1.6100      0.101    -15.944      0.000      -1.808      -1.412\n",
      "RIAGENDRx[T.Male]     0.8582      0.062     13.739      0.000       0.736       0.981\n",
      "RIDAGEYR              0.0177      0.002      9.861      0.000       0.014       0.021\n",
      "=====================================================================================\n"
     ]
    }
   ],
   "source": [
    "da[\"SMQ020x\"] = da.SMQ020.replace({1: \"yes\", 2: \"no\", 7: np.nan, 9: np.nan})\n",
    "dx = da[[\"SMQ020x\", \"RIDAGEYR\", \"RIAGENDRx\", \"RIDRETH1x\", \"group\"]].dropna()\n",
    "dx[\"Smoke\"] = (da.SMQ020x == \"yes\").astype(np.int)\n",
    "\n",
    "model = sm.GLM.from_formula(\"Smoke ~ RIDAGEYR + RIAGENDRx\",\n",
    "                            family=sm.families.Binomial(), data=dx)\n",
    "result = model.fit()\n",
    "print(result.summary())"
   ]
  },
  {
   "cell_type": "markdown",
   "metadata": {},
   "source": [
    "Next we use GEE to fit the logistic regression while accounting for\n",
    "the groups.  We use here the \"independence\" working covariance,\n",
    "which models the data as being independent, but continues to give\n",
    "meaningful results even if the observations are not independent.\n",
    "Note that the parameter estimates are the same as obtained above\n",
    "using GLM, but the standard errors are slightly different.  In this\n",
    "case, the difference in standard errors is very minor, but in other\n",
    "cases the differences can be large."
   ]
  },
  {
   "cell_type": "markdown",
   "metadata": {},
   "source": [
    "GEE with the independent working covariance will always give the\n",
    "same parameter estimates as GLM.  This tells us that GLM can safely\n",
    "be used with dependent data, as long as only the point estimates are\n",
    "considered.  If (as is usually the case), uncertainty is to be\n",
    "assessed, then GEE (or another appropriate approach such as mixed\n",
    "modeling) should be used."
   ]
  },
  {
   "cell_type": "code",
   "execution_count": 13,
   "metadata": {},
   "outputs": [
    {
     "name": "stdout",
     "output_type": "stream",
     "text": [
      "                               GEE Regression Results                              \n",
      "===================================================================================\n",
      "Dep. Variable:                       Smoke   No. Observations:                 4496\n",
      "Model:                                 GEE   No. clusters:                       30\n",
      "Method:                        Generalized   Min. cluster size:                  93\n",
      "                      Estimating Equations   Max. cluster size:                 210\n",
      "Family:                           Binomial   Mean cluster size:               149.9\n",
      "Dependence structure:         Independence   Num. iterations:                     2\n",
      "Date:                     Mon, 17 Feb 2020   Scale:                           1.000\n",
      "Covariance type:                    robust   Time:                         13:47:35\n",
      "=====================================================================================\n",
      "                        coef    std err          z      P>|z|      [0.025      0.975]\n",
      "-------------------------------------------------------------------------------------\n",
      "Intercept            -1.6100      0.122    -13.147      0.000      -1.850      -1.370\n",
      "RIAGENDRx[T.Male]     0.8582      0.072     11.986      0.000       0.718       0.998\n",
      "RIDAGEYR              0.0177      0.002     10.048      0.000       0.014       0.021\n",
      "==============================================================================\n",
      "Skew:                          0.2882   Kurtosis:                      -1.6464\n",
      "Centered skew:                 0.2654   Centered kurtosis:             -1.5526\n",
      "==============================================================================\n",
      "Observations within a cluster are modeled as being independent.\n"
     ]
    }
   ],
   "source": [
    "model = sm.GEE.from_formula(\"Smoke ~ RIDAGEYR + RIAGENDRx\",\n",
    "                            groups=\"group\",\n",
    "                            family=sm.families.Binomial(), data=dx)\n",
    "result = model.fit()\n",
    "print(result.summary())\n",
    "print(result.cov_struct.summary())"
   ]
  },
  {
   "cell_type": "markdown",
   "metadata": {},
   "source": [
    "As with the linear GEE, it is often desirable to introduce a\n",
    "non-independent covariance structure into the model.  Doing so\n",
    "provides us with some insight into the form of the dependence\n",
    "structure, and also has the potential to give more accurate point\n",
    "estimates and tighter uncertainty bounds."
   ]
  },
  {
   "cell_type": "markdown",
   "metadata": {},
   "source": [
    "The estimates and standard errors for the fit using the exchangeable\n",
    "covariance structure are very similar to what was obtained above\n",
    "using the independence working dependence structure.  The estimated\n",
    "ICC is small, but as discsussed above, ICC's around 0.02 can have\n",
    "sizeable impact on the parameter estimates and standard errors if\n",
    "the clusters are large, as is the case here."
   ]
  },
  {
   "cell_type": "code",
   "execution_count": 14,
   "metadata": {},
   "outputs": [
    {
     "name": "stdout",
     "output_type": "stream",
     "text": [
      "                               GEE Regression Results                              \n",
      "===================================================================================\n",
      "Dep. Variable:                       Smoke   No. Observations:                 4496\n",
      "Model:                                 GEE   No. clusters:                       30\n",
      "Method:                        Generalized   Min. cluster size:                  93\n",
      "                      Estimating Equations   Max. cluster size:                 210\n",
      "Family:                           Binomial   Mean cluster size:               149.9\n",
      "Dependence structure:         Exchangeable   Num. iterations:                     7\n",
      "Date:                     Mon, 17 Feb 2020   Scale:                           1.000\n",
      "Covariance type:                    robust   Time:                         13:47:35\n",
      "=====================================================================================\n",
      "                        coef    std err          z      P>|z|      [0.025      0.975]\n",
      "-------------------------------------------------------------------------------------\n",
      "Intercept            -1.6044      0.121    -13.237      0.000      -1.842      -1.367\n",
      "RIAGENDRx[T.Male]     0.8620      0.070     12.259      0.000       0.724       1.000\n",
      "RIDAGEYR              0.0170      0.002     10.132      0.000       0.014       0.020\n",
      "==============================================================================\n",
      "Skew:                          0.2888   Kurtosis:                      -1.6528\n",
      "Centered skew:                 0.2659   Centered kurtosis:             -1.5585\n",
      "==============================================================================\n",
      "The correlation between two observations in the same cluster is 0.023\n"
     ]
    }
   ],
   "source": [
    "model = sm.GEE.from_formula(\"Smoke ~ RIDAGEYR + RIAGENDRx\",\n",
    "                            groups=\"group\",\n",
    "                            family=sm.families.Binomial(),\n",
    "                            cov_struct=sm.cov_struct.Exchangeable(), data=dx)\n",
    "result = model.fit()\n",
    "print(result.summary())\n",
    "print(result.cov_struct.summary())"
   ]
  },
  {
   "cell_type": "markdown",
   "metadata": {},
   "source": [
    "Note that while these models are estimated using the GEE framework,\n",
    "the interpretation of the effects is the same as in a GLM.  In this\n",
    "case, we are working with a logistic model, thus the parameter\n",
    "estimates shown above, say for male gender, reflect the amount by\n",
    "which the log odds for smoking is greater when comparing a male to a\n",
    "female of the same age.  More specifically, in the context of\n",
    "dependent, or grouped data, as we have here, this parameter should\n",
    "be interpreted as reflecting the average difference of log odds for\n",
    "smoking when comparing a male to a female of the same age,\n",
    "irrespective of whether they are in the same or in different groups.\n",
    "This follows from the fact that the mean structure estimated by a\n",
    "GEE is \"marginal\".  A related but different regression technique is\n",
    "\"multilevel modeling\", in which case this parameter should be\n",
    "interpreted as reflecting the contrast between a male and a female\n",
    "of the same age, who also fall into the same group."
   ]
  },
  {
   "cell_type": "markdown",
   "metadata": {},
   "source": [
    "As discussed above in the linear mean structure example, including\n",
    "more covariates will generally reduce the ICC, but usually not to\n",
    "the point where it is negligible."
   ]
  },
  {
   "cell_type": "code",
   "execution_count": 15,
   "metadata": {},
   "outputs": [
    {
     "name": "stdout",
     "output_type": "stream",
     "text": [
      "                               GEE Regression Results                              \n",
      "===================================================================================\n",
      "Dep. Variable:                       Smoke   No. Observations:                 4496\n",
      "Model:                                 GEE   No. clusters:                       30\n",
      "Method:                        Generalized   Min. cluster size:                  93\n",
      "                      Estimating Equations   Max. cluster size:                 210\n",
      "Family:                           Binomial   Mean cluster size:               149.9\n",
      "Dependence structure:         Exchangeable   Num. iterations:                     9\n",
      "Date:                     Mon, 17 Feb 2020   Scale:                           1.000\n",
      "Covariance type:                    robust   Time:                         13:47:35\n",
      "=================================================================================================\n",
      "                                    coef    std err          z      P>|z|      [0.025      0.975]\n",
      "-------------------------------------------------------------------------------------------------\n",
      "Intercept                        -1.6907      0.124    -13.625      0.000      -1.934      -1.448\n",
      "RIAGENDRx[T.Male]                 0.8729      0.071     12.348      0.000       0.734       1.011\n",
      "RIDRETH1x[T.NonHispanicBlack]     0.1704      0.128      1.327      0.185      -0.081       0.422\n",
      "RIDRETH1x[T.NonHispanicWhite]     0.4128      0.111      3.718      0.000       0.195       0.630\n",
      "RIDRETH1x[T.Other]               -0.2861      0.175     -1.637      0.102      -0.629       0.056\n",
      "RIDRETH1x[T.OtherHispanic]        0.1439      0.136      1.057      0.290      -0.123       0.411\n",
      "RIDAGEYR                          0.0158      0.002      9.506      0.000       0.013       0.019\n",
      "==============================================================================\n",
      "Skew:                          0.2741   Kurtosis:                      -1.6094\n",
      "Centered skew:                 0.2543   Centered kurtosis:             -1.5233\n",
      "==============================================================================\n",
      "The correlation between two observations in the same cluster is 0.014\n"
     ]
    }
   ],
   "source": [
    "model = sm.GEE.from_formula(\"Smoke ~ RIDAGEYR + RIAGENDRx + RIDRETH1x\",\n",
    "                            groups=\"group\",\n",
    "                            family=sm.families.Binomial(),\n",
    "                            cov_struct=sm.cov_struct.Exchangeable(), data=dx)\n",
    "result = model.fit()\n",
    "print(result.summary())\n",
    "print(result.cov_struct.summary())"
   ]
  },
  {
   "cell_type": "markdown",
   "metadata": {},
   "source": [
    "In order to show that the ICC's we obtaining here are not artifacts,\n",
    "below we generate a completely random grouping variable with the\n",
    "same number of levels as the actual grouping variable, and show the\n",
    "estimated ICC values that are obtained."
   ]
  },
  {
   "cell_type": "code",
   "execution_count": 16,
   "metadata": {},
   "outputs": [
    {
     "name": "stdout",
     "output_type": "stream",
     "text": [
      "The correlation between two observations in the same cluster is -0.004\n"
     ]
    },
    {
     "name": "stdout",
     "output_type": "stream",
     "text": [
      "The correlation between two observations in the same cluster is -0.000\n"
     ]
    },
    {
     "name": "stdout",
     "output_type": "stream",
     "text": [
      "The correlation between two observations in the same cluster is 0.003\n"
     ]
    },
    {
     "name": "stdout",
     "output_type": "stream",
     "text": [
      "The correlation between two observations in the same cluster is 0.002\n"
     ]
    },
    {
     "name": "stdout",
     "output_type": "stream",
     "text": [
      "The correlation between two observations in the same cluster is 0.000\n"
     ]
    },
    {
     "name": "stdout",
     "output_type": "stream",
     "text": [
      "The correlation between two observations in the same cluster is 0.003\n"
     ]
    },
    {
     "name": "stdout",
     "output_type": "stream",
     "text": [
      "The correlation between two observations in the same cluster is -0.002\n"
     ]
    },
    {
     "name": "stdout",
     "output_type": "stream",
     "text": [
      "The correlation between two observations in the same cluster is -0.002\n"
     ]
    },
    {
     "name": "stdout",
     "output_type": "stream",
     "text": [
      "The correlation between two observations in the same cluster is 0.001\n"
     ]
    },
    {
     "name": "stdout",
     "output_type": "stream",
     "text": [
      "The correlation between two observations in the same cluster is 0.000\n"
     ]
    }
   ],
   "source": [
    "for k in range(10):\n",
    "    dx[\"group2\"] = np.random.randint(0, 30, dx.shape[0])\n",
    "    model = sm.GEE.from_formula(\"Smoke ~ RIDAGEYR + RIAGENDRx\",\n",
    "                                groups=\"group2\",\n",
    "                                family=sm.families.Binomial(),\n",
    "                                cov_struct=sm.cov_struct.Exchangeable(), data=dx)\n",
    "    result = model.fit()\n",
    "    print(result.cov_struct.summary())"
   ]
  },
  {
   "cell_type": "markdown",
   "metadata": {},
   "source": [
    "## Subject-level repeated measures"
   ]
  },
  {
   "cell_type": "markdown",
   "metadata": {},
   "source": [
    "Above we considered dependence that resulted from cluster sampling.\n",
    "Another common reason that dependence occurs is having repeated\n",
    "measures on individuals.  This happens, for example, in a\n",
    "longitudinal study, where variables of interest are measured on\n",
    "individuals repeatedly over time.  Since NHANES is a cross-sectional\n",
    "study, there are no repeated longitudinal measures.  However, there\n",
    "are repeated measures of the blood pressure variables (systolic and\n",
    "diastolic blood pressure).  Each of these variables is measured on\n",
    "every subject 2-4 times in short succession.  The reason that this\n",
    "is done is that blood pressure can be quite variable, and in\n",
    "particular can be high on an initial measurement due to subjects\n",
    "being anxious.  Thus the second and subsequent blood pressure\n",
    "measurements tend to be slightly lower than the first."
   ]
  },
  {
   "cell_type": "markdown",
   "metadata": {},
   "source": [
    "First we need to do some data management.  The NHANES file that we\n",
    "are working with is in \"wide form\" (one row per subject), but for\n",
    "this analysis we need one row per blood pressure observation.  The\n",
    "Pandas `melt` method with some subsequent cleanup accomplishes this\n",
    "data restructuring."
   ]
  },
  {
   "cell_type": "code",
   "execution_count": 17,
   "metadata": {},
   "outputs": [],
   "source": [
    "idv = (\"SEQN\", \"BMXBMI\", \"SDMVSTRA\", \"SDMVPSU\", \"RIAGENDR\", \"RIDAGEYR\", \"RIDRETH1\")\n",
    "dx = pd.melt(da, id_vars=idv, value_vars=(\"BPXSY1\", \"BPXSY2\"),\n",
    "             var_name=\"Time\", value_name=\"SBP\")\n",
    "dx[\"Time\"] = dx.Time.apply(lambda x : x.replace(\"BPXSY\", \"\"))\n",
    "dx = dx.sort_values(by=\"SEQN\")\n",
    "\n",
    "dx[\"RIAGENDRx\"] = dx.RIAGENDR.replace({1: \"Male\", 2: \"Female\"})\n",
    "\n",
    "dx[\"RIDRETH1x\"] = dx.RIDRETH1.replace({1: \"MexicanAmerican\", 2: \"OtherHispanic\",\n",
    "                   3: \"NonHispanicWhite\", 4: \"NonHispanicBlack\", 5: \"Other\"})"
   ]
  },
  {
   "cell_type": "markdown",
   "metadata": {},
   "source": [
    "Next we fit a GEE with linear mean structure to the systolic blood\n",
    "pressure values (two observations per subject).  The exchangeable\n",
    "correlation structure allows us to estimate the ICC (i.e. how\n",
    "correlated are the two repeated observations within a subject).\n",
    "Note that we are now ignoring the correlations induced by the survey\n",
    "structure."
   ]
  },
  {
   "cell_type": "code",
   "execution_count": 18,
   "metadata": {},
   "outputs": [
    {
     "name": "stdout",
     "output_type": "stream",
     "text": [
      "                               GEE Regression Results                              \n",
      "===================================================================================\n",
      "Dep. Variable:                         SBP   No. Observations:                 8998\n",
      "Model:                                 GEE   No. clusters:                     4499\n",
      "Method:                        Generalized   Min. cluster size:                   2\n",
      "                      Estimating Equations   Max. cluster size:                   2\n",
      "Family:                           Gaussian   Mean cluster size:                 2.0\n",
      "Dependence structure:         Exchangeable   Num. iterations:                     2\n",
      "Date:                     Mon, 17 Feb 2020   Scale:                         252.205\n",
      "Covariance type:                    robust   Time:                         13:47:39\n",
      "=================================================================================================\n",
      "                                    coef    std err          z      P>|z|      [0.025      0.975]\n",
      "-------------------------------------------------------------------------------------------------\n",
      "Intercept                       106.4096      0.722    147.362      0.000     104.994     107.825\n",
      "RIAGENDRx[T.Male]                10.4795      0.798     13.140      0.000       8.916      12.043\n",
      "RIDRETH1x[T.NonHispanicBlack]     3.7896      0.766      4.945      0.000       2.288       5.292\n",
      "RIDRETH1x[T.NonHispanicWhite]    -2.4811      0.649     -3.824      0.000      -3.753      -1.209\n",
      "RIDRETH1x[T.Other]               -1.7459      0.790     -2.209      0.027      -3.295      -0.197\n",
      "RIDRETH1x[T.OtherHispanic]       -0.2426      0.810     -0.299      0.765      -1.831       1.346\n",
      "Time[T.2]                        -0.7086      0.076     -9.370      0.000      -0.857      -0.560\n",
      "RIDAGEYRm18                       0.5658      0.019     29.338      0.000       0.528       0.604\n",
      "RIDAGEYRm18:RIAGENDRx[T.Male]    -0.2210      0.027     -8.038      0.000      -0.275      -0.167\n",
      "==============================================================================\n",
      "Skew:                          0.8057   Kurtosis:                       2.2353\n",
      "Centered skew:                -0.0000   Centered kurtosis:              1.8996\n",
      "==============================================================================\n",
      "The correlation between two observations in the same cluster is 0.950\n"
     ]
    }
   ],
   "source": [
    "dx[\"RIDAGEYRm18\"] = dx.RIDAGEYR - 18\n",
    "\n",
    "model = sm.GEE.from_formula(\"SBP ~ RIDAGEYRm18 * RIAGENDRx + RIDRETH1x + Time\",\n",
    "                            cov_struct=sm.cov_struct.Exchangeable(),\n",
    "                            groups=\"SEQN\", data=dx)\n",
    "result = model.fit()\n",
    "print(result.summary())\n",
    "print(result.cov_struct.summary())"
   ]
  },
  {
   "cell_type": "markdown",
   "metadata": {},
   "source": [
    "It is also possible to have multiple levels of grouping structure in\n",
    "a GEE.  Here, we have two repeated measures clustered within each\n",
    "individual, and the individuals are in turn clustered within the\n",
    "survey groups.  We can use a `Nested` dependence structure to\n",
    "capture both levels of correlation."
   ]
  },
  {
   "cell_type": "code",
   "execution_count": 19,
   "metadata": {},
   "outputs": [
    {
     "name": "stdout",
     "output_type": "stream",
     "text": [
      "                               GEE Regression Results                              \n",
      "===================================================================================\n",
      "Dep. Variable:                         SBP   No. Observations:                 8998\n",
      "Model:                                 GEE   No. clusters:                       30\n",
      "Method:                        Generalized   Min. cluster size:                 186\n",
      "                      Estimating Equations   Max. cluster size:                 420\n",
      "Family:                           Gaussian   Mean cluster size:               299.9\n",
      "Dependence structure:               Nested   Num. iterations:                    10\n",
      "Date:                     Mon, 17 Feb 2020   Scale:                         252.417\n",
      "Covariance type:                    robust   Time:                         13:47:40\n",
      "=================================================================================================\n",
      "                                    coef    std err          z      P>|z|      [0.025      0.975]\n",
      "-------------------------------------------------------------------------------------------------\n",
      "Intercept                       106.2401      0.912    116.433      0.000     104.452     108.028\n",
      "RIAGENDRx[T.Male]                10.4493      0.622     16.809      0.000       9.231      11.668\n",
      "RIDRETH1x[T.NonHispanicBlack]     3.4551      0.965      3.579      0.000       1.563       5.347\n",
      "RIDRETH1x[T.NonHispanicWhite]    -2.6727      0.836     -3.197      0.001      -4.311      -1.034\n",
      "RIDRETH1x[T.Other]               -1.4358      0.862     -1.665      0.096      -3.126       0.254\n",
      "RIDRETH1x[T.OtherHispanic]       -0.9758      0.864     -1.129      0.259      -2.669       0.718\n",
      "RIDAGEYRm18                       0.5614      0.023     24.220      0.000       0.516       0.607\n",
      "RIDAGEYRm18:RIAGENDRx[T.Male]    -0.2202      0.020    -10.759      0.000      -0.260      -0.180\n",
      "==============================================================================\n",
      "Skew:                          0.8124   Kurtosis:                       2.2435\n",
      "Centered skew:                 0.8114   Centered kurtosis:              2.2105\n",
      "==============================================================================\n",
      "            Variance\n",
      "group       3.094392\n",
      "SEQN      235.982898\n",
      "Residual   13.339335\n"
     ]
    }
   ],
   "source": [
    "dx[\"group\"] = 10 * dx.SDMVSTRA + dx.SDMVPSU\n",
    "\n",
    "model = sm.GEE.from_formula(\"SBP ~ RIDAGEYRm18 * RIAGENDRx + RIDRETH1x\",\n",
    "                            dep_data=\"0 + SEQN\",\n",
    "                            cov_struct=sm.cov_struct.Nested(),\n",
    "                            groups=\"group\", data=dx)\n",
    "result = model.fit()\n",
    "print(result.summary())\n",
    "print(result.cov_struct.summary())"
   ]
  },
  {
   "cell_type": "markdown",
   "metadata": {},
   "source": [
    "The fitted nested covariance structure is expressed in terms of the\n",
    "variance contributed by each level of nesting.  This corresponds to\n",
    "a \"variance components model\" of the form"
   ]
  },
  {
   "cell_type": "markdown",
   "metadata": {},
   "source": [
    "$$\n",
    "y_{ijkl} = a_i + b_{ij} + c_{ijk} + \\epsilon_{ijkl}\n",
    "$$"
   ]
  },
  {
   "cell_type": "markdown",
   "metadata": {},
   "source": [
    "Above, $a_i$, $b_{ij}$, $c_{ijk}$, and $\\epsilon_{ijkl}$ are all\n",
    "random with mean zero, and with variances $\\tau_a^2$, $\\tau_b^2$,\n",
    "$\\tau_c^2$, and $\\sigma^2$ respectively."
   ]
  },
  {
   "cell_type": "markdown",
   "metadata": {},
   "source": [
    "## Simulation of data for GEE analysis"
   ]
  },
  {
   "cell_type": "markdown",
   "metadata": {},
   "source": [
    "Sometimes it is useful to apply a regression approach to simulated\n",
    "data.  This can be applied in power and sample size assessment, and\n",
    "in evaluating the performance of a statistical methodology.\n",
    "Simulation of data for GEE regression presents a unique challenge\n",
    "because GEE is not based on a complete model for the data.  In a\n",
    "GEE, the mean structure is fully specified, and in most cases the\n",
    "marginal distribution of each observation is fully specified\n",
    "(however this is not true when using the quasi-likelihood familes).\n",
    "The dependence structure is only specified through a working\n",
    "structure that does not need to be correct, and even if it is\n",
    "correct, it does not define the joint distribution of the data\n",
    "(except in very special cases like the Gaussian model)."
   ]
  },
  {
   "cell_type": "markdown",
   "metadata": {},
   "source": [
    "There are various ways to resolve this challenge.  Below we will\n",
    "demonstrate how a copula approach can be used to simulate data for a\n",
    "GEE analysis.  The basic idea is that if $u_1, u_2$ are two random\n",
    "variables that may be dependent, such that $u_1$ and $u_2$ are both\n",
    "marginally uniformly distributed, then for any cumulative\n",
    "distribution functions $F_1$, $F_2$, the random variables $y_1 =\n",
    "F_1^{-1}(u_1)$ and $y_2 = F_2^{-1}(u_2)$ are distributed according\n",
    "to $F_1$ and $F_2$.  In a GEE, we know the marginal distributions\n",
    "(except in the quasi-likelihood case that we will not cover here),\n",
    "so $F_1$, etc. are always known.  Thus, we can induce dependence\n",
    "between $y_1$ and $y_2$ by simulating $u_1$ and $u_2$ to be\n",
    "dependent and (marginally) uniform.  Note that this approach works\n",
    "for any dimension, we are only using two components here for\n",
    "illustration."
   ]
  },
  {
   "cell_type": "markdown",
   "metadata": {},
   "source": [
    "One way to simulate dependent $u_j$ that are marginally uniform is\n",
    "to simulate dependent $z_j$ that are marginally standard Gaussian,\n",
    "then define $u_j = \\Phi^{-1}(z_j)$, where $\\Phi$ is the standard\n",
    "normal CDF.  This approach is flexible because it is easy to\n",
    "generate Gaussian random vectors with a variety of different\n",
    "covariance structures, such that the components are marginally\n",
    "standard normal. This is called the \"Gaussian copula\" and is used in\n",
    "the illustration below."
   ]
  },
  {
   "cell_type": "code",
   "execution_count": 20,
   "metadata": {},
   "outputs": [
    {
     "name": "stdout",
     "output_type": "stream",
     "text": [
      "                               GEE Regression Results                              \n",
      "===================================================================================\n",
      "Dep. Variable:                           y   No. Observations:                10000\n",
      "Model:                                 GEE   No. clusters:                     1000\n",
      "Method:                        Generalized   Min. cluster size:                  10\n",
      "                      Estimating Equations   Max. cluster size:                  10\n",
      "Family:                            Poisson   Mean cluster size:                10.0\n",
      "Dependence structure:           Stationary   Num. iterations:                     6\n",
      "Date:                     Mon, 17 Feb 2020   Scale:                           1.000\n",
      "Covariance type:                    robust   Time:                         13:47:44\n",
      "==============================================================================\n",
      "                 coef    std err          z      P>|z|      [0.025      0.975]\n",
      "------------------------------------------------------------------------------\n",
      "Intercept     -0.0333      0.019     -1.740      0.082      -0.071       0.004\n",
      "x1             1.0023      0.008    129.674      0.000       0.987       1.017\n",
      "x2            -0.5074      0.006    -85.398      0.000      -0.519      -0.496\n",
      "==============================================================================\n",
      "Skew:                          0.7266   Kurtosis:                       8.8420\n",
      "Centered skew:                 0.4081   Centered kurtosis:              8.0613\n",
      "==============================================================================\n",
      "   Lag       Cov\n",
      "0    0  0.000000\n",
      "1    1  0.577632\n",
      "2    2  0.390890\n",
      "3    3  0.287581\n",
      "4    4  0.208875\n",
      "5    5  0.142036\n"
     ]
    }
   ],
   "source": [
    "# Number of groups\n",
    "n = 1000\n",
    "\n",
    "# Number of observations per group\n",
    "q = 10\n",
    "\n",
    "# The autocorrelation in the Gaussian copula\n",
    "a = 0.7\n",
    "\n",
    "from scipy.stats.distributions import poisson, norm\n",
    "\n",
    "# The latent variables in the Gaussian copula\n",
    "z = np.random.normal(size=(n, q))\n",
    "for j in range(1, q):\n",
    "    z[:, j] = a*z[:, j-1] + np.sqrt(1 - a**2)*z[:, j]\n",
    "u = norm.cdf(z)\n",
    "\n",
    "# The covariates\n",
    "x1 = np.random.normal(size=(n, q))\n",
    "x2 = np.random.normal(size=(n, q))\n",
    "\n",
    "# The mean parameters for the marginal distributions\n",
    "lpr = x1 - 0.5*x2\n",
    "expval = np.exp(lpr)\n",
    "\n",
    "# The response values.  These are marginally Poisson with the specified means.\n",
    "y = np.zeros((n, q))\n",
    "for i in range(n):\n",
    "    for j in range(q):\n",
    "        y[i, j] = poisson.ppf(u[i, j], expval[i, j])\n",
    "\n",
    "idv = np.outer(np.arange(n), np.ones(q))\n",
    "time = np.outer(np.ones(n), np.arange(q))\n",
    "\n",
    "df = pd.DataFrame({\"y\": y.flat, \"x1\": x1.flat, \"x2\": x2.flat,\n",
    "                   \"grp\": idv.flat, \"time\":time.flat})\n",
    "\n",
    "model = sm.GEE.from_formula(\"y ~ x1 + x2\", groups=\"grp\",\n",
    "           family=sm.families.Poisson(),\n",
    "           time=df.time,\n",
    "           cov_struct=sm.cov_struct.Stationary(max_lag=5),\n",
    "           data=df)\n",
    "result = model.fit()\n",
    "\n",
    "print(result.summary())\n",
    "print(result.cov_struct.summary())"
   ]
  },
  {
   "cell_type": "markdown",
   "metadata": {},
   "source": [
    "## Other applications of GEE"
   ]
  },
  {
   "cell_type": "markdown",
   "metadata": {},
   "source": [
    "Here we have shown how GEE can be used with grouped data, including\n",
    "multilevel (nested) grouped data.  We have also seen an application\n",
    "involving data that were simulated as a time series.  GEE is widely\n",
    "used for grouped data, longitudinal data, time series, and spatial\n",
    "data.  In principle, covariance structures can be defined for most\n",
    "applications involving dependent data.  However in practice most\n",
    "people use the familiar dependence structures illustrated here."
   ]
  },
  {
   "cell_type": "markdown",
   "metadata": {},
   "source": [
    "Finally, note that most of the GEE support within Python Statsmodels\n",
    "is implemented in [this source\n",
    "file](https://github.com/statsmodels/statsmodels/blob/master/statsmodels/genmod/generalized_estimating_equations.py).\n",
    "You do not need to read or understand this source code to be able to\n",
    "use GEE regression in Statsmodels.  But more advanced users may want\n",
    "to understand how the fitting is implemented.  GEE constitutes a\n",
    "fairly mature and well-established methodology.  Therefore, the\n",
    "results of fitting a GEE to a data set should be essentially\n",
    "identical in all packages (Python Statsmodels, R, Stata, SAS, etc.).\n",
    "Statsmodels uses a large number of unit tests\n",
    "(e.g. [here](https://github.com/statsmodels/statsmodels/blob/master/statsmodels/genmod/tests/test_gee.py))\n",
    "to ensure that the results are correct and consistent with other\n",
    "packages."
   ]
  }
 ],
 "metadata": {
  "jupytext": {
   "cell_metadata_filter": "-all"
  },
  "kernelspec": {
   "display_name": "Python 3",
   "language": "python",
   "name": "python3"
  },
  "language_info": {
   "codemirror_mode": {
    "name": "ipython",
    "version": 3
   },
   "file_extension": ".py",
   "mimetype": "text/x-python",
   "name": "python",
   "nbconvert_exporter": "python",
   "pygments_lexer": "ipython3",
   "version": "3.7.3"
  }
 },
 "nbformat": 4,
 "nbformat_minor": 2
}
