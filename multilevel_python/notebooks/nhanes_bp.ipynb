{
 "cells": [
  {
   "cell_type": "markdown",
   "metadata": {},
   "source": [
    "# Multilevel analysis of NHANES blood pressure data"
   ]
  },
  {
   "cell_type": "markdown",
   "metadata": {},
   "source": [
    "In this notebook, we fit mixed models to blood pressure data from NHANES.\n",
    "The study has data for two blood\n",
    "pressure measurement types (systolic BP and diastolic BP), with up to 4\n",
    "repeated measures per subject for each type."
   ]
  },
  {
   "cell_type": "markdown",
   "metadata": {},
   "source": [
    "The data files can be obtained from these links:\n",
    "\n",
    "https://wwwn.cdc.gov/Nchs/Nhanes/2011-2012/DEMO_G.XPT\n",
    "https://wwwn.cdc.gov/Nchs/Nhanes/2011-2012/BPX_G.XPT\n",
    "https://wwwn.cdc.gov/Nchs/Nhanes/2011-2012/BMX_G.XPT"
   ]
  },
  {
   "cell_type": "code",
   "execution_count": 1,
   "metadata": {},
   "outputs": [
    {
     "name": "stderr",
     "output_type": "stream",
     "text": [
      "/nfs/kshedden/python3/lib/python3.7/site-packages/statsmodels/compat/pandas.py:23: FutureWarning: The Panel class is removed from pandas. Accessing it from the top-level namespace will also be removed in the next version\n",
      "  data_klasses = (pandas.Series, pandas.DataFrame, pandas.Panel)\n"
     ]
    }
   ],
   "source": [
    "import statsmodels.api as sm\n",
    "import pandas as pd\n",
    "import numpy as np"
   ]
  },
  {
   "cell_type": "markdown",
   "metadata": {},
   "source": [
    "First, load and merge the data sets.  These are SAS Xport format\n",
    "files, which can be read with Pandas."
   ]
  },
  {
   "cell_type": "code",
   "execution_count": 2,
   "metadata": {},
   "outputs": [],
   "source": [
    "demog = pd.read_sas(\"../data/DEMO_G.XPT\")\n",
    "bpx = pd.read_sas(\"../data/BPX_G.XPT\")\n",
    "bmx = pd.read_sas(\"../data/BMX_G.XPT\")\n",
    "df = pd.merge(demog, bpx, left_on=\"SEQN\", right_on=\"SEQN\")\n",
    "df = pd.merge(df, bmx, left_on=\"SEQN\", right_on=\"SEQN\")"
   ]
  },
  {
   "cell_type": "markdown",
   "metadata": {},
   "source": [
    "Next we convert the data from wide to long, pivoting the four\n",
    "BP measures from columns to rows."
   ]
  },
  {
   "cell_type": "code",
   "execution_count": 3,
   "metadata": {},
   "outputs": [],
   "source": [
    "syvars = [\"BPXSY%d\" % j for j in (1,2,3,4)]\n",
    "divars = [\"BPXDI%d\" % j for j in (1,2,3,4)]\n",
    "vvars = syvars + divars\n",
    "idvars = ['SEQN', 'RIDAGEYR', 'RIAGENDR', 'BMXBMI']\n",
    "dx = pd.melt(df, id_vars=idvars, value_vars=vvars,\n",
    "             var_name='bpvar', value_name='bp')"
   ]
  },
  {
   "cell_type": "markdown",
   "metadata": {},
   "source": [
    "We drop rows where any of the variables are missing.  Multilevel modeling\n",
    "can accommodate missing data, but here we use a basic complete case analysis."
   ]
  },
  {
   "cell_type": "code",
   "execution_count": 4,
   "metadata": {},
   "outputs": [],
   "source": [
    "dx = dx.sort_values(by='SEQN')\n",
    "dx = dx.reset_index(drop=True)\n",
    "dx['SEQN'] = dx.SEQN.astype(np.int)\n",
    "dx = dx.dropna()"
   ]
  },
  {
   "cell_type": "markdown",
   "metadata": {},
   "source": [
    "Since we have pivoted all BP measures to rows, we will need variables\n",
    "telling us whether we are looking at systolic (SY) or diastolic (DI)\n",
    "blood pressure, and we need a way to know the order of the BP values\n",
    "within each person.  These repeated measures are not exchangeable,\n",
    "since the BP readings tend to drop slightly as people relax."
   ]
  },
  {
   "cell_type": "code",
   "execution_count": 5,
   "metadata": {},
   "outputs": [
    {
     "name": "stdout",
     "output_type": "stream",
     "text": [
      "    SEQN  RIDAGEYR  RIAGENDR  BMXBMI   bpvar     bp bpt  bpi  female  \\\n",
      "0  62161      22.0       1.0    23.3  BPXSY1  110.0  SY    1       0   \n",
      "2  62161      22.0       1.0    23.3  BPXDI2   68.0  DI    2       0   \n",
      "3  62161      22.0       1.0    23.3  BPXSY3  118.0  SY    3       0   \n",
      "4  62161      22.0       1.0    23.3  BPXDI3   74.0  DI    3       0   \n",
      "5  62161      22.0       1.0    23.3  BPXSY2  104.0  SY    2       0   \n",
      "\n",
      "     di_mean  \n",
      "0  74.666667  \n",
      "2  74.666667  \n",
      "3  74.666667  \n",
      "4  74.666667  \n",
      "5  74.666667  \n"
     ]
    }
   ],
   "source": [
    "# Blood pressure type (systolic or diastolic)\n",
    "dx[\"bpt\"] = dx.bpvar.str[3:5]\n",
    "\n",
    "dx[\"bpi\"] = dx.bpvar.str[5].astype(np.int)\n",
    "dx[\"female\"] = (dx.RIAGENDR == 2).astype(np.int)\n",
    "\n",
    "di_mean = dx.loc[dx.bpt==\"DI\", :].groupby(\"SEQN\")[\"bp\"].aggregate(np.mean)\n",
    "di_mean.name = \"di_mean\"\n",
    "dx = pd.merge(dx, di_mean, left_on=\"SEQN\", right_index=True)\n",
    "\n",
    "print(dx.head())"
   ]
  },
  {
   "cell_type": "markdown",
   "metadata": {},
   "source": [
    "We subsample the data to make the script run faster.  Statsmodels MixedLM is\n",
    "unfortunately not very fast."
   ]
  },
  {
   "cell_type": "code",
   "execution_count": 6,
   "metadata": {},
   "outputs": [],
   "source": [
    "dx = dx.iloc[0:5000, :]"
   ]
  },
  {
   "cell_type": "markdown",
   "metadata": {},
   "source": [
    "Fit a linear mean structure model using OLS. The variance structure of\n",
    "this model is misspecified.  Since this is a linear model, the coefficient\n",
    "point estimates are still meaningful despite the variance mis-specification."
   ]
  },
  {
   "cell_type": "code",
   "execution_count": 7,
   "metadata": {},
   "outputs": [
    {
     "name": "stdout",
     "output_type": "stream",
     "text": [
      "                            OLS Regression Results                            \n",
      "==============================================================================\n",
      "Dep. Variable:                     bp   R-squared:                       0.762\n",
      "Model:                            OLS   Adj. R-squared:                  0.762\n",
      "Method:                 Least Squares   F-statistic:                     4005.\n",
      "Date:                Mon, 24 Feb 2020   Prob (F-statistic):               0.00\n",
      "Time:                        15:00:20   Log-Likelihood:                -20686.\n",
      "No. Observations:                5000   AIC:                         4.138e+04\n",
      "Df Residuals:                    4995   BIC:                         4.141e+04\n",
      "Df Model:                           4                                         \n",
      "Covariance Type:            nonrobust                                         \n",
      "================================================================================\n",
      "                   coef    std err          t      P>|t|      [0.025      0.975]\n",
      "--------------------------------------------------------------------------------\n",
      "Intercept       46.1460      0.863     53.463      0.000      44.454      47.838\n",
      "C(bpt)[T.SY]    52.0088      0.429    121.281      0.000      51.168      52.849\n",
      "RIDAGEYR         0.2911      0.010     27.819      0.000       0.271       0.312\n",
      "female          -2.1229      0.434     -4.888      0.000      -2.974      -1.272\n",
      "BMXBMI           0.3696      0.032     11.584      0.000       0.307       0.432\n",
      "==============================================================================\n",
      "Omnibus:                      424.509   Durbin-Watson:                   1.178\n",
      "Prob(Omnibus):                  0.000   Jarque-Bera (JB):             2687.614\n",
      "Skew:                          -0.060   Prob(JB):                         0.00\n",
      "Kurtosis:                       6.590   Cond. No.                         209.\n",
      "==============================================================================\n",
      "\n",
      "Warnings:\n",
      "[1] Standard Errors assume that the covariance matrix of the errors is correctly specified.\n"
     ]
    }
   ],
   "source": [
    "model1 = sm.OLS.from_formula(\"bp ~ RIDAGEYR + female + C(bpt) + BMXBMI\", dx)\n",
    "result1 = model1.fit()\n",
    "print(result1.summary())"
   ]
  },
  {
   "cell_type": "markdown",
   "metadata": {},
   "source": [
    "Fit a mixed model to the systolic data with a simple random intercept\n",
    "per subject.  Then calculate the ICC."
   ]
  },
  {
   "cell_type": "code",
   "execution_count": 8,
   "metadata": {},
   "outputs": [
    {
     "name": "stdout",
     "output_type": "stream",
     "text": [
      "         Mixed Linear Model Regression Results\n",
      "========================================================\n",
      "Model:            MixedLM Dependent Variable: bp        \n",
      "No. Observations: 2500    Method:             REML      \n",
      "No. Groups:       837     Scale:              16.2140   \n",
      "Min. group size:  1       Likelihood:         -8563.6384\n",
      "Max. group size:  3       Converged:          Yes       \n",
      "Mean group size:  3.0                                   \n",
      "--------------------------------------------------------\n",
      "             Coef.  Std.Err.   z    P>|z| [0.025  0.975]\n",
      "--------------------------------------------------------\n",
      "Intercept    96.233    1.960 49.100 0.000 92.391 100.074\n",
      "RIDAGEYR      0.406    0.025 16.529 0.000  0.358   0.454\n",
      "female       -2.765    1.018 -2.715 0.007 -4.762  -0.769\n",
      "BMXBMI        0.289    0.075  3.864 0.000  0.143   0.436\n",
      "SEQN Var    206.352    3.158                            \n",
      "========================================================\n",
      "\n",
      "icc=0.927150\n",
      "\n"
     ]
    }
   ],
   "source": [
    "ds2 = dx.loc[dx.bpt == \"SY\"]\n",
    "model2 = sm.MixedLM.from_formula(\"bp ~ RIDAGEYR + female + BMXBMI\",\n",
    "                                 groups=\"SEQN\", data=ds2)\n",
    "result2 = model2.fit()\n",
    "icc2 = result2.cov_re / (result2.cov_re + result2.scale)\n",
    "print(result2.summary())\n",
    "print(\"icc=%f\\n\" % icc2.values.flat[0])"
   ]
  },
  {
   "cell_type": "markdown",
   "metadata": {},
   "source": [
    "Partial out the mean diastolic blood pressure per subject.  This leads\n",
    "to slightly weaker random effects."
   ]
  },
  {
   "cell_type": "code",
   "execution_count": 9,
   "metadata": {},
   "outputs": [
    {
     "name": "stdout",
     "output_type": "stream",
     "text": [
      "         Mixed Linear Model Regression Results\n",
      "========================================================\n",
      "Model:            MixedLM Dependent Variable: bp        \n",
      "No. Observations: 2500    Method:             REML      \n",
      "No. Groups:       837     Scale:              16.2135   \n",
      "Min. group size:  1       Likelihood:         -8517.7505\n",
      "Max. group size:  3       Converged:          Yes       \n",
      "Mean group size:  3.0                                   \n",
      "--------------------------------------------------------\n",
      "              Coef.  Std.Err.   z    P>|z| [0.025 0.975]\n",
      "--------------------------------------------------------\n",
      "Intercept     79.975    2.450 32.639 0.000 75.173 84.778\n",
      "RIDAGEYR       0.345    0.024 14.443 0.000  0.299  0.392\n",
      "female        -2.238    0.963 -2.324 0.020 -4.126 -0.351\n",
      "BMXBMI         0.140    0.072  1.932 0.053 -0.002  0.281\n",
      "di_mean        0.337    0.033 10.122 0.000  0.272  0.402\n",
      "SEQN Var     183.365    2.816                           \n",
      "========================================================\n",
      "\n",
      "icc=0.918761\n",
      "\n"
     ]
    }
   ],
   "source": [
    "model3 = sm.MixedLM.from_formula(\"bp ~ RIDAGEYR + female + BMXBMI + di_mean\",\n",
    "                                 groups=\"SEQN\", data=ds2)\n",
    "result3 = model3.fit()\n",
    "icc3 = result3.cov_re / (result3.cov_re + result3.scale)\n",
    "print(result3.summary())\n",
    "print(\"icc=%f\\n\" % icc3.values.flat[0])"
   ]
  },
  {
   "cell_type": "markdown",
   "metadata": {},
   "source": [
    "Fit a mixed model to the diastolic data with a random\n",
    "intercept per subject.  Then calculate the ICC."
   ]
  },
  {
   "cell_type": "code",
   "execution_count": 10,
   "metadata": {},
   "outputs": [
    {
     "name": "stdout",
     "output_type": "stream",
     "text": [
      "         Mixed Linear Model Regression Results\n",
      "========================================================\n",
      "Model:            MixedLM Dependent Variable: bp        \n",
      "No. Observations: 2500    Method:             REML      \n",
      "No. Groups:       837     Scale:              36.7592   \n",
      "Min. group size:  1       Likelihood:         -9229.4228\n",
      "Max. group size:  3       Converged:          Yes       \n",
      "Mean group size:  3.0                                   \n",
      "--------------------------------------------------------\n",
      "              Coef.  Std.Err.   z    P>|z| [0.025 0.975]\n",
      "--------------------------------------------------------\n",
      "Intercept     48.224    1.926 25.045 0.000 44.450 51.998\n",
      "RIDAGEYR       0.178    0.024  7.401 0.000  0.131  0.226\n",
      "female        -1.562    1.001 -1.561 0.119 -3.523  0.399\n",
      "BMXBMI         0.445    0.074  6.044 0.000  0.300  0.589\n",
      "SEQN Var     192.039    2.024                           \n",
      "========================================================\n",
      "\n",
      "icc=0.839337\n",
      "\n"
     ]
    }
   ],
   "source": [
    "ds3 = dx.loc[dx.bpt == \"DI\"]\n",
    "model4 = sm.MixedLM.from_formula(\"bp ~ RIDAGEYR + female + BMXBMI\",\n",
    "                                 groups=\"SEQN\", data=ds3)\n",
    "result4 = model4.fit()\n",
    "icc4 = result4.cov_re / (result4.cov_re + result4.scale)\n",
    "print(result4.summary())\n",
    "print(\"icc=%f\\n\" % icc4.values.flat[0])"
   ]
  },
  {
   "cell_type": "markdown",
   "metadata": {},
   "source": [
    "Fit a mixed model to the diastolic data with a random\n",
    "intercept per subject."
   ]
  },
  {
   "cell_type": "code",
   "execution_count": 11,
   "metadata": {},
   "outputs": [
    {
     "name": "stderr",
     "output_type": "stream",
     "text": [
      "/nfs/kshedden/python3/lib/python3.7/site-packages/statsmodels/base/model.py:512: ConvergenceWarning: Maximum Likelihood optimization failed to converge. Check mle_retvals\n",
      "  \"Check mle_retvals\", ConvergenceWarning)\n",
      "/nfs/kshedden/python3/lib/python3.7/site-packages/statsmodels/regression/mixed_linear_model.py:2059: ConvergenceWarning: Retrying MixedLM optimization with lbfgs\n",
      "  ConvergenceWarning)\n"
     ]
    },
    {
     "name": "stderr",
     "output_type": "stream",
     "text": [
      "/nfs/kshedden/python3/lib/python3.7/site-packages/statsmodels/base/model.py:512: ConvergenceWarning: Maximum Likelihood optimization failed to converge. Check mle_retvals\n",
      "  \"Check mle_retvals\", ConvergenceWarning)\n",
      "/nfs/kshedden/python3/lib/python3.7/site-packages/statsmodels/regression/mixed_linear_model.py:2059: ConvergenceWarning: Retrying MixedLM optimization with cg\n",
      "  ConvergenceWarning)\n"
     ]
    },
    {
     "name": "stderr",
     "output_type": "stream",
     "text": [
      "/nfs/kshedden/python3/lib/python3.7/site-packages/statsmodels/base/model.py:512: ConvergenceWarning: Maximum Likelihood optimization failed to converge. Check mle_retvals\n",
      "  \"Check mle_retvals\", ConvergenceWarning)\n",
      "/nfs/kshedden/python3/lib/python3.7/site-packages/statsmodels/regression/mixed_linear_model.py:2063: ConvergenceWarning: MixedLM optimization failed, trying a different optimizer may help.\n",
      "  warnings.warn(msg, ConvergenceWarning)\n"
     ]
    },
    {
     "name": "stderr",
     "output_type": "stream",
     "text": [
      "/nfs/kshedden/python3/lib/python3.7/site-packages/statsmodels/regression/mixed_linear_model.py:2075: ConvergenceWarning: Gradient optimization failed, |grad| = 11.616035\n",
      "  warnings.warn(msg, ConvergenceWarning)\n"
     ]
    },
    {
     "name": "stdout",
     "output_type": "stream",
     "text": [
      "          Mixed Linear Model Regression Results\n",
      "==========================================================\n",
      "Model:              MixedLM Dependent Variable: bp        \n",
      "No. Observations:   2500    Method:             REML      \n",
      "No. Groups:         837     Scale:              35.6655   \n",
      "Min. group size:    1       Likelihood:         -9204.0121\n",
      "Max. group size:    3       Converged:          No        \n",
      "Mean group size:    3.0                                   \n",
      "----------------------------------------------------------\n",
      "                Coef.  Std.Err.   z    P>|z| [0.025 0.975]\n",
      "----------------------------------------------------------\n",
      "Intercept       49.150    1.865 26.359 0.000 45.496 52.805\n",
      "RIDAGEYR         0.193    0.023  8.253 0.000  0.147  0.239\n",
      "female          -1.512    0.965 -1.566 0.117 -3.404  0.380\n",
      "BMXBMI           0.422    0.071  5.942 0.000  0.283  0.561\n",
      "bpi             -0.448    0.149 -3.010 0.003 -0.739 -0.156\n",
      "SEQN Var       136.382    2.444                           \n",
      "SEQN x bpi Cov  11.527    0.406                           \n",
      "bpi Var          1.244    0.199                           \n",
      "==========================================================\n",
      "\n"
     ]
    }
   ],
   "source": [
    "ds3 = dx.loc[dx.bpt == \"DI\"]\n",
    "model5 = sm.MixedLM.from_formula(\"bp ~ RIDAGEYR + female + BMXBMI + bpi\",\n",
    "                                 groups=\"SEQN\", re_formula=\"1+bpi\",\n",
    "                                 data=ds3)\n",
    "result5 = model5.fit()\n",
    "print(result5.summary())"
   ]
  },
  {
   "cell_type": "markdown",
   "metadata": {},
   "source": [
    "Fit the same model as above, now centering the bpi (index) variable."
   ]
  },
  {
   "cell_type": "code",
   "execution_count": 12,
   "metadata": {},
   "outputs": [
    {
     "name": "stderr",
     "output_type": "stream",
     "text": [
      "/nfs/kshedden/python3/lib/python3.7/site-packages/pandas/core/indexing.py:376: SettingWithCopyWarning: \n",
      "A value is trying to be set on a copy of a slice from a DataFrame.\n",
      "Try using .loc[row_indexer,col_indexer] = value instead\n",
      "\n",
      "See the caveats in the documentation: http://pandas.pydata.org/pandas-docs/stable/user_guide/indexing.html#returning-a-view-versus-a-copy\n",
      "  self.obj[key] = _infer_fill_value(value)\n",
      "/nfs/kshedden/python3/lib/python3.7/site-packages/pandas/core/indexing.py:494: SettingWithCopyWarning: \n",
      "A value is trying to be set on a copy of a slice from a DataFrame.\n",
      "Try using .loc[row_indexer,col_indexer] = value instead\n",
      "\n",
      "See the caveats in the documentation: http://pandas.pydata.org/pandas-docs/stable/user_guide/indexing.html#returning-a-view-versus-a-copy\n",
      "  self.obj[item] = s\n"
     ]
    },
    {
     "name": "stdout",
     "output_type": "stream",
     "text": [
      "            Mixed Linear Model Regression Results\n",
      "==============================================================\n",
      "Model:              MixedLM   Dependent Variable:   bp        \n",
      "No. Observations:   2500      Method:               REML      \n",
      "No. Groups:         837       Scale:                31.6095   \n",
      "Min. group size:    1         Likelihood:           -9199.2717\n",
      "Max. group size:    3         Converged:            Yes       \n",
      "Mean group size:    3.0                                       \n",
      "--------------------------------------------------------------\n",
      "                    Coef.  Std.Err.   z    P>|z| [0.025 0.975]\n",
      "--------------------------------------------------------------\n",
      "Intercept           49.156    1.891 25.997 0.000 45.450 52.861\n",
      "RIDAGEYR             0.191    0.024  8.077 0.000  0.145  0.237\n",
      "female              -1.524    0.977 -1.559 0.119 -3.439  0.392\n",
      "BMXBMI               0.425    0.072  5.909 0.000  0.284  0.566\n",
      "bpi                 -0.458    0.156 -2.946 0.003 -0.763 -0.153\n",
      "SEQN Var           170.158    2.448                           \n",
      "SEQN x bpi_cen Cov   8.576    0.399                           \n",
      "bpi_cen Var          4.835    0.253                           \n",
      "==============================================================\n",
      "\n"
     ]
    }
   ],
   "source": [
    "ds3.loc[:, \"bpi_cen\"] = ds3.loc[:, \"bpi\"] - 1\n",
    "model6 = sm.MixedLM.from_formula(\"bp ~ RIDAGEYR + female + BMXBMI + bpi\",\n",
    "                                 groups=\"SEQN\", re_formula=\"1+bpi_cen\",\n",
    "                                 data=ds3)\n",
    "result6 = model6.fit()\n",
    "print(result6.summary())"
   ]
  },
  {
   "cell_type": "markdown",
   "metadata": {},
   "source": [
    "Fit a mixed model to both types of BP jointly with a random intercept\n",
    "per subject.  Note that the random intercept is shared between the two\n",
    "types of blood pressure (systolic and diastolic)."
   ]
  },
  {
   "cell_type": "code",
   "execution_count": 13,
   "metadata": {},
   "outputs": [
    {
     "name": "stdout",
     "output_type": "stream",
     "text": [
      "          Mixed Linear Model Regression Results\n",
      "=========================================================\n",
      "Model:            MixedLM Dependent Variable: bp         \n",
      "No. Observations: 5000    Method:             REML       \n",
      "No. Groups:       837     Scale:              110.9918   \n",
      "Min. group size:  2       Likelihood:         -19709.8882\n",
      "Max. group size:  6       Converged:          Yes        \n",
      "Mean group size:  6.0                                    \n",
      "---------------------------------------------------------\n",
      "              Coef.  Std.Err.    z    P>|z| [0.025 0.975]\n",
      "---------------------------------------------------------\n",
      "Intercept     46.215    1.592  29.038 0.000 43.096 49.335\n",
      "C(bpt)[T.SY]  52.009    0.298 174.537 0.000 51.425 52.593\n",
      "RIDAGEYR       0.292    0.020  14.715 0.000  0.253  0.331\n",
      "female        -2.157    0.823  -2.620 0.009 -3.771 -0.544\n",
      "BMXBMI         0.367    0.061   6.068 0.000  0.249  0.486\n",
      "SEQN Var     119.727    0.705                            \n",
      "=========================================================\n",
      "\n"
     ]
    }
   ],
   "source": [
    "model7 = sm.MixedLM.from_formula(\"bp ~ RIDAGEYR + female + C(bpt) + BMXBMI\",\n",
    "                                 groups=\"SEQN\", data=dx)\n",
    "result7 = model7.fit()\n",
    "print(result7.summary())"
   ]
  },
  {
   "cell_type": "markdown",
   "metadata": {},
   "source": [
    "Fit a mixed model to both types of BP with a subject random intercept\n",
    "and a unique random effect per BP type with common variance."
   ]
  },
  {
   "cell_type": "code",
   "execution_count": 14,
   "metadata": {},
   "outputs": [
    {
     "name": "stdout",
     "output_type": "stream",
     "text": [
      "          Mixed Linear Model Regression Results\n",
      "=========================================================\n",
      "Model:            MixedLM Dependent Variable: bp         \n",
      "No. Observations: 5000    Method:             REML       \n",
      "No. Groups:       837     Scale:              26.4863    \n",
      "Min. group size:  2       Likelihood:         -17909.6150\n",
      "Max. group size:  6       Converged:          Yes        \n",
      "Mean group size:  6.0                                    \n",
      "---------------------------------------------------------\n",
      "               Coef.  Std.Err.   z    P>|z| [0.025 0.975]\n",
      "---------------------------------------------------------\n",
      "Intercept      46.221    1.613 28.656 0.000 43.060 49.383\n",
      "C(bpt)[T.SY]   52.018    0.598 86.919 0.000 50.845 53.191\n",
      "RIDAGEYR        0.292    0.020 14.716 0.000  0.253  0.331\n",
      "female         -2.164    0.824 -2.628 0.009 -3.779 -0.550\n",
      "BMXBMI          0.367    0.061  6.059 0.000  0.248  0.486\n",
      "SEQN Var       63.569    1.530                           \n",
      "bpt Var       140.980    1.593                           \n",
      "=========================================================\n",
      "\n"
     ]
    }
   ],
   "source": [
    "model8 = sm.MixedLM.from_formula(\"bp ~ RIDAGEYR + female + C(bpt) + BMXBMI\",\n",
    "                                 groups=\"SEQN\", re_formula=\"1\",\n",
    "                                 vc_formula={\"bpt\": \"0+C(bpt)\"},\n",
    "                                 data=dx)\n",
    "result8 = model8.fit()\n",
    "print(result8.summary())"
   ]
  },
  {
   "cell_type": "markdown",
   "metadata": {},
   "source": [
    "Fit a mixed model to both types of BP with a subject random intercept\n",
    "and a unique random effect per BP type with unique variance."
   ]
  },
  {
   "cell_type": "code",
   "execution_count": 15,
   "metadata": {},
   "outputs": [
    {
     "name": "stdout",
     "output_type": "stream",
     "text": [
      "          Mixed Linear Model Regression Results\n",
      "=========================================================\n",
      "Model:            MixedLM Dependent Variable: bp         \n",
      "No. Observations: 5000    Method:             REML       \n",
      "No. Groups:       837     Scale:              26.4867    \n",
      "Min. group size:  2       Likelihood:         -17909.4687\n",
      "Max. group size:  6       Converged:          Yes        \n",
      "Mean group size:  6.0                                    \n",
      "---------------------------------------------------------\n",
      "               Coef.  Std.Err.   z    P>|z| [0.025 0.975]\n",
      "---------------------------------------------------------\n",
      "Intercept      46.274    1.614 28.669 0.000 43.111 49.438\n",
      "C(bpt)[T.SY]   52.018    0.598 86.914 0.000 50.845 53.191\n",
      "RIDAGEYR        0.289    0.021 14.030 0.000  0.249  0.329\n",
      "female         -2.148    0.824 -2.608 0.009 -3.763 -0.534\n",
      "BMXBMI          0.369    0.061  6.083 0.000  0.250  0.488\n",
      "SEQN Var       63.540    1.529                           \n",
      "di Var        137.038    2.105                           \n",
      "sy Var        144.954    2.168                           \n",
      "=========================================================\n",
      "\n"
     ]
    }
   ],
   "source": [
    "dx[\"sy\"] = (dx.bpt == \"SY\").astype(np.int)\n",
    "dx[\"di\"] = (dx.bpt == \"DI\").astype(np.int)\n",
    "model9 = sm.MixedLM.from_formula(\"bp ~ RIDAGEYR + female + C(bpt) + BMXBMI\",\n",
    "                                 groups=\"SEQN\", re_formula=\"1\",\n",
    "                                 vc_formula={\"sy\": \"0+sy\", \"di\": \"0+di\"},\n",
    "                                 data=dx)\n",
    "result9 = model9.fit()\n",
    "print(result9.summary())"
   ]
  },
  {
   "cell_type": "markdown",
   "metadata": {},
   "source": [
    "Below we consider the possibility that there may be heteroscedasticity\n",
    "between the two blood pressure types.  That is, systolic blood pressure\n",
    "measurements may be more variable than diastolic measurements, or vice\n",
    "versa.  This analysis is a bit awkward to conduct.  Below we fit two\n",
    "models, one in which diastolic measurements are allowed to be more variable\n",
    "than systolic measurements, and one in which systolic measurements are allowed\n",
    "to be more variable than diastolic measurements.  In theory, a variance\n",
    "parameters should be equal to zero in one of these models, revealing\n",
    "which type of blood pressure has more variability."
   ]
  },
  {
   "cell_type": "code",
   "execution_count": 16,
   "metadata": {},
   "outputs": [
    {
     "name": "stdout",
     "output_type": "stream",
     "text": [
      "          Mixed Linear Model Regression Results\n",
      "=========================================================\n",
      "Model:            MixedLM Dependent Variable: bp         \n",
      "No. Observations: 5000    Method:             REML       \n",
      "No. Groups:       837     Scale:              16.1732    \n",
      "Min. group size:  2       Likelihood:         -17769.2792\n",
      "Max. group size:  6       Converged:          Yes        \n",
      "Mean group size:  6.0                                    \n",
      "---------------------------------------------------------\n",
      "               Coef.  Std.Err.   z    P>|z| [0.025 0.975]\n",
      "---------------------------------------------------------\n",
      "Intercept      46.301    1.616 28.655 0.000 43.134 49.468\n",
      "C(bpt)[T.SY]   52.003    0.599 86.752 0.000 50.828 53.178\n",
      "RIDAGEYR        0.289    0.021 13.991 0.000  0.248  0.329\n",
      "female         -2.153    0.825 -2.611 0.009 -3.769 -0.537\n",
      "BMXBMI          0.369    0.061  6.082 0.000  0.250  0.488\n",
      "SEQN Var       63.534    1.996                           \n",
      "di Var        134.571    2.807                           \n",
      "dye Var        21.006    0.454                           \n",
      "sy Var        148.524    2.930                           \n",
      "=========================================================\n",
      "\n"
     ]
    },
    {
     "name": "stderr",
     "output_type": "stream",
     "text": [
      "/nfs/kshedden/python3/lib/python3.7/site-packages/statsmodels/base/model.py:512: ConvergenceWarning: Maximum Likelihood optimization failed to converge. Check mle_retvals\n",
      "  \"Check mle_retvals\", ConvergenceWarning)\n",
      "/nfs/kshedden/python3/lib/python3.7/site-packages/statsmodels/regression/mixed_linear_model.py:2059: ConvergenceWarning: Retrying MixedLM optimization with lbfgs\n",
      "  ConvergenceWarning)\n"
     ]
    },
    {
     "name": "stderr",
     "output_type": "stream",
     "text": [
      "/nfs/kshedden/python3/lib/python3.7/site-packages/statsmodels/base/model.py:512: ConvergenceWarning: Maximum Likelihood optimization failed to converge. Check mle_retvals\n",
      "  \"Check mle_retvals\", ConvergenceWarning)\n",
      "/nfs/kshedden/python3/lib/python3.7/site-packages/statsmodels/regression/mixed_linear_model.py:2059: ConvergenceWarning: Retrying MixedLM optimization with cg\n",
      "  ConvergenceWarning)\n"
     ]
    },
    {
     "name": "stderr",
     "output_type": "stream",
     "text": [
      "/nfs/kshedden/python3/lib/python3.7/site-packages/statsmodels/base/model.py:512: ConvergenceWarning: Maximum Likelihood optimization failed to converge. Check mle_retvals\n",
      "  \"Check mle_retvals\", ConvergenceWarning)\n",
      "/nfs/kshedden/python3/lib/python3.7/site-packages/statsmodels/regression/mixed_linear_model.py:2063: ConvergenceWarning: MixedLM optimization failed, trying a different optimizer may help.\n",
      "  warnings.warn(msg, ConvergenceWarning)\n"
     ]
    },
    {
     "name": "stderr",
     "output_type": "stream",
     "text": [
      "/nfs/kshedden/python3/lib/python3.7/site-packages/statsmodels/regression/mixed_linear_model.py:2075: ConvergenceWarning: Gradient optimization failed, |grad| = 145.966482\n",
      "  warnings.warn(msg, ConvergenceWarning)\n"
     ]
    },
    {
     "name": "stderr",
     "output_type": "stream",
     "text": [
      "/nfs/kshedden/python3/lib/python3.7/site-packages/statsmodels/regression/mixed_linear_model.py:2115: ConvergenceWarning: The Hessian matrix at the estimated parameter values is not positive definite.\n",
      "  warnings.warn(msg, ConvergenceWarning)\n"
     ]
    },
    {
     "name": "stdout",
     "output_type": "stream",
     "text": [
      "          Mixed Linear Model Regression Results\n",
      "=========================================================\n",
      "Model:            MixedLM Dependent Variable: bp         \n",
      "No. Observations: 5000    Method:             REML       \n",
      "No. Groups:       837     Scale:              28.7455    \n",
      "Min. group size:  2       Likelihood:         -17944.9876\n",
      "Max. group size:  6       Converged:          No         \n",
      "Mean group size:  6.0                                    \n",
      "---------------------------------------------------------\n",
      "              Coef.  Std.Err.    z    P>|z| [0.025 0.975]\n",
      "---------------------------------------------------------\n",
      "Intercept     46.045    1.617  28.471 0.000 42.876 49.215\n",
      "C(bpt)[T.SY]  52.017    0.518 100.461 0.000 51.003 53.032\n",
      "RIDAGEYR       0.302    0.021  14.605 0.000  0.261  0.342\n",
      "female        -2.216    0.827  -2.681 0.007 -3.836 -0.596\n",
      "BMXBMI         0.360    0.061   5.918 0.000  0.241  0.479\n",
      "SEQN Var      83.637    1.215                            \n",
      "di Var       112.382    1.240                            \n",
      "sy Var        92.482    1.220                            \n",
      "sye Var        0.641                                     \n",
      "=========================================================\n",
      "\n"
     ]
    },
    {
     "name": "stderr",
     "output_type": "stream",
     "text": [
      "/nfs/kshedden/python3/lib/python3.7/site-packages/statsmodels/base/model.py:1286: RuntimeWarning: invalid value encountered in sqrt\n",
      "  bse_ = np.sqrt(np.diag(self.cov_params()))\n"
     ]
    }
   ],
   "source": [
    "dx[\"sy1\"] = (dx.bpvar == \"BPXSY1\").astype(np.int)\n",
    "dx[\"sy2\"] = (dx.bpvar == \"BPXSY2\").astype(np.int)\n",
    "dx[\"sy3\"] = (dx.bpvar == \"BPXSY3\").astype(np.int)\n",
    "dx[\"di1\"] = (dx.bpvar == \"BPXDI1\").astype(np.int)\n",
    "dx[\"di2\"] = (dx.bpvar == \"BPXDI2\").astype(np.int)\n",
    "dx[\"di3\"] = (dx.bpvar == \"BPXDI3\").astype(np.int)\n",
    "model10 = sm.MixedLM.from_formula(\"bp ~ RIDAGEYR + female + C(bpt) + BMXBMI\",\n",
    "                                 groups=\"SEQN\", re_formula=\"1\",\n",
    "                                 vc_formula={\"sy\": \"0+sy\", \"di\": \"0+di\",\n",
    "                                             \"dye\": \"0+di1+di2+di3\"},\n",
    "                                 data=dx)\n",
    "result10 = model10.fit()\n",
    "print(result10.summary())\n",
    "\n",
    "model11 = sm.MixedLM.from_formula(\"bp ~ RIDAGEYR + female + C(bpt) + BMXBMI\",\n",
    "                                 groups=\"SEQN\", re_formula=\"1\",\n",
    "                                 vc_formula={\"sy\": \"0+sy\", \"di\": \"0+di\",\n",
    "                                             \"sye\": \"0+sy1+sy2+sy3\"},\n",
    "                                 data=dx)\n",
    "result11 = model11.fit()\n",
    "print(result11.summary())"
   ]
  }
 ],
 "metadata": {
  "jupytext": {
   "cell_metadata_filter": "-all"
  },
  "kernelspec": {
   "display_name": "Python 3",
   "language": "python",
   "name": "python3"
  },
  "language_info": {
   "codemirror_mode": {
    "name": "ipython",
    "version": 3
   },
   "file_extension": ".py",
   "mimetype": "text/x-python",
   "name": "python",
   "nbconvert_exporter": "python",
   "pygments_lexer": "ipython3",
   "version": "3.7.3"
  }
 },
 "nbformat": 4,
 "nbformat_minor": 2
}
