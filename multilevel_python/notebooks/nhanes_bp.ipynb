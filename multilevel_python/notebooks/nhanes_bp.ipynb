{
 "cells": [
  {
   "cell_type": "markdown",
   "metadata": {},
   "source": [
    "Fit mixed models to NHANES blood pressure data.  There are two blood\n",
    "pressure measurement types (systolic and diastolic), with up to 4\n",
    "repeated measures for each type.\n",
    "\n",
    "https://wwwn.cdc.gov/Nchs/Nhanes/2011-2012/DEMO_G.XPT\n",
    "https://wwwn.cdc.gov/Nchs/Nhanes/2011-2012/BPX_G.XPT\n",
    "https://wwwn.cdc.gov/Nchs/Nhanes/2011-2012/BMX_G.XPT"
   ]
  },
  {
   "cell_type": "code",
   "execution_count": 1,
   "metadata": {},
   "outputs": [
    {
     "name": "stderr",
     "output_type": "stream",
     "text": [
      "/nfs/kshedden/python3/lib/python3.7/site-packages/statsmodels/compat/pandas.py:23: FutureWarning: The Panel class is removed from pandas. Accessing it from the top-level namespace will also be removed in the next version\n",
      "  data_klasses = (pandas.Series, pandas.DataFrame, pandas.Panel)\n"
     ]
    }
   ],
   "source": [
    "import statsmodels.api as sm\n",
    "import pandas as pd\n",
    "import numpy as np"
   ]
  },
  {
   "cell_type": "markdown",
   "metadata": {},
   "source": [
    "Load and merge the data sets"
   ]
  },
  {
   "cell_type": "code",
   "execution_count": 2,
   "metadata": {},
   "outputs": [],
   "source": [
    "demog = pd.read_sas(\"../data/DEMO_G.XPT\")\n",
    "bpx = pd.read_sas(\"../data/BPX_G.XPT\")\n",
    "bmx = pd.read_sas(\"../data/BMX_G.XPT\")\n",
    "df = pd.merge(demog, bpx, left_on=\"SEQN\", right_on=\"SEQN\")\n",
    "df = pd.merge(df, bmx, left_on=\"SEQN\", right_on=\"SEQN\")"
   ]
  },
  {
   "cell_type": "markdown",
   "metadata": {},
   "source": [
    "Convert from wide to long"
   ]
  },
  {
   "cell_type": "code",
   "execution_count": 3,
   "metadata": {},
   "outputs": [],
   "source": [
    "syvars = [\"BPXSY%d\" % j for j in (1,2,3,4)]\n",
    "divars = [\"BPXDI%d\" % j for j in (1,2,3,4)]\n",
    "vvars = syvars + divars\n",
    "idvars = ['SEQN', 'RIDAGEYR', 'RIAGENDR', 'BMXBMI']\n",
    "dx = pd.melt(df, id_vars=idvars, value_vars=vvars,\n",
    "             var_name='bpvar', value_name='bp')"
   ]
  },
  {
   "cell_type": "markdown",
   "metadata": {},
   "source": [
    "A bit of data cleanup"
   ]
  },
  {
   "cell_type": "code",
   "execution_count": 4,
   "metadata": {},
   "outputs": [
    {
     "name": "stdout",
     "output_type": "stream",
     "text": [
      "    SEQN  RIDAGEYR  RIAGENDR  BMXBMI   bpvar     bp bpt  bpi  female  \\\n",
      "0  62161      22.0       1.0    23.3  BPXSY1  110.0  SY    1       0   \n",
      "2  62161      22.0       1.0    23.3  BPXDI2   68.0  DI    2       0   \n",
      "3  62161      22.0       1.0    23.3  BPXSY3  118.0  SY    3       0   \n",
      "4  62161      22.0       1.0    23.3  BPXDI3   74.0  DI    3       0   \n",
      "5  62161      22.0       1.0    23.3  BPXSY2  104.0  SY    2       0   \n",
      "\n",
      "     di_mean  \n",
      "0  74.666667  \n",
      "2  74.666667  \n",
      "3  74.666667  \n",
      "4  74.666667  \n",
      "5  74.666667  \n"
     ]
    }
   ],
   "source": [
    "dx = dx.sort_values(by='SEQN')\n",
    "dx = dx.reset_index(drop=True)\n",
    "dx['SEQN'] = dx.SEQN.astype(np.int)\n",
    "dx = dx.dropna()\n",
    "\n",
    "# Blood pressure type (systolic or diastolic)\n",
    "dx[\"bpt\"] = dx.bpvar.str[3:5]\n",
    "\n",
    "dx[\"bpi\"] = dx.bpvar.str[5].astype(np.int)\n",
    "dx[\"female\"] = (dx.RIAGENDR == 2).astype(np.int)\n",
    "\n",
    "di_mean = dx.loc[dx.bpt==\"DI\", :].groupby(\"SEQN\")[\"bp\"].aggregate(np.mean)\n",
    "di_mean.name = \"di_mean\"\n",
    "dx = pd.merge(dx, di_mean, left_on=\"SEQN\", right_index=True)\n",
    "\n",
    "print(dx.head())"
   ]
  },
  {
   "cell_type": "markdown",
   "metadata": {},
   "source": [
    "Subsample to make the script run faster"
   ]
  },
  {
   "cell_type": "code",
   "execution_count": 5,
   "metadata": {},
   "outputs": [],
   "source": [
    "dx = dx.iloc[0:10000, :]"
   ]
  },
  {
   "cell_type": "markdown",
   "metadata": {},
   "source": [
    "Fit a linear mean structure model using OLS. The variance structure of\n",
    "this model is misspecified."
   ]
  },
  {
   "cell_type": "code",
   "execution_count": 6,
   "metadata": {},
   "outputs": [
    {
     "name": "stdout",
     "output_type": "stream",
     "text": [
      "                            OLS Regression Results                            \n",
      "==============================================================================\n",
      "Dep. Variable:                     bp   R-squared:                       0.764\n",
      "Model:                            OLS   Adj. R-squared:                  0.764\n",
      "Method:                 Least Squares   F-statistic:                     8082.\n",
      "Date:                Mon, 24 Feb 2020   Prob (F-statistic):               0.00\n",
      "Time:                        00:13:49   Log-Likelihood:                -41438.\n",
      "No. Observations:               10000   AIC:                         8.289e+04\n",
      "Df Residuals:                    9995   BIC:                         8.292e+04\n",
      "Df Model:                           4                                         \n",
      "Covariance Type:            nonrobust                                         \n",
      "================================================================================\n",
      "                   coef    std err          t      P>|t|      [0.025      0.975]\n",
      "--------------------------------------------------------------------------------\n",
      "Intercept       45.3352      0.624     72.668      0.000      44.112      46.558\n",
      "C(bpt)[T.SY]    52.3704      0.305    171.623      0.000      51.772      52.969\n",
      "RIDAGEYR         0.3017      0.007     41.102      0.000       0.287       0.316\n",
      "female          -3.0799      0.307    -10.044      0.000      -3.681      -2.479\n",
      "BMXBMI           0.4038      0.023     17.790      0.000       0.359       0.448\n",
      "==============================================================================\n",
      "Omnibus:                      935.341   Durbin-Watson:                   1.177\n",
      "Prob(Omnibus):                  0.000   Jarque-Bera (JB):             6588.569\n",
      "Skew:                          -0.114   Prob(JB):                         0.00\n",
      "Kurtosis:                       6.970   Cond. No.                         212.\n",
      "==============================================================================\n",
      "\n",
      "Warnings:\n",
      "[1] Standard Errors assume that the covariance matrix of the errors is correctly specified.\n"
     ]
    }
   ],
   "source": [
    "model1 = sm.OLS.from_formula(\"bp ~ RIDAGEYR + female + C(bpt) + BMXBMI\", dx)\n",
    "result1 = model1.fit()\n",
    "print(result1.summary())"
   ]
  },
  {
   "cell_type": "markdown",
   "metadata": {},
   "source": [
    "Fit a mixed model to systolic data with a simple random intercept\n",
    "per subject.  Then calculate ICC."
   ]
  },
  {
   "cell_type": "code",
   "execution_count": 7,
   "metadata": {},
   "outputs": [
    {
     "name": "stdout",
     "output_type": "stream",
     "text": [
      "          Mixed Linear Model Regression Results\n",
      "=========================================================\n",
      "Model:            MixedLM Dependent Variable: bp         \n",
      "No. Observations: 5000    Method:             REML       \n",
      "No. Groups:       1675    Scale:              15.8606    \n",
      "Min. group size:  1       Likelihood:         -17109.8829\n",
      "Max. group size:  3       Converged:          Yes        \n",
      "Mean group size:  3.0                                    \n",
      "---------------------------------------------------------\n",
      "               Coef.  Std.Err.   z    P>|z| [0.025 0.975]\n",
      "---------------------------------------------------------\n",
      "Intercept      96.079    1.424 67.454 0.000 93.288 98.871\n",
      "RIDAGEYR        0.424    0.017 24.502 0.000  0.390  0.457\n",
      "female         -3.969    0.722 -5.493 0.000 -5.385 -2.553\n",
      "BMXBMI          0.307    0.053  5.742 0.000  0.202  0.411\n",
      "SEQN Var      211.111    2.305                           \n",
      "=========================================================\n",
      "\n",
      "icc=0.930121\n",
      "\n"
     ]
    }
   ],
   "source": [
    "ds2 = dx.loc[dx.bpt == \"SY\"]\n",
    "model2 = sm.MixedLM.from_formula(\"bp ~ RIDAGEYR + female + BMXBMI\",\n",
    "                                 groups=\"SEQN\", data=ds2)\n",
    "result2 = model2.fit()\n",
    "icc2 = result2.cov_re / (result2.cov_re + result2.scale)\n",
    "print(result2.summary())\n",
    "print(\"icc=%f\\n\" % icc2.values.flat[0])"
   ]
  },
  {
   "cell_type": "markdown",
   "metadata": {},
   "source": [
    "Partial out the mean diastolic blood pressure per subject"
   ]
  },
  {
   "cell_type": "code",
   "execution_count": 8,
   "metadata": {},
   "outputs": [
    {
     "name": "stdout",
     "output_type": "stream",
     "text": [
      "          Mixed Linear Model Regression Results\n",
      "=========================================================\n",
      "Model:            MixedLM Dependent Variable: bp         \n",
      "No. Observations: 5000    Method:             REML       \n",
      "No. Groups:       1675    Scale:              15.8604    \n",
      "Min. group size:  1       Likelihood:         -17027.5692\n",
      "Max. group size:  3       Converged:          Yes        \n",
      "Mean group size:  3.0                                    \n",
      "---------------------------------------------------------\n",
      "               Coef.  Std.Err.   z    P>|z| [0.025 0.975]\n",
      "---------------------------------------------------------\n",
      "Intercept      80.987    1.762 45.958 0.000 77.533 84.441\n",
      "RIDAGEYR        0.365    0.017 21.502 0.000  0.332  0.399\n",
      "female         -3.273    0.689 -4.752 0.000 -4.623 -1.923\n",
      "BMXBMI          0.145    0.052  2.774 0.006  0.042  0.247\n",
      "di_mean         0.322    0.024 13.383 0.000  0.275  0.369\n",
      "SEQN Var      190.267    2.083                           \n",
      "=========================================================\n",
      "\n",
      "icc=0.923056\n",
      "\n"
     ]
    }
   ],
   "source": [
    "model3 = sm.MixedLM.from_formula(\"bp ~ RIDAGEYR + female + BMXBMI + di_mean\",\n",
    "                                 groups=\"SEQN\", data=ds2)\n",
    "result3 = model3.fit()\n",
    "icc3 = result3.cov_re / (result3.cov_re + result3.scale)\n",
    "print(result3.summary())\n",
    "print(\"icc=%f\\n\" % icc3.values.flat[0])"
   ]
  },
  {
   "cell_type": "markdown",
   "metadata": {},
   "source": [
    "Fit a mixed model to diastolic data only with simple random\n",
    "intercept per subject.  Then calculate ICC."
   ]
  },
  {
   "cell_type": "code",
   "execution_count": 9,
   "metadata": {},
   "outputs": [
    {
     "name": "stdout",
     "output_type": "stream",
     "text": [
      "          Mixed Linear Model Regression Results\n",
      "=========================================================\n",
      "Model:            MixedLM Dependent Variable: bp         \n",
      "No. Observations: 5000    Method:             REML       \n",
      "No. Groups:       1675    Scale:              36.5421    \n",
      "Min. group size:  1       Likelihood:         -18442.0035\n",
      "Max. group size:  3       Converged:          Yes        \n",
      "Mean group size:  3.0                                    \n",
      "---------------------------------------------------------\n",
      "               Coef.  Std.Err.   z    P>|z| [0.025 0.975]\n",
      "---------------------------------------------------------\n",
      "Intercept      46.900    1.378 34.037 0.000 44.199 49.601\n",
      "RIDAGEYR        0.181    0.017 10.794 0.000  0.148  0.213\n",
      "female         -2.161    0.699 -3.091 0.002 -3.530 -0.791\n",
      "BMXBMI          0.503    0.052  9.736 0.000  0.402  0.605\n",
      "SEQN Var      190.243    1.421                           \n",
      "=========================================================\n",
      "\n",
      "icc=0.838869\n",
      "\n"
     ]
    }
   ],
   "source": [
    "ds3 = dx.loc[dx.bpt == \"DI\"]\n",
    "model4 = sm.MixedLM.from_formula(\"bp ~ RIDAGEYR + female + BMXBMI\",\n",
    "                                 groups=\"SEQN\", data=ds3)\n",
    "result4 = model4.fit()\n",
    "icc4 = result4.cov_re / (result4.cov_re + result4.scale)\n",
    "print(result4.summary())\n",
    "print(\"icc=%f\\n\" % icc4.values.flat[0])"
   ]
  },
  {
   "cell_type": "markdown",
   "metadata": {},
   "source": [
    "Fit a mixed model to diastolic data only with simple random\n",
    "intercept per subject (also using subset of data)."
   ]
  },
  {
   "cell_type": "code",
   "execution_count": 10,
   "metadata": {},
   "outputs": [
    {
     "name": "stderr",
     "output_type": "stream",
     "text": [
      "/nfs/kshedden/python3/lib/python3.7/site-packages/statsmodels/base/model.py:512: ConvergenceWarning: Maximum Likelihood optimization failed to converge. Check mle_retvals\n",
      "  \"Check mle_retvals\", ConvergenceWarning)\n",
      "/nfs/kshedden/python3/lib/python3.7/site-packages/statsmodels/regression/mixed_linear_model.py:2059: ConvergenceWarning: Retrying MixedLM optimization with lbfgs\n",
      "  ConvergenceWarning)\n"
     ]
    },
    {
     "name": "stdout",
     "output_type": "stream",
     "text": [
      "          Mixed Linear Model Regression Results\n",
      "==========================================================\n",
      "Model:             MixedLM Dependent Variable: bp         \n",
      "No. Observations:  5000    Method:             REML       \n",
      "No. Groups:        1675    Scale:              34.1496    \n",
      "Min. group size:   1       Likelihood:         -18393.5906\n",
      "Max. group size:   3       Converged:          Yes        \n",
      "Mean group size:   3.0                                    \n",
      "----------------------------------------------------------\n",
      "                Coef.  Std.Err.   z    P>|z| [0.025 0.975]\n",
      "----------------------------------------------------------\n",
      "Intercept       47.989    1.339 35.848 0.000 45.365 50.613\n",
      "RIDAGEYR         0.190    0.016 11.744 0.000  0.158  0.222\n",
      "female          -2.179    0.675 -3.227 0.001 -3.503 -0.855\n",
      "BMXBMI           0.487    0.050  9.733 0.000  0.389  0.585\n",
      "bpi             -0.501    0.107 -4.681 0.000 -0.711 -0.292\n",
      "SEQN Var       143.301    1.861                           \n",
      "SEQN x bpi Cov   7.899    0.340                           \n",
      "bpi Var          2.576    0.168                           \n",
      "==========================================================\n",
      "\n"
     ]
    }
   ],
   "source": [
    "ds3 = dx.loc[dx.bpt == \"DI\"]\n",
    "model5 = sm.MixedLM.from_formula(\"bp ~ RIDAGEYR + female + BMXBMI + bpi\",\n",
    "                                 groups=\"SEQN\", re_formula=\"1+bpi\",\n",
    "                                 data=ds3)\n",
    "result5 = model5.fit()\n",
    "print(result5.summary())"
   ]
  },
  {
   "cell_type": "markdown",
   "metadata": {},
   "source": [
    "Fit a mixed model to both types of BP with simple random intercept\n",
    "per subject."
   ]
  },
  {
   "cell_type": "code",
   "execution_count": 11,
   "metadata": {},
   "outputs": [
    {
     "name": "stdout",
     "output_type": "stream",
     "text": [
      "          Mixed Linear Model Regression Results\n",
      "=========================================================\n",
      "Model:            MixedLM Dependent Variable: bp         \n",
      "No. Observations: 10000   Method:             REML       \n",
      "No. Groups:       1675    Scale:              115.2323   \n",
      "Min. group size:  2       Likelihood:         -39569.3038\n",
      "Max. group size:  6       Converged:          Yes        \n",
      "Mean group size:  6.0                                    \n",
      "---------------------------------------------------------\n",
      "              Coef.  Std.Err.    z    P>|z| [0.025 0.975]\n",
      "---------------------------------------------------------\n",
      "Intercept     45.311    1.140  39.759 0.000 43.078 47.545\n",
      "C(bpt)[T.SY]  52.370    0.215 243.932 0.000 51.950 52.791\n",
      "RIDAGEYR       0.302    0.014  21.929 0.000  0.275  0.329\n",
      "female        -3.068    0.575  -5.332 0.000 -4.196 -1.940\n",
      "BMXBMI         0.405    0.043   9.511 0.000  0.321  0.488\n",
      "SEQN Var     117.916    0.485                            \n",
      "=========================================================\n",
      "\n"
     ]
    }
   ],
   "source": [
    "model6 = sm.MixedLM.from_formula(\"bp ~ RIDAGEYR + female + C(bpt) + BMXBMI\",\n",
    "                                 groups=\"SEQN\", data=dx)\n",
    "result6 = model6.fit()\n",
    "print(result6.summary())"
   ]
  },
  {
   "cell_type": "markdown",
   "metadata": {},
   "source": [
    "Fit a mixed model to both types of BP with subject random intercept\n",
    "and unique random effect per BP type with common variance."
   ]
  },
  {
   "cell_type": "code",
   "execution_count": 12,
   "metadata": {},
   "outputs": [
    {
     "name": "stdout",
     "output_type": "stream",
     "text": [
      "          Mixed Linear Model Regression Results\n",
      "=========================================================\n",
      "Model:            MixedLM Dependent Variable: bp         \n",
      "No. Observations: 10000   Method:             REML       \n",
      "No. Groups:       1675    Scale:              26.2016    \n",
      "Min. group size:  2       Likelihood:         -35818.3134\n",
      "Max. group size:  6       Converged:          Yes        \n",
      "Mean group size:  6.0                                    \n",
      "---------------------------------------------------------\n",
      "              Coef.  Std.Err.    z    P>|z| [0.025 0.975]\n",
      "---------------------------------------------------------\n",
      "Intercept     45.306    1.155  39.221 0.000 43.042 47.570\n",
      "C(bpt)[T.SY]  52.363    0.433 120.854 0.000 51.514 53.213\n",
      "RIDAGEYR       0.302    0.014  21.931 0.000  0.275  0.329\n",
      "female        -3.064    0.576  -5.324 0.000 -4.192 -1.936\n",
      "BMXBMI         0.405    0.043   9.519 0.000  0.322  0.489\n",
      "SEQN Var      58.744    1.088                            \n",
      "bpt Var      148.396    1.188                            \n",
      "=========================================================\n",
      "\n"
     ]
    }
   ],
   "source": [
    "model7 = sm.MixedLM.from_formula(\"bp ~ RIDAGEYR + female + C(bpt) + BMXBMI\",\n",
    "                                 groups=\"SEQN\", re_formula=\"1\",\n",
    "                                 vc_formula={\"bpt\": \"0+C(bpt)\"},\n",
    "                                 data=dx)\n",
    "result7 = model7.fit()\n",
    "print(result7.summary())"
   ]
  },
  {
   "cell_type": "markdown",
   "metadata": {},
   "source": [
    "Fit a mixed model to both types of BP with subject random intercept\n",
    "and unique random effect per BP type with unique variance."
   ]
  },
  {
   "cell_type": "code",
   "execution_count": 13,
   "metadata": {},
   "outputs": [
    {
     "name": "stdout",
     "output_type": "stream",
     "text": [
      "          Mixed Linear Model Regression Results\n",
      "=========================================================\n",
      "Model:            MixedLM Dependent Variable: bp         \n",
      "No. Observations: 10000   Method:             REML       \n",
      "No. Groups:       1675    Scale:              26.2024    \n",
      "Min. group size:  2       Likelihood:         -35817.2945\n",
      "Max. group size:  6       Converged:          Yes        \n",
      "Mean group size:  6.0                                    \n",
      "---------------------------------------------------------\n",
      "              Coef.  Std.Err.    z    P>|z| [0.025 0.975]\n",
      "---------------------------------------------------------\n",
      "Intercept     45.383    1.154  39.335 0.000 43.121 47.644\n",
      "C(bpt)[T.SY]  52.364    0.433 120.853 0.000 51.514 53.213\n",
      "RIDAGEYR       0.296    0.014  20.628 0.000  0.268  0.324\n",
      "female        -3.021    0.576  -5.245 0.000 -4.150 -1.892\n",
      "BMXBMI         0.410    0.043   9.608 0.000  0.326  0.493\n",
      "SEQN Var      58.734    1.087                            \n",
      "di Var       140.838    1.533                            \n",
      "sy Var       155.963    1.620                            \n",
      "=========================================================\n",
      "\n"
     ]
    }
   ],
   "source": [
    "dx[\"sy\"] = (dx.bpt == \"SY\").astype(np.int)\n",
    "dx[\"di\"] = (dx.bpt == \"DI\").astype(np.int)\n",
    "model8 = sm.MixedLM.from_formula(\"bp ~ RIDAGEYR + female + C(bpt) + BMXBMI\",\n",
    "                                 groups=\"SEQN\", re_formula=\"1\",\n",
    "                                 vc_formula={\"sy\": \"0+sy\", \"di\": \"0+di\"},\n",
    "                                 data=dx)\n",
    "result8 = model8.fit()\n",
    "print(result8.summary())"
   ]
  },
  {
   "cell_type": "markdown",
   "metadata": {},
   "source": [
    "Fit a mixed model to both types of BP with subject random intercept\n",
    "and unique random effect per BP type with unique variance, and\n",
    "heteroscedasticity by BP type."
   ]
  },
  {
   "cell_type": "code",
   "execution_count": 14,
   "metadata": {},
   "outputs": [
    {
     "name": "stdout",
     "output_type": "stream",
     "text": [
      "          Mixed Linear Model Regression Results\n",
      "=========================================================\n",
      "Model:            MixedLM Dependent Variable: bp         \n",
      "No. Observations: 10000   Method:             REML       \n",
      "No. Groups:       1675    Scale:              15.7773    \n",
      "Min. group size:  2       Likelihood:         -35522.5285\n",
      "Max. group size:  6       Converged:          Yes        \n",
      "Mean group size:  6.0                                    \n",
      "---------------------------------------------------------\n",
      "              Coef.  Std.Err.    z    P>|z| [0.025 0.975]\n",
      "---------------------------------------------------------\n",
      "Intercept     45.423    1.155  39.327 0.000 43.159 47.687\n",
      "C(bpt)[T.SY]  52.349    0.434 120.675 0.000 51.499 53.199\n",
      "RIDAGEYR       0.296    0.014  20.592 0.000  0.268  0.324\n",
      "female        -3.027    0.576  -5.251 0.000 -4.157 -1.897\n",
      "BMXBMI         0.409    0.043   9.585 0.000  0.326  0.493\n",
      "SEQN Var      58.784    1.426                            \n",
      "di Var       138.227    2.057                            \n",
      "dye Var       21.215    0.323                            \n",
      "sy Var       159.491    2.206                            \n",
      "=========================================================\n",
      "\n"
     ]
    }
   ],
   "source": [
    "dx[\"sy1\"] = (dx.bpvar == \"BPXSY1\").astype(np.int)\n",
    "dx[\"sy2\"] = (dx.bpvar == \"BPXSY2\").astype(np.int)\n",
    "dx[\"sy3\"] = (dx.bpvar == \"BPXSY3\").astype(np.int)\n",
    "dx[\"di1\"] = (dx.bpvar == \"BPXDI1\").astype(np.int)\n",
    "dx[\"di2\"] = (dx.bpvar == \"BPXDI2\").astype(np.int)\n",
    "dx[\"di3\"] = (dx.bpvar == \"BPXDI3\").astype(np.int)\n",
    "model9 = sm.MixedLM.from_formula(\"bp ~ RIDAGEYR + female + C(bpt) + BMXBMI\",\n",
    "                                 groups=\"SEQN\", re_formula=\"1\",\n",
    "                                 vc_formula={\"sy\": \"0+sy\", \"di\": \"0+di\",\n",
    "                                             \"dye\": \"0+di1+di2+di3\"},\n",
    "                                 data=dx)\n",
    "result9 = model9.fit()\n",
    "print(result9.summary())"
   ]
  }
 ],
 "metadata": {
  "jupytext": {
   "cell_metadata_filter": "-all"
  },
  "kernelspec": {
   "display_name": "Python 3",
   "language": "python",
   "name": "python3"
  },
  "language_info": {
   "codemirror_mode": {
    "name": "ipython",
    "version": 3
   },
   "file_extension": ".py",
   "mimetype": "text/x-python",
   "name": "python",
   "nbconvert_exporter": "python",
   "pygments_lexer": "ipython3",
   "version": "3.7.3"
  }
 },
 "nbformat": 4,
 "nbformat_minor": 2
}
