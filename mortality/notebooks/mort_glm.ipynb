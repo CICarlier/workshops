{
 "cells": [
  {
   "cell_type": "markdown",
   "metadata": {},
   "source": [
    "# Understanding all-cause mortality in the United States using Generalized\n",
    "# Linear Models"
   ]
  },
  {
   "cell_type": "markdown",
   "metadata": {},
   "source": [
    "This notebook uses generalized linear modeling (GLM) to understand\n",
    "mortality in different demographic subgroups, and its variation over\n",
    "time, in the United States.  The data are obtained from the U.S. Centers\n",
    "for Disease Control (CDC).  See the `vital_stats_prep.py` script for more\n",
    "information about the data, and to see the code used to assemble\n",
    "the data analyzed here."
   ]
  },
  {
   "cell_type": "markdown",
   "metadata": {},
   "source": [
    "You must run the `vital_stats_prep.py` script to obtain the data used here.\n",
    "before running this script."
   ]
  },
  {
   "cell_type": "code",
   "execution_count": 1,
   "metadata": {},
   "outputs": [
    {
     "name": "stderr",
     "output_type": "stream",
     "text": [
      "/nfs/kshedden/python3/lib/python3.7/site-packages/statsmodels/compat/pandas.py:23: FutureWarning: The Panel class is removed from pandas. Accessing it from the top-level namespace will also be removed in the next version\n",
      "  data_klasses = (pandas.Series, pandas.DataFrame, pandas.Panel)\n"
     ]
    }
   ],
   "source": [
    "import pandas as pd\n",
    "import numpy as np\n",
    "import statsmodels.api as sm\n",
    "import matplotlib.pyplot as plt"
   ]
  },
  {
   "cell_type": "markdown",
   "metadata": {},
   "source": [
    "This is the path to the data file on your system.  You will need\n",
    "to change this to match the path used in the `vital_stats_prep.py`\n",
    "script."
   ]
  },
  {
   "cell_type": "code",
   "execution_count": 2,
   "metadata": {},
   "outputs": [],
   "source": [
    "pa = \"/nfs/kshedden/cdc_mortality/final/pop_mort.csv\"\n",
    "df = pd.read_csv(pa)"
   ]
  },
  {
   "cell_type": "markdown",
   "metadata": {},
   "source": [
    "All of the GLM's we will be using here use the logarithm as their\n",
    "link function.  Therefore we will use log-transformed population\n",
    "as an offset, so that mortality is expressed relative to population."
   ]
  },
  {
   "cell_type": "code",
   "execution_count": 3,
   "metadata": {},
   "outputs": [],
   "source": [
    "df.loc[:, \"logpop\"] = np.log(df.Population)"
   ]
  },
  {
   "cell_type": "markdown",
   "metadata": {},
   "source": [
    "The counts are binned temporally by year, month and day of week,\n",
    "e.g. Tuesdays in Novermber, 2014.  There may be either 4 or 5\n",
    "occurances of any given week day in one month, so we want to adjust\n",
    "for that."
   ]
  },
  {
   "cell_type": "code",
   "execution_count": 4,
   "metadata": {},
   "outputs": [],
   "source": [
    "df.loc[:, \"ldc\"] = np.log(df.DayCount)"
   ]
  },
  {
   "cell_type": "markdown",
   "metadata": {},
   "source": [
    "Fit an initial model treating all counts as being independent."
   ]
  },
  {
   "cell_type": "code",
   "execution_count": 5,
   "metadata": {},
   "outputs": [],
   "source": [
    "fml = \"Deaths ~ Age_group + Sex + C(Year) + C(Month) + C(DOW) + ldc\"\n",
    "m1 = sm.GLM.from_formula(fml, family=sm.families.Poisson(), offset=df.logpop, data=df)\n",
    "r1 = m1.fit(scale=\"X2\")"
   ]
  },
  {
   "cell_type": "markdown",
   "metadata": {},
   "source": [
    "Fit a model in which counts in the same year/month are independent."
   ]
  },
  {
   "cell_type": "code",
   "execution_count": 6,
   "metadata": {},
   "outputs": [],
   "source": [
    "df[\"yearmonth\"] = 20*df.Year + df.Month\n",
    "m2 = sm.GEE.from_formula(fml, family=sm.families.Poisson(), groups=\"yearmonth\",\n",
    "          offset=df.logpop, cov_struct=sm.cov_struct.Independence(), data=df)\n",
    "r2 = m2.fit()"
   ]
  },
  {
   "cell_type": "markdown",
   "metadata": {},
   "source": [
    "Fit a model in which the age-specific mortality rates vary by sex."
   ]
  },
  {
   "cell_type": "code",
   "execution_count": 7,
   "metadata": {},
   "outputs": [],
   "source": [
    "fml3 = \"Deaths ~ Age_group * Sex + C(Year) + C(Month) + C(DOW) + ldc\"\n",
    "m3 = sm.GEE.from_formula(fml3, family=sm.families.Poisson(), groups=\"yearmonth\",\n",
    "          offset=df.logpop, cov_struct=sm.cov_struct.Independence(), data=df)\n",
    "r3 = m3.fit()"
   ]
  },
  {
   "cell_type": "markdown",
   "metadata": {},
   "source": [
    "Use a score test to compare the model with Age x Sex interactions to the model\n",
    "without them."
   ]
  },
  {
   "cell_type": "code",
   "execution_count": 8,
   "metadata": {},
   "outputs": [
    {
     "name": "stdout",
     "output_type": "stream",
     "text": [
      "{'statistic': 83.76717745828859, 'df': 17, 'p-value': 8.155376374219259e-11}\n"
     ]
    }
   ],
   "source": [
    "print(m3.compare_score_test(r2))"
   ]
  },
  {
   "cell_type": "markdown",
   "metadata": {},
   "source": [
    "Check whether the seasonality patterns vary by sex."
   ]
  },
  {
   "cell_type": "code",
   "execution_count": 9,
   "metadata": {},
   "outputs": [],
   "source": [
    "fml4 = \"Deaths ~ Age_group * Sex + C(Year) + C(Month) * Sex + C(DOW) + ldc\"\n",
    "m4 = sm.GEE.from_formula(fml4, family=sm.families.Poisson(), groups=\"yearmonth\",\n",
    "          offset=df.logpop, cov_struct=sm.cov_struct.Independence(), data=df)\n",
    "r4 = m4.fit()"
   ]
  },
  {
   "cell_type": "markdown",
   "metadata": {},
   "source": [
    "Use a score test to compare the model with Month x Sex interactions to the model\n",
    "without them."
   ]
  },
  {
   "cell_type": "code",
   "execution_count": 10,
   "metadata": {},
   "outputs": [
    {
     "name": "stdout",
     "output_type": "stream",
     "text": [
      "{'statistic': 31.283730972372712, 'df': 11, 'p-value': 0.0009928393968789972}\n"
     ]
    }
   ],
   "source": [
    "print(m4.compare_score_test(r3))"
   ]
  },
  {
   "cell_type": "markdown",
   "metadata": {},
   "source": [
    "Check whether the long term trend varies by sex."
   ]
  },
  {
   "cell_type": "code",
   "execution_count": 11,
   "metadata": {},
   "outputs": [],
   "source": [
    "fml5 = \"Deaths ~ (Age_group + C(Year) + C(Month)) * Sex + C(DOW) + ldc\"\n",
    "m5 = sm.GEE.from_formula(fml5, family=sm.families.Poisson(), groups=\"yearmonth\",\n",
    "          offset=df.logpop, cov_struct=sm.cov_struct.Independence(), data=df)\n",
    "r5 = m5.fit()"
   ]
  },
  {
   "cell_type": "markdown",
   "metadata": {},
   "source": [
    "Use a score test to compare the model with Year x Sex interactions to the model\n",
    "without them."
   ]
  },
  {
   "cell_type": "code",
   "execution_count": 12,
   "metadata": {},
   "outputs": [
    {
     "name": "stdout",
     "output_type": "stream",
     "text": [
      "{'statistic': 43.662676311404084, 'df': 6, 'p-value': 8.622543468117527e-08}\n"
     ]
    }
   ],
   "source": [
    "print(m5.compare_score_test(r4))"
   ]
  },
  {
   "cell_type": "markdown",
   "metadata": {},
   "source": [
    "Plot the age group effects by sex"
   ]
  },
  {
   "cell_type": "code",
   "execution_count": 13,
   "metadata": {},
   "outputs": [
    {
     "data": {
      "image/png": "[encoded data removed]",
      "text/plain": [
       "<Figure size 432x288 with 1 Axes>"
      ]
     },
     "metadata": {
      "needs_background": "light"
     },
     "output_type": "display_data"
    }
   ],
   "source": [
    "ages = [\"%02d_%02d\" % (a, a+4) for a in range(5, 90, 5)]\n",
    "an = [a+2.5 for a in range(0, 90, 5)]\n",
    "ages[-1] = \"85_99\"\n",
    "pa = r5.params.to_dict()\n",
    "\n",
    "xf = [0] + [pa['Age_group[T.%s]' % a] for a in ages]\n",
    "xm = [0] + [pa['Age_group[T.%s]:Sex[T.Male]' % a] for a in ages]\n",
    "xf = np.asarray(xf)\n",
    "xm = np.asarray(xm)\n",
    "xm += pa['Sex[T.Male]']\n",
    "\n",
    "plt.grid(True)\n",
    "plt.plot(an, xf, label=\"Female\")\n",
    "plt.plot(an, xf + xm, label=\"Male\")\n",
    "plt.xlabel(\"Age\")\n",
    "plt.ylabel(\"Log risk ratio for deaths\")\n",
    "ha, lb = plt.gca().get_legend_handles_labels()\n",
    "leg = plt.figlegend(ha, lb, \"center right\")\n",
    "leg.draw_frame(False)"
   ]
  },
  {
   "cell_type": "markdown",
   "metadata": {},
   "source": [
    "Plot the male/female log risk ratio by age group"
   ]
  },
  {
   "cell_type": "code",
   "execution_count": 14,
   "metadata": {},
   "outputs": [
    {
     "data": {
      "text/plain": [
       "Text(0, 0.5, 'Log risk ratio for deaths')"
      ]
     },
     "execution_count": 14,
     "metadata": {},
     "output_type": "execute_result"
    },
    {
     "data": {
      "image/png": "[encoded data removed]",
      "text/plain": [
       "<Figure size 432x288 with 1 Axes>"
      ]
     },
     "metadata": {
      "needs_background": "light"
     },
     "output_type": "display_data"
    }
   ],
   "source": [
    "plt.grid(True)\n",
    "plt.plot(an, xm, label=\"Male\")\n",
    "plt.xlabel(\"Age\")\n",
    "plt.ylabel(\"Log risk ratio for deaths\")"
   ]
  },
  {
   "cell_type": "markdown",
   "metadata": {},
   "source": [
    "Plot the male/female log risk ratio by month"
   ]
  },
  {
   "cell_type": "code",
   "execution_count": 15,
   "metadata": {},
   "outputs": [
    {
     "data": {
      "image/png": "[encoded data removed]",
      "text/plain": [
       "<Figure size 432x288 with 1 Axes>"
      ]
     },
     "metadata": {
      "needs_background": "light"
     },
     "output_type": "display_data"
    }
   ],
   "source": [
    "months = range(1, 13)\n",
    "xf = [0] + [pa['C(Month)[T.%d]' % m] for m in range(2, 13)]\n",
    "xm = [0] + [pa['C(Month)[T.%d]:Sex[T.Male]' % m] for m in range(2, 13)]\n",
    "xf = np.asarray(xf)\n",
    "xm = np.asarray(xm)\n",
    "xm += pa['Sex[T.Male]']\n",
    "\n",
    "plt.grid(True)\n",
    "plt.plot(months, xf, label=\"Female\")\n",
    "plt.plot(months, xf + xm, label=\"Male\")\n",
    "plt.xlabel(\"Month\")\n",
    "plt.ylabel(\"Log risk ratio for deaths\")\n",
    "ha, lb = plt.gca().get_legend_handles_labels()\n",
    "leg = plt.figlegend(ha, lb)\n",
    "leg.draw_frame(False)"
   ]
  },
  {
   "cell_type": "markdown",
   "metadata": {},
   "source": [
    "Plot the male/female log risk ratio for deaths by month"
   ]
  },
  {
   "cell_type": "code",
   "execution_count": 16,
   "metadata": {},
   "outputs": [
    {
     "data": {
      "text/plain": [
       "Text(0, 0.5, 'Log risk ratio for deaths')"
      ]
     },
     "execution_count": 16,
     "metadata": {},
     "output_type": "execute_result"
    },
    {
     "data": {
      "image/png": "[encoded data removed]",
      "text/plain": [
       "<Figure size 432x288 with 1 Axes>"
      ]
     },
     "metadata": {
      "needs_background": "light"
     },
     "output_type": "display_data"
    }
   ],
   "source": [
    "plt.grid(True)\n",
    "plt.plot(months, xm, label=\"Male\")\n",
    "plt.xlabel(\"Month\")\n",
    "plt.ylabel(\"Log risk ratio for deaths\")"
   ]
  }
 ],
 "metadata": {
  "jupytext": {
   "cell_metadata_filter": "-all"
  },
  "kernelspec": {
   "display_name": "Python 3",
   "language": "python",
   "name": "python3"
  },
  "language_info": {
   "codemirror_mode": {
    "name": "ipython",
    "version": 3
   },
   "file_extension": ".py",
   "mimetype": "text/x-python",
   "name": "python",
   "nbconvert_exporter": "python",
   "pygments_lexer": "ipython3",
   "version": "3.7.3"
  }
 },
 "nbformat": 4,
 "nbformat_minor": 2
}
