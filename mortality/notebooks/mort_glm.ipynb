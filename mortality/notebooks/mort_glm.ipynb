{
 "cells": [
  {
   "cell_type": "markdown",
   "metadata": {},
   "source": [
    "## Understanding all-cause mortality in the United States using Generalized Linear Models"
   ]
  },
  {
   "cell_type": "markdown",
   "metadata": {},
   "source": [
    "This notebook uses generalized linear modeling (GLM) to understand\n",
    "mortality in different demographic subgroups of the United States\n",
    "population, and the way in which these mortality patterns vary over\n",
    "time.  The data are from the U.S. Centers for Disease Control (CDC)."
   ]
  },
  {
   "cell_type": "markdown",
   "metadata": {},
   "source": [
    "See the `vital_stats_prep.py` script for more information about the\n",
    "data, and to see the code used to assemble the data analyzed here.\n",
    "You must run the `vital_stats_prep.py` script to create a data file\n",
    "before running this script."
   ]
  },
  {
   "cell_type": "markdown",
   "metadata": {},
   "source": [
    "These are the Python modules that we will be using:"
   ]
  },
  {
   "cell_type": "code",
   "execution_count": 1,
   "metadata": {},
   "outputs": [],
   "source": [
    "import pandas as pd\n",
    "import numpy as np\n",
    "import statsmodels.api as sm\n",
    "import matplotlib.pyplot as plt"
   ]
  },
  {
   "cell_type": "markdown",
   "metadata": {},
   "source": [
    "This is the path to the data file on your system.  You must change\n",
    "this to match the path specified in the `vital_stats_prep.py`\n",
    "script."
   ]
  },
  {
   "cell_type": "code",
   "execution_count": 2,
   "metadata": {},
   "outputs": [],
   "source": [
    "pa = \"/nfs/kshedden/cdc_mortality/final/pop_mort.csv\"\n",
    "df = pd.read_csv(pa)"
   ]
  },
  {
   "cell_type": "markdown",
   "metadata": {},
   "source": [
    "Below we can see what the data look like."
   ]
  },
  {
   "cell_type": "code",
   "execution_count": 3,
   "metadata": {},
   "outputs": [
    {
     "name": "stdout",
     "output_type": "stream",
     "text": [
      "(5184, 6)\n"
     ]
    },
    {
     "data": {
      "text/html": [
       "<div>\n",
       "<style scoped>\n",
       "    .dataframe tbody tr th:only-of-type {\n",
       "        vertical-align: middle;\n",
       "    }\n",
       "\n",
       "    .dataframe tbody tr th {\n",
       "        vertical-align: top;\n",
       "    }\n",
       "\n",
       "    .dataframe thead th {\n",
       "        text-align: right;\n",
       "    }\n",
       "</style>\n",
       "<table border=\"1\" class=\"dataframe\">\n",
       "  <thead>\n",
       "    <tr style=\"text-align: right;\">\n",
       "      <th></th>\n",
       "      <th>Year</th>\n",
       "      <th>Month</th>\n",
       "      <th>Sex</th>\n",
       "      <th>Deaths</th>\n",
       "      <th>Age_group</th>\n",
       "      <th>Population</th>\n",
       "    </tr>\n",
       "  </thead>\n",
       "  <tbody>\n",
       "    <tr>\n",
       "      <td>0</td>\n",
       "      <td>2007</td>\n",
       "      <td>1</td>\n",
       "      <td>Female</td>\n",
       "      <td>1087</td>\n",
       "      <td>00_04</td>\n",
       "      <td>10029000</td>\n",
       "    </tr>\n",
       "    <tr>\n",
       "      <td>1</td>\n",
       "      <td>2007</td>\n",
       "      <td>1</td>\n",
       "      <td>Female</td>\n",
       "      <td>86</td>\n",
       "      <td>05_09</td>\n",
       "      <td>9693000</td>\n",
       "    </tr>\n",
       "    <tr>\n",
       "      <td>2</td>\n",
       "      <td>2007</td>\n",
       "      <td>1</td>\n",
       "      <td>Female</td>\n",
       "      <td>103</td>\n",
       "      <td>10_14</td>\n",
       "      <td>9970000</td>\n",
       "    </tr>\n",
       "    <tr>\n",
       "      <td>3</td>\n",
       "      <td>2007</td>\n",
       "      <td>1</td>\n",
       "      <td>Female</td>\n",
       "      <td>332</td>\n",
       "      <td>15_19</td>\n",
       "      <td>10423000</td>\n",
       "    </tr>\n",
       "    <tr>\n",
       "      <td>4</td>\n",
       "      <td>2007</td>\n",
       "      <td>1</td>\n",
       "      <td>Female</td>\n",
       "      <td>409</td>\n",
       "      <td>20_24</td>\n",
       "      <td>10123000</td>\n",
       "    </tr>\n",
       "  </tbody>\n",
       "</table>\n",
       "</div>"
      ],
      "text/plain": [
       "   Year  Month     Sex  Deaths Age_group  Population\n",
       "0  2007      1  Female    1087     00_04    10029000\n",
       "1  2007      1  Female      86     05_09     9693000\n",
       "2  2007      1  Female     103     10_14     9970000\n",
       "3  2007      1  Female     332     15_19    10423000\n",
       "4  2007      1  Female     409     20_24    10123000"
      ]
     },
     "execution_count": 3,
     "metadata": {},
     "output_type": "execute_result"
    }
   ],
   "source": [
    "print(df.shape)\n",
    "df.head()"
   ]
  },
  {
   "cell_type": "markdown",
   "metadata": {},
   "source": [
    "All of the GLM's we will be using here use the logarithm as their\n",
    "link function.  Therefore we will use log-transformed population as\n",
    "an offset, so that mortality is expressed relative to the population\n",
    "size."
   ]
  },
  {
   "cell_type": "code",
   "execution_count": 4,
   "metadata": {},
   "outputs": [],
   "source": [
    "df.loc[:, \"offset\"] = np.log(df.Population)"
   ]
  },
  {
   "cell_type": "markdown",
   "metadata": {},
   "source": [
    "A very important property that follows from using a model with the\n",
    "log link function is that the regression effects are multiplicative.\n",
    "In our setting, this means that the overall mortality is represented\n",
    "as a product of terms attributable to specific risk factors.  For\n",
    "example, suppose that a model tells use that men have 1.05 times\n",
    "greater risk of dying than women.  This multiplicative factor\n",
    "adjusts the base rate of death defined by the other variables.  So\n",
    "if the death rate in January is 1.03 times greater than the death\n",
    "rate in June, we can combine this with the multiplicative factor for\n",
    "sex to obtain that the death rate for men in January is 1.05*1.03\n",
    "times the death rate for women in June.\n",
    "\n",
    "The above discussion applies to models with no interactions among\n",
    "the risk factors.  If there are interactions, then the mortality for\n",
    "men in January could be either greater than, or less than 1.05*1.03,\n",
    "depending on the sign and magnitude of the interaction term between\n",
    "sex and month.  Below we will start by considering models having no\n",
    "interactions, then we will consider models that have interactions."
   ]
  },
  {
   "cell_type": "markdown",
   "metadata": {},
   "source": [
    "## GLM and GEE estimation of models with no interactions"
   ]
  },
  {
   "cell_type": "markdown",
   "metadata": {},
   "source": [
    "We begin by fitting an initial Poisson GLM treating all counts as\n",
    "being independent."
   ]
  },
  {
   "cell_type": "code",
   "execution_count": 5,
   "metadata": {},
   "outputs": [],
   "source": [
    "fml = \"Deaths ~ Age_group + Sex + C(Year) + C(Month)\"\n",
    "m1 = sm.GLM.from_formula(fml, family=sm.families.Poisson(), offset=df.offset, data=df)\n",
    "r1 = m1.fit(scale=\"X2\")"
   ]
  },
  {
   "cell_type": "markdown",
   "metadata": {},
   "source": [
    "To see the parameter estimates, you can type `r1.sumary()`.  However\n",
    "This model has quite a few parameters, so it is not be easy to\n",
    "understand the meaning of the model by studying the parameter\n",
    "estimates.  Below we will graph some of the models in order to\n",
    "better convey what they mean."
   ]
  },
  {
   "cell_type": "markdown",
   "metadata": {},
   "source": [
    "Next we use generalized estimating equations (GEE) to fit a model in\n",
    "which counts within the same year/month are dependent.  In a GEE, we\n",
    "specify a \"group variable\" such that observations in the same group\n",
    "may be dependent (observations in different groups must always be\n",
    "independent).  We also specify a \"working correlation structure\"\n",
    "that defines how the observations within a group may be\n",
    "statistically dependent.  This working correlation structure does\n",
    "not need to be correct in order for the results to be meaningful.\n",
    "Below we specify the group variable to be a single month of data\n",
    "(which would consist of all mortality counts for females and males\n",
    "of all different age groups within this month).  If a month has\n",
    "unusual mortality, e.g. because it falls during an especially bad\n",
    "flu season, then morality for all age groups and both sexes may be\n",
    "impacted.  We specify the working correlation structure to be\n",
    "independent, even though we suspect that the data are dependent.\n",
    "This is fine, because of the robustness properies of GEE discussed\n",
    "above."
   ]
  },
  {
   "cell_type": "code",
   "execution_count": 6,
   "metadata": {},
   "outputs": [],
   "source": [
    "df[\"yearmonth\"] = 20*df.Year + df.Month\n",
    "m2 = sm.GEE.from_formula(fml, family=sm.families.Poisson(), groups=\"yearmonth\",\n",
    "          offset=df.offset, cov_struct=sm.cov_struct.Independence(), data=df)\n",
    "r2 = m2.fit()"
   ]
  },
  {
   "cell_type": "markdown",
   "metadata": {},
   "source": [
    "The plot below shows how each parameter estimate compares when\n",
    "estimated using GLM and when using GEE (Generalized Estimating\n",
    "Equations).  As we can see, the parameter estimates are identical.\n",
    "This always happens when using the independence working correlation\n",
    "structure with GEE."
   ]
  },
  {
   "cell_type": "code",
   "execution_count": 7,
   "metadata": {},
   "outputs": [
    {
     "data": {
      "text/plain": [
       "Text(0, 0.5, 'GEE parameter estimates')"
      ]
     },
     "execution_count": 7,
     "metadata": {},
     "output_type": "execute_result"
    },
    {
     "data": {
      "image/png": "[encoded data removed]",
      "text/plain": [
       "<Figure size 432x288 with 1 Axes>"
      ]
     },
     "metadata": {
      "needs_background": "light"
     },
     "output_type": "display_data"
    }
   ],
   "source": [
    "plt.grid(True)\n",
    "plt.plot(r1.params, r2.params, 'o')\n",
    "plt.xlabel(\"GLM parameter estimates\")\n",
    "plt.ylabel(\"GEE parameter estimates\")"
   ]
  },
  {
   "cell_type": "markdown",
   "metadata": {},
   "source": [
    "The plot below shows the standard errors when using GLM and when\n",
    "using GEE.  The relationship between standard errors in GLM and GEE\n",
    "can be complex.  In this case, many of the standard errors are\n",
    "larger for the GLM estimation compared to the GEE estimation."
   ]
  },
  {
   "cell_type": "code",
   "execution_count": 8,
   "metadata": {},
   "outputs": [
    {
     "data": {
      "text/plain": [
       "Text(0, 0.5, 'GEE standard error')"
      ]
     },
     "execution_count": 8,
     "metadata": {},
     "output_type": "execute_result"
    },
    {
     "data": {
      "image/png": "[encoded data removed]",
      "text/plain": [
       "<Figure size 432x288 with 1 Axes>"
      ]
     },
     "metadata": {
      "needs_background": "light"
     },
     "output_type": "display_data"
    }
   ],
   "source": [
    "plt.grid(True)\n",
    "plt.plot(r1.bse, r2.bse, 'o')\n",
    "ma = max(r1.bse.max(), r2.bse.max())\n",
    "plt.plot([0, ma], [0, ma], '-', color='purple')\n",
    "plt.xlabel(\"GLM standard error\")\n",
    "plt.ylabel(\"GEE standard error\")"
   ]
  },
  {
   "cell_type": "markdown",
   "metadata": {},
   "source": [
    "## Models with interactions"
   ]
  },
  {
   "cell_type": "markdown",
   "metadata": {},
   "source": [
    "Next we fit a series of models in which we consider pairwise\n",
    "interactions between different types of variables.  As above, the\n",
    "models have many parameters, so it is not very informative to view\n",
    "the table of estimates.  Later we will using some graphical methods\n",
    "to better understand the meaning of these models.  In each case\n",
    "below, we use a score test to assess the evidence that the\n",
    "moderating relationship (i.e. the interaction) is real.  We begin by\n",
    "considering whether age-specific mortality rates vary by sex.  The\n",
    "score test results indicate that there is strong evidence for this."
   ]
  },
  {
   "cell_type": "code",
   "execution_count": 9,
   "metadata": {},
   "outputs": [
    {
     "name": "stdout",
     "output_type": "stream",
     "text": [
      "{'statistic': 143.3509118764921, 'df': 17, 'p-value': 0.0}\n"
     ]
    }
   ],
   "source": [
    "fml3 = \"Deaths ~ Age_group * Sex + C(Year) + C(Month)\"\n",
    "m3 = sm.GEE.from_formula(fml3, family=sm.families.Poisson(), groups=\"yearmonth\",\n",
    "          offset=df.offset, cov_struct=sm.cov_struct.Independence(), data=df)\n",
    "r3 = m3.fit()\n",
    "\n",
    "print(m3.compare_score_test(r2))"
   ]
  },
  {
   "cell_type": "markdown",
   "metadata": {},
   "source": [
    "Next we assess whether the seasonality patterns vary by sex.  There\n",
    "is strong evidence for this moderation as well."
   ]
  },
  {
   "cell_type": "code",
   "execution_count": 10,
   "metadata": {},
   "outputs": [
    {
     "name": "stdout",
     "output_type": "stream",
     "text": [
      "{'statistic': 56.97281165814371, 'df': 11, 'p-value': 3.3659033782384995e-08}\n"
     ]
    }
   ],
   "source": [
    "fml4 = \"Deaths ~ (Age_group + C(Month)) * Sex + C(Year)\"\n",
    "m4 = sm.GEE.from_formula(fml4, family=sm.families.Poisson(), groups=\"yearmonth\",\n",
    "          offset=df.offset, cov_struct=sm.cov_struct.Independence(), data=df)\n",
    "r4 = m4.fit()\n",
    "\n",
    "print(m4.compare_score_test(r3))"
   ]
  },
  {
   "cell_type": "markdown",
   "metadata": {},
   "source": [
    "There is also strong evidence that the long term trend varies by\n",
    "sex."
   ]
  },
  {
   "cell_type": "code",
   "execution_count": 11,
   "metadata": {},
   "outputs": [
    {
     "name": "stdout",
     "output_type": "stream",
     "text": [
      "{'statistic': 72.83475421673036, 'df': 11, 'p-value': 3.5209168913752364e-11}\n"
     ]
    }
   ],
   "source": [
    "fml5 = \"Deaths ~ (Age_group + C(Year) + C(Month)) * Sex\"\n",
    "m5 = sm.GEE.from_formula(fml5, family=sm.families.Poisson(), groups=\"yearmonth\",\n",
    "          offset=df.offset, cov_struct=sm.cov_struct.Independence(), data=df)\n",
    "r5 = m5.fit(scale=\"X2\")\n",
    "\n",
    "print(m5.compare_score_test(r4))"
   ]
  },
  {
   "cell_type": "markdown",
   "metadata": {},
   "source": [
    "Below we check whether the sex-specific seasonality patterns vary by\n",
    "year.  There isn't much evidence for this form of moderation."
   ]
  },
  {
   "cell_type": "code",
   "execution_count": 12,
   "metadata": {},
   "outputs": [
    {
     "name": "stdout",
     "output_type": "stream",
     "text": [
      "{'statistic': 143.99999999824558, 'df': 242, 'p-value': 0.9999999128073275}\n"
     ]
    }
   ],
   "source": [
    "fml6 = \"Deaths ~ (Age_group + C(Year) * C(Month)) * Sex\"\n",
    "m6 = sm.GEE.from_formula(fml6, family=sm.families.Poisson(), groups=\"yearmonth\",\n",
    "          offset=df.offset, cov_struct=sm.cov_struct.Independence(), data=df)\n",
    "r6 = m6.fit()\n",
    "\n",
    "print(m6.compare_score_test(r5))"
   ]
  },
  {
   "cell_type": "markdown",
   "metadata": {},
   "source": [
    "## Visualization of model structures"
   ]
  },
  {
   "cell_type": "markdown",
   "metadata": {},
   "source": [
    "Now that we have used hypothesis testing to assess which moderating\n",
    "effects might be real, we can look at the effects sizes to\n",
    "understand the patterns of moderation in more detail.  First, we\n",
    "plot the age group effects by sex.  The values plotted on the\n",
    "vertical axis can be differenced to obtain log risk ratios.  These\n",
    "results hold for all months and all years."
   ]
  },
  {
   "cell_type": "code",
   "execution_count": 13,
   "metadata": {},
   "outputs": [
    {
     "data": {
      "image/png": "[encoded data removed]",
      "text/plain": [
       "<Figure size 432x288 with 1 Axes>"
      ]
     },
     "metadata": {
      "needs_background": "light"
     },
     "output_type": "display_data"
    }
   ],
   "source": [
    "# These are the ages that are plotted along the horizontal axis\n",
    "ages = [\"%02d_%02d\" % (a, a+4) for a in range(5, 90, 5)]\n",
    "an = [a+2.5 for a in range(0, 90, 5)]\n",
    "ages[-1] = \"85_99\"\n",
    "\n",
    "# These are the parameters that we will use to obtain log risk ratios.\n",
    "pa = r5.params.to_dict()\n",
    "\n",
    "# These are the contributions of age and sex to the model.\n",
    "xf = [0] + [pa['Age_group[T.%s]' % a] for a in ages]\n",
    "xm = [0] + [pa['Age_group[T.%s]:Sex[T.Male]' % a] for a in ages]\n",
    "xf = np.asarray(xf)\n",
    "xm = np.asarray(xm)\n",
    "xm += pa['Sex[T.Male]']\n",
    "\n",
    "# Plot the age and sex effects\n",
    "plt.grid(True)\n",
    "plt.plot(an, xf, label=\"Female\")\n",
    "plt.plot(an, xf + xm, label=\"Male\")\n",
    "plt.xlabel(\"Age\")\n",
    "plt.ylabel(\"Log risk ratio for deaths\")\n",
    "ha, lb = plt.gca().get_legend_handles_labels()\n",
    "leg = plt.figlegend(ha, lb, \"center right\")\n",
    "leg.draw_frame(False)"
   ]
  },
  {
   "cell_type": "markdown",
   "metadata": {},
   "source": [
    "Next we plot the male/female log risk ratio by age group.  This\n",
    "shows how much more likely a male is to die than a female in each\n",
    "month.  This effect holds for all age groups in all years."
   ]
  },
  {
   "cell_type": "code",
   "execution_count": 14,
   "metadata": {},
   "outputs": [
    {
     "data": {
      "text/plain": [
       "Text(0, 0.5, 'Male/female log risk ratio')"
      ]
     },
     "execution_count": 14,
     "metadata": {},
     "output_type": "execute_result"
    },
    {
     "data": {
      "image/png": "[encoded data removed]",
      "text/plain": [
       "<Figure size 432x288 with 1 Axes>"
      ]
     },
     "metadata": {
      "needs_background": "light"
     },
     "output_type": "display_data"
    }
   ],
   "source": [
    "plt.grid(True)\n",
    "plt.plot(an, xm, label=\"Male\")\n",
    "plt.xlabel(\"Age\")\n",
    "plt.ylabel(\"Male/female log risk ratio\")"
   ]
  },
  {
   "cell_type": "markdown",
   "metadata": {},
   "source": [
    "Next we consider the mortality risk by month for females and males.\n",
    "This reflects a seasonal pattern of mortality in which mortality is\n",
    "lowest in the summer and higest in the winter.  To obtain a risk\n",
    "ratio between any two groups, subtract the log risk values in the\n",
    "plot below and exponentiate this difference."
   ]
  },
  {
   "cell_type": "code",
   "execution_count": 15,
   "metadata": {},
   "outputs": [
    {
     "data": {
      "image/png": "[encoded data removed]",
      "text/plain": [
       "<Figure size 432x288 with 1 Axes>"
      ]
     },
     "metadata": {
      "needs_background": "light"
     },
     "output_type": "display_data"
    }
   ],
   "source": [
    "months = range(1, 13)\n",
    "xf = [0] + [pa['C(Month)[T.%d]' % m] for m in range(2, 13)]\n",
    "xm = [0] + [pa['C(Month)[T.%d]:Sex[T.Male]' % m] for m in range(2, 13)]\n",
    "xf = np.asarray(xf)\n",
    "xm = np.asarray(xm)\n",
    "xm += pa['Sex[T.Male]']\n",
    "\n",
    "plt.grid(True)\n",
    "plt.plot(months, xf, label=\"Female\")\n",
    "plt.plot(months, xf + xm, label=\"Male\")\n",
    "plt.xlabel(\"Month\")\n",
    "plt.ylabel(\"Log risk ratio for deaths\")\n",
    "ha, lb = plt.gca().get_legend_handles_labels()\n",
    "leg = plt.figlegend(ha, lb)\n",
    "leg.draw_frame(False)"
   ]
  },
  {
   "cell_type": "markdown",
   "metadata": {},
   "source": [
    "The score test conducted above indicates that the seasonal pattern\n",
    "of mortality differs between women and men.  From the plot above,\n",
    "the detailed pattern of this difference is not very clear.  We can\n",
    "get more insight into this by plottin the male/female log risk ratio\n",
    "by month.  This plot makes it more clear that mortality for men is\n",
    "flatter through the year, while mortality for women has a more\n",
    "pronounced drop during the summer."
   ]
  },
  {
   "cell_type": "code",
   "execution_count": 16,
   "metadata": {},
   "outputs": [
    {
     "data": {
      "text/plain": [
       "Text(0, 0.5, 'Male/female log risk ratio')"
      ]
     },
     "execution_count": 16,
     "metadata": {},
     "output_type": "execute_result"
    },
    {
     "data": {
      "image/png": "[encoded data removed]",
      "text/plain": [
       "<Figure size 432x288 with 1 Axes>"
      ]
     },
     "metadata": {
      "needs_background": "light"
     },
     "output_type": "display_data"
    }
   ],
   "source": [
    "plt.grid(True)\n",
    "plt.plot(months, xm, label=\"Male\")\n",
    "plt.xlabel(\"Month\")\n",
    "plt.ylabel(\"Male/female log risk ratio\")"
   ]
  },
  {
   "cell_type": "markdown",
   "metadata": {},
   "source": [
    "Next we consider any \"long term trend\" in the data, that is,\n",
    "patterns of mortality variation that evolve continuously over\n",
    "multiple years.  To assess this, we first plot the female and male\n",
    "log risk ratio for death by year.  To obtain a risk ratio, take the\n",
    "difference between any two points on these curves and exponentiate\n",
    "it.  We see that mortality has generally declined for both sexes\n",
    "during the duration covered by the data.  Mortality for males\n",
    "increased slightly in 2014 and 2015, perhaps due to the opioid\n",
    "epidemic."
   ]
  },
  {
   "cell_type": "code",
   "execution_count": 17,
   "metadata": {},
   "outputs": [
    {
     "data": {
      "image/png": "[encoded data removed]",
      "text/plain": [
       "<Figure size 432x288 with 1 Axes>"
      ]
     },
     "metadata": {
      "needs_background": "light"
     },
     "output_type": "display_data"
    }
   ],
   "source": [
    "# These are the contributions of age and sex to the model.\n",
    "years = range(2008, 2019)\n",
    "xf = [0] + [pa['C(Year)[T.%4d]' % y] for y in years]\n",
    "xm = [0] + [pa['C(Year)[T.%4d]:Sex[T.Male]' % y] for y in years]\n",
    "xf = np.asarray(xf)\n",
    "xm = np.asarray(xm)\n",
    "xm += pa['Sex[T.Male]']\n",
    "\n",
    "plt.grid(True)\n",
    "years = [2007] + list(years)\n",
    "plt.plot(years, xf, label=\"Female\")\n",
    "plt.plot(years, xf + xm, label=\"Male\")\n",
    "plt.xlabel(\"Year\")\n",
    "plt.ylabel(\"Log risk ratio for deaths\")\n",
    "ha, lb = plt.gca().get_legend_handles_labels()\n",
    "leg = plt.figlegend(ha, lb)\n",
    "leg.draw_frame(False)"
   ]
  },
  {
   "cell_type": "markdown",
   "metadata": {},
   "source": [
    "Below we plot the male/female log risk ratio by year Between 2011\n",
    "and 2013, male mortality dropped faster than female mortality, so\n",
    "the gap between female and mortality was smallest during that\n",
    "period.  Since 2013, the gap has grown again."
   ]
  },
  {
   "cell_type": "code",
   "execution_count": 18,
   "metadata": {},
   "outputs": [
    {
     "data": {
      "text/plain": [
       "Text(0, 0.5, 'Male/female log risk ratio')"
      ]
     },
     "execution_count": 18,
     "metadata": {},
     "output_type": "execute_result"
    },
    {
     "data": {
      "image/png": "[encoded data removed]",
      "text/plain": [
       "<Figure size 432x288 with 1 Axes>"
      ]
     },
     "metadata": {
      "needs_background": "light"
     },
     "output_type": "display_data"
    }
   ],
   "source": [
    "plt.grid(True)\n",
    "plt.plot(years, xm, label=\"Male\")\n",
    "plt.xlabel(\"Year\")\n",
    "plt.ylabel(\"Male/female log risk ratio\")"
   ]
  },
  {
   "cell_type": "markdown",
   "metadata": {},
   "source": [
    "## Residual analysis"
   ]
  },
  {
   "cell_type": "markdown",
   "metadata": {},
   "source": [
    "The analysis above is based on Poisson quasi-likelihoods.  This is a\n",
    "regression framework in which the conditional mean and covariates\n",
    "are related through the log link function, and the conditional\n",
    "variance is required to be a constant multiple of the conditional\n",
    "mean.  This constant multiple is given by the scale parameter as\n",
    "shown below"
   ]
  },
  {
   "cell_type": "code",
   "execution_count": 19,
   "metadata": {},
   "outputs": [
    {
     "data": {
      "text/plain": [
       "16.707568436073487"
      ]
     },
     "execution_count": 19,
     "metadata": {},
     "output_type": "execute_result"
    }
   ],
   "source": [
    "r5.scale"
   ]
  },
  {
   "cell_type": "markdown",
   "metadata": {},
   "source": [
    "To assess whether the variance of the data is compatible with the\n",
    "quasi-Poisson variance structure, we can take a look at the\n",
    "residuals.  We bin the residuals according to the value of the\n",
    "conditional mean, then calculate the mean and variance within each\n",
    "bin (these are conditional means and conditional variances).  We\n",
    "then plot the log conditional variance against the log conditional\n",
    "mean (we use the log to make the pattern easier to see).  As long as\n",
    "this log/log plot has a slope close to 1, the conditional variance\n",
    "and conditional mean are approximately proportional."
   ]
  },
  {
   "cell_type": "code",
   "execution_count": 20,
   "metadata": {},
   "outputs": [],
   "source": [
    "qt = pd.qcut(r5.fittedvalues, 20)\n",
    "qt.name = \"group\"\n",
    "qt = pd.DataFrame(qt)\n",
    "qt[\"resid\"] = r5.resid_pearson / np.sqrt(r5.scale)\n",
    "qt[\"fittedvalues\"] = r5.fittedvalues\n",
    "qa = qt.groupby(\"group\").agg({\"fittedvalues\": np.mean, \"resid\": np.var})"
   ]
  },
  {
   "cell_type": "code",
   "execution_count": 21,
   "metadata": {},
   "outputs": [
    {
     "data": {
      "text/plain": [
       "Text(0, 0.5, 'Log conditional variance')"
      ]
     },
     "execution_count": 21,
     "metadata": {},
     "output_type": "execute_result"
    },
    {
     "data": {
      "image/png": "[encoded data removed]",
      "text/plain": [
       "<Figure size 432x288 with 1 Axes>"
      ]
     },
     "metadata": {
      "needs_background": "light"
     },
     "output_type": "display_data"
    }
   ],
   "source": [
    "plt.grid(True)\n",
    "plt.plot(np.log(qa.fittedvalues), np.log(qa.resid), 'o')\n",
    "plt.xlabel(\"Log conditional mean\")\n",
    "plt.ylabel(\"Log conditional variance\")"
   ]
  }
 ],
 "metadata": {
  "jupytext": {
   "cell_metadata_filter": "-all"
  },
  "kernelspec": {
   "display_name": "Python 3",
   "language": "python",
   "name": "python3"
  },
  "language_info": {
   "codemirror_mode": {
    "name": "ipython",
    "version": 3
   },
   "file_extension": ".py",
   "mimetype": "text/x-python",
   "name": "python",
   "nbconvert_exporter": "python",
   "pygments_lexer": "ipython3",
   "version": "3.7.3"
  }
 },
 "nbformat": 4,
 "nbformat_minor": 2
}
