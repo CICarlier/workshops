{
 "cells": [
  {
   "cell_type": "markdown",
   "metadata": {},
   "source": [
    "Prepare mortality data for statistical analysis\n",
    "\n",
    "This script produces an analysis file containing the\n",
    "number of deaths (all causes) and the US population\n",
    "in sex x age x year x month x weekday strata.\n",
    "\n",
    "The mortality data come from here:\n",
    "    https://www.cdc.gov/nchs/nvss/mortality_public_use_data.htm\n",
    "\n",
    "The population data come from:\n",
    "\n",
    "https://www2.census.gov\n",
    "\n",
    "To run this script, edit the 'target_dir' path below\n",
    "to point to a valid location on your system."
   ]
  },
  {
   "cell_type": "code",
   "execution_count": null,
   "metadata": {},
   "outputs": [],
   "source": [
    "import shutil\n",
    "import urllib.request as request\n",
    "from contextlib import closing\n",
    "import os\n",
    "import gzip\n",
    "import zipfile\n",
    "import pandas as pd\n",
    "import numpy as np\n",
    "import datetime\n",
    "import calendar"
   ]
  },
  {
   "cell_type": "code",
   "execution_count": null,
   "metadata": {},
   "outputs": [],
   "source": [
    "# All data are stored in this location\n",
    "target_dir = \"/nfs/kshedden/cdc_mortality\""
   ]
  },
  {
   "cell_type": "code",
   "execution_count": null,
   "metadata": {},
   "outputs": [],
   "source": [
    "# The directory for the raw mortality data\n",
    "mort_raw_dir = os.path.join(target_dir, \"mort_raw\")"
   ]
  },
  {
   "cell_type": "code",
   "execution_count": null,
   "metadata": {},
   "outputs": [],
   "source": [
    "# The directory for the raw population data\n",
    "pop_raw_dir = os.path.join(target_dir, \"pop_raw\")"
   ]
  },
  {
   "cell_type": "code",
   "execution_count": null,
   "metadata": {},
   "outputs": [],
   "source": [
    "# The data for the final processed data\n",
    "final_dir = os.path.join(target_dir, \"final\")"
   ]
  },
  {
   "cell_type": "code",
   "execution_count": null,
   "metadata": {},
   "outputs": [],
   "source": [
    "# Create the directories if they do not exist\n",
    "for p in (mort_raw_dir, pop_raw_dir, final_dir):\n",
    "    if not os.path.exists(p):\n",
    "        os.makedirs(p)"
   ]
  },
  {
   "cell_type": "code",
   "execution_count": null,
   "metadata": {},
   "outputs": [],
   "source": [
    "# The url pattern for the mortality data\n",
    "mort_url = \"ftp://ftp.cdc.gov/pub/Health_Statistics/NCHS/Datasets/DVS/mortality/mortYYYYus.zip\""
   ]
  },
  {
   "cell_type": "code",
   "execution_count": null,
   "metadata": {},
   "outputs": [],
   "source": [
    "# The url pattern for the population data\n",
    "pop_url = \"https://www2.census.gov/programs-surveys/demo/tables/age-and-sex/YYYY/age-sex-composition/YYYYgender_table1.csv\""
   ]
  },
  {
   "cell_type": "code",
   "execution_count": null,
   "metadata": {
    "lines_to_next_cell": 1
   },
   "outputs": [],
   "source": [
    "# Get data for these years\n",
    "firstyear = 2012\n",
    "lastyear = 2018"
   ]
  },
  {
   "cell_type": "code",
   "execution_count": null,
   "metadata": {},
   "outputs": [],
   "source": [
    "def download_mortality():\n",
    "    \"\"\"\n",
    "    Download the mortality data.\n",
    "    \"\"\"\n",
    "    for year in range(firstyear, lastyear + 1):\n",
    "        p = mort_url.replace(\"YYYY\", str(year))\n",
    "        dst = os.path.join(mort_raw_dir, \"mort%4dus.zip\" % year)\n",
    "        with closing(request.urlopen(p)) as r:\n",
    "            with open(dst, 'wb') as w:\n",
    "                shutil.copyfileobj(r, w)"
   ]
  },
  {
   "cell_type": "code",
   "execution_count": null,
   "metadata": {},
   "outputs": [],
   "source": [
    "def decompress_mortality():\n",
    "    \"\"\"\n",
    "    Unzip the mortality data.\n",
    "    \"\"\"\n",
    "    for year in range(firstyear, lastyear + 1):\n",
    "        arx = os.path.join(mort_raw_dir, \"mort%4dus.zip\" % year)\n",
    "        with zipfile.ZipFile(arx) as zf:\n",
    "            fn = zf.filelist[0].filename\n",
    "            r = zf.open(fn)\n",
    "            dst = os.path.join(mort_raw_dir, \"%4d.txt.gz\" % year)\n",
    "            with gzip.open(dst, \"w\") as w:\n",
    "                shutil.copyfileobj(r, w)"
   ]
  },
  {
   "cell_type": "code",
   "execution_count": null,
   "metadata": {},
   "outputs": [],
   "source": [
    "def download_population():\n",
    "    \"\"\"\n",
    "    Download the population data.\n",
    "    \"\"\"\n",
    "    for year in range(firstyear, lastyear + 1):\n",
    "        p = pop_url.replace(\"YYYY\", str(year))\n",
    "        dst = os.path.join(pop_raw_dir, \"%4d_pop.csv\" % year)\n",
    "        with closing(request.urlopen(p)) as r:\n",
    "            with open(dst, 'wb') as w:\n",
    "                shutil.copyfileobj(r, w)"
   ]
  },
  {
   "cell_type": "code",
   "execution_count": null,
   "metadata": {},
   "outputs": [],
   "source": [
    "def aggregate():\n",
    "    \"\"\"\n",
    "    Create aggregated death totals per demographic cell x month x year.\n",
    "    \"\"\"\n",
    "\n",
    "    # Residence, month, sex, age units, age value, day of week, year\n",
    "    cs = [(19, 20), (64, 66), (68, 69), (69, 70), (70, 73), (82, 83), (101, 105)]\n",
    "\n",
    "    # Aggregate by age within bins defined by these ages.  The bins are closed on\n",
    "    # the left and open on the right, e.g. the first bin is [0, 5).]\n",
    "    age_cuts = [0, 5, 10, 15, 20, 25, 30, 35, 40, 45, 50, 55, 60, 65, 70, 75, 80, 85, 100]\n",
    "\n",
    "    dz = []\n",
    "\n",
    "    for year in range(firstyear, lastyear + 1):\n",
    "\n",
    "        fn = os.path.join(mort_raw_dir, \"%4d.txt.gz\" % year)\n",
    "        df = pd.read_fwf(fn, colspecs=cs, header=None)\n",
    "        df.columns = [\"Res\", \"Month\", \"Sex\", \"Age_units\", \"Age_value\", \"DOW\", \"Year\"]\n",
    "\n",
    "        # Age can be coded in different units, convert everything to years.\n",
    "        df[\"Age\"] = np.nan\n",
    "        df.loc[df.Age_units == 1, \"Age\"] = df.Age_value\n",
    "        df.loc[df.Age_units == 2, \"Age\"] = df.Age_value / 12\n",
    "        df.loc[df.Age_units == 3, \"Age\"] = df.Age_value / 365.25\n",
    "        df.loc[df.Age_units == 4, \"Age\"] = df.Age_value / (24 * 365.25)\n",
    "        df.loc[df.Age_units == 5, \"Age\"] = df.Age_value / (60 * 24 * 365.25)\n",
    "        df.loc[df.Age_value==999, \"Age\"] = np.nan\n",
    "\n",
    "        # Exclude people who are not US residents, as they are not included in\n",
    "        # the population data.\n",
    "        df.loc[df.Res != 4, :]\n",
    "\n",
    "        df[\"Age_grp\"] = pd.cut(df.Age, age_cuts, right=False)\n",
    "\n",
    "        da = df.groupby([\"Year\", \"Month\", \"Sex\", \"Age_grp\", \"DOW\"]).size()\n",
    "        da.name = \"Deaths\"\n",
    "        da = da.reset_index()\n",
    "\n",
    "        dz.append(da)\n",
    "\n",
    "    dz = pd.concat(dz, axis=0)\n",
    "    dz[\"Age_group\"] = [str(x) for x in dz.Age_grp]\n",
    "\n",
    "    # Clean up the age bin label\n",
    "    def f(x):\n",
    "        x = x.replace(\"[\", \"\").replace(\")\", \"\")\n",
    "        x = x.split(\",\")\n",
    "        x = [y.strip() for y in x]\n",
    "        x = [float(y) for y in x]\n",
    "        x[1] -= 1\n",
    "        return \"%02d_%02d\" % tuple(x)\n",
    "\n",
    "    dz[\"Age_group\"] = [f(x) for x in dz.Age_group]\n",
    "    dz = dz.drop(\"Age_grp\", axis=1)\n",
    "\n",
    "    dz.to_csv(os.path.join(final_dir, \"aggregated_mort.csv.gz\"), index=None)"
   ]
  },
  {
   "cell_type": "code",
   "execution_count": null,
   "metadata": {},
   "outputs": [],
   "source": [
    "def prep_population():\n",
    "    \"\"\"\n",
    "    Prepare the population data.  Ensure that this is mergeable 1-1 with the\n",
    "    mortality data.\n",
    "    \"\"\"\n",
    "\n",
    "    da = []\n",
    "    for year in range(firstyear, lastyear + 1):\n",
    "        fn = os.path.join(pop_raw_dir, \"%4d_pop.csv\" % year)\n",
    "        df = pd.read_csv(fn, skiprows=5)\n",
    "        df = df.iloc[1:19, :]\n",
    "        df = df.rename(columns={\"Number.1\": \"Male\", \"Number.2\": \"Female\",\n",
    "                \"Unnamed: 0\": \"Age_group\"})\n",
    "        for x in [\"Female\", \"Male\"]:\n",
    "            df.loc[:, x] = [float(y.replace(\",\", \"\")) for y in df.loc[:, x]]\n",
    "        df = df.loc[:, [\"Age_group\", \"Female\", \"Male\"]]\n",
    "        df.loc[:, \"Year\"] = year\n",
    "        da.append(df)\n",
    "\n",
    "    da = pd.concat(da, axis=0)\n",
    "\n",
    "    def f(x):\n",
    "        x = x.replace(\".\", \"\").replace(\" to \", \"_\").replace(\" years\", \"\")\n",
    "        x = x.strip()\n",
    "        if x == \"Under 5\":\n",
    "            x = \"00_04\"\n",
    "        if x == \"85 and over\":\n",
    "            x = \"85_99\"\n",
    "\n",
    "        x = x.split(\"_\")\n",
    "        x = [int(y) for y in x]\n",
    "        x = \"%02d_%02d\" % tuple(x)\n",
    "\n",
    "        return x\n",
    "\n",
    "    da[\"Age_group\"] = [f(x) for x in da.Age_group]\n",
    "    for x in \"Female\", \"Male\":\n",
    "        da.loc[:, x] = da.loc[:, x].astype(np.int)\n",
    "    da = da.loc[:, [\"Year\", \"Age_group\", \"Female\", \"Male\"]]\n",
    "\n",
    "    fn = os.path.join(final_dir, \"pop.csv\")\n",
    "    da.to_csv(fn, index=None)"
   ]
  },
  {
   "cell_type": "code",
   "execution_count": null,
   "metadata": {},
   "outputs": [],
   "source": [
    "def final_merge():\n",
    "    \"\"\"\n",
    "    Merge the mortality and population data.\n",
    "    \"\"\"\n",
    "\n",
    "    dp = pd.read_csv(os.path.join(final_dir, \"pop.csv\"))\n",
    "    dm = pd.read_csv(os.path.join(final_dir, \"aggregated_mort.csv.gz\"))\n",
    "    dp = dp.melt(id_vars=[\"Year\", \"Age_group\"])\n",
    "    dp = dp.rename(columns={\"value\": \"Population\", \"variable\": \"Sex\"})\n",
    "    dm[\"Sex\"] = dm[\"Sex\"].replace({\"F\": \"Female\", \"M\": \"Male\"})\n",
    "\n",
    "    mv = [\"Year\", \"Age_group\", \"Sex\"]\n",
    "    dx = pd.merge(dm, dp, left_on=mv, right_on=mv, how=\"left\")\n",
    "    dx.loc[:, \"Population\"] *= 1000\n",
    "\n",
    "    # We want to adjust for the number of days of each weekday\n",
    "    # within each month (e.g. the number of Tuesdays in February\n",
    "    # 2014).  It is always 4, or 5.\n",
    "    c = {}\n",
    "    for year in range(firstyear, lastyear + 1):\n",
    "        for month in range(1, 13):\n",
    "            for day in range(1, calendar.monthrange(year, month)[1] + 1):\n",
    "                wd = datetime.datetime(year, month, day).weekday()\n",
    "                # CDC uses Sunday=1, Python uses Sunday=6.\n",
    "                wd = ((wd + 1) % 7) + 1\n",
    "                try:\n",
    "                    c[(year, month, wd)] += 1\n",
    "                except KeyError:\n",
    "                    c[(year, month, wd)] = 1\n",
    "    c = pd.Series(c)\n",
    "    c = c.reset_index()\n",
    "    c.columns = [\"Year\", \"Month\", \"DOW\", \"DayCount\"]\n",
    "\n",
    "    dx = dx.loc[dx.DOW != 9, :]\n",
    "    v = [\"Year\", \"Month\", \"DOW\"]\n",
    "    dx = pd.merge(dx, c, left_on=v, right_on=v, how=\"left\")\n",
    "\n",
    "    dx.to_csv(os.path.join(final_dir, \"pop_mort.csv\"), index=None)"
   ]
  }
 ],
 "metadata": {
  "jupytext": {
   "cell_metadata_filter": "-all",
   "main_language": "python",
   "notebook_metadata_filter": "-all"
  }
 },
 "nbformat": 4,
 "nbformat_minor": 2
}
