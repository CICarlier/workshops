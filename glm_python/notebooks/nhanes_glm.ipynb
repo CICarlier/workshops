{
 "cells": [
  {
   "cell_type": "markdown",
   "metadata": {},
   "source": [
    "# Generalized Linear Models (GLM), a case study with the NHANES data"
   ]
  },
  {
   "cell_type": "markdown",
   "metadata": {},
   "source": [
    "This notebook demonstrates a framework for regression analysis called\n",
    "*generalized linear modeling*, or GLM.  The focus here will be on\n",
    "fitting this type of model to data using the statsmodels statistical modeling\n",
    "library in the [Jupyter](https://jupyter.org) notebook environment.\n",
    "This notebook is primarily a case study based on the\n",
    "[NHANES](https://www.cdc.gov/nchs/nhanes/index.htm) data."
   ]
  },
  {
   "cell_type": "markdown",
   "metadata": {},
   "source": [
    "Most of the GLM support within Python Statsmodels is implemented in\n",
    "[this source file](https://github.com/statsmodels/statsmodels/blob/master/statsmodels/genmod/generalized_linear_model.py).\n",
    "You do not need to read or understand this source code to be able to use the\n",
    "software to fit GLM's.  But more advanced users may want to understand\n",
    "how the fitting is implemented."
   ]
  },
  {
   "cell_type": "markdown",
   "metadata": {},
   "source": [
    "GLM's are a mature\n",
    "and well-established methodology.  The GLM parameter estimates for a given dataset are usually unique,\n",
    "and the algorithms for finding the estimates are very robust.  Therefore, the results of fitting a GLM to\n",
    "a data set should be essentially identical in all packages (Python\n",
    "Statsmodels, R, Stata, SAS, etc.).  Statsmodels uses a large number of\n",
    "unit tests (e.g. [here](https://github.com/statsmodels/statsmodels/blob/master/statsmodels/genmod/tests/test_glm.py))\n",
    "to ensure that the results are correct and consistent with other packages."
   ]
  },
  {
   "cell_type": "markdown",
   "metadata": {},
   "source": [
    "Note that the NHANES data were collected as a designed survey, and in\n",
    "general should be analyzed as such.  This means that survey design\n",
    "information such as weights, strata, and clusters should be accounted\n",
    "for in most analyses using NHANES.  But to introduce how generalized\n",
    "linear models are used with independent data or with convenience\n",
    "samples, we will not incorporate the survey structure of the NHANES\n",
    "sample into the analyses conducted here."
   ]
  },
  {
   "cell_type": "markdown",
   "metadata": {},
   "source": [
    "As with our previous work, we will be using the\n",
    "[Statsmodels](http://www.statsmodels.org) library for statistical\n",
    "modeling, the [Pandas](http://pandas.pydata.org) library for data\n",
    "management, the [Seaborn](https://seaborn.pydata.org) library for\n",
    "graphing, and the [Numpy](http://www.numpy.org) library for numerical\n",
    "calculations."
   ]
  },
  {
   "cell_type": "markdown",
   "metadata": {},
   "source": [
    "We begin by importing the libraries that we will be using."
   ]
  },
  {
   "cell_type": "code",
   "execution_count": 1,
   "metadata": {},
   "outputs": [
    {
     "name": "stderr",
     "output_type": "stream",
     "text": [
      "/nfs/kshedden/python3/lib/python3.7/site-packages/statsmodels/compat/pandas.py:23: FutureWarning: The Panel class is removed from pandas. Accessing it from the top-level namespace will also be removed in the next version\n",
      "  data_klasses = (pandas.Series, pandas.DataFrame, pandas.Panel)\n"
     ]
    }
   ],
   "source": [
    "import matplotlib.pyplot as plt\n",
    "import seaborn as sns\n",
    "import pandas as pd\n",
    "import statsmodels.api as sm\n",
    "import numpy as np"
   ]
  },
  {
   "cell_type": "markdown",
   "metadata": {},
   "source": [
    "Next we will load the data.  The NHANES study encompasses multiple\n",
    "waves of data collection.  Here we will only use the 2015-2016 data.\n",
    "As with most data sets, there are some missing values in the NHANES\n",
    "files.  While many of the methods demonstrated below would handle\n",
    "missing values automatically (at least in a crude way), here we drop\n",
    "up-front all rows with missing values in any of the key variables that\n",
    "we will use in this notebook."
   ]
  },
  {
   "cell_type": "code",
   "execution_count": 2,
   "metadata": {},
   "outputs": [],
   "source": [
    "url = \"https://raw.githubusercontent.com/kshedden/statswpy/master/NHANES/merged/nhanes_2015_2016.csv\"\n",
    "da = pd.read_csv(url)\n",
    "\n",
    "# Drop unused columns, drop rows with any missing values.\n",
    "vars = [\"BPXSY1\", \"RIDAGEYR\", \"RIAGENDR\", \"RIDRETH1\", \"DMDEDUC2\", \"BMXBMI\", \"SMQ020\"]\n",
    "da = da[vars].dropna()"
   ]
  },
  {
   "cell_type": "markdown",
   "metadata": {},
   "source": [
    "# Mean/variance relationships"
   ]
  },
  {
   "cell_type": "markdown",
   "metadata": {},
   "source": [
    "In linear regression, we fit models for the population mean structure\n",
    "that have the form"
   ]
  },
  {
   "cell_type": "markdown",
   "metadata": {},
   "source": [
    "$$\n",
    "E[y | x_1, \\ldots, x_p] = b_0 + b_1x_1 + \\cdots + b_px_p,\n",
    "$$"
   ]
  },
  {
   "cell_type": "markdown",
   "metadata": {},
   "source": [
    "where $b_0 + b_1x_1 + \\cdots + x_px_p$ is called the *linear\n",
    "predictor*."
   ]
  },
  {
   "cell_type": "markdown",
   "metadata": {},
   "source": [
    "Linear regression works best when the population variance structure is\n",
    "homoscedastic:"
   ]
  },
  {
   "cell_type": "markdown",
   "metadata": {},
   "source": [
    "$$\n",
    "{\\rm Var}[y | x_1, \\ldots, x_p] = \\sigma^2.\n",
    "$$"
   ]
  },
  {
   "cell_type": "markdown",
   "metadata": {},
   "source": [
    "Linear regression models are most commonly fit using the fitting\n",
    "procedure called *least squares*.  When using least squares to fit a\n",
    "linear regression model, the estimates of the mean structure\n",
    "parameters $b_0, \\ldots, b_p$ achieve their greatest accuracy when the\n",
    "population variance is approximately homoscedastic.  Even when the variance\n",
    "structure is not homoscedastic, we can still estimate the mean structure\n",
    "using least squares, but there is a loss of efficiency."
   ]
  },
  {
   "cell_type": "markdown",
   "metadata": {},
   "source": [
    "Generalized linear models (GLMs) are a collection of approaches for\n",
    "regression analysis that extend the basic linear model in two ways:"
   ]
  },
  {
   "cell_type": "markdown",
   "metadata": {},
   "source": [
    "* The mean structure can be related to the linear prediction via a\n",
    "*link function*, e.g. the $\\log$ link function:"
   ]
  },
  {
   "cell_type": "markdown",
   "metadata": {},
   "source": [
    "$$\n",
    "\\log E[y | x_1, \\ldots, x_p] = b_0 + b_1x_1 + \\cdots b_px_p.\n",
    "$$"
   ]
  },
  {
   "cell_type": "markdown",
   "metadata": {},
   "source": [
    "In general, the link function $g$ satisfies"
   ]
  },
  {
   "cell_type": "markdown",
   "metadata": {},
   "source": [
    "$$\n",
    "g(E[y | x_1, \\ldots, x_p]) = b_0 + b_1x_1 + \\cdots b_px_p.\n",
    "$$"
   ]
  },
  {
   "cell_type": "markdown",
   "metadata": {},
   "source": [
    "* The conditional variance can be a function of the conditional mean,\n",
    "  e.g."
   ]
  },
  {
   "cell_type": "markdown",
   "metadata": {},
   "source": [
    "$$\n",
    "{\\rm Var} [y | x_1, \\ldots, x_p] = E[y | x_1, \\ldots, x_p].\n",
    "$$"
   ]
  },
  {
   "cell_type": "markdown",
   "metadata": {},
   "source": [
    "In general, the conditional variance can be expressed as"
   ]
  },
  {
   "cell_type": "markdown",
   "metadata": {},
   "source": [
    "$$\n",
    "{\\rm Var} [y | x_1, \\ldots, x_p] = \\phi f(E[y | x_1, \\ldots, x_p]),\n",
    "$$"
   ]
  },
  {
   "cell_type": "markdown",
   "metadata": {},
   "source": [
    "Writing $\\mu = E[y | x_1, \\ldots, x_p]$, we have ${\\rm Var} =\n",
    "\\mu\\cdot(1-\\mu)$."
   ]
  },
  {
   "cell_type": "markdown",
   "metadata": {},
   "source": [
    "Thus, GLM's explicitly incorporate heteroscedasticicity (non-constant\n",
    "variance) through this *mean/variance relationship*.  The parameter\n",
    "$\\phi$ is called the *scale parameter* and will be discussed further\n",
    "below."
   ]
  },
  {
   "cell_type": "markdown",
   "metadata": {},
   "source": [
    "Note that we can use the identity link function $g(x) = x$ and the\n",
    "constant mean/variance relationship $f(x) = 1$, which gives back\n",
    "the linear model.  Thus, the linear model is one type of GLM."
   ]
  },
  {
   "cell_type": "markdown",
   "metadata": {},
   "source": [
    "Note that linear regression is often used after applying a\n",
    "transformation to the dependent variable.  For example, if we log\n",
    "transform the dependent variable and then fit a linear regression\n",
    "model, we are estimating the mean structure"
   ]
  },
  {
   "cell_type": "markdown",
   "metadata": {},
   "source": [
    "$$\n",
    "E[\\log(y) | x_1, \\ldots, x_p] = b_0 + b_1x_1 + \\cdots + b_px_p.\n",
    "$$"
   ]
  },
  {
   "cell_type": "markdown",
   "metadata": {},
   "source": [
    "This is closely related to fitting a GLM with a log link function, but\n",
    "is not exactly equivalent to it, since $E[\\log(y)]$ is not equal to\n",
    "$\\log(E[y])$.  Either of these approaches has the potential to provide a good model,\n",
    "depending on the data, but the two models that are being fit are not the same."
   ]
  },
  {
   "cell_type": "markdown",
   "metadata": {},
   "source": [
    "## Limited dependent variables"
   ]
  },
  {
   "cell_type": "markdown",
   "metadata": {},
   "source": [
    "Another perspective on GLMs is that they are useful when the dependent\n",
    "variable is restricted to lie in a subset of values.  The most common\n",
    "such subsets are the non-negative integers, the positive real line,\n",
    "and the unit interval."
   ]
  },
  {
   "cell_type": "markdown",
   "metadata": {},
   "source": [
    "## Logistic regression"
   ]
  },
  {
   "cell_type": "markdown",
   "metadata": {},
   "source": [
    "Logistic regression is the most commonly used GLM.  It is used\n",
    "when the outcome variable is *binary*, meaning that it can take on\n",
    "only two distinct values.  The behavior of a binary random value is\n",
    "entirely determined by its \"success probability\", where \"success\" is a\n",
    "generic term for one of the two possible outcomes.  For example, in a\n",
    "clinical trial, substantial improvement in symptoms might be deemed a success,\n",
    "with less than substantial improvement being viewed as a failure.  The\n",
    "success probability in this setting would be the probability that a\n",
    "substantial improvement in symptoms occurs.  Sometimes this is called\n",
    "the \"event probability\"."
   ]
  },
  {
   "cell_type": "markdown",
   "metadata": {},
   "source": [
    "The distribution of a binary random variable is entirely determined by\n",
    "the success probability $p$.  In a regression analysis, we have many\n",
    "observations $y_i$ of the dependent variable, and each is accompanied\n",
    "with a covariate vector $x_i$.  This covariate vector may determine\n",
    "the success probability, so we write $p(x)$ for the success\n",
    "probability of an observation with covariate vector $x$.  Thus, for\n",
    "each $i$, $y_i$ is a binary random variable with success probability\n",
    "$p(x_i)$."
   ]
  },
  {
   "cell_type": "markdown",
   "metadata": {},
   "source": [
    "As discussed above, in a GLM the link function maps the expected value\n",
    "of the outcome to the linear predictor.  In logistic regression, the\n",
    "link function is the *logit function*, or the *log odds function*\n",
    "$\\log(p/(1-p)$.  Note that while $p$ is restricted to lie in $[0, 1]$\n",
    "the odds $p/(1-p)$ can be any positive real number, and the log odds\n",
    "can be any real number."
   ]
  },
  {
   "cell_type": "markdown",
   "metadata": {},
   "source": [
    "Thus, in logistic regression, we have"
   ]
  },
  {
   "cell_type": "markdown",
   "metadata": {},
   "source": [
    "$$\n",
    "\\log \\frac{E[y|x_1, \\ldots, x_p]}{1 - E[y|x_1, \\ldots, x_p]} = b_0\n",
    "+ b_1x_1 + \\cdots + b_px_p.\n",
    "$$"
   ]
  },
  {
   "cell_type": "markdown",
   "metadata": {},
   "source": [
    "The variance function for logistic regression is determined by the\n",
    "fact that for a binary random variable with success probability $p$,\n",
    "the variance is $p\\cdot(1-p)$.  Thus, the mean variance relationship\n",
    "is given by the ${\\rm Var}(\\mu) = \\mu(1-\\mu)$.  Unlike other GLM's\n",
    "that we will see later, the variance is uniquely determined by the\n",
    "mean, so the scale parameter $\\phi$ is fixed at 1."
   ]
  },
  {
   "cell_type": "markdown",
   "metadata": {},
   "source": [
    "As an initial illustration, we will work with the NHANES variable\n",
    "[SMQ020](https://wwwn.cdc.gov/Nchs/Nhanes/2015-2016/SMQ_I.htm#SMQ020),\n",
    "which asks whether a person has smoked at least 100 cigarettes in\n",
    "their lifetime (if this is the case, we say that the person has a\n",
    "\"smoking history\").  Below we create a version of this variable in\n",
    "which smoking and non-smoking are coded as 1 and 0, respectively, and\n",
    "rare responses like *don't know* and *refused to answer* are coded as\n",
    "missing values."
   ]
  },
  {
   "cell_type": "code",
   "execution_count": 3,
   "metadata": {},
   "outputs": [],
   "source": [
    "da[\"smq\"] = da.SMQ020.replace({2: 0, 7: np.nan, 9: np.nan})"
   ]
  },
  {
   "cell_type": "markdown",
   "metadata": {},
   "source": [
    "## Odds and log odds"
   ]
  },
  {
   "cell_type": "markdown",
   "metadata": {},
   "source": [
    "Logistic regression provides a model for the *odds* of an event\n",
    "happening.  Recall that if an event has probability `p`, then the odds\n",
    "for this event is `p/(1-p)`.  The odds is a mathematical\n",
    "transformation that maps the probability to a different scale.  For\n",
    "example, if the probability is 1/2, then the odds is 1."
   ]
  },
  {
   "cell_type": "markdown",
   "metadata": {},
   "source": [
    "To begin, we look at the odds of alcohol use for women and men separately."
   ]
  },
  {
   "cell_type": "markdown",
   "metadata": {},
   "source": [
    "Create a labeled version of the gender variable"
   ]
  },
  {
   "cell_type": "code",
   "execution_count": 4,
   "metadata": {},
   "outputs": [
    {
     "name": "stdout",
     "output_type": "stream",
     "text": [
      "smq             0.0       1.0      odds\n",
      "RIAGENDRx                              \n",
      "Female     0.680197  0.319803  0.470162\n",
      "Male       0.467453  0.532547  1.139252\n"
     ]
    }
   ],
   "source": [
    "da[\"RIAGENDRx\"] = da.RIAGENDR.replace({1: \"Male\", 2: \"Female\"})\n",
    "\n",
    "c = pd.crosstab(da.RIAGENDRx, da.smq).apply(lambda x: x/x.sum(), axis=1)\n",
    "c[\"odds\"] = c.loc[:, 1] / c.loc[:, 0]\n",
    "print(c)"
   ]
  },
  {
   "cell_type": "markdown",
   "metadata": {},
   "source": [
    "We see that the probability that a woman has ever smoked is\n",
    "substantially lower than the probability that a man has ever smoked\n",
    "(30% versus 51%).  This is reflected in the odds for a woman smoking\n",
    "being much less than 1 (around 0.47), while the odds for a man smoking\n",
    "is around 1.14."
   ]
  },
  {
   "cell_type": "markdown",
   "metadata": {},
   "source": [
    "It is common to work with *odds ratios* when comparing two groups.\n",
    "This is simply the odds for one group divided by the odds for the\n",
    "other group.  The odds ratio for smoking, comparing males to females,\n",
    "is around 2.4.  In other words, a man has around 2.4 times greater\n",
    "odds of smoking than a woman (in the population represented by these\n",
    "data)."
   ]
  },
  {
   "cell_type": "code",
   "execution_count": 5,
   "metadata": {},
   "outputs": [
    {
     "data": {
      "text/plain": [
       "2.423105552613186"
      ]
     },
     "execution_count": 5,
     "metadata": {},
     "output_type": "execute_result"
    }
   ],
   "source": [
    "c.odds.Male / c.odds.Female"
   ]
  },
  {
   "cell_type": "markdown",
   "metadata": {},
   "source": [
    "It is conventional to work with odds and odds ratios on the logarithmic scale.  To\n",
    "understand the motivation for doing this, first note that the neutral\n",
    "point for an odds ratio is 1, which is equivalent to a log odds ratio of 0.\n",
    "Populations where men smoke more than women will\n",
    "have odds ratios between 1 and infinity, with the exact value depending on\n",
    "the magnitude of the relationship between the male and female smoking\n",
    "rates.  Populations where women smoke more than men would have odds ratios\n",
    "falling between 0 and 1."
   ]
  },
  {
   "cell_type": "markdown",
   "metadata": {},
   "source": [
    "We see that the scale of the odds ratio statistic is not symmetric.  It is\n",
    "usually arbitrary in which order we compare two groups -- we could\n",
    "compare men to women, or compare women to men.  An odds ratio of 2 (men have\n",
    "twice the odds of smoking as women) is equivalent in strength to an\n",
    "odds ratio of 1/2 (women have twice the odds of smoking as men).  Similarly,\n",
    "an odds ratio of 10 for men would be equivalent to an odds ratio of 1/10 for women.\n",
    "Taking the\n",
    "log of the odds ratio centers the scale at zero, and symmetrizes the\n",
    "interpretation of the scale."
   ]
  },
  {
   "cell_type": "markdown",
   "metadata": {},
   "source": [
    "To interpret the log odds ratio when comparing the odds for two groups, it\n",
    "is important to remember the following facts:"
   ]
  },
  {
   "cell_type": "markdown",
   "metadata": {},
   "source": [
    "* A probability of 1/2 is equivalent to an odds of 1."
   ]
  },
  {
   "cell_type": "markdown",
   "metadata": {},
   "source": [
    "* An odds ratio of 1 is equivalent to a log odds ratio of 0."
   ]
  },
  {
   "cell_type": "markdown",
   "metadata": {},
   "source": [
    "* A positive log odds ratio indicates that the first group being compared\n",
    "has greater odds (and greater probability) than the second group."
   ]
  },
  {
   "cell_type": "markdown",
   "metadata": {},
   "source": [
    "* A negative log odds ratio indicates that the second group being compared\n",
    "has greater odds (and greater probability) than the first group."
   ]
  },
  {
   "cell_type": "markdown",
   "metadata": {},
   "source": [
    "* The scale of the log odds statistic is symmetric in the sense that a\n",
    "log odds of, say, 2, is equivalent in strength to a log odds of -2\n",
    "(but with the groups swapped in terms of which has the greater\n",
    "probability)."
   ]
  },
  {
   "cell_type": "markdown",
   "metadata": {},
   "source": [
    "If you know that the log odds when comparing two groups is a given\n",
    "value, say 2, and you want to report the odds, you simply exponentiate\n",
    "the log odds to get the odds, e.g. `exp(2)` is around 7.4. Note\n",
    "however that you cannot recover the individual probabilities\n",
    "from an odds ratio.`"
   ]
  },
  {
   "cell_type": "markdown",
   "metadata": {},
   "source": [
    "Below we show the log odds for smoking history status of females and\n",
    "males in the NHANES data.  The fact that the log odds for females is\n",
    "negative reflects that fact that substantially less than 50% of\n",
    "females have a history of smoking.  The log odds for males is closer to\n",
    "0, since around half of males have a history of smoking."
   ]
  },
  {
   "cell_type": "code",
   "execution_count": 6,
   "metadata": {},
   "outputs": [
    {
     "name": "stdout",
     "output_type": "stream",
     "text": [
      "smq             0.0       1.0      odds   logodds\n",
      "RIAGENDRx                                        \n",
      "Female     0.680197  0.319803  0.470162 -0.754679\n",
      "Male       0.467453  0.532547  1.139252  0.130371\n"
     ]
    }
   ],
   "source": [
    "# Add a column containing the log odds\n",
    "c[\"logodds\"] = np.log(c.odds)\n",
    "print(c)"
   ]
  },
  {
   "cell_type": "markdown",
   "metadata": {},
   "source": [
    "## A basic logistic regression model"
   ]
  },
  {
   "cell_type": "markdown",
   "metadata": {},
   "source": [
    "Now that we have a clear understanding of log odds statistics, we will\n",
    "fit a logistic regression.  The dependent variable (outcome) of this\n",
    "initial model is smoking status, and the only covariate is gender.\n",
    "Thus, we are looking at gender as a predictor of smoking status.  We\n",
    "fit the model using the `GLM` function, which fits a Generalized\n",
    "Linear Model.  Logistic regression is one type of GLM.  The `family`\n",
    "parameter specifies which particular GLM we are fitting.  Here we use\n",
    "the `Binomial` family to perform a logistic regression."
   ]
  },
  {
   "cell_type": "code",
   "execution_count": 7,
   "metadata": {},
   "outputs": [
    {
     "data": {
      "text/html": [
       "<table class=\"simpletable\">\n",
       "<caption>Generalized Linear Model Regression Results</caption>\n",
       "<tr>\n",
       "  <th>Dep. Variable:</th>          <td>smq</td>       <th>  No. Observations:  </th>  <td>  5094</td> \n",
       "</tr>\n",
       "<tr>\n",
       "  <th>Model:</th>                  <td>GLM</td>       <th>  Df Residuals:      </th>  <td>  5092</td> \n",
       "</tr>\n",
       "<tr>\n",
       "  <th>Model Family:</th>        <td>Binomial</td>     <th>  Df Model:          </th>  <td>     1</td> \n",
       "</tr>\n",
       "<tr>\n",
       "  <th>Link Function:</th>         <td>logit</td>      <th>  Scale:             </th> <td>  1.0000</td>\n",
       "</tr>\n",
       "<tr>\n",
       "  <th>Method:</th>                <td>IRLS</td>       <th>  Log-Likelihood:    </th> <td> -3350.6</td>\n",
       "</tr>\n",
       "<tr>\n",
       "  <th>Date:</th>            <td>Mon, 10 Feb 2020</td> <th>  Deviance:          </th> <td>  6701.2</td>\n",
       "</tr>\n",
       "<tr>\n",
       "  <th>Time:</th>                <td>13:46:14</td>     <th>  Pearson chi2:      </th> <td>5.09e+03</td>\n",
       "</tr>\n",
       "<tr>\n",
       "  <th>No. Iterations:</th>          <td>4</td>        <th>                     </th>     <td> </td>   \n",
       "</tr>\n",
       "<tr>\n",
       "  <th>Covariance Type:</th>     <td>nonrobust</td>    <th>                     </th>     <td> </td>   \n",
       "</tr>\n",
       "</table>\n",
       "<table class=\"simpletable\">\n",
       "<tr>\n",
       "          <td></td>             <th>coef</th>     <th>std err</th>      <th>z</th>      <th>P>|z|</th>  <th>[0.025</th>    <th>0.975]</th>  \n",
       "</tr>\n",
       "<tr>\n",
       "  <th>Intercept</th>         <td>   -0.7547</td> <td>    0.042</td> <td>  -18.071</td> <td> 0.000</td> <td>   -0.837</td> <td>   -0.673</td>\n",
       "</tr>\n",
       "<tr>\n",
       "  <th>RIAGENDRx[T.Male]</th> <td>    0.8851</td> <td>    0.058</td> <td>   15.227</td> <td> 0.000</td> <td>    0.771</td> <td>    0.999</td>\n",
       "</tr>\n",
       "</table>"
      ],
      "text/plain": [
       "<class 'statsmodels.iolib.summary.Summary'>\n",
       "\"\"\"\n",
       "                 Generalized Linear Model Regression Results                  \n",
       "==============================================================================\n",
       "Dep. Variable:                    smq   No. Observations:                 5094\n",
       "Model:                            GLM   Df Residuals:                     5092\n",
       "Model Family:                Binomial   Df Model:                            1\n",
       "Link Function:                  logit   Scale:                          1.0000\n",
       "Method:                          IRLS   Log-Likelihood:                -3350.6\n",
       "Date:                Mon, 10 Feb 2020   Deviance:                       6701.2\n",
       "Time:                        13:46:14   Pearson chi2:                 5.09e+03\n",
       "No. Iterations:                     4                                         \n",
       "Covariance Type:            nonrobust                                         \n",
       "=====================================================================================\n",
       "                        coef    std err          z      P>|z|      [0.025      0.975]\n",
       "-------------------------------------------------------------------------------------\n",
       "Intercept            -0.7547      0.042    -18.071      0.000      -0.837      -0.673\n",
       "RIAGENDRx[T.Male]     0.8851      0.058     15.227      0.000       0.771       0.999\n",
       "=====================================================================================\n",
       "\"\"\""
      ]
     },
     "execution_count": 7,
     "metadata": {},
     "output_type": "execute_result"
    }
   ],
   "source": [
    "model = sm.GLM.from_formula(\"smq ~ RIAGENDRx\", family=sm.families.Binomial(), data=da)\n",
    "result = model.fit()\n",
    "result.summary()"
   ]
  },
  {
   "cell_type": "markdown",
   "metadata": {},
   "source": [
    "To see the connection between logistic regression and the log odds\n",
    "statistic, note that the logistic regression coefficient for male\n",
    "gender is exactly equal to the difference between the log odds\n",
    "statistics for males and females:"
   ]
  },
  {
   "cell_type": "code",
   "execution_count": 8,
   "metadata": {},
   "outputs": [
    {
     "data": {
      "text/plain": [
       "0.8850500036644218"
      ]
     },
     "execution_count": 8,
     "metadata": {},
     "output_type": "execute_result"
    }
   ],
   "source": [
    "c.logodds.Male - c.logodds.Female"
   ]
  },
  {
   "cell_type": "markdown",
   "metadata": {},
   "source": [
    "This relationship will always hold when conducting a logistic\n",
    "regression with a single binary covariate."
   ]
  },
  {
   "cell_type": "markdown",
   "metadata": {},
   "source": [
    "In general, a logistic regression model will have multiple covariates\n",
    "that may not be binary, but there is still an important connection\n",
    "between logistic regression and odds ratios.  In this more general\n",
    "setting, we will use a more general type of odds ratio, which we will\n",
    "explore further next."
   ]
  },
  {
   "cell_type": "markdown",
   "metadata": {},
   "source": [
    "## Adding additional covariates"
   ]
  },
  {
   "cell_type": "markdown",
   "metadata": {},
   "source": [
    "As with linear regression, we can include multiple covariates in a\n",
    "logistic regression.  Below we fit a logistic regression for smoking\n",
    "status using age (RIDAGEYR) and gender as covariates."
   ]
  },
  {
   "cell_type": "code",
   "execution_count": 9,
   "metadata": {},
   "outputs": [
    {
     "data": {
      "text/html": [
       "<table class=\"simpletable\">\n",
       "<caption>Generalized Linear Model Regression Results</caption>\n",
       "<tr>\n",
       "  <th>Dep. Variable:</th>          <td>smq</td>       <th>  No. Observations:  </th>  <td>  5094</td> \n",
       "</tr>\n",
       "<tr>\n",
       "  <th>Model:</th>                  <td>GLM</td>       <th>  Df Residuals:      </th>  <td>  5091</td> \n",
       "</tr>\n",
       "<tr>\n",
       "  <th>Model Family:</th>        <td>Binomial</td>     <th>  Df Model:          </th>  <td>     2</td> \n",
       "</tr>\n",
       "<tr>\n",
       "  <th>Link Function:</th>         <td>logit</td>      <th>  Scale:             </th> <td>  1.0000</td>\n",
       "</tr>\n",
       "<tr>\n",
       "  <th>Method:</th>                <td>IRLS</td>       <th>  Log-Likelihood:    </th> <td> -3296.6</td>\n",
       "</tr>\n",
       "<tr>\n",
       "  <th>Date:</th>            <td>Mon, 10 Feb 2020</td> <th>  Deviance:          </th> <td>  6593.2</td>\n",
       "</tr>\n",
       "<tr>\n",
       "  <th>Time:</th>                <td>13:46:14</td>     <th>  Pearson chi2:      </th> <td>5.10e+03</td>\n",
       "</tr>\n",
       "<tr>\n",
       "  <th>No. Iterations:</th>          <td>4</td>        <th>                     </th>     <td> </td>   \n",
       "</tr>\n",
       "<tr>\n",
       "  <th>Covariance Type:</th>     <td>nonrobust</td>    <th>                     </th>     <td> </td>   \n",
       "</tr>\n",
       "</table>\n",
       "<table class=\"simpletable\">\n",
       "<tr>\n",
       "          <td></td>             <th>coef</th>     <th>std err</th>      <th>z</th>      <th>P>|z|</th>  <th>[0.025</th>    <th>0.975]</th>  \n",
       "</tr>\n",
       "<tr>\n",
       "  <th>Intercept</th>         <td>   -1.6166</td> <td>    0.095</td> <td>  -16.985</td> <td> 0.000</td> <td>   -1.803</td> <td>   -1.430</td>\n",
       "</tr>\n",
       "<tr>\n",
       "  <th>RIAGENDRx[T.Male]</th> <td>    0.8920</td> <td>    0.059</td> <td>   15.170</td> <td> 0.000</td> <td>    0.777</td> <td>    1.007</td>\n",
       "</tr>\n",
       "<tr>\n",
       "  <th>RIDAGEYR</th>          <td>    0.0172</td> <td>    0.002</td> <td>   10.289</td> <td> 0.000</td> <td>    0.014</td> <td>    0.021</td>\n",
       "</tr>\n",
       "</table>"
      ],
      "text/plain": [
       "<class 'statsmodels.iolib.summary.Summary'>\n",
       "\"\"\"\n",
       "                 Generalized Linear Model Regression Results                  \n",
       "==============================================================================\n",
       "Dep. Variable:                    smq   No. Observations:                 5094\n",
       "Model:                            GLM   Df Residuals:                     5091\n",
       "Model Family:                Binomial   Df Model:                            2\n",
       "Link Function:                  logit   Scale:                          1.0000\n",
       "Method:                          IRLS   Log-Likelihood:                -3296.6\n",
       "Date:                Mon, 10 Feb 2020   Deviance:                       6593.2\n",
       "Time:                        13:46:14   Pearson chi2:                 5.10e+03\n",
       "No. Iterations:                     4                                         \n",
       "Covariance Type:            nonrobust                                         \n",
       "=====================================================================================\n",
       "                        coef    std err          z      P>|z|      [0.025      0.975]\n",
       "-------------------------------------------------------------------------------------\n",
       "Intercept            -1.6166      0.095    -16.985      0.000      -1.803      -1.430\n",
       "RIAGENDRx[T.Male]     0.8920      0.059     15.170      0.000       0.777       1.007\n",
       "RIDAGEYR              0.0172      0.002     10.289      0.000       0.014       0.021\n",
       "=====================================================================================\n",
       "\"\"\""
      ]
     },
     "execution_count": 9,
     "metadata": {},
     "output_type": "execute_result"
    }
   ],
   "source": [
    "model = sm.GLM.from_formula(\"smq ~ RIDAGEYR + RIAGENDRx\", family=sm.families.Binomial(), data=da)\n",
    "result = model.fit()\n",
    "result.summary()"
   ]
  },
  {
   "cell_type": "markdown",
   "metadata": {},
   "source": [
    "Adding age to the model leads to a very small shift in the gender\n",
    "parameter (it changed from 0.885 to 0.892).  In general, regression\n",
    "coefficients can change a lot when adding or removing other variables\n",
    "from a model.  But in this case the change is quite minimal.  This\n",
    "fitted model suggests that older people are more likely to have a\n",
    "history of smoking than younger people.  The log odds for smoking\n",
    "increases by 0.017 for each year of age.  This effect is additive, so\n",
    "that comparing two people whose ages differ by 20 years, the log odds\n",
    "of the older person smoking will be around 0.34 units greater than the\n",
    "log odds for the younger person smoking, and the odds for the older\n",
    "person smoking will be around `exp(0.34) = 1.4` times greater than the\n",
    "odds for the younger person smoking."
   ]
  },
  {
   "cell_type": "markdown",
   "metadata": {},
   "source": [
    "The greater prevalence of smoking history among older people could be\n",
    "partly due to the definition of smoking status that we are using here\n",
    "-- an older person has had more time to smoke 99 cigarettes than a\n",
    "younger person.  However most people who smoke begin when they are\n",
    "young, and the smoking rate in the US has been slowly declining for\n",
    "several decades.  Thus, it is likely that the increased smoking levels\n",
    "in older people are driven primarily by real shifts in behavior."
   ]
  },
  {
   "cell_type": "markdown",
   "metadata": {},
   "source": [
    "As with linear regression, the roles of age and gender in the logistic\n",
    "regression model can be seen as being additive, but here the\n",
    "additivity is on the scale of log odds, not odds or probabilities.  If\n",
    "we compare a 30 year old female to a 50 year old male, the log odds\n",
    "for the male being a smoker are `0.89 + 0.34 = 1.23` units greater\n",
    "than the log odds for the female being a smoker.  The value of 0.89 in\n",
    "this expression is the change attributable to gender, and the value of\n",
    "0.34 is the change attributable to age.  Again, we can exponentiate to\n",
    "convert these effects from the log odds scale to the odds scale.\n",
    "Since `exp(0.89 + 0.34) = exp(0.89)*exp(0.34) = 2.44*1.41` we can\n",
    "state that male gender is associated with a 2.44 fold increase in the\n",
    "odds of smoking, and 20 years of age is associated with a 2.44 fold\n",
    "increase in the odds for smoking.  These two effects are multiplied\n",
    "when discussing the odds, so a 50 year old man has `exp(1.23) = 3.42`\n",
    "fold greater odds of smoking than a 30 year old woman."
   ]
  },
  {
   "cell_type": "markdown",
   "metadata": {},
   "source": [
    "In this logistic regression model with two covariates, the\n",
    "coefficients for age and gender both have interpretations in terms of\n",
    "*conditional log odds*.  This generalizes the interpretation of a\n",
    "logistic regression coefficient in terms of marginal log odds that we\n",
    "discussed above.  When there are two or more covariates in a logistic\n",
    "regression model, we always need to think in terms of conditional, not\n",
    "marginal log odds."
   ]
  },
  {
   "cell_type": "markdown",
   "metadata": {},
   "source": [
    "Specifically, the coefficient of around 0.89 for male gender impacts\n",
    "the conditional log odds in the sense that when comparing a male to a\n",
    "female at a fixed age, the male will have 0.89 units greater log odds\n",
    "for smoking than the female.  This relationship holds within any age\n",
    "(i.e. it holds among all people of age 30, and among all people of age\n",
    "70).  In this sense, it is a *conditional* coefficient because it is\n",
    "only interpretable when holding the other variables in the model\n",
    "fixed.  Similarly, the coefficient of around 0.02 for age holds within\n",
    "a gender.  Comparing two females whose ages differ by one year, the\n",
    "older female has 0.02 units greater log odds for smoking than the\n",
    "younger female.  This same contrast holds for males."
   ]
  },
  {
   "cell_type": "markdown",
   "metadata": {},
   "source": [
    "### A logistic regression model with three predictors"
   ]
  },
  {
   "cell_type": "markdown",
   "metadata": {},
   "source": [
    "Next we fit a logistic regression model, again for smoking, including\n",
    "educational attainment as a predictor.  The educational attainment in\n",
    "NHANES is called\n",
    "[DMDEDUC2](https://wwwn.cdc.gov/Nchs/Nhanes/2015-2016/DEMO_I.htm#DMDEDUC2),\n",
    "and we will recode it so that the meaning of the levels becomes more\n",
    "clear.  We will call the recoded variable `DMDEDUC2x`."
   ]
  },
  {
   "cell_type": "code",
   "execution_count": 10,
   "metadata": {},
   "outputs": [
    {
     "data": {
      "text/html": [
       "<table class=\"simpletable\">\n",
       "<caption>Generalized Linear Model Regression Results</caption>\n",
       "<tr>\n",
       "  <th>Dep. Variable:</th>          <td>smq</td>       <th>  No. Observations:  </th>  <td>  5093</td> \n",
       "</tr>\n",
       "<tr>\n",
       "  <th>Model:</th>                  <td>GLM</td>       <th>  Df Residuals:      </th>  <td>  5086</td> \n",
       "</tr>\n",
       "<tr>\n",
       "  <th>Model Family:</th>        <td>Binomial</td>     <th>  Df Model:          </th>  <td>     6</td> \n",
       "</tr>\n",
       "<tr>\n",
       "  <th>Link Function:</th>         <td>logit</td>      <th>  Scale:             </th> <td>  1.0000</td>\n",
       "</tr>\n",
       "<tr>\n",
       "  <th>Method:</th>                <td>IRLS</td>       <th>  Log-Likelihood:    </th> <td> -3201.2</td>\n",
       "</tr>\n",
       "<tr>\n",
       "  <th>Date:</th>            <td>Mon, 10 Feb 2020</td> <th>  Deviance:          </th> <td>  6402.4</td>\n",
       "</tr>\n",
       "<tr>\n",
       "  <th>Time:</th>                <td>13:46:14</td>     <th>  Pearson chi2:      </th> <td>5.10e+03</td>\n",
       "</tr>\n",
       "<tr>\n",
       "  <th>No. Iterations:</th>          <td>4</td>        <th>                     </th>     <td> </td>   \n",
       "</tr>\n",
       "<tr>\n",
       "  <th>Covariance Type:</th>     <td>nonrobust</td>    <th>                     </th>     <td> </td>   \n",
       "</tr>\n",
       "</table>\n",
       "<table class=\"simpletable\">\n",
       "<tr>\n",
       "              <td></td>                <th>coef</th>     <th>std err</th>      <th>z</th>      <th>P>|z|</th>  <th>[0.025</th>    <th>0.975]</th>  \n",
       "</tr>\n",
       "<tr>\n",
       "  <th>Intercept</th>                <td>   -2.3060</td> <td>    0.114</td> <td>  -20.174</td> <td> 0.000</td> <td>   -2.530</td> <td>   -2.082</td>\n",
       "</tr>\n",
       "<tr>\n",
       "  <th>RIAGENDRx[T.Male]</th>        <td>    0.9096</td> <td>    0.060</td> <td>   15.118</td> <td> 0.000</td> <td>    0.792</td> <td>    1.028</td>\n",
       "</tr>\n",
       "<tr>\n",
       "  <th>DMDEDUC2x[T.HS]</th>          <td>    0.9434</td> <td>    0.090</td> <td>   10.521</td> <td> 0.000</td> <td>    0.768</td> <td>    1.119</td>\n",
       "</tr>\n",
       "<tr>\n",
       "  <th>DMDEDUC2x[T.SomeCollege]</th> <td>    0.8322</td> <td>    0.084</td> <td>    9.865</td> <td> 0.000</td> <td>    0.667</td> <td>    0.998</td>\n",
       "</tr>\n",
       "<tr>\n",
       "  <th>DMDEDUC2x[T.lt9]</th>         <td>    0.2662</td> <td>    0.109</td> <td>    2.438</td> <td> 0.015</td> <td>    0.052</td> <td>    0.480</td>\n",
       "</tr>\n",
       "<tr>\n",
       "  <th>DMDEDUC2x[T.x9_11]</th>       <td>    1.0986</td> <td>    0.107</td> <td>   10.296</td> <td> 0.000</td> <td>    0.889</td> <td>    1.308</td>\n",
       "</tr>\n",
       "<tr>\n",
       "  <th>RIDAGEYR</th>                 <td>    0.0183</td> <td>    0.002</td> <td>   10.582</td> <td> 0.000</td> <td>    0.015</td> <td>    0.022</td>\n",
       "</tr>\n",
       "</table>"
      ],
      "text/plain": [
       "<class 'statsmodels.iolib.summary.Summary'>\n",
       "\"\"\"\n",
       "                 Generalized Linear Model Regression Results                  \n",
       "==============================================================================\n",
       "Dep. Variable:                    smq   No. Observations:                 5093\n",
       "Model:                            GLM   Df Residuals:                     5086\n",
       "Model Family:                Binomial   Df Model:                            6\n",
       "Link Function:                  logit   Scale:                          1.0000\n",
       "Method:                          IRLS   Log-Likelihood:                -3201.2\n",
       "Date:                Mon, 10 Feb 2020   Deviance:                       6402.4\n",
       "Time:                        13:46:14   Pearson chi2:                 5.10e+03\n",
       "No. Iterations:                     4                                         \n",
       "Covariance Type:            nonrobust                                         \n",
       "============================================================================================\n",
       "                               coef    std err          z      P>|z|      [0.025      0.975]\n",
       "--------------------------------------------------------------------------------------------\n",
       "Intercept                   -2.3060      0.114    -20.174      0.000      -2.530      -2.082\n",
       "RIAGENDRx[T.Male]            0.9096      0.060     15.118      0.000       0.792       1.028\n",
       "DMDEDUC2x[T.HS]              0.9434      0.090     10.521      0.000       0.768       1.119\n",
       "DMDEDUC2x[T.SomeCollege]     0.8322      0.084      9.865      0.000       0.667       0.998\n",
       "DMDEDUC2x[T.lt9]             0.2662      0.109      2.438      0.015       0.052       0.480\n",
       "DMDEDUC2x[T.x9_11]           1.0986      0.107     10.296      0.000       0.889       1.308\n",
       "RIDAGEYR                     0.0183      0.002     10.582      0.000       0.015       0.022\n",
       "============================================================================================\n",
       "\"\"\""
      ]
     },
     "execution_count": 10,
     "metadata": {},
     "output_type": "execute_result"
    }
   ],
   "source": [
    "da[\"DMDEDUC2x\"] = da.DMDEDUC2.replace({1: \"lt9\", 2: \"x9_11\", 3: \"HS\", 4: \"SomeCollege\",\n",
    "                                       5: \"College\", 7: np.nan, 9: np.nan})\n",
    "model = sm.GLM.from_formula(\"smq ~ RIDAGEYR + RIAGENDRx + DMDEDUC2x\", family=sm.families.Binomial(), data=da)\n",
    "result = model.fit()\n",
    "result.summary()"
   ]
  },
  {
   "cell_type": "markdown",
   "metadata": {},
   "source": [
    "We see that the \"Female\" level of the gender variable, and the\n",
    "\"College\" level of the educational attainment variable are the\n",
    "reference levels, as they are not shown in the output above.  We have\n",
    "discussed the gender and age variables above, but the educational\n",
    "attainment variable is new for us.  All non-reference coefficients for\n",
    "the educational attainment are positive, while the `College`\n",
    "coefficient, as the reference coefficient, is exactly zero.  Thus, we\n",
    "see that people with a college degree have the lowest rate of smoking,\n",
    "followed by people with less than 9 years of schooling, then (after a\n",
    "large gap) people with some college, then people with a high school\n",
    "degree (and no college), and finally (with the greatest rate of\n",
    "smoking), people with 9-11 years of schooling.  The overall story here\n",
    "is that smoking rates are much lower for people who graduated from\n",
    "college or did not start high school, presumably for very different\n",
    "reasons.  On the other hand, people with some high school, people who\n",
    "completed high school, and people who began but did not complete\n",
    "college have much higher rates of smoking.  The odds ratio between the\n",
    "former and the latter group depends on the specific subgroups being\n",
    "compared, but can be almost `3 = exp(1.09)`."
   ]
  },
  {
   "cell_type": "markdown",
   "metadata": {},
   "source": [
    "As noted above when we were discussing linear regression, it is\n",
    "important to remember that a coefficient in a logistic regression are\n",
    "\"conditional\" on the other variables being held fixed.  For example,\n",
    "the log odds ratio of 1.09 between people with 9-11 years of schooling\n",
    "and people who completed college applies only when comparing people\n",
    "with the same age and gender."
   ]
  },
  {
   "cell_type": "markdown",
   "metadata": {},
   "source": [
    "### Visualization of the fitted models"
   ]
  },
  {
   "cell_type": "markdown",
   "metadata": {},
   "source": [
    "Visualization of fitted logistic regression models is more challenging\n",
    "than visualization of fitted linear models, but is still worth\n",
    "pursuing.  We can begin by plotting the fitted proportion of the\n",
    "population that smokes, for various subpopulations defined by the\n",
    "regression model.  We will focus here on how the smoking rate varies\n",
    "with age, so we restrict the population to female college graduates."
   ]
  },
  {
   "cell_type": "markdown",
   "metadata": {},
   "source": [
    "The following plot shows the fitted log odds (or logit) probability\n",
    "for the smoking outcome as a function of age.  The grey band is a\n",
    "simultaneous 95% simultaneous confidence band, as discussed above in\n",
    "the case of a linear model."
   ]
  },
  {
   "cell_type": "code",
   "execution_count": 11,
   "metadata": {},
   "outputs": [
    {
     "data": {
      "image/png": "[encoded data removed]",
      "text/plain": [
       "<Figure size 432x288 with 1 Axes>"
      ]
     },
     "metadata": {
      "needs_background": "light"
     },
     "output_type": "display_data"
    }
   ],
   "source": [
    "from statsmodels.sandbox.predict_functional import predict_functional\n",
    "\n",
    "values = {\"RIAGENDRx\": \"Female\", \"RIAGENDR\": 1, \"BMXBMI\": 25,\n",
    "          \"DMDEDUC2\": 1, \"RIDRETH1\": 1, \"SMQ020\": 1,\n",
    "          \"DMDEDUC2x\": \"College\", \"BPXSY1\": 120}\n",
    "\n",
    "pr, cb, fv = predict_functional(result, \"RIDAGEYR\",\n",
    "                values=values, ci_method=\"simultaneous\")\n",
    "\n",
    "ax = sns.lineplot(fv, pr, lw=4)\n",
    "ax.fill_between(fv, cb[:, 0], cb[:, 1], color='grey', alpha=0.4)\n",
    "ax.set_xlabel(\"Age\")\n",
    "_ = ax.set_ylabel(\"Smoking\")"
   ]
  },
  {
   "cell_type": "markdown",
   "metadata": {},
   "source": [
    "We can display the same plot in terms of probabilities instead of in\n",
    "terms of log odds.  The probability can be obtained from the log odds\n",
    "using the relationship `p = 1 / (1 + exp(-o))` where `o` is the log\n",
    "odds.  Note that while the age and log odds are linearly related, age\n",
    "has a curved relationship with probability.  This is necessary since\n",
    "probabilities must remain between 0 and 1, a linear relationship would\n",
    "eventually exit the domain."
   ]
  },
  {
   "cell_type": "code",
   "execution_count": 12,
   "metadata": {},
   "outputs": [
    {
     "data": {
      "image/png": "[encoded data removed]",
      "text/plain": [
       "<Figure size 432x288 with 1 Axes>"
      ]
     },
     "metadata": {
      "needs_background": "light"
     },
     "output_type": "display_data"
    }
   ],
   "source": [
    "pr1 = 1 / (1 + np.exp(-pr))\n",
    "cb1 = 1 / (1 + np.exp(-cb))\n",
    "ax = sns.lineplot(fv, pr1, lw=4)\n",
    "ax.fill_between(fv, cb1[:, 0], cb1[:, 1], color='grey', alpha=0.4)\n",
    "ax.set_xlabel(\"Age\", size=15)\n",
    "_ = ax.set_ylabel(\"Smoking\", size=15)"
   ]
  },
  {
   "cell_type": "markdown",
   "metadata": {},
   "source": [
    "Next we turn to diagnostic plots that are intended to reveal certain\n",
    "aspects of the data that may not be correctly captured by the model.\n",
    "The three plots below are intended to reveal any curvature in the mean\n",
    "relationship between the outcome and one of the covariates. We used\n",
    "the partial regression plotting technique above for this same purpose\n",
    "when working with linear models."
   ]
  },
  {
   "cell_type": "markdown",
   "metadata": {},
   "source": [
    "In the case of logistic regression, the three techniques demonstrated\n",
    "below can identify major discrepancies between the fitted model and\n",
    "the population, but evidence for small discrepancies is not reliable\n",
    "unless the sample size is very large.  The CERES technique has the\n",
    "strongest theoretical support.  The red curve in the plots below shows\n",
    "an estimate of the true role `RIDAGEYR` in the model, not assuming it\n",
    "to be linear (but leaving everything else linear).  Thus, we are\n",
    "working with the linear predictor"
   ]
  },
  {
   "cell_type": "markdown",
   "metadata": {},
   "source": [
    "$$\n",
    "\\beta_0 + \\beta_1{\\rm Male} + \\cdots + \\beta_5{\\rm Educ9_11} + h({\\rm RIDAGEYR}),\n",
    "$$"
   ]
  },
  {
   "cell_type": "markdown",
   "metadata": {},
   "source": [
    "and the CERES analysis estimates the shape of the function $h$."
   ]
  },
  {
   "cell_type": "markdown",
   "metadata": {
    "lines_to_next_cell": 2
   },
   "source": [
    "Taken at face value, the plots below suggest that smoking rates may\n",
    "rise slightly faster for people between the ages of 20 and 35, and\n",
    "again for people between the ages of 50 and 60, with a period of\n",
    "minimal increase between these age intervals.  This would contradict\n",
    "the perfectly linear model for age (on the log odds scale) that we\n",
    "have specified in our model.  These plotting techniques can be useful\n",
    "at identifying possible opportunities for future analysis with\n",
    "additional data, but do not identify features that can be claimed with\n",
    "high confidence using the present data."
   ]
  },
  {
   "cell_type": "code",
   "execution_count": 13,
   "metadata": {},
   "outputs": [
    {
     "data": {
      "image/png": "[encoded data removed]",
      "text/plain": [
       "<Figure size 432x288 with 1 Axes>"
      ]
     },
     "metadata": {
      "needs_background": "light"
     },
     "output_type": "display_data"
    },
    {
     "data": {
      "image/png": "[encoded data removed]",
      "text/plain": [
       "<Figure size 432x288 with 1 Axes>"
      ]
     },
     "metadata": {
      "needs_background": "light"
     },
     "output_type": "display_data"
    },
    {
     "data": {
      "image/png": "[encoded data removed]",
      "text/plain": [
       "<Figure size 432x288 with 1 Axes>"
      ]
     },
     "metadata": {
      "needs_background": "light"
     },
     "output_type": "display_data"
    }
   ],
   "source": [
    "fig = result.plot_partial_residuals(\"RIDAGEYR\")\n",
    "ax = fig.get_axes()[0]\n",
    "ax.lines[0].set_alpha(0.2)\n",
    "\n",
    "from statsmodels.graphics.regressionplots import add_lowess\n",
    "_ = add_lowess(ax)\n",
    "\n",
    "fig = result.plot_added_variable(\"RIDAGEYR\")\n",
    "ax = fig.get_axes()[0]\n",
    "ax.lines[0].set_alpha(0.2)\n",
    "_ = add_lowess(ax)\n",
    "\n",
    "fig = result.plot_ceres_residuals(\"RIDAGEYR\")\n",
    "ax = fig.get_axes()[0]\n",
    "ax.lines[0].set_alpha(0.2)\n",
    "_ = add_lowess(ax)"
   ]
  },
  {
   "cell_type": "markdown",
   "metadata": {},
   "source": [
    "# Poisson regression"
   ]
  },
  {
   "cell_type": "markdown",
   "metadata": {},
   "source": [
    "Poisson regression is a type of GLM based on the Poisson distribution.\n",
    "A Poisson random variable is supported on the non-negative integers,\n",
    "and its distribution is fully determined by its mean $\\mu$.  The\n",
    "Poisson distribution can be used to describe many phenomena, but is\n",
    "particularly useful when we are observing the number of times that\n",
    "some event happened, when there were a large number of opportunities\n",
    "for the event to happen, each with a small probability.  For example,\n",
    "suppose we have a large sample of automobile drivers and divide them into\n",
    "disjoint groups of 10,000 drivers at random.  If we were then to count\n",
    "the total number of traffic accidents per group, these counts may\n",
    "follow a Poisson distribution."
   ]
  },
  {
   "cell_type": "markdown",
   "metadata": {},
   "source": [
    "In a regression setting, we want the distribution of the dependent\n",
    "variable $y$ to be related to the covariate vector $x$.  Thus, for\n",
    "Poisson regression we want the mean of $y$ to be expressed as\n",
    "$\\mu(x)$.  In Poisson regression, this is usually accomplished using\n",
    "the log link function, so that"
   ]
  },
  {
   "cell_type": "markdown",
   "metadata": {},
   "source": [
    "$$\n",
    "\\log(\\mu) = \\log E[y|x_1, \\ldots, x_p] = b_0 + b_1x_1 + \\cdots + b_px_p.\n",
    "$$"
   ]
  },
  {
   "cell_type": "markdown",
   "metadata": {},
   "source": [
    "The Poisson distribution has the property that the variance is equal\n",
    "to the mean.  Thus the mean/variance relationship in a Poisson\n",
    "regression is described by ${\\rm Var}(\\mu) = \\mu$.  In practice, data\n",
    "that seem to be good candidates for modeling with a Poisson\n",
    "distribution often turn out to not follow a Poisson distribution very\n",
    "well because the mean/variance relationship in the data is very\n",
    "different from ${\\rm Var}(\\mu) = \\mu$.  We will see this below and\n",
    "discuss some additional GLM approaches that are closely related to the\n",
    "Poisson GLM, but that specify the mean/variance relationship in a\n",
    "different way."
   ]
  },
  {
   "cell_type": "markdown",
   "metadata": {},
   "source": [
    "### Poisson models for cluster totals"
   ]
  },
  {
   "cell_type": "markdown",
   "metadata": {},
   "source": [
    "As an initial illustration, we will construct a summarized version of\n",
    "the NHANES data that is a good candidate for Poisson regression.\n",
    "NHANES aims to provide a sample of subjects that is representative of\n",
    "the US adult population.  It does this using a technique called\n",
    "*stratified cluster sampling*, which is widely utilized in surveys.\n",
    "For our purposes, we can think of the strata and clusters as being\n",
    "distinct geographical locations where NHANES recruited subjects (the\n",
    "reality is more complex than this, as the actual location information\n",
    "cannot be disclosed for confidentiality reasons).  For illustration,\n",
    "we will treat each combination of the stratum variable `SDMVSTRA` and\n",
    "the cluster variable `SDMVPSU` as defining a block of subjects.\n",
    "Within each block, we will calculate summary statistics and analyze\n",
    "them using Poisson regression."
   ]
  },
  {
   "cell_type": "code",
   "execution_count": 14,
   "metadata": {},
   "outputs": [
    {
     "name": "stdout",
     "output_type": "stream",
     "text": [
      "                      N  HighBP        Age  INDFMPIR      Male   Married\n",
      "SDMVSTRA SDMVPSU                                                        \n",
      "119      1        170.0    18.0  47.747059  2.324718  0.423529  0.388235\n",
      "         2        127.0    23.0  53.464567  2.446147  0.346457  0.346457\n",
      "120      1        199.0    22.0  43.381910  1.952376  0.502513  0.608040\n",
      "         2        145.0    10.0  44.482759  2.958462  0.503448  0.572414\n",
      "121      1        202.0    31.0  45.608911  1.996270  0.514851  0.405941\n"
     ]
    }
   ],
   "source": [
    "url = \"https://raw.githubusercontent.com/kshedden/statswpy/master/NHANES/merged/nhanes_2015_2016.csv\"\n",
    "da = pd.read_csv(url)\n",
    "\n",
    "dx = da.groupby([\"SDMVSTRA\", \"SDMVPSU\"]).agg({\"BPXSY1\": [np.size, lambda x: np.sum(x > 140)],\n",
    "                                              \"RIDAGEYR\": np.mean, \"INDFMPIR\": np.mean,\n",
    "                                              \"RIAGENDR\": lambda x: np.mean(x == 1),\n",
    "                                              \"DMDMARTL\": lambda x: np.mean(x == 1)})\n",
    "\n",
    "# Give the variables better names\n",
    "dx.columns = [':'.join(c).strip() for c in dx.columns.values]\n",
    "dx = dx.rename(columns={\"RIDAGEYR:mean\": \"Age\", \"BPXSY1:size\": \"N\",\n",
    "                        \"BPXSY1:<lambda_0>\": \"HighBP\", \"INDFMPIR:mean\": \"INDFMPIR\",\n",
    "                        \"RIAGENDR:<lambda>\": \"Male\", \"DMDMARTL:<lambda>\": \"Married\"})\n",
    "print(dx.head())"
   ]
  },
  {
   "cell_type": "markdown",
   "metadata": {},
   "source": [
    "As a specific example, below we take the number of people in each\n",
    "block who have high blood pressure (systolic blood pressure greater\n",
    "than 140) as the dependent variable, and use block-level mean age,\n",
    "poverty level (mean INDFMPIR), gender (proportion of males), and\n",
    "marriage rates as predictors."
   ]
  },
  {
   "cell_type": "markdown",
   "metadata": {},
   "source": [
    "Note that in practice, we would not normally take an individual-level\n",
    "dataset like NHANES and summarize it like this before doing regression\n",
    "analysis.  Instead, we would generally prefer to analyze the\n",
    "individual-level data directly.  However there are many important data\n",
    "sets that provide only block-level summaries, so this is an\n",
    "illustration of a technique that is often useful in practice."
   ]
  },
  {
   "cell_type": "markdown",
   "metadata": {},
   "source": [
    "As discussed above, Poisson regression is especially useful for an\n",
    "outcome variable that is a count.  Here, all the people in one block\n",
    "are \"at risk\" for having high blood pressure, and only a subset of\n",
    "them actually have high blood pressure.  Some blocks have more people\n",
    "than others, and all else being equal, those blocks are expected to\n",
    "have more people with high blood pressure.  We account for this by\n",
    "including the log of the sample size as a covariate (we will explain\n",
    "why this variable is log transformed below).  In addition, some blocks\n",
    "will have older people (on average), or will have greater prevalence\n",
    "of other risk factors for high blood pressure.  We can use Poisson\n",
    "regression to assess which block-level characteristics are associated\n",
    "with higher or lower prevalence of high blood pressure."
   ]
  },
  {
   "cell_type": "code",
   "execution_count": 15,
   "metadata": {},
   "outputs": [
    {
     "name": "stdout",
     "output_type": "stream",
     "text": [
      "                 Generalized Linear Model Regression Results                  \n",
      "==============================================================================\n",
      "Dep. Variable:                 HighBP   No. Observations:                   30\n",
      "Model:                            GLM   Df Residuals:                       24\n",
      "Model Family:                 Poisson   Df Model:                            5\n",
      "Link Function:                    log   Scale:                          1.0181\n",
      "Method:                          IRLS   Log-Likelihood:                -88.381\n",
      "Date:                Mon, 10 Feb 2020   Deviance:                       24.979\n",
      "Time:                        13:46:16   Pearson chi2:                     24.4\n",
      "No. Iterations:                     6                                         \n",
      "Covariance Type:            nonrobust                                         \n",
      "==============================================================================\n",
      "                 coef    std err          z      P>|z|      [0.025      0.975]\n",
      "------------------------------------------------------------------------------\n",
      "Intercept     -6.6637      1.724     -3.866      0.000     -10.042      -3.286\n",
      "logN           1.7306      0.324      5.338      0.000       1.095       2.366\n",
      "Age            0.0432      0.011      3.786      0.000       0.021       0.066\n",
      "INDFMPIR      -0.1311      0.118     -1.108      0.268      -0.363       0.101\n",
      "Male          -0.7886      1.054     -0.748      0.455      -2.855       1.278\n",
      "Married       -0.9025      0.437     -2.067      0.039      -1.758      -0.047\n",
      "==============================================================================\n",
      "1.018132583701166\n"
     ]
    }
   ],
   "source": [
    "dx[\"logN\"] = np.log(dx.N)\n",
    "model = sm.GLM.from_formula(\"HighBP ~ logN + Age + INDFMPIR + Male + Married\", family=sm.families.Poisson(), data=dx)\n",
    "result = model.fit(scale=\"X2\")\n",
    "print(result.summary())\n",
    "print(result.scale)"
   ]
  },
  {
   "cell_type": "markdown",
   "metadata": {},
   "source": [
    "The results above indicate that larger blocks have more people with\n",
    "high blood pressure.  Also, blocks with an older population or with\n",
    "lower marriage rates also have higher blood pressure.  There is no\n",
    "evidence here that wealth (INDFMPIR) or gender (Male) relate to\n",
    "blood pressure.  The lack of a role for wealth potentially relates\n",
    "to its correlation with marriage rate (take marriage rate out of the\n",
    "model and the wealth effect becomes statistically significant).  It\n",
    "is well-established that men have higher blood pressure than women\n",
    "on average (controlling for age).  The lack of an apparent role for\n",
    "gender here may be because the blocks we are using have little\n",
    "variation in gender."
   ]
  },
  {
   "cell_type": "markdown",
   "metadata": {},
   "source": [
    "Regarding the log-transformation of the block size value, recall\n",
    "that the mean for the Poisson model can be written"
   ]
  },
  {
   "cell_type": "markdown",
   "metadata": {},
   "source": [
    "$$\n",
    "\\mu_i = \\exp(\\beta_0 + \\beta_1\\log(N_i) + \\cdots) =\n",
    "\\exp(\\beta_0)\\cdot N_i^{\\beta_1} \\cdots\n",
    "$$"
   ]
  },
  {
   "cell_type": "markdown",
   "metadata": {},
   "source": [
    "Thus we see that when $\\beta_1 \\approx 1$, the number of people with\n",
    "high blood pressure scales directly with the block size, for fixed\n",
    "values of the other covariates in the model.  Here however, the\n",
    "coefficient for $\\log(N_i)$ is somewhat bigger than $1$, suggesting\n",
    "that the larger blocks have even more cases of high blood pressure\n",
    "than expected under 1:1 scaling."
   ]
  },
  {
   "cell_type": "markdown",
   "metadata": {},
   "source": [
    "The mean/variance relationship for a Poisson model is ${\\rm\n",
    "Var}(\\mu) = \\mu$.  There is a larger class of GLM's called\n",
    "*quasi-Poisson GLMs* which have the mean/variance relationship ${\\rm\n",
    "Var}(\\mu) = \\phi\\mu$, for an unknown scale parameter $\\phi$ that can\n",
    "be estimated from the data.  It turns out that the parameter\n",
    "estimates of the $\\beta_j$ are the same under a quasi-Poisson and a\n",
    "Poisson model.  However the standard errors and other quantities\n",
    "differ.  By using `scale='X2'` in the `fit` method call, we are\n",
    "stipulating that a quasi-Poisson model be fit.  We can then inspect\n",
    "the estimated value of the scale parameter to see that it is very\n",
    "close to $1$.  Thus, in this case, the Poisson model seems\n",
    "well-justified."
   ]
  },
  {
   "cell_type": "markdown",
   "metadata": {},
   "source": [
    "Another family of GLMs that can be considered here is the *negative\n",
    "binomial* family.  These GLMs typically also use the log as the link\n",
    "function, but have a more general mean/variance relationship of the\n",
    "form ${\\rm Var}(\\mu) = \\mu + \\alpha\\mu^2$.  The additional parameter\n",
    "$\\alpha$ here is a shape parameter that controls how the mean and\n",
    "variance are related.  If $\\alpha = 0$, we have a Poisson-like\n",
    "mean/variance relationship.  Larger values of $\\alpha$ capture one\n",
    "form of overdispersion."
   ]
  },
  {
   "cell_type": "markdown",
   "metadata": {},
   "source": [
    "The shape parameter in a negative binomial GLM can be estimated\n",
    "using maximum likelihood.  Here we consider a sequence of possible\n",
    "shape parameter values and determine their log-likelihood values.\n",
    "Since the highest likelihood is achieved for the smallest value of\n",
    "the shape parameter, this is further evidence that the data we are\n",
    "working with here is well-described by the Poisson GLM."
   ]
  },
  {
   "cell_type": "code",
   "execution_count": 16,
   "metadata": {},
   "outputs": [
    {
     "name": "stdout",
     "output_type": "stream",
     "text": [
      "Negative binomial log-likelihoods:\n",
      "0.1 -101.66238958222229\n",
      "0.5 -120.24376082407467\n"
     ]
    },
    {
     "name": "stdout",
     "output_type": "stream",
     "text": [
      "1 -130.78059783037492\n",
      "2 -142.79485300446368\n"
     ]
    }
   ],
   "source": [
    "# Fit some negative binomial models\n",
    "print(\"Negative binomial log-likelihoods:\")\n",
    "for shape in 0.1, 0.5, 1, 2:\n",
    "    model = sm.GLM.from_formula(\"HighBP ~ logN + Age + INDFMPIR + Male + Married\",\n",
    "                  family=sm.families.NegativeBinomial(alpha=shape), data=dx)\n",
    "    result = model.fit()\n",
    "    print(shape, result.llf)"
   ]
  },
  {
   "cell_type": "markdown",
   "metadata": {},
   "source": [
    "## Poisson regression for household size"
   ]
  },
  {
   "cell_type": "markdown",
   "metadata": {},
   "source": [
    "As a second illustration of Poisson GLM, we will use the household\n",
    "size variable `DMDHHSIZ` from NHANES.  The household size values\n",
    "range from 1 to 7 in NHANES (they are truncated at 7).  It is an\n",
    "interesting and important topic in demographics to understand what\n",
    "characteristics are associated with either lower or higher household\n",
    "size."
   ]
  },
  {
   "cell_type": "markdown",
   "metadata": {},
   "source": [
    "First we create a dataset that includes the household size variable\n",
    "(`DMDHHSIZ`), along with some other variables that may be related to\n",
    "it."
   ]
  },
  {
   "cell_type": "code",
   "execution_count": 17,
   "metadata": {},
   "outputs": [
    {
     "name": "stdout",
     "output_type": "stream",
     "text": [
      "DMDEDUC2     261\n",
      "DMDHHSIZ       0\n",
      "DMDCITZN       1\n",
      "RIDRETH1       0\n",
      "RIAGENDR       0\n",
      "INDFMPIR     601\n",
      "DMDMARTL     261\n",
      "RIDAGEYR       0\n",
      "RIAGENDRx      0\n",
      "dtype: int64\n",
      "(5735, 9)\n",
      "(4908, 9)\n"
     ]
    }
   ],
   "source": [
    "url = \"https://raw.githubusercontent.com/kshedden/statswpy/master/NHANES/merged/nhanes_2015_2016.csv\"\n",
    "da = pd.read_csv(url)\n",
    "\n",
    "da = da[[\"DMDEDUC2\", \"DMDHHSIZ\", \"DMDCITZN\", \"RIDRETH1\", \"RIAGENDR\", \"INDFMPIR\", \"DMDMARTL\", \"RIDAGEYR\"]]\n",
    "\n",
    "da[\"RIAGENDRx\"] = da.RIAGENDR.replace({1: \"Male\", 2: \"Female\"})\n",
    "\n",
    "# Check to see what we lose by dropping rows with missing values\n",
    "print(pd.isnull(da).sum(0))\n",
    "print(da.shape)\n",
    "print(da.dropna().shape)\n",
    "da = da.dropna()"
   ]
  },
  {
   "cell_type": "markdown",
   "metadata": {},
   "source": [
    "Next we fit a model predicting the size of a person's household from\n",
    "the person's age and gender, including an interaction between age\n",
    "and gender, and using splines to allow for curvature in the role of\n",
    "age."
   ]
  },
  {
   "cell_type": "code",
   "execution_count": 18,
   "metadata": {},
   "outputs": [
    {
     "data": {
      "text/html": [
       "<table class=\"simpletable\">\n",
       "<caption>Generalized Linear Model Regression Results</caption>\n",
       "<tr>\n",
       "  <th>Dep. Variable:</th>       <td>DMDHHSIZ</td>     <th>  No. Observations:  </th>  <td>  4908</td> \n",
       "</tr>\n",
       "<tr>\n",
       "  <th>Model:</th>                  <td>GLM</td>       <th>  Df Residuals:      </th>  <td>  4900</td> \n",
       "</tr>\n",
       "<tr>\n",
       "  <th>Model Family:</th>         <td>Poisson</td>     <th>  Df Model:          </th>  <td>     7</td> \n",
       "</tr>\n",
       "<tr>\n",
       "  <th>Link Function:</th>          <td>log</td>       <th>  Scale:             </th> <td>  1.0000</td>\n",
       "</tr>\n",
       "<tr>\n",
       "  <th>Method:</th>                <td>IRLS</td>       <th>  Log-Likelihood:    </th> <td> -9055.3</td>\n",
       "</tr>\n",
       "<tr>\n",
       "  <th>Date:</th>            <td>Mon, 10 Feb 2020</td> <th>  Deviance:          </th> <td>  3710.5</td>\n",
       "</tr>\n",
       "<tr>\n",
       "  <th>Time:</th>                <td>13:46:17</td>     <th>  Pearson chi2:      </th> <td>3.85e+03</td>\n",
       "</tr>\n",
       "<tr>\n",
       "  <th>No. Iterations:</th>          <td>4</td>        <th>                     </th>     <td> </td>   \n",
       "</tr>\n",
       "<tr>\n",
       "  <th>Covariance Type:</th>     <td>nonrobust</td>    <th>                     </th>     <td> </td>   \n",
       "</tr>\n",
       "</table>\n",
       "<table class=\"simpletable\">\n",
       "<tr>\n",
       "                    <td></td>                      <th>coef</th>     <th>std err</th>      <th>z</th>      <th>P>|z|</th>  <th>[0.025</th>    <th>0.975]</th>  \n",
       "</tr>\n",
       "<tr>\n",
       "  <th>Intercept</th>                            <td>    1.2032</td> <td>    0.040</td> <td>   29.825</td> <td> 0.000</td> <td>    1.124</td> <td>    1.282</td>\n",
       "</tr>\n",
       "<tr>\n",
       "  <th>RIAGENDRx[T.Male]</th>                    <td>    0.0120</td> <td>    0.059</td> <td>    0.204</td> <td> 0.838</td> <td>   -0.103</td> <td>    0.127</td>\n",
       "</tr>\n",
       "<tr>\n",
       "  <th>bs(RIDAGEYR, 3)[0]</th>                   <td>    0.5898</td> <td>    0.118</td> <td>    4.996</td> <td> 0.000</td> <td>    0.358</td> <td>    0.821</td>\n",
       "</tr>\n",
       "<tr>\n",
       "  <th>bs(RIDAGEYR, 3)[1]</th>                   <td>   -0.3711</td> <td>    0.079</td> <td>   -4.720</td> <td> 0.000</td> <td>   -0.525</td> <td>   -0.217</td>\n",
       "</tr>\n",
       "<tr>\n",
       "  <th>bs(RIDAGEYR, 3)[2]</th>                   <td>   -0.4739</td> <td>    0.067</td> <td>   -7.105</td> <td> 0.000</td> <td>   -0.605</td> <td>   -0.343</td>\n",
       "</tr>\n",
       "<tr>\n",
       "  <th>bs(RIDAGEYR, 3)[0]:RIAGENDRx[T.Male]</th> <td>   -0.1551</td> <td>    0.171</td> <td>   -0.909</td> <td> 0.363</td> <td>   -0.490</td> <td>    0.179</td>\n",
       "</tr>\n",
       "<tr>\n",
       "  <th>bs(RIDAGEYR, 3)[1]:RIAGENDRx[T.Male]</th> <td>    0.1374</td> <td>    0.112</td> <td>    1.229</td> <td> 0.219</td> <td>   -0.082</td> <td>    0.356</td>\n",
       "</tr>\n",
       "<tr>\n",
       "  <th>bs(RIDAGEYR, 3)[2]:RIAGENDRx[T.Male]</th> <td>    0.0061</td> <td>    0.096</td> <td>    0.063</td> <td> 0.949</td> <td>   -0.181</td> <td>    0.193</td>\n",
       "</tr>\n",
       "</table>"
      ],
      "text/plain": [
       "<class 'statsmodels.iolib.summary.Summary'>\n",
       "\"\"\"\n",
       "                 Generalized Linear Model Regression Results                  \n",
       "==============================================================================\n",
       "Dep. Variable:               DMDHHSIZ   No. Observations:                 4908\n",
       "Model:                            GLM   Df Residuals:                     4900\n",
       "Model Family:                 Poisson   Df Model:                            7\n",
       "Link Function:                    log   Scale:                          1.0000\n",
       "Method:                          IRLS   Log-Likelihood:                -9055.3\n",
       "Date:                Mon, 10 Feb 2020   Deviance:                       3710.5\n",
       "Time:                        13:46:17   Pearson chi2:                 3.85e+03\n",
       "No. Iterations:                     4                                         \n",
       "Covariance Type:            nonrobust                                         \n",
       "========================================================================================================\n",
       "                                           coef    std err          z      P>|z|      [0.025      0.975]\n",
       "--------------------------------------------------------------------------------------------------------\n",
       "Intercept                                1.2032      0.040     29.825      0.000       1.124       1.282\n",
       "RIAGENDRx[T.Male]                        0.0120      0.059      0.204      0.838      -0.103       0.127\n",
       "bs(RIDAGEYR, 3)[0]                       0.5898      0.118      4.996      0.000       0.358       0.821\n",
       "bs(RIDAGEYR, 3)[1]                      -0.3711      0.079     -4.720      0.000      -0.525      -0.217\n",
       "bs(RIDAGEYR, 3)[2]                      -0.4739      0.067     -7.105      0.000      -0.605      -0.343\n",
       "bs(RIDAGEYR, 3)[0]:RIAGENDRx[T.Male]    -0.1551      0.171     -0.909      0.363      -0.490       0.179\n",
       "bs(RIDAGEYR, 3)[1]:RIAGENDRx[T.Male]     0.1374      0.112      1.229      0.219      -0.082       0.356\n",
       "bs(RIDAGEYR, 3)[2]:RIAGENDRx[T.Male]     0.0061      0.096      0.063      0.949      -0.181       0.193\n",
       "========================================================================================================\n",
       "\"\"\""
      ]
     },
     "execution_count": 18,
     "metadata": {},
     "output_type": "execute_result"
    }
   ],
   "source": [
    "model = sm.GLM.from_formula(\"DMDHHSIZ ~ bs(RIDAGEYR, 3)*RIAGENDRx\", family=sm.families.Poisson(), data=da)\n",
    "result = model.fit()\n",
    "result.summary()"
   ]
  },
  {
   "cell_type": "markdown",
   "metadata": {},
   "source": [
    "There is a strong association between age and household size, but\n",
    "there isn't much evidence that gender plays a role here.\n",
    "Nevertheless we will make a plot of the fitted means by gender just\n",
    "to see how they look:"
   ]
  },
  {
   "cell_type": "code",
   "execution_count": 19,
   "metadata": {},
   "outputs": [
    {
     "data": {
      "text/plain": [
       "Text(0, 0.5, 'Log expected household size')"
      ]
     },
     "execution_count": 19,
     "metadata": {},
     "output_type": "execute_result"
    },
    {
     "data": {
      "image/png": "[encoded data removed]",
      "text/plain": [
       "<Figure size 432x288 with 1 Axes>"
      ]
     },
     "metadata": {
      "needs_background": "light"
     },
     "output_type": "display_data"
    }
   ],
   "source": [
    "values = {\"DMDHHSIZ\": 0, \"DMDCITZN\": 0, \"RIAGENDR\": 0, \"DMDEDUC2\": 0, \"INDFMPIR\": 0,\n",
    "          \"RIDRETH1\": 0, \"DMDMARTL\": 0}\n",
    "\n",
    "for gender in \"Female\", \"Male\":\n",
    "    values[\"RIAGENDRx\"] = gender\n",
    "    pr, cb, fv = predict_functional(result, \"RIDAGEYR\",\n",
    "                    values=values, ci_method=\"simultaneous\")\n",
    "    ax = sns.lineplot(fv, pr, lw=4, label=gender)\n",
    "\n",
    "ax.set_xlabel(\"Age\")\n",
    "ax.set_ylabel(\"Log expected household size\")"
   ]
  },
  {
   "cell_type": "markdown",
   "metadata": {},
   "source": [
    "Marital status likely also plays a role, and it turns out that a role\n",
    "for gender also emerges now that we consider marital status:"
   ]
  },
  {
   "cell_type": "code",
   "execution_count": 20,
   "metadata": {},
   "outputs": [
    {
     "data": {
      "text/html": [
       "<table class=\"simpletable\">\n",
       "<caption>Generalized Linear Model Regression Results</caption>\n",
       "<tr>\n",
       "  <th>Dep. Variable:</th>       <td>DMDHHSIZ</td>     <th>  No. Observations:  </th>  <td>  4908</td> \n",
       "</tr>\n",
       "<tr>\n",
       "  <th>Model:</th>                  <td>GLM</td>       <th>  Df Residuals:      </th>  <td>  4895</td> \n",
       "</tr>\n",
       "<tr>\n",
       "  <th>Model Family:</th>         <td>Poisson</td>     <th>  Df Model:          </th>  <td>    12</td> \n",
       "</tr>\n",
       "<tr>\n",
       "  <th>Link Function:</th>          <td>log</td>       <th>  Scale:             </th> <td> 0.76353</td>\n",
       "</tr>\n",
       "<tr>\n",
       "  <th>Method:</th>                <td>IRLS</td>       <th>  Log-Likelihood:    </th> <td> -11697.</td>\n",
       "</tr>\n",
       "<tr>\n",
       "  <th>Date:</th>            <td>Mon, 10 Feb 2020</td> <th>  Deviance:          </th> <td>  3462.1</td>\n",
       "</tr>\n",
       "<tr>\n",
       "  <th>Time:</th>                <td>13:46:17</td>     <th>  Pearson chi2:      </th> <td>3.74e+03</td>\n",
       "</tr>\n",
       "<tr>\n",
       "  <th>No. Iterations:</th>          <td>7</td>        <th>                     </th>     <td> </td>   \n",
       "</tr>\n",
       "<tr>\n",
       "  <th>Covariance Type:</th>     <td>nonrobust</td>    <th>                     </th>     <td> </td>   \n",
       "</tr>\n",
       "</table>\n",
       "<table class=\"simpletable\">\n",
       "<tr>\n",
       "                    <td></td>                      <th>coef</th>     <th>std err</th>      <th>z</th>      <th>P>|z|</th>  <th>[0.025</th>    <th>0.975]</th>  \n",
       "</tr>\n",
       "<tr>\n",
       "  <th>Intercept</th>                            <td>    1.2611</td> <td>    0.038</td> <td>   33.400</td> <td> 0.000</td> <td>    1.187</td> <td>    1.335</td>\n",
       "</tr>\n",
       "<tr>\n",
       "  <th>RIAGENDRx[T.Male]</th>                    <td>    0.0236</td> <td>    0.051</td> <td>    0.465</td> <td> 0.642</td> <td>   -0.076</td> <td>    0.123</td>\n",
       "</tr>\n",
       "<tr>\n",
       "  <th>bs(RIDAGEYR, 3)[0]</th>                   <td>    0.2899</td> <td>    0.120</td> <td>    2.413</td> <td> 0.016</td> <td>    0.054</td> <td>    0.525</td>\n",
       "</tr>\n",
       "<tr>\n",
       "  <th>bs(RIDAGEYR, 3)[1]</th>                   <td>   -0.5220</td> <td>    0.086</td> <td>   -6.058</td> <td> 0.000</td> <td>   -0.691</td> <td>   -0.353</td>\n",
       "</tr>\n",
       "<tr>\n",
       "  <th>bs(RIDAGEYR, 3)[2]</th>                   <td>   -0.6180</td> <td>    0.064</td> <td>   -9.585</td> <td> 0.000</td> <td>   -0.744</td> <td>   -0.492</td>\n",
       "</tr>\n",
       "<tr>\n",
       "  <th>bs(RIDAGEYR, 3)[0]:RIAGENDRx[T.Male]</th> <td>   -0.4087</td> <td>    0.153</td> <td>   -2.665</td> <td> 0.008</td> <td>   -0.709</td> <td>   -0.108</td>\n",
       "</tr>\n",
       "<tr>\n",
       "  <th>bs(RIDAGEYR, 3)[1]:RIAGENDRx[T.Male]</th> <td>    0.0656</td> <td>    0.101</td> <td>    0.649</td> <td> 0.517</td> <td>   -0.133</td> <td>    0.264</td>\n",
       "</tr>\n",
       "<tr>\n",
       "  <th>bs(RIDAGEYR, 3)[2]:RIAGENDRx[T.Male]</th> <td>   -0.2089</td> <td>    0.087</td> <td>   -2.391</td> <td> 0.017</td> <td>   -0.380</td> <td>   -0.038</td>\n",
       "</tr>\n",
       "<tr>\n",
       "  <th>Married</th>                              <td>   -0.1815</td> <td>    0.066</td> <td>   -2.770</td> <td> 0.006</td> <td>   -0.310</td> <td>   -0.053</td>\n",
       "</tr>\n",
       "<tr>\n",
       "  <th>Married:RIAGENDRx[T.Male]</th>            <td>    0.1589</td> <td>    0.030</td> <td>    5.236</td> <td> 0.000</td> <td>    0.099</td> <td>    0.218</td>\n",
       "</tr>\n",
       "<tr>\n",
       "  <th>bs(RIDAGEYR, 3)[0]:Married</th>           <td>    0.7488</td> <td>    0.172</td> <td>    4.358</td> <td> 0.000</td> <td>    0.412</td> <td>    1.086</td>\n",
       "</tr>\n",
       "<tr>\n",
       "  <th>bs(RIDAGEYR, 3)[1]:Married</th>           <td>    0.1663</td> <td>    0.103</td> <td>    1.617</td> <td> 0.106</td> <td>   -0.035</td> <td>    0.368</td>\n",
       "</tr>\n",
       "<tr>\n",
       "  <th>bs(RIDAGEYR, 3)[2]:Married</th>           <td>    0.4791</td> <td>    0.097</td> <td>    4.948</td> <td> 0.000</td> <td>    0.289</td> <td>    0.669</td>\n",
       "</tr>\n",
       "</table>"
      ],
      "text/plain": [
       "<class 'statsmodels.iolib.summary.Summary'>\n",
       "\"\"\"\n",
       "                 Generalized Linear Model Regression Results                  \n",
       "==============================================================================\n",
       "Dep. Variable:               DMDHHSIZ   No. Observations:                 4908\n",
       "Model:                            GLM   Df Residuals:                     4895\n",
       "Model Family:                 Poisson   Df Model:                           12\n",
       "Link Function:                    log   Scale:                         0.76353\n",
       "Method:                          IRLS   Log-Likelihood:                -11697.\n",
       "Date:                Mon, 10 Feb 2020   Deviance:                       3462.1\n",
       "Time:                        13:46:17   Pearson chi2:                 3.74e+03\n",
       "No. Iterations:                     7                                         \n",
       "Covariance Type:            nonrobust                                         \n",
       "========================================================================================================\n",
       "                                           coef    std err          z      P>|z|      [0.025      0.975]\n",
       "--------------------------------------------------------------------------------------------------------\n",
       "Intercept                                1.2611      0.038     33.400      0.000       1.187       1.335\n",
       "RIAGENDRx[T.Male]                        0.0236      0.051      0.465      0.642      -0.076       0.123\n",
       "bs(RIDAGEYR, 3)[0]                       0.2899      0.120      2.413      0.016       0.054       0.525\n",
       "bs(RIDAGEYR, 3)[1]                      -0.5220      0.086     -6.058      0.000      -0.691      -0.353\n",
       "bs(RIDAGEYR, 3)[2]                      -0.6180      0.064     -9.585      0.000      -0.744      -0.492\n",
       "bs(RIDAGEYR, 3)[0]:RIAGENDRx[T.Male]    -0.4087      0.153     -2.665      0.008      -0.709      -0.108\n",
       "bs(RIDAGEYR, 3)[1]:RIAGENDRx[T.Male]     0.0656      0.101      0.649      0.517      -0.133       0.264\n",
       "bs(RIDAGEYR, 3)[2]:RIAGENDRx[T.Male]    -0.2089      0.087     -2.391      0.017      -0.380      -0.038\n",
       "Married                                 -0.1815      0.066     -2.770      0.006      -0.310      -0.053\n",
       "Married:RIAGENDRx[T.Male]                0.1589      0.030      5.236      0.000       0.099       0.218\n",
       "bs(RIDAGEYR, 3)[0]:Married               0.7488      0.172      4.358      0.000       0.412       1.086\n",
       "bs(RIDAGEYR, 3)[1]:Married               0.1663      0.103      1.617      0.106      -0.035       0.368\n",
       "bs(RIDAGEYR, 3)[2]:Married               0.4791      0.097      4.948      0.000       0.289       0.669\n",
       "========================================================================================================\n",
       "\"\"\""
      ]
     },
     "execution_count": 20,
     "metadata": {},
     "output_type": "execute_result"
    }
   ],
   "source": [
    "# 1 if the person is married, 0 otherwise\n",
    "da[\"Married\"] = (da.DMDMARTL == 1).astype(np.int)\n",
    "\n",
    "model = sm.GLM.from_formula(\"DMDHHSIZ ~ bs(RIDAGEYR, 3)*Married + bs(RIDAGEYR, 3)*RIAGENDRx + Married*RIAGENDRx\", family=sm.families.Poisson(), data=da)\n",
    "result = model.fit(scale=\"X2\")\n",
    "result.summary()"
   ]
  },
  {
   "cell_type": "markdown",
   "metadata": {},
   "source": [
    "The model fit above includes all two-way interactions among age,\n",
    "gender, and marital status.  The model with three-way interactions\n",
    "did not converge.  There are ways to work around such convergence\n",
    "issues, but here we will focus on the simpler model without the\n",
    "three-way interaction."
   ]
  },
  {
   "cell_type": "markdown",
   "metadata": {},
   "source": [
    "To understand this model, we can plot the mean curves for married\n",
    "and unmarried women and for married and unmarried men:"
   ]
  },
  {
   "cell_type": "code",
   "execution_count": 21,
   "metadata": {},
   "outputs": [
    {
     "data": {
      "text/plain": [
       "Text(0, 0.5, 'Log expected household size')"
      ]
     },
     "execution_count": 21,
     "metadata": {},
     "output_type": "execute_result"
    },
    {
     "data": {
      "image/png": "[encoded data removed]",
      "text/plain": [
       "<Figure size 432x288 with 1 Axes>"
      ]
     },
     "metadata": {
      "needs_background": "light"
     },
     "output_type": "display_data"
    }
   ],
   "source": [
    "values[\"Married\"] = 0\n",
    "\n",
    "for married in 0, 1:\n",
    "    for gender in \"Female\", \"Male\":\n",
    "        values[\"Married\"] = married\n",
    "        values[\"RIAGENDRx\"] = gender\n",
    "        pr, cb, fv = predict_functional(result, \"RIDAGEYR\",\n",
    "                        values=values, ci_method=\"simultaneous\")\n",
    "        ax = sns.lineplot(fv, pr, lw=4, label=gender + str(married))\n",
    "\n",
    "ax.set_xlabel(\"Age\")\n",
    "ax.set_ylabel(\"Log expected household size\")"
   ]
  },
  {
   "cell_type": "markdown",
   "metadata": {},
   "source": [
    "There is a lot going on here, but here are some possible\n",
    "interpretations:"
   ]
  },
  {
   "cell_type": "markdown",
   "metadata": {},
   "source": [
    "* For married people, household size increases up to around age\n",
    "around age 40.  Presumably this is due to children living at home\n",
    "and subsequently leaving home."
   ]
  },
  {
   "cell_type": "markdown",
   "metadata": {},
   "source": [
    "* Household size for married women and married men of a fixed age\n",
    "are similar, but unmarried women live in larger households than\n",
    "unmarried men, likely because they are living with children or\n",
    "parents."
   ]
  },
  {
   "cell_type": "markdown",
   "metadata": {},
   "source": [
    "Just because a variable has integer values does not mean that it\n",
    "follows a Poisson distribution.  As noted above, one key property of\n",
    "the Poisson distribution is that its conditional variance and\n",
    "conditional mean are equal.  With enough data, we can assess this\n",
    "graphically as shown below.  We can also incorporate a scale\n",
    "parameter which allows the variance to be proportional to, but not\n",
    "necessarily equal to the mean."
   ]
  },
  {
   "cell_type": "code",
   "execution_count": 22,
   "metadata": {},
   "outputs": [
    {
     "name": "stdout",
     "output_type": "stream",
     "text": [
      "0.7635339248997871\n"
     ]
    },
    {
     "data": {
      "image/png": "[encoded data removed]",
      "text/plain": [
       "<Figure size 432x288 with 1 Axes>"
      ]
     },
     "metadata": {
      "needs_background": "light"
     },
     "output_type": "display_data"
    }
   ],
   "source": [
    "da[\"fit\"] = result.fittedvalues\n",
    "da[\"fitd\"] = pd.qcut(da.fit, 10)\n",
    "dx = da.groupby(\"fitd\").agg({\"fit\": np.mean, \"DMDHHSIZ\": np.var})\n",
    "\n",
    "sns.scatterplot(x=\"fit\", y=\"DMDHHSIZ\", data=dx)\n",
    "\n",
    "print(result.scale)"
   ]
  },
  {
   "cell_type": "markdown",
   "metadata": {},
   "source": [
    "The plot above shows little evidence of an increasing trend between\n",
    "the mean and the variance.  This leads us to wonder whether the\n",
    "Poisson model was a good choice in the first place.  We can compare\n",
    "the AIC (lower is better) for a linear model, the Poisson model, and\n",
    "a series of negative binomial models to assess this."
   ]
  },
  {
   "cell_type": "code",
   "execution_count": 23,
   "metadata": {},
   "outputs": [
    {
     "name": "stdout",
     "output_type": "stream",
     "text": [
      "OLS AIC: 18101.122841508586\n",
      "Poisson AIC: 23420.13043657308\n",
      "Negative binomial AICs:\n",
      "18406.539197253944\n",
      "20504.083703267865\n"
     ]
    },
    {
     "name": "stdout",
     "output_type": "stream",
     "text": [
      "22557.149821402698\n",
      "25517.52317278125\n"
     ]
    }
   ],
   "source": [
    "# A linear model fit with least squares\n",
    "model0 = sm.OLS.from_formula(\"DMDHHSIZ ~ bs(RIDAGEYR, 3)*Married + bs(RIDAGEYR, 3)*RIAGENDRx + Married*RIAGENDRx\", data=da)\n",
    "result0 = model0.fit()\n",
    "print(\"OLS AIC:\", result0.aic)\n",
    "\n",
    "# Our Poisson model\n",
    "print(\"Poisson AIC:\", result.aic)\n",
    "\n",
    "# Fit some negative binomial models\n",
    "print(\"Negative binomial AICs:\")\n",
    "for shape in 0.1, 0.5, 1, 2:\n",
    "    model1 = sm.GLM.from_formula(\"DMDHHSIZ ~ bs(RIDAGEYR, 3)*Married + bs(RIDAGEYR, 3)*RIAGENDRx + Married*RIAGENDRx\", family=sm.families.NegativeBinomial(alpha=shape), data=da)\n",
    "    result1 = model1.fit()\n",
    "    print(result1.aic)"
   ]
  },
  {
   "cell_type": "markdown",
   "metadata": {},
   "source": [
    "Based on the AIC's shown above, the linear model appears to fit the\n",
    "data best among these alternatives."
   ]
  }
 ],
 "metadata": {
  "jupytext": {
   "cell_metadata_filter": "-all"
  },
  "kernelspec": {
   "display_name": "Python 3",
   "language": "python",
   "name": "python3"
  },
  "language_info": {
   "codemirror_mode": {
    "name": "ipython",
    "version": 3
   },
   "file_extension": ".py",
   "mimetype": "text/x-python",
   "name": "python",
   "nbconvert_exporter": "python",
   "pygments_lexer": "ipython3",
   "version": "3.7.3"
  }
 },
 "nbformat": 4,
 "nbformat_minor": 2
}
