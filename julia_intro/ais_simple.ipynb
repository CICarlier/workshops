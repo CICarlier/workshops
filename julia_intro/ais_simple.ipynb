{
 "cells": [
  {
   "cell_type": "markdown",
   "metadata": {},
   "source": [
    "Perform some basic analyses of the AIS data.\n",
    "\n",
    "To run this script, enter the following in a julia session:\n",
    "\n",
    "~~~\n",
    "include(\"ais_simple.jl\")\n",
    "~~~\n",
    "\n",
    "See these links for information about some of the data values:\n",
    "\n",
    "* https://www.navcen.uscg.gov/?pageName=AISMessagesA\n",
    "* https://www.navcen.uscg.gov/pdf/AIS/AISGuide.pdf\n",
    "\n",
    "You should run the get_ais_data.jl script to download data before\n",
    "running this script.  Also, the data_dir variable in this script\n",
    "should be set to match the data_dir variable used in get_ais_data.jl.\n",
    "Finally, the data_year and data_file variables below should\n",
    "be set to the name of one of the data files that you want to analyze.\n",
    "\n",
    "If you get a LoadError when running this script, most likely you\n",
    "have not installed one or more packages that are used by the script.\n",
    "Follow the instructions on the screen to install the missing packages\n",
    "using Pkg.add."
   ]
  },
  {
   "cell_type": "code",
   "execution_count": null,
   "metadata": {},
   "outputs": [],
   "source": [
    "# Package imports\n",
    "using DataFrames, CSV, Clustering, StatsBase, GZip, Printf"
   ]
  },
  {
   "cell_type": "code",
   "execution_count": null,
   "metadata": {},
   "outputs": [],
   "source": [
    "# Read the data.  This code is included in another file so it can\n",
    "# be re-used elsewhere.\n",
    "include(\"read_data.jl\")"
   ]
  },
  {
   "cell_type": "code",
   "execution_count": null,
   "metadata": {},
   "outputs": [],
   "source": [
    "# Count the number of unique vessels.  DataFrame columns can be accessed\n",
    "# with the dot syntax used here for brevity.\n",
    "n_vessels = size(unique(df.VesselName))"
   ]
  },
  {
   "cell_type": "code",
   "execution_count": null,
   "metadata": {},
   "outputs": [],
   "source": [
    "# This is equivalent to above, using a different syntax to access the\n",
    "# dataframe column.  A token of the form :x is a called a \"symbol\".\n",
    "# If you want to know more about symbols in julia, see here:\n",
    "# https://stackoverflow.com/a/23482257/1941745\n",
    "n_vessels = size(unique(df[:, :VesselName]))"
   ]
  },
  {
   "cell_type": "code",
   "execution_count": null,
   "metadata": {},
   "outputs": [],
   "source": [
    "# Look at the distribution of records over the status codes.  countmap\n",
    "# is in StatsBase, which we imported above.\n",
    "cm = countmap(df.Status)"
   ]
  },
  {
   "cell_type": "code",
   "execution_count": null,
   "metadata": {},
   "outputs": [],
   "source": [
    "# Get the maximum speed per vessel.  We write a custom aggregation\n",
    "# function to handle missing values, and the special case where all\n",
    "# values in a group are missing.\n",
    "function g1(x)\n",
    "    if count(ismissing, x) == length(x)\n",
    "        return missing\n",
    "    else\n",
    "        return maximum(skipmissing(x))\n",
    "    end\n",
    "end\n",
    "maxspeed1 = by(df, :VesselName, :SOG=>g1)"
   ]
  },
  {
   "cell_type": "code",
   "execution_count": null,
   "metadata": {},
   "outputs": [],
   "source": [
    "# This is equivalent to the preceeding cell, expressed more concisely.\n",
    "# The syntax \"x -> expression\" creates an anonymous function that evaluates\n",
    "# the expression using a provided value of x.\n",
    "g2 = x -> count(ismissing, x) == length(x) ? missing : maximum(skipmissing(x))\n",
    "maxspeed2 = by(df, :VesselName, :SOG=>g2)"
   ]
  },
  {
   "cell_type": "code",
   "execution_count": null,
   "metadata": {},
   "outputs": [],
   "source": [
    "# Confirm that the results are the same\n",
    "nx = sum(skipmissing(maxspeed1[:, 2] .!= maxspeed2[:, 2]))"
   ]
  },
  {
   "cell_type": "code",
   "execution_count": null,
   "metadata": {},
   "outputs": [],
   "source": [
    "# Create a dataframe containing records for moored cargo vessels.\n",
    "dx = filter(x -> !ismissing(x.Status) && x.Status == \"moored\", df)\n",
    "dx = filter(x -> !ismissing(x.VesselType) && x.VesselType in [70, 71, 73, 74, 76], dx)"
   ]
  },
  {
   "cell_type": "code",
   "execution_count": null,
   "metadata": {},
   "outputs": [],
   "source": [
    "# We will do a cluster analysis to find where the moored cargo ships are located.\n",
    "# This clustering is based only on the spatial position of each vessel, so we\n",
    "# restrict to those variables here.\n",
    "dd = dx[:, [:LAT, :LON]]"
   ]
  },
  {
   "cell_type": "code",
   "execution_count": null,
   "metadata": {},
   "outputs": [],
   "source": [
    "# A few of the records have missing position information, which the clustering\n",
    "# algorithm can't easily handle.  So we drop those records here.\n",
    "dd = dd[completecases(dd), :]"
   ]
  },
  {
   "cell_type": "code",
   "execution_count": null,
   "metadata": {},
   "outputs": [],
   "source": [
    "# The clustering code wants the positions in the form of a matrix, not a dataframe,\n",
    "# so we do the conversion here.\n",
    "dd = Matrix{Float64}(dd)"
   ]
  },
  {
   "cell_type": "code",
   "execution_count": null,
   "metadata": {},
   "outputs": [],
   "source": [
    "# The clustering algorithm wants the objects in the columns and the variables\n",
    "# (coordinates) in the rows, so we transpose.\n",
    "dd = transpose(dd)"
   ]
  },
  {
   "cell_type": "code",
   "execution_count": null,
   "metadata": {},
   "outputs": [],
   "source": [
    "# Use k-means clustering to locate some clusters of moored cargo ships\n",
    "cl = kmeans(dd, 5)"
   ]
  },
  {
   "cell_type": "code",
   "execution_count": null,
   "metadata": {},
   "outputs": [],
   "source": [
    "# Get the sizes of the clusters and figure out how to sort the clusters\n",
    "# by descending size.\n",
    "ct = counts(cl)\n",
    "ii = sortperm(ct, rev=true)"
   ]
  },
  {
   "cell_type": "code",
   "execution_count": null,
   "metadata": {},
   "outputs": [],
   "source": [
    "# Create urls that can be used to locate the clusters on a map.\n",
    "pos = cl.centers\n",
    "for i in ii\n",
    "    @printf(\"https://www.google.com/maps/search/?api=1&query=%f,%f\\n\", pos[1, i], pos[2, i])\n",
    "end"
   ]
  }
 ],
 "metadata": {
  "jupytext": {
   "cell_metadata_filter": "-all",
   "main_language": "julia",
   "notebook_metadata_filter": "-all"
  }
 },
 "nbformat": 4,
 "nbformat_minor": 2
}
