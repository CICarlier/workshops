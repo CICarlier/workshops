{
 "cells": [
  {
   "cell_type": "code",
   "execution_count": null,
   "metadata": {},
   "outputs": [],
   "source": [
    "using DataFrames, GLM"
   ]
  },
  {
   "cell_type": "code",
   "execution_count": null,
   "metadata": {},
   "outputs": [],
   "source": [
    "include(\"read_data.jl\")"
   ]
  },
  {
   "cell_type": "code",
   "execution_count": null,
   "metadata": {},
   "outputs": [],
   "source": [
    "# Reduce to a dataset of vessels.  Take the maximum speed as a measure of how fast\n",
    "# the vessel is capable of travelling.  Length, width, and draft should be constant\n",
    "# within vessels, so taking the maximum should be the same as taking any value.\n",
    "g = x -> count(ismissing, x) == length(x) ? missing : maximum(skipmissing(x))\n",
    "maxspeed = by(df, :VesselName, :SOG=>g, :Length=>g, :Width=>g, :Draft=>g)"
   ]
  },
  {
   "cell_type": "code",
   "execution_count": null,
   "metadata": {},
   "outputs": [],
   "source": [
    "# Rename the variables to something shorter\n",
    "rename!(maxspeed, :SOG_function=>:SOG, :Length_function=>:Length, :Width_function=>:Width,\n",
    "        :Draft_function=>:Draft)"
   ]
  },
  {
   "cell_type": "code",
   "execution_count": null,
   "metadata": {},
   "outputs": [],
   "source": [
    "# Drop rows with missing data\n",
    "maxspeed = maxspeed[completecases(maxspeed), :]"
   ]
  },
  {
   "cell_type": "code",
   "execution_count": null,
   "metadata": {},
   "outputs": [],
   "source": [
    "# Drop vessels with zero length, draft, width, or speed.  These are probably\n",
    "# ships that did not configure their AIS device properly.\n",
    "maxspeed = filter(x->x.SOG>0 && x.Length>0 && x.Width>0 && x.Draft>0, maxspeed)"
   ]
  },
  {
   "cell_type": "code",
   "execution_count": null,
   "metadata": {},
   "outputs": [],
   "source": [
    "# A basic additive model\n",
    "m1 = lm(@formula(SOG ~ Length  + Width + Draft), maxspeed)"
   ]
  },
  {
   "cell_type": "code",
   "execution_count": null,
   "metadata": {},
   "outputs": [],
   "source": [
    "# One way to get the R^2\n",
    "r2_1 = cor(predict(m1), m1.model.rr.y)^2"
   ]
  },
  {
   "cell_type": "code",
   "execution_count": null,
   "metadata": {},
   "outputs": [],
   "source": [
    "# Log/log regression\n",
    "m2 = lm(@formula(log(SOG) ~ log(Length)  + log(Width) + log(Draft)), maxspeed)\n",
    "r2_2 = cor(predict(m2), m2.model.rr.y)^2"
   ]
  }
 ],
 "metadata": {
  "jupytext": {
   "cell_metadata_filter": "-all",
   "main_language": "julia",
   "notebook_metadata_filter": "-all"
  }
 },
 "nbformat": 4,
 "nbformat_minor": 2
}
