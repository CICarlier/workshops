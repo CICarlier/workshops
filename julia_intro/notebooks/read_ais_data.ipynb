{
 "cells": [
  {
   "cell_type": "markdown",
   "metadata": {},
   "source": [
    "The utility script loads the AIS data into a dataframe.\n",
    "\n",
    "You should run the `get_ais_data.jl` script (or notebook) to\n",
    "download data before running this script.  Also, the `data_dir`\n",
    "variable in this script should be set to match the `data_dir`\n",
    "variable in `get_ais_data.jl`.  Finally, the `data_year` and\n",
    "`data_file` variables below should be set to the name of one of the\n",
    "data files that you want to analyze.\n",
    "\n",
    "If you get a `LoadError` when running this script, most likely you\n",
    "have not installed one or more packages that are used by the script.\n",
    "Follow the instructions on the screen to install the missing\n",
    "packages using `Pkg.add`."
   ]
  },
  {
   "cell_type": "code",
   "execution_count": null,
   "metadata": {},
   "outputs": [],
   "source": [
    "# Package imports\n",
    "using DataFrames, CSV, GZip"
   ]
  },
  {
   "cell_type": "code",
   "execution_count": null,
   "metadata": {},
   "outputs": [],
   "source": [
    "# This variable should be set to the same value as in the get_ais_data.jl\n",
    "# script.\n",
    "data_dir = \"/nfs/kshedden/AIS\""
   ]
  },
  {
   "cell_type": "code",
   "execution_count": null,
   "metadata": {},
   "outputs": [],
   "source": [
    "# The year for the data file to be analyzed, as a string.\n",
    "data_year = \"2016\""
   ]
  },
  {
   "cell_type": "code",
   "execution_count": null,
   "metadata": {},
   "outputs": [],
   "source": [
    "# The name of the data file to be analyzed.\n",
    "data_file = \"AIS_2016_01_Zone10.csv.gz\""
   ]
  },
  {
   "cell_type": "code",
   "execution_count": null,
   "metadata": {},
   "outputs": [],
   "source": [
    "# A directory name baked into the zip archives, do not change.\n",
    "ais_dir = \"AIS_ASCII_by_UTM_Month\""
   ]
  },
  {
   "cell_type": "code",
   "execution_count": null,
   "metadata": {},
   "outputs": [],
   "source": [
    "# The full path to the data file\n",
    "fn = joinpath(data_dir, \"raw\", ais_dir, data_year, data_file)"
   ]
  },
  {
   "cell_type": "code",
   "execution_count": null,
   "metadata": {},
   "outputs": [],
   "source": [
    "# Specify column types for certain key variables.  The symbol => in Julia\n",
    "# is called the \"Pair\" function.  Writing x=>y and Pair(x, y) are equivalent.\n",
    "# The pair function is used whenever it is natural to match two values in\n",
    "# an ordered pair.\n",
    "ty = Dict(\"LAT\"=>Float64, \"LON\"=>Float64, \"HEADING\"=>Float64, \"Length\"=>Float64,\n",
    "          \"Width\"=>Float64, \"Draft\"=>Float64, \"SOG\"=>Float64, \"COG\"=>Float64,\n",
    "          \"VesselType\"=>Int64)"
   ]
  },
  {
   "cell_type": "code",
   "execution_count": null,
   "metadata": {},
   "outputs": [],
   "source": [
    "# Read the data file. The \"do\" pattern creates a block so that the file\n",
    "# handle is closed immediately after the block is execuated.  The df\n",
    "# variable name has to be defined as something (anything) outside the\n",
    "# block, otherwise the df variable is local to the block and cannot\n",
    "# be used after the block closes.\n",
    "df = nothing\n",
    "GZip.open(fn) do f\n",
    "    global df\n",
    "    df = CSV.read(f, types=ty, silencewarnings=true)\n",
    "end"
   ]
  }
 ],
 "metadata": {
  "jupytext": {
   "cell_metadata_filter": "-all",
   "main_language": "julia",
   "notebook_metadata_filter": "-all"
  }
 },
 "nbformat": 4,
 "nbformat_minor": 2
}
