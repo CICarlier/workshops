








<!DOCTYPE html>
<html lang="en">

<head>
  <meta charset="utf-8">
  <title>Jupyter Notebook Viewer</title>
  <meta name="viewport" content="width=device-width, initial-scale=1.0">
  <meta name="description" content="">
  <meta name="author" content="">
  
  <meta name="robots" content="noindex,nofollow">
  

  <!--NEW RELIC Start Perf Measurement-->
  
  <!--NREND-->

  <!-- Le styles -->
  <link href="/static/build/styles.css" rel="stylesheet">

  <!-- Le HTML5 shim, for IE6-8 support of HTML5 elements -->
  <!--[if lt IE 9]>
    <script src="http://html5shim.googlecode.com/svn/trunk/html5.js"></script>
  <![endif]-->

  <!-- Le fav and touch icons -->
  <link rel="shortcut icon" href="/static/ico/ipynb_icon_16x16.png">
  <link rel="apple-touch-icon-precomposed" sizes="144x144"
        href="/static/ico/apple-touch-icon-144-precomposed.png">
  <link rel="apple-touch-icon-precomposed" sizes="114x114"
        href="/static/ico/apple-touch-icon-114-precomposed.png">
  <link rel="apple-touch-icon-precomposed" sizes="72x72"
        href="/static/ico/apple-touch-icon-72-precomposed.png">
  <link rel="apple-touch-icon-precomposed"
        href="/static/ico/apple-touch-icon-57-precomposed.png">
  
  

  

  
  <meta name="twitter:card" content="summary">
  <meta name="twitter:title" content="Notebook on nbviewer">
  <meta name="twitter:description" content="Check out this Jupyter notebook!">

  
  <meta name="twitter:domain" content="nbviewer.jupyter.org">
  <meta name="twitter:image:src" content="http://ipython.org/ipython-doc/dev/_images/ipynb_icon_128x128.png">

  
    <link href="/static/build/notebook.css" rel="stylesheet">
  

  

  
    <script src="https://cdnjs.cloudflare.com/ajax/libs/mathjax/2.7.1/MathJax.js?config=TeX-AMS_HTML" type="text/javascript">
    </script>
    <script type="text/javascript">
      init_mathjax = function() {
        if (window.MathJax) {
          // MathJax loaded
          MathJax.Hub.Config({
            TeX: {
              equationNumbers: {
                autoNumber: "AMS",
                useLabelIds: true
              }
            },
            tex2jax: {
              inlineMath: [ ['$','$'], ["\\(","\\)"] ],
              displayMath: [ ['$$','$$'], ["\\[","\\]"] ],
              processEscapes: true,
              processEnvironments: true
            },
            displayAlign: 'center',
            "HTML-CSS": {
              styles: {'.MathJax_Display': {"margin": 0}},
              linebreaks: { automatic: true }
            }
          });
          MathJax.Hub.Queue(["Typeset", MathJax.Hub]);
        }
      }
      init_mathjax();
    </script>
  

  
    <script>
      (function() {
        function addWidgetsRenderer() {
          var mimeElement = document.querySelector('script[type="application/vnd.jupyter.widget-view+json"]');
          var scriptElement = document.createElement('script');
          var widgetRendererSrc = 'https://unpkg.com/@jupyter-widgets/html-manager@0.15/dist/embed-amd.js';
          var widgetState;

          try {
            widgetState = mimeElement && JSON.parse(mimeElement.innerHTML);

            if (widgetState && (widgetState.version_major < 2 || !widgetState.version_major)) {
              widgetRendererSrc = 'https://unpkg.com/jupyter-js-widgets@2.1/dist/embed.js';
            }
          } catch(e) {}

          scriptElement.src = widgetRendererSrc;
          document.body.appendChild(scriptElement);
        }

        document.addEventListener('DOMContentLoaded', addWidgetsRenderer);
      }());
    </script>
  

</head>

<body class="nbviewer">

  <!-- These are loaded at the top of the body so they are available to
       notebook cells when they are loaded below. -->
  <script src="/static/components/jquery/dist/jquery.min.js"></script>
  <script src="/static/components/requirejs/require.js"></script>
  <script src="/static/components/moment/min/moment.min.js"></script>
<!-- Navbar
================================================== -->
  <nav id="menubar" class="navbar navbar-default navbar-fixed-top" data-spy="affix">
    <div class="container">
      <div class="navbar-header">
        <button type="button" class="navbar-toggle collapsed" data-toggle="collapse" data-target=".navbar-collapse">
          <span class="sr-only">Toggle navigation</span>
          <i class="fa fa-bars"></i>
        </button>
        <a class="navbar-brand" href="/">
          <img src="/static/img/nav_logo.svg" width="159"/>
        </a>
      </div>

      <div class="collapse navbar-collapse">
        <ul class="nav navbar-nav navbar-right">
          <li>
            <a class="active" href="https://jupyter.org">JUPYTER</a>
          </li>
          <li>
    <a href="/faq" title="FAQ" >
      
        <span>FAQ</span>
      
    </a>
  </li>

          
  
    
  
    
      
        <li>
    <a href="script/urls/umich.box.com/shared/static/jpmd9y99259u6dv0rj6p46993981m7zm.ipynb" title="View as Code" >
      <span class="fa fa-code fa-2x menu-icon"></span>
      <span class="menu-text">View as Code</span>
    </a>
  </li>
      
    
  

  

  

  

  <li>
    <a href="https://umich.box.com/shared/static/jpmd9y99259u6dv0rj6p46993981m7zm.ipynb" title="Download Notebook" download>
      <span class="fa fa-download fa-2x menu-icon"></span>
      <span class="menu-text">Download Notebook</span>
    </a>
  </li>

        </ul>
      </div><!-- /.navbar-collapse -->
      
      
    </div>
  </nav>

  <div class="container container-main">
    
  
  <div id="notebook">
    <div id="notebook-container">
      <div class="cell border-box-sizing text_cell rendered"><div class="prompt input_prompt">
</div><div class="inner_cell">
<div class="text_cell_render border-box-sizing rendered_html">
<h2 id="Statsmodels-mediation-analysis">Statsmodels mediation analysis<a class="anchor-link" href="#Statsmodels-mediation-analysis">&#182;</a></h2><p>This notebook illustrates mediation analysis in Statsmodels.  The <code>Mediation</code> class implements the mediation analysis methods presented in:</p>
<p>Imai, Keele, Tingley (2010).  A general approach to causal mediation analysis. Psychological Methods 15:4, 309-334. <a href="http://imai.princeton.edu/research/files/BaronKenny.pdf">http://imai.princeton.edu/research/files/BaronKenny.pdf</a></p>
<p>The algorithms are described on page 317 of the paper. See also <a href="http://www.jstatsoft.org/v59/i05/paper">this paper</a> describing an R package implementing these same techniques: .  The source code for the R package can be found <a href="https://github.com/cran/mediation">here</a>.</p>
<p>In the case of linear models with no interactions involving the mediator or treatment variables, the results from the Imai et al. approach should be similar or identical to the popular Barron-Kenny approach.</p>

</div>
</div>
</div>
<div class="cell border-box-sizing text_cell rendered"><div class="prompt input_prompt">
</div><div class="inner_cell">
<div class="text_cell_render border-box-sizing rendered_html">
<h3 id="Basic-mediation-analysis">Basic mediation analysis<a class="anchor-link" href="#Basic-mediation-analysis">&#182;</a></h3>
</div>
</div>
</div>
<div class="cell border-box-sizing code_cell rendered">
<div class="input">
<div class="prompt input_prompt">In&nbsp;[1]:</div>
<div class="inner_cell">
    <div class="input_area">
<div class=" highlight hl-ipython3"><pre><span></span><span class="kn">import</span> <span class="nn">statsmodels.api</span> <span class="k">as</span> <span class="nn">sm</span>
<span class="kn">from</span> <span class="nn">statsmodels.stats.mediation</span> <span class="kn">import</span> <span class="n">Mediation</span>
<span class="kn">import</span> <span class="nn">numpy</span> <span class="k">as</span> <span class="nn">np</span>
<span class="kn">import</span> <span class="nn">pandas</span> <span class="k">as</span> <span class="nn">pd</span>
</pre></div>

    </div>
</div>
</div>

</div>
<div class="cell border-box-sizing text_cell rendered"><div class="prompt input_prompt">
</div><div class="inner_cell">
<div class="text_cell_render border-box-sizing rendered_html">
<p>The "framing" dataset is used in the Imai et al. paper to illustrate their methods.  The research goal behind this data set was to understand how the framing of a political issue influences peoples' behavior relating to the issue.  The outcome variable <code>cong_mesg</code> is a binary variable that reflects whether a person states that they would send a letter to his or her congress person about immigration policy after being presented with messaging about this subject.  The  framing status is an experimental treatment that was randomly assigned to subjects, and is represented by the variable <code>treat</code> which is binary.  The potential mediator <code>emo</code> is a person's emotional response to the framing, it is a discrete-valued variable with values ranging from 3 to 12.</p>
<p>The research hypothesis is that peoples' emotional responses to the framing of an issue partially mediate their response to the framing of the issue.  That is, framing influences emotional response and emotional response in turn influences behavior.  In addition, there may be a direct effect of framing on behavior that is not mediated through the emotional response.  The goal of the mediation analysis is to estimate the strength of these direct and indirect effects.</p>
<p>Mediation analysis focuses on the relationships among three key variables: an 'outcome', a 'treatment', and a 'mediator'.  Since mediation analysis is a form of causal inference, there are several assumptions involved that are difficult or impossible to verify.  The Imai et al. paper discusses these assumptions in detail.  Ideally, mediation analysis is conducted in the context of an experiment such as this one in which the treatment is randomly assigned.  It is also common for people to conduct mediation analyses using observational data in which the treatment may be thought of as an 'exposure'.  The assumptions behind mediation analysis are even more difficult to verify in an observational setting.</p>

</div>
</div>
</div>
<div class="cell border-box-sizing code_cell rendered">
<div class="input">
<div class="prompt input_prompt">In&nbsp;[2]:</div>
<div class="inner_cell">
    <div class="input_area">
<div class=" highlight hl-ipython3"><pre><span></span><span class="n">data</span> <span class="o">=</span> <span class="n">pd</span><span class="o">.</span><span class="n">read_csv</span><span class="p">(</span><span class="s2">&quot;framing.csv&quot;</span><span class="p">)</span>
</pre></div>

    </div>
</div>
</div>

</div>
<div class="cell border-box-sizing text_cell rendered"><div class="prompt input_prompt">
</div><div class="inner_cell">
<div class="text_cell_render border-box-sizing rendered_html">
<p>The approach to mediation analysis implemented in Statsmodels is based on regression models.  Two regression models should be specified: one model relating the outcome to the mediator and treatment, and one model relating the mediator variable to the treatment.  Both of these models may include additional control variables as appropriate.  It is also possible to have interactions between either the treatment or mediator variable and the control variables.  In that case the regression models should be specified using the formula interface.  Simple mediation models without interactions or moderators (discussed below) can be conducted using the formula interface or the array interface.</p>

</div>
</div>
</div>
<div class="cell border-box-sizing text_cell rendered"><div class="prompt input_prompt">
</div><div class="inner_cell">
<div class="text_cell_render border-box-sizing rendered_html">
<p>First we specify the outcome model.  Since the outcome is binary we use a regression method for binary outcomes.  In the Imai et al. paper probit regression is used, so we also use probit regression here.  Logistic regression could be used as well.  Note that the covariates include both the treatment variable <code>treat</code> and the mediator variable <code>emo</code>.</p>

</div>
</div>
</div>
<div class="cell border-box-sizing code_cell rendered">
<div class="input">
<div class="prompt input_prompt">In&nbsp;[3]:</div>
<div class="inner_cell">
    <div class="input_area">
<div class=" highlight hl-ipython3"><pre><span></span><span class="n">probit</span> <span class="o">=</span> <span class="n">sm</span><span class="o">.</span><span class="n">families</span><span class="o">.</span><span class="n">links</span><span class="o">.</span><span class="n">probit</span>
<span class="n">outcome_model</span> <span class="o">=</span> <span class="n">sm</span><span class="o">.</span><span class="n">GLM</span><span class="o">.</span><span class="n">from_formula</span><span class="p">(</span><span class="s2">&quot;cong_mesg ~ emo + treat + age + educ + gender + income&quot;</span><span class="p">,</span>
                                        <span class="n">data</span><span class="p">,</span> <span class="n">family</span><span class="o">=</span><span class="n">sm</span><span class="o">.</span><span class="n">families</span><span class="o">.</span><span class="n">Binomial</span><span class="p">(</span><span class="n">link</span><span class="o">=</span><span class="n">probit</span><span class="p">))</span>
</pre></div>

    </div>
</div>
</div>

</div>
<div class="cell border-box-sizing text_cell rendered"><div class="prompt input_prompt">
</div><div class="inner_cell">
<div class="text_cell_render border-box-sizing rendered_html">
<p>Next we specify a model for the mediator variable <code>emo</code>.  This covariates for this model must include the treatment variable (<code>treat</code> here), and can include additional control variables as appropriate.</p>

</div>
</div>
</div>
<div class="cell border-box-sizing code_cell rendered">
<div class="input">
<div class="prompt input_prompt">In&nbsp;[4]:</div>
<div class="inner_cell">
    <div class="input_area">
<div class=" highlight hl-ipython3"><pre><span></span><span class="n">mediator_model</span> <span class="o">=</span> <span class="n">sm</span><span class="o">.</span><span class="n">OLS</span><span class="o">.</span><span class="n">from_formula</span><span class="p">(</span><span class="s2">&quot;emo ~ treat + age + educ + gender + income&quot;</span><span class="p">,</span> <span class="n">data</span><span class="p">)</span>
</pre></div>

    </div>
</div>
</div>

</div>
<div class="cell border-box-sizing text_cell rendered"><div class="prompt input_prompt">
</div><div class="inner_cell">
<div class="text_cell_render border-box-sizing rendered_html">
<p>Next we set up a <code>Mediation</code> object.  The third and fourth arguments are the names of the treatment and mediator variables, respectively.</p>

</div>
</div>
</div>
<div class="cell border-box-sizing code_cell rendered">
<div class="input">
<div class="prompt input_prompt">In&nbsp;[5]:</div>
<div class="inner_cell">
    <div class="input_area">
<div class=" highlight hl-ipython3"><pre><span></span><span class="n">med</span> <span class="o">=</span> <span class="n">Mediation</span><span class="p">(</span><span class="n">outcome_model</span><span class="p">,</span> <span class="n">mediator_model</span><span class="p">,</span> <span class="s2">&quot;treat&quot;</span><span class="p">,</span> <span class="s2">&quot;emo&quot;</span><span class="p">)</span>
</pre></div>

    </div>
</div>
</div>

</div>
<div class="cell border-box-sizing text_cell rendered"><div class="prompt input_prompt">
</div><div class="inner_cell">
<div class="text_cell_render border-box-sizing rendered_html">
<p>Calling the <code>fit</code> method produces the mediation results.  Two analytic approaches are implemented, the 'parametric' method is the default.  The 'bootstrap' method is the other option.  Both approaches have a <code>n_rep</code> keyword argument that specifies how many simulations are performed to obtain the results.  The default value of <code>n_rep</code> is 1000.  The main results can be obtained by calling the <code>summary</code> method of the result.</p>

</div>
</div>
</div>
<div class="cell border-box-sizing code_cell rendered">
<div class="input">
<div class="prompt input_prompt">In&nbsp;[6]:</div>
<div class="inner_cell">
    <div class="input_area">
<div class=" highlight hl-ipython3"><pre><span></span><span class="n">med_result</span> <span class="o">=</span> <span class="n">med</span><span class="o">.</span><span class="n">fit</span><span class="p">(</span><span class="n">n_rep</span><span class="o">=</span><span class="mi">10</span><span class="p">)</span>
<span class="nb">print</span><span class="p">(</span><span class="n">med_result</span><span class="o">.</span><span class="n">summary</span><span class="p">())</span>
</pre></div>

    </div>
</div>
</div>

<div class="output_wrapper">
<div class="output">


<div class="output_area">

    <div class="prompt"></div>


<div class="output_subarea output_stream output_stdout output_text">
<pre>                          Estimate  95% lower bound  95% upper bound
ACME (control)            0.079833         0.039740         0.137833
ACME (treated)            0.080020         0.040167         0.132245
ADE (control)             0.016623        -0.084619         0.096489
ADE (treated)             0.016436        -0.079924         0.092471
Total effect              0.096456         0.000196         0.161033
Prop. mediated (control)  0.628930        -3.084614         2.983355
Prop. mediated (treated)  0.651543        -3.017574         2.844801
ACME (average)            0.079927         0.039954         0.135039
ADE (average)             0.016529        -0.082271         0.094480
Prop. mediated (average)  0.640237        -3.051094         2.914078
</pre>
</div>
</div>

</div>
</div>

</div>
<div class="cell border-box-sizing text_cell rendered"><div class="prompt input_prompt">
</div><div class="inner_cell">
<div class="text_cell_render border-box-sizing rendered_html">
<p>The results suggest that for this study, there is evdence of an indirect (mediated) effect.  This is reflected in the ACME (average causal mediated effect) values.   The direct effect is reported as the ADE (average direct effect).  There is no evidence of a real direct effect here.</p>
<p>All results are calculated separately for the populations represented by the treatment and control groups.  Note that the estimates reported for the control group still reflect the effect of the treatment.  They capture the treatment effects (mediated and direct) that would be obtained if the treatment were given to the control population.  Since this was a randomized experiment, we expect results for the treated and control subjects to be similar, which is reflected in the results.</p>
<p>The proportion of mediated effect is difficult to estimate in a relatively small data set, hence the confidence interval is very wide and includes out of domain values.</p>

</div>
</div>
</div>
<div class="cell border-box-sizing text_cell rendered"><div class="prompt input_prompt">
</div><div class="inner_cell">
<div class="text_cell_render border-box-sizing rendered_html">
<h3 id="Moderated-mediation">Moderated mediation<a class="anchor-link" href="#Moderated-mediation">&#182;</a></h3><p>"Moderated mediation" refers to a situation in which the degree of mediation differs in different subpopulations, according to the status of a "moderator" variable.  For example, it could be that the mediation of framing by emotional response differs based on the subject's age.  To investigate this, we include interactions between age and both the treatment and mediator variables in the regression model for the outcome.  We also include an age by treatment interaction in the mediator model.</p>

</div>
</div>
</div>
<div class="cell border-box-sizing code_cell rendered">
<div class="input">
<div class="prompt input_prompt">In&nbsp;[7]:</div>
<div class="inner_cell">
    <div class="input_area">
<div class=" highlight hl-ipython3"><pre><span></span><span class="n">probit</span> <span class="o">=</span> <span class="n">sm</span><span class="o">.</span><span class="n">families</span><span class="o">.</span><span class="n">links</span><span class="o">.</span><span class="n">probit</span>
<span class="n">outcome_model</span> <span class="o">=</span> <span class="n">sm</span><span class="o">.</span><span class="n">GLM</span><span class="o">.</span><span class="n">from_formula</span><span class="p">(</span><span class="s2">&quot;cong_mesg ~ emo + treat*age + emo*age + educ + gender + income&quot;</span><span class="p">,</span>
                                        <span class="n">data</span><span class="p">,</span> <span class="n">family</span><span class="o">=</span><span class="n">sm</span><span class="o">.</span><span class="n">families</span><span class="o">.</span><span class="n">Binomial</span><span class="p">(</span><span class="n">link</span><span class="o">=</span><span class="n">probit</span><span class="p">))</span>

<span class="n">mediator_model</span> <span class="o">=</span> <span class="n">sm</span><span class="o">.</span><span class="n">OLS</span><span class="o">.</span><span class="n">from_formula</span><span class="p">(</span><span class="s2">&quot;emo ~ treat*age + educ + gender + income&quot;</span><span class="p">,</span> <span class="n">data</span><span class="p">)</span>
</pre></div>

    </div>
</div>
</div>

</div>
<div class="cell border-box-sizing text_cell rendered"><div class="prompt input_prompt">
</div><div class="inner_cell">
<div class="text_cell_render border-box-sizing rendered_html">
<p>Next we conduct the mediation analysis.  The full data set is used to fit the outcome and mediation models, but when the mediation results are calculated, they are based on a population in which all subjects have a given age.  First we specify the age variable to be 20.</p>

</div>
</div>
</div>
<div class="cell border-box-sizing code_cell rendered">
<div class="input">
<div class="prompt input_prompt">In&nbsp;[8]:</div>
<div class="inner_cell">
    <div class="input_area">
<div class=" highlight hl-ipython3"><pre><span></span><span class="n">moderators</span> <span class="o">=</span> <span class="p">{</span><span class="s2">&quot;age&quot;</span> <span class="p">:</span> <span class="mi">20</span><span class="p">}</span>
<span class="n">med</span> <span class="o">=</span> <span class="n">Mediation</span><span class="p">(</span><span class="n">outcome_model</span><span class="p">,</span> <span class="n">mediator_model</span><span class="p">,</span> <span class="s2">&quot;treat&quot;</span><span class="p">,</span> <span class="s2">&quot;emo&quot;</span><span class="p">,</span> <span class="n">moderators</span><span class="o">=</span><span class="n">moderators</span><span class="p">)</span>
<span class="n">result</span> <span class="o">=</span> <span class="n">med</span><span class="o">.</span><span class="n">fit</span><span class="p">(</span><span class="n">n_rep</span><span class="o">=</span><span class="mi">10</span><span class="p">)</span>
<span class="nb">print</span><span class="p">(</span><span class="n">result</span><span class="o">.</span><span class="n">summary</span><span class="p">())</span>
</pre></div>

    </div>
</div>
</div>

<div class="output_wrapper">
<div class="output">


<div class="output_area">

    <div class="prompt"></div>


<div class="output_subarea output_stream output_stdout output_text">
<pre>                          Estimate  95% lower bound  95% upper bound
ACME (control)            0.091233         0.018148         0.151861
ACME (treated)            0.107696         0.022368         0.182110
ADE (control)             0.239323         0.045054         0.373350
ADE (treated)             0.222860         0.038628         0.360942
Total effect              0.330556         0.116057         0.505610
Prop. mediated (control)  0.292153         0.070556         0.612043
Prop. mediated (treated)  0.380484         0.079573         0.667460
ACME (average)            0.099464         0.020258         0.166986
ADE (average)             0.231091         0.041841         0.367146
Prop. mediated (average)  0.336319         0.075064         0.639752
</pre>
</div>
</div>

</div>
</div>

</div>
<div class="cell border-box-sizing text_cell rendered"><div class="prompt input_prompt">
</div><div class="inner_cell">
<div class="text_cell_render border-box-sizing rendered_html">
<p>We see that in these younger subjects, the direct effect is stronger than the indirect (mediated) effect, and there is a strong total effect.  Next we conduct the same analysis for older subjects.  Here we see that there is a mediated effect, but no evidence for a direct effect.  Also we see that the total effect is much stronger for younger subjects than for older subjects.</p>

</div>
</div>
</div>
<div class="cell border-box-sizing code_cell rendered">
<div class="input">
<div class="prompt input_prompt">In&nbsp;[9]:</div>
<div class="inner_cell">
    <div class="input_area">
<div class=" highlight hl-ipython3"><pre><span></span><span class="n">moderators</span> <span class="o">=</span> <span class="p">{</span><span class="s2">&quot;age&quot;</span> <span class="p">:</span> <span class="mi">60</span><span class="p">}</span>
<span class="n">med</span> <span class="o">=</span> <span class="n">Mediation</span><span class="p">(</span><span class="n">outcome_model</span><span class="p">,</span> <span class="n">mediator_model</span><span class="p">,</span> <span class="s2">&quot;treat&quot;</span><span class="p">,</span> <span class="s2">&quot;emo&quot;</span><span class="p">,</span>
                    <span class="n">moderators</span><span class="o">=</span><span class="n">moderators</span><span class="p">)</span>
<span class="n">result</span> <span class="o">=</span> <span class="n">med</span><span class="o">.</span><span class="n">fit</span><span class="p">(</span><span class="n">n_rep</span><span class="o">=</span><span class="mi">10</span><span class="p">)</span>
<span class="nb">print</span><span class="p">(</span><span class="n">result</span><span class="o">.</span><span class="n">summary</span><span class="p">())</span>
</pre></div>

    </div>
</div>
</div>

<div class="output_wrapper">
<div class="output">


<div class="output_area">

    <div class="prompt"></div>


<div class="output_subarea output_stream output_stdout output_text">
<pre>                          Estimate  95% lower bound  95% upper bound
ACME (control)            0.080402         0.036490         0.140080
ACME (treated)            0.075939         0.034430         0.135339
ADE (control)            -0.049600        -0.147532         0.007845
ADE (treated)            -0.045137        -0.132515         0.007429
Total effect              0.030802        -0.073972         0.116773
Prop. mediated (control)  1.099443       -97.566601         3.908306
Prop. mediated (treated)  1.092897       -84.554245         3.800479
ACME (average)            0.078170         0.035460         0.137709
ADE (average)            -0.047368        -0.140024         0.007637
Prop. mediated (average)  1.096170       -91.058510         3.854392
</pre>
</div>
</div>

</div>
</div>

</div>
<div class="cell border-box-sizing text_cell rendered"><div class="prompt input_prompt">
</div><div class="inner_cell">
<div class="text_cell_render border-box-sizing rendered_html">
<h3 id="Comparison-to-standard-regression-analyses">Comparison to standard regression analyses<a class="anchor-link" href="#Comparison-to-standard-regression-analyses">&#182;</a></h3><p>We can better understand the mediation analysis by conducting some more conventional regression analyses.</p>
<p>First we consider a regression model for the outcome.</p>

</div>
</div>
</div>
<div class="cell border-box-sizing code_cell rendered">
<div class="input">
<div class="prompt input_prompt">In&nbsp;[10]:</div>
<div class="inner_cell">
    <div class="input_area">
<div class=" highlight hl-ipython3"><pre><span></span><span class="n">model</span> <span class="o">=</span> <span class="n">sm</span><span class="o">.</span><span class="n">GLM</span><span class="o">.</span><span class="n">from_formula</span><span class="p">(</span><span class="s2">&quot;cong_mesg ~ treat + emo + emo*treat + age + treat*age + emo*age + educ + gender + income&quot;</span><span class="p">,</span> 
                            <span class="n">data</span><span class="p">,</span> <span class="n">family</span><span class="o">=</span><span class="n">sm</span><span class="o">.</span><span class="n">families</span><span class="o">.</span><span class="n">Binomial</span><span class="p">(</span><span class="n">link</span><span class="o">=</span><span class="n">probit</span><span class="p">))</span>
<span class="n">result</span> <span class="o">=</span> <span class="n">model</span><span class="o">.</span><span class="n">fit</span><span class="p">()</span>
<span class="nb">print</span><span class="p">(</span><span class="n">result</span><span class="o">.</span><span class="n">summary</span><span class="p">())</span>
</pre></div>

    </div>
</div>
</div>

<div class="output_wrapper">
<div class="output">


<div class="output_area">

    <div class="prompt"></div>


<div class="output_subarea output_stream output_stdout output_text">
<pre>                 Generalized Linear Model Regression Results                  
==============================================================================
Dep. Variable:              cong_mesg   No. Observations:                  265
Model:                            GLM   Df Residuals:                      253
Model Family:                Binomial   Df Model:                           11
Link Function:                 probit   Scale:                             1.0
Method:                          IRLS   Log-Likelihood:                -136.67
Date:                Sun, 05 Apr 2015   Deviance:                       273.34
Time:                        03:05:49   Pearson chi2:                     252.
No. Iterations:                     8                                         
=================================================================================================
                                    coef    std err          z      P&gt;|z|      [95.0% Conf. Int.]
-------------------------------------------------------------------------------------------------
Intercept                        -3.0484      0.968     -3.150      0.002        -4.945    -1.152
educ[T.high school]               0.2681      0.234      1.148      0.251        -0.190     0.726
educ[T.less than high school]     0.3276      0.381      0.859      0.390        -0.420     1.075
educ[T.some college]             -0.1952      0.250     -0.781      0.435        -0.685     0.295
gender[T.male]                    0.4304      0.179      2.402      0.016         0.079     0.782
treat                             0.6611      0.880      0.751      0.452        -1.063     2.385
emo                               0.1077      0.116      0.927      0.354        -0.120     0.335
emo:treat                         0.0973      0.083      1.173      0.241        -0.065     0.260
age                               0.0010      0.018      0.057      0.954        -0.034     0.036
treat:age                        -0.0302      0.014     -2.222      0.026        -0.057    -0.004
emo:age                           0.0016      0.002      0.700      0.484        -0.003     0.006
income                            0.0817      0.026      3.148      0.002         0.031     0.133
=================================================================================================
</pre>
</div>
</div>

</div>
</div>

</div>
<div class="cell border-box-sizing text_cell rendered"><div class="prompt input_prompt">
</div><div class="inner_cell">
<div class="text_cell_render border-box-sizing rendered_html">
<p>Next we plot the logit response probabilities by age.  Since the two fitted lines cross, we see that the treatment has very little effect for people if age around 50.  For younger people, the treatment increases the response probability, and for older people it suppresses it</p>

</div>
</div>
</div>
<div class="cell border-box-sizing code_cell rendered">
<div class="input">
<div class="prompt input_prompt">In&nbsp;[11]:</div>
<div class="inner_cell">
    <div class="input_area">
<div class=" highlight hl-ipython3"><pre><span></span><span class="kn">from</span> <span class="nn">statsmodels.sandbox.predict_functional</span> <span class="kn">import</span> <span class="n">predict_functional</span>
<span class="n">values1</span> <span class="o">=</span> <span class="p">{</span><span class="s2">&quot;educ&quot;</span><span class="p">:</span> <span class="s2">&quot;high school&quot;</span><span class="p">,</span> <span class="s2">&quot;gender&quot;</span><span class="p">:</span> <span class="s2">&quot;female&quot;</span><span class="p">,</span> <span class="s2">&quot;treat&quot;</span><span class="p">:</span> <span class="mi">0</span><span class="p">}</span>
<span class="n">summaries</span> <span class="o">=</span> <span class="p">{</span><span class="s2">&quot;emo&quot;</span><span class="p">:</span> <span class="n">np</span><span class="o">.</span><span class="n">mean</span><span class="p">,</span> <span class="s2">&quot;emo&quot;</span><span class="p">:</span> <span class="n">np</span><span class="o">.</span><span class="n">mean</span><span class="p">,</span> <span class="s2">&quot;income&quot;</span><span class="p">:</span> <span class="n">np</span><span class="o">.</span><span class="n">mean</span><span class="p">}</span>
<span class="n">pr1</span><span class="p">,</span> <span class="n">cb1</span><span class="p">,</span> <span class="n">fvals1</span> <span class="o">=</span> <span class="n">predict_functional</span><span class="p">(</span><span class="n">result</span><span class="p">,</span> <span class="s1">&#39;age&#39;</span><span class="p">,</span> <span class="n">values</span><span class="o">=</span><span class="n">values1</span><span class="p">,</span> <span class="n">summaries</span><span class="o">=</span><span class="n">summaries</span><span class="p">,</span> <span class="n">ci_method</span><span class="o">=</span><span class="s1">&#39;scheffe&#39;</span><span class="p">)</span>
<span class="n">values2</span> <span class="o">=</span> <span class="p">{</span><span class="s2">&quot;educ&quot;</span><span class="p">:</span> <span class="s2">&quot;high school&quot;</span><span class="p">,</span> <span class="s2">&quot;gender&quot;</span><span class="p">:</span> <span class="s2">&quot;female&quot;</span><span class="p">,</span> <span class="s2">&quot;treat&quot;</span><span class="p">:</span> <span class="mi">1</span><span class="p">}</span>
<span class="n">pr2</span><span class="p">,</span> <span class="n">cb2</span><span class="p">,</span> <span class="n">fvals2</span> <span class="o">=</span> <span class="n">predict_functional</span><span class="p">(</span><span class="n">result</span><span class="p">,</span> <span class="s1">&#39;age&#39;</span><span class="p">,</span> <span class="n">values</span><span class="o">=</span><span class="n">values2</span><span class="p">,</span> <span class="n">summaries</span><span class="o">=</span><span class="n">summaries</span><span class="p">,</span> <span class="n">ci_method</span><span class="o">=</span><span class="s1">&#39;scheffe&#39;</span><span class="p">)</span>

<span class="kn">import</span> <span class="nn">matplotlib.pyplot</span> <span class="k">as</span> <span class="nn">plt</span>
<span class="n">plt</span><span class="o">.</span><span class="n">clf</span><span class="p">()</span>
<span class="n">plt</span><span class="o">.</span><span class="n">plot</span><span class="p">(</span><span class="n">fvals1</span><span class="p">,</span> <span class="n">pr1</span><span class="p">,</span> <span class="s1">&#39;-&#39;</span><span class="p">,</span> <span class="n">label</span><span class="o">=</span><span class="s2">&quot;treat=0&quot;</span><span class="p">,</span> <span class="n">color</span><span class="o">=</span><span class="s1">&#39;purple&#39;</span><span class="p">,</span> <span class="n">lw</span><span class="o">=</span><span class="mi">4</span><span class="p">)</span>
<span class="n">plt</span><span class="o">.</span><span class="n">fill_between</span><span class="p">(</span><span class="n">fvals1</span><span class="p">,</span> <span class="n">cb1</span><span class="p">[:,</span><span class="mi">0</span><span class="p">],</span> <span class="n">cb1</span><span class="p">[:,</span><span class="mi">1</span><span class="p">],</span> <span class="n">color</span><span class="o">=</span><span class="s1">&#39;lightgrey&#39;</span><span class="p">)</span>
<span class="n">plt</span><span class="o">.</span><span class="n">plot</span><span class="p">(</span><span class="n">fvals2</span><span class="p">,</span> <span class="n">pr2</span><span class="p">,</span> <span class="s1">&#39;-&#39;</span><span class="p">,</span> <span class="n">label</span><span class="o">=</span><span class="s2">&quot;treat=1&quot;</span><span class="p">,</span> <span class="n">color</span><span class="o">=</span><span class="s1">&#39;orange&#39;</span><span class="p">,</span> <span class="n">lw</span><span class="o">=</span><span class="mi">4</span><span class="p">)</span>
<span class="n">plt</span><span class="o">.</span><span class="n">fill_between</span><span class="p">(</span><span class="n">fvals2</span><span class="p">,</span> <span class="n">cb2</span><span class="p">[:,</span><span class="mi">0</span><span class="p">],</span> <span class="n">cb2</span><span class="p">[:,</span><span class="mi">1</span><span class="p">],</span> <span class="n">color</span><span class="o">=</span><span class="s1">&#39;lightgrey&#39;</span><span class="p">)</span>
<span class="n">ha</span><span class="p">,</span> <span class="n">lb</span> <span class="o">=</span> <span class="n">plt</span><span class="o">.</span><span class="n">gca</span><span class="p">()</span><span class="o">.</span><span class="n">get_legend_handles_labels</span><span class="p">()</span>
<span class="n">plt</span><span class="o">.</span><span class="n">figlegend</span><span class="p">(</span><span class="n">ha</span><span class="p">,</span> <span class="n">lb</span><span class="p">,</span> <span class="s2">&quot;center right&quot;</span><span class="p">)</span>
<span class="n">plt</span><span class="o">.</span><span class="n">xlabel</span><span class="p">(</span><span class="s2">&quot;Age&quot;</span><span class="p">)</span>
<span class="n">plt</span><span class="o">.</span><span class="n">ylabel</span><span class="p">(</span><span class="s2">&quot;logit response probability&quot;</span><span class="p">)</span>
</pre></div>

    </div>
</div>
</div>

<div class="output_wrapper">
<div class="output">


<div class="output_area">

    <div class="prompt"></div>


<div class="output_subarea output_stream output_stderr output_text">
<pre>/projects/3c16f532-d309-4425-850f-a41a8c8f8c92/statsmodels-mediation/statsmodels/sandbox/predict_functional.py:169: UserWarning: &#39;p_harm&#39;, &#39;tone&#39;, &#39;anti_info&#39;, &#39;cond&#39;, &#39;immigr&#39;, &#39;english&#39;, &#39;Unnamed: 0&#39;, &#39;eth&#39;, &#39;anx&#39; in data frame but not in summaries or values.
  % &#34;, &#34;.join([&#34;&#39;%s&#39;&#34; % x for x in unmatched]))
</pre>
</div>
</div>

<div class="output_area">

    <div class="prompt output_prompt">Out[11]:</div>




<div class="output_text output_subarea output_execute_result">
<pre>&lt;matplotlib.text.Text at 0x7f1ae0d90b50&gt;</pre>
</div>

</div>

<div class="output_area">

    <div class="prompt"></div>




<div class="output_png output_subarea ">
<img src="data:image/png;base64,iVBORw0KGgoAAAANSUhEUgAAAasAAAEPCAYAAAD8nOuVAAAABHNCSVQICAgIfAhkiAAAAAlwSFlz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"
>
</div>

</div>

</div>
</div>

</div>
<div class="cell border-box-sizing text_cell rendered"><div class="prompt input_prompt">
</div><div class="inner_cell">
<div class="text_cell_render border-box-sizing rendered_html">
<p>Next we plot the response probability as a function of the mediator (<code>emo</code>).  There is a clear trend in which people with a higher emotional response are more likely to have a positive outcome ('cond_mesg = 1').  However the treatment effect is reversed between older and younger people.  For younger people, the treatment effect is positive at every level of <code>emo</code>, but for older people the treatment effect is negative at every level of <code>emo</code>.</p>

</div>
</div>
</div>
<div class="cell border-box-sizing code_cell rendered">
<div class="input">
<div class="prompt input_prompt">In&nbsp;[12]:</div>
<div class="inner_cell">
    <div class="input_area">
<div class=" highlight hl-ipython3"><pre><span></span><span class="k">for</span> <span class="n">q</span> <span class="ow">in</span> <span class="mi">25</span><span class="p">,</span> <span class="mi">75</span><span class="p">:</span>
    
    <span class="n">values1</span> <span class="o">=</span> <span class="p">{</span><span class="s2">&quot;educ&quot;</span><span class="p">:</span> <span class="s2">&quot;high school&quot;</span><span class="p">,</span> <span class="s2">&quot;gender&quot;</span><span class="p">:</span> <span class="s2">&quot;female&quot;</span><span class="p">,</span> <span class="s2">&quot;treat&quot;</span><span class="p">:</span> <span class="mi">0</span><span class="p">}</span>
    <span class="n">summaries</span> <span class="o">=</span> <span class="p">{</span><span class="s2">&quot;income&quot;</span><span class="p">:</span> <span class="n">np</span><span class="o">.</span><span class="n">mean</span><span class="p">,</span> <span class="s2">&quot;age&quot;</span><span class="p">:</span> <span class="k">lambda</span> <span class="n">x</span><span class="p">:</span> <span class="n">np</span><span class="o">.</span><span class="n">percentile</span><span class="p">(</span><span class="n">x</span><span class="p">,</span> <span class="n">q</span><span class="p">)}</span>
    <span class="n">pr1</span><span class="p">,</span> <span class="n">cb1</span><span class="p">,</span> <span class="n">fvals1</span> <span class="o">=</span> <span class="n">predict_functional</span><span class="p">(</span><span class="n">result</span><span class="p">,</span> <span class="s1">&#39;emo&#39;</span><span class="p">,</span> <span class="n">values</span><span class="o">=</span><span class="n">values1</span><span class="p">,</span> <span class="n">summaries</span><span class="o">=</span><span class="n">summaries</span><span class="p">,</span> <span class="n">ci_method</span><span class="o">=</span><span class="s1">&#39;scheffe&#39;</span><span class="p">)</span>
    <span class="n">values2</span> <span class="o">=</span> <span class="p">{</span><span class="s2">&quot;educ&quot;</span><span class="p">:</span> <span class="s2">&quot;high school&quot;</span><span class="p">,</span> <span class="s2">&quot;gender&quot;</span><span class="p">:</span> <span class="s2">&quot;female&quot;</span><span class="p">,</span> <span class="s2">&quot;treat&quot;</span><span class="p">:</span> <span class="mi">1</span><span class="p">}</span>
    <span class="n">pr2</span><span class="p">,</span> <span class="n">cb2</span><span class="p">,</span> <span class="n">fvals2</span> <span class="o">=</span> <span class="n">predict_functional</span><span class="p">(</span><span class="n">result</span><span class="p">,</span> <span class="s1">&#39;emo&#39;</span><span class="p">,</span> <span class="n">values</span><span class="o">=</span><span class="n">values2</span><span class="p">,</span> <span class="n">summaries</span><span class="o">=</span><span class="n">summaries</span><span class="p">,</span> <span class="n">ci_method</span><span class="o">=</span><span class="s1">&#39;scheffe&#39;</span><span class="p">)</span>

    <span class="n">plt</span><span class="o">.</span><span class="n">figure</span><span class="p">()</span>
    <span class="n">plt</span><span class="o">.</span><span class="n">title</span><span class="p">(</span><span class="s2">&quot;Age at </span><span class="si">%d</span><span class="s2">th percentile&quot;</span> <span class="o">%</span> <span class="n">q</span><span class="p">)</span>
    <span class="n">plt</span><span class="o">.</span><span class="n">plot</span><span class="p">(</span><span class="n">fvals1</span><span class="p">,</span> <span class="n">pr1</span><span class="p">,</span> <span class="s1">&#39;-&#39;</span><span class="p">,</span> <span class="n">label</span><span class="o">=</span><span class="s2">&quot;treat=0&quot;</span><span class="p">,</span> <span class="n">color</span><span class="o">=</span><span class="s1">&#39;purple&#39;</span><span class="p">,</span> <span class="n">lw</span><span class="o">=</span><span class="mi">4</span><span class="p">)</span>
    <span class="n">plt</span><span class="o">.</span><span class="n">fill_between</span><span class="p">(</span><span class="n">fvals1</span><span class="p">,</span> <span class="n">cb1</span><span class="p">[:,</span> <span class="mi">0</span><span class="p">],</span> <span class="n">cb1</span><span class="p">[:,</span> <span class="mi">1</span><span class="p">],</span> <span class="n">color</span><span class="o">=</span><span class="s1">&#39;lightgrey&#39;</span><span class="p">)</span>
    <span class="n">plt</span><span class="o">.</span><span class="n">plot</span><span class="p">(</span><span class="n">fvals2</span><span class="p">,</span> <span class="n">pr2</span><span class="p">,</span> <span class="s1">&#39;-&#39;</span><span class="p">,</span> <span class="n">label</span><span class="o">=</span><span class="s2">&quot;treat=1&quot;</span><span class="p">,</span> <span class="n">color</span><span class="o">=</span><span class="s1">&#39;orange&#39;</span><span class="p">,</span> <span class="n">lw</span><span class="o">=</span><span class="mi">4</span><span class="p">)</span>
    <span class="n">plt</span><span class="o">.</span><span class="n">fill_between</span><span class="p">(</span><span class="n">fvals2</span><span class="p">,</span> <span class="n">cb2</span><span class="p">[:,</span> <span class="mi">0</span><span class="p">],</span> <span class="n">cb2</span><span class="p">[:,</span> <span class="mi">1</span><span class="p">],</span> <span class="n">color</span><span class="o">=</span><span class="s1">&#39;lightgrey&#39;</span><span class="p">)</span>
    <span class="n">ha</span><span class="p">,</span> <span class="n">lb</span> <span class="o">=</span> <span class="n">plt</span><span class="o">.</span><span class="n">gca</span><span class="p">()</span><span class="o">.</span><span class="n">get_legend_handles_labels</span><span class="p">()</span>
    <span class="n">plt</span><span class="o">.</span><span class="n">figlegend</span><span class="p">(</span><span class="n">ha</span><span class="p">,</span> <span class="n">lb</span><span class="p">,</span> <span class="s2">&quot;center right&quot;</span><span class="p">)</span>
    <span class="n">plt</span><span class="o">.</span><span class="n">xlabel</span><span class="p">(</span><span class="s2">&quot;emo&quot;</span><span class="p">)</span>
    <span class="n">plt</span><span class="o">.</span><span class="n">ylabel</span><span class="p">(</span><span class="s2">&quot;logit response probability&quot;</span><span class="p">)</span>
</pre></div>

    </div>
</div>
</div>

<div class="output_wrapper">
<div class="output">


<div class="output_area">

    <div class="prompt"></div>




<div class="output_png output_subarea ">
<img src="data:image/png;base64,iVBORw0KGgoAAAANSUhEUgAAAaIAAAEZCAYAAADVBiHZAAAABHNCSVQICAgIfAhkiAAAAAlwSFlz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"
>
</div>

</div>

<div class="output_area">

    <div class="prompt"></div>




<div class="output_png output_subarea ">
<img src="data:image/png;base64,iVBORw0KGgoAAAANSUhEUgAAAaIAAAEZCAYAAADVBiHZAAAABHNCSVQICAgIfAhkiAAAAAlwSFlz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"
>
</div>

</div>

</div>
</div>

</div>
<div class="cell border-box-sizing text_cell rendered"><div class="prompt input_prompt">
</div><div class="inner_cell">
<div class="text_cell_render border-box-sizing rendered_html">
<p>Next we fit a model for the mediator variable.</p>

</div>
</div>
</div>
<div class="cell border-box-sizing code_cell rendered">
<div class="input">
<div class="prompt input_prompt">In&nbsp;[13]:</div>
<div class="inner_cell">
    <div class="input_area">
<div class=" highlight hl-ipython3"><pre><span></span><span class="n">model</span> <span class="o">=</span> <span class="n">sm</span><span class="o">.</span><span class="n">OLS</span><span class="o">.</span><span class="n">from_formula</span><span class="p">(</span><span class="s2">&quot;emo ~ age + treat + age*treat + educ + income + gender&quot;</span><span class="p">,</span> <span class="n">data</span><span class="p">)</span>
<span class="n">result</span> <span class="o">=</span> <span class="n">model</span><span class="o">.</span><span class="n">fit</span><span class="p">()</span>
</pre></div>

    </div>
</div>
</div>

</div>
<div class="cell border-box-sizing text_cell rendered"><div class="prompt input_prompt">
</div><div class="inner_cell">
<div class="text_cell_render border-box-sizing rendered_html">
<p>The fitted model indicates that the treatment increases the emotional response, and that the influence of treatment on the emotional response declines with age.</p>

</div>
</div>
</div>
<div class="cell border-box-sizing code_cell rendered">
<div class="input">
<div class="prompt input_prompt">In&nbsp;[14]:</div>
<div class="inner_cell">
    <div class="input_area">
<div class=" highlight hl-ipython3"><pre><span></span><span class="n">values1</span> <span class="o">=</span> <span class="p">{</span><span class="s2">&quot;educ&quot;</span><span class="p">:</span> <span class="s2">&quot;high school&quot;</span><span class="p">,</span> <span class="s2">&quot;gender&quot;</span><span class="p">:</span> <span class="s2">&quot;female&quot;</span><span class="p">,</span> <span class="s2">&quot;treat&quot;</span><span class="p">:</span> <span class="mi">0</span><span class="p">}</span>
<span class="n">summaries</span> <span class="o">=</span> <span class="p">{</span><span class="s2">&quot;income&quot;</span><span class="p">:</span> <span class="n">np</span><span class="o">.</span><span class="n">mean</span><span class="p">,}</span>
<span class="n">pr1</span><span class="p">,</span> <span class="n">cb1</span><span class="p">,</span> <span class="n">fvals1</span> <span class="o">=</span> <span class="n">predict_functional</span><span class="p">(</span><span class="n">result</span><span class="p">,</span> <span class="s1">&#39;age&#39;</span><span class="p">,</span> <span class="n">values</span><span class="o">=</span><span class="n">values1</span><span class="p">,</span> <span class="n">summaries</span><span class="o">=</span><span class="n">summaries</span><span class="p">,</span> <span class="n">ci_method</span><span class="o">=</span><span class="s1">&#39;scheffe&#39;</span><span class="p">)</span>
<span class="n">values2</span> <span class="o">=</span> <span class="p">{</span><span class="s2">&quot;educ&quot;</span><span class="p">:</span> <span class="s2">&quot;high school&quot;</span><span class="p">,</span> <span class="s2">&quot;gender&quot;</span><span class="p">:</span> <span class="s2">&quot;female&quot;</span><span class="p">,</span> <span class="s2">&quot;treat&quot;</span><span class="p">:</span> <span class="mi">1</span><span class="p">}</span>
<span class="n">pr2</span><span class="p">,</span> <span class="n">cb2</span><span class="p">,</span> <span class="n">fvals2</span> <span class="o">=</span> <span class="n">predict_functional</span><span class="p">(</span><span class="n">result</span><span class="p">,</span> <span class="s1">&#39;age&#39;</span><span class="p">,</span> <span class="n">values</span><span class="o">=</span><span class="n">values2</span><span class="p">,</span> <span class="n">summaries</span><span class="o">=</span><span class="n">summaries</span><span class="p">,</span> <span class="n">ci_method</span><span class="o">=</span><span class="s1">&#39;scheffe&#39;</span><span class="p">)</span>

<span class="n">plt</span><span class="o">.</span><span class="n">figure</span><span class="p">()</span>
<span class="n">plt</span><span class="o">.</span><span class="n">plot</span><span class="p">(</span><span class="n">fvals1</span><span class="p">,</span> <span class="n">pr1</span><span class="p">,</span> <span class="s1">&#39;-&#39;</span><span class="p">,</span> <span class="n">label</span><span class="o">=</span><span class="s2">&quot;treat=0&quot;</span><span class="p">,</span> <span class="n">color</span><span class="o">=</span><span class="s1">&#39;purple&#39;</span><span class="p">,</span> <span class="n">lw</span><span class="o">=</span><span class="mi">4</span><span class="p">)</span>
<span class="n">plt</span><span class="o">.</span><span class="n">fill_between</span><span class="p">(</span><span class="n">fvals1</span><span class="p">,</span> <span class="n">cb1</span><span class="p">[:,</span><span class="mi">0</span><span class="p">],</span> <span class="n">cb1</span><span class="p">[:,</span> <span class="mi">1</span><span class="p">],</span> <span class="n">color</span><span class="o">=</span><span class="s1">&#39;lightgrey&#39;</span><span class="p">)</span>
<span class="n">plt</span><span class="o">.</span><span class="n">plot</span><span class="p">(</span><span class="n">fvals2</span><span class="p">,</span> <span class="n">pr2</span><span class="p">,</span> <span class="s1">&#39;-&#39;</span><span class="p">,</span> <span class="n">label</span><span class="o">=</span><span class="s2">&quot;treat=1&quot;</span><span class="p">,</span> <span class="n">color</span><span class="o">=</span><span class="s1">&#39;orange&#39;</span><span class="p">,</span> <span class="n">lw</span><span class="o">=</span><span class="mi">4</span><span class="p">)</span>
<span class="n">plt</span><span class="o">.</span><span class="n">fill_between</span><span class="p">(</span><span class="n">fvals2</span><span class="p">,</span> <span class="n">cb2</span><span class="p">[:,</span><span class="mi">0</span><span class="p">],</span> <span class="n">cb2</span><span class="p">[:,</span> <span class="mi">1</span><span class="p">],</span> <span class="n">color</span><span class="o">=</span><span class="s1">&#39;lightgrey&#39;</span><span class="p">)</span>
<span class="n">ha</span><span class="p">,</span> <span class="n">lb</span> <span class="o">=</span> <span class="n">plt</span><span class="o">.</span><span class="n">gca</span><span class="p">()</span><span class="o">.</span><span class="n">get_legend_handles_labels</span><span class="p">()</span>
<span class="n">plt</span><span class="o">.</span><span class="n">figlegend</span><span class="p">(</span><span class="n">ha</span><span class="p">,</span> <span class="n">lb</span><span class="p">,</span> <span class="s2">&quot;center right&quot;</span><span class="p">)</span>
<span class="n">plt</span><span class="o">.</span><span class="n">xlabel</span><span class="p">(</span><span class="s2">&quot;Age&quot;</span><span class="p">)</span>
<span class="n">plt</span><span class="o">.</span><span class="n">ylabel</span><span class="p">(</span><span class="s2">&quot;emo&quot;</span><span class="p">)</span>
</pre></div>

    </div>
</div>
</div>

<div class="output_wrapper">
<div class="output">


<div class="output_area">

    <div class="prompt"></div>


<div class="output_subarea output_stream output_stderr output_text">
<pre>/projects/3c16f532-d309-4425-850f-a41a8c8f8c92/statsmodels-mediation/statsmodels/sandbox/predict_functional.py:169: UserWarning: &#39;p_harm&#39;, &#39;Unnamed: 0&#39;, &#39;anti_info&#39;, &#39;cond&#39;, &#39;immigr&#39;, &#39;english&#39;, &#39;tone&#39;, &#39;eth&#39;, &#39;anx&#39;, &#39;cong_mesg&#39; in data frame but not in summaries or values.
  % &#34;, &#34;.join([&#34;&#39;%s&#39;&#34; % x for x in unmatched]))
</pre>
</div>
</div>

<div class="output_area">

    <div class="prompt output_prompt">Out[14]:</div>




<div class="output_text output_subarea output_execute_result">
<pre>&lt;matplotlib.text.Text at 0x7f1ae0c5a310&gt;</pre>
</div>

</div>

<div class="output_area">

    <div class="prompt"></div>




<div class="output_png output_subarea ">
<img src="data:image/png;base64,iVBORw0KGgoAAAANSUhEUgAAAakAAAEPCAYAAAD4aTuoAAAABHNCSVQICAgIfAhkiAAAAAlwSFlz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"
>
</div>

</div>

</div>
</div>

</div>
<div class="cell border-box-sizing text_cell rendered"><div class="prompt input_prompt">
</div><div class="inner_cell">
<div class="text_cell_render border-box-sizing rendered_html">
<p>Putting this all together, the regression analysis supports some of the conclusions of the mediation analysis.  The treatment increases the emotional response, but to a slightly greater degree for younger compared to older subjects.  Emotional response is positively associated with the <code>cond_mesg</code> outcome, for all ages regardless of the treatment group. The treatment appears to have a direct effect that is positive for younger people and negative for older people.  In younger people, the large emotional response and the positive treatment effect combine to create an even larger total effect, much of which is mediated.  In older people, the weaker (but still positive) emotional response combines with a negative direct effect to produce a negligible total effect. Notably, by standard metrics of statstical significance none of the effects appear to be statistically significant using the regression analysis, but the mediation analysis still identifies statistically significant indirect effects.</p>

</div>
</div>
</div>
 


    </div>
  </div>

  </div>


  
    <footer class="footer hidden-print">
      <div class="container">
        <div class="col-md-4">
          <p>
            This website does not host notebooks, it only renders notebooks
            available on other websites.
          </p>
        </div>

        <div class="col-md-4">
          <p>
            Delivered by <a href="https://www.fastly.com/">Fastly</a>,
            Rendered by <a href="https://ovhcloud.com">OVHCloud</a>
          </p>
          <p>
            nbviewer GitHub <a href="https://github.com/jupyter/nbviewer">repository</a>.
          </p>
        </div>

        <div class="col-md-4">
          
  
            
              <p>
                nbviewer version:
                <a href="https://github.com/jupyter/nbviewer/commit/e83752b49e1663d3feb1c157d31fb51451f11c0a">
                  e83752b
                </a>
              </p>
            
          
  
  <p>
    nbconvert version: <a href="https://github.com/jupyter/nbconvert/releases/tag/5.6.1">
      5.6.1
    </a>
  </p>
  

          
  
  
  <p>
    Rendered
    <span class='date' data-date='Mon, 06 Apr 2020 17:15:31 UTC' title='Mon, 06 Apr 2020 17:15:31 UTC'>(Mon, 06 Apr 2020 17:15:31 UTC)</span>
  </p>
  

        </div>
      </div>
    </footer>
  

  <script src="/static/components/bootstrap/js/bootstrap.min.js"></script>
  <script src="/static/components/headroom.js/dist/headroom.min.js"></script>
  <script src="/static/components/headroom.js/dist/jQuery.headroom.min.js"></script>

  
  
  <script>
    $(function(){ $("#menubar").headroom({
      tolerance: 5,
      offset: 205,
      classes: {
        initial: "animated",
        pinned: "slideInDown",
        unpinned: "slideOutUp"
      }
    })});
  </script>


  
  <script>
    (function(i,s,o,g,r,a,m){i['GoogleAnalyticsObject']=r;i[r]=i[r]||function(){
      (i[r].q=i[r].q||[]).push(arguments)},i[r].l=1*new Date();a=s.createElement(o),
      m=s.getElementsByTagName(o)[0];a.async=1;a.src=g;m.parentNode.insertBefore(a,m)
    })(window,document,'script','https://www.google-analytics.com/analytics.js','ga');
    ga('create', 'UA-52617120-5', 'auto',
       {'storage': 'none'});
    ga('set', 'anonymizeIp', true);
    ga('send', 'pageview');
  </script>
  
  <script>
    require({
        paths: {
          moment: "/static/components/moment/min/moment.min.js"
        }
      }, ["moment"], function(moment){
      var date = $("footer .date"),
        m = moment(new Date(date.data('date'))),
        update = function(){ date.text(m.fromNow()); };
      setInterval(update, 61*1000);
      update();
      var w = $(window).scroll(function(event){
        $("body").toggleClass("scrolled", w.scrollTop() > 0);
      });
    });
  </script>

  <!--NEW RELIC Stop Perf Measurement-->
  
  <!--NEW RELIC End-->
</body>
</html>