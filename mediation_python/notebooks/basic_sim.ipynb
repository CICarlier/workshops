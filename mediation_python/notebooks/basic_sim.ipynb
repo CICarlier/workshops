{
 "cells": [
  {
   "cell_type": "markdown",
   "metadata": {},
   "source": [
    "## Basic mediation analysis with simulated data"
   ]
  },
  {
   "cell_type": "code",
   "execution_count": 1,
   "metadata": {},
   "outputs": [
    {
     "name": "stderr",
     "output_type": "stream",
     "text": [
      "/nfs/kshedden/python3/lib/python3.7/site-packages/statsmodels/compat/pandas.py:23: FutureWarning: The Panel class is removed from pandas. Accessing it from the top-level namespace will also be removed in the next version\n",
      "  data_klasses = (pandas.Series, pandas.DataFrame, pandas.Panel)\n"
     ]
    }
   ],
   "source": [
    "import numpy as np\n",
    "import statsmodels.api as sm\n",
    "import pandas as pd"
   ]
  },
  {
   "cell_type": "code",
   "execution_count": 2,
   "metadata": {},
   "outputs": [],
   "source": [
    "# Make the simulation reproducible\n",
    "np.random.seed(2343)"
   ]
  },
  {
   "cell_type": "code",
   "execution_count": 3,
   "metadata": {
    "lines_to_next_cell": 1
   },
   "outputs": [],
   "source": [
    "# The sample size\n",
    "n = 400"
   ]
  },
  {
   "cell_type": "code",
   "execution_count": 4,
   "metadata": {
    "lines_to_next_cell": 1
   },
   "outputs": [],
   "source": [
    "def gendat(mode):\n",
    "    \"\"\"\n",
    "    Generate data for demonstrating a mediation analysis.  mode = 0,\n",
    "    1, 2, correspond, respectively, to no, full, and partial mediation\n",
    "    analysis.\n",
    "    \"\"\"\n",
    "\n",
    "    # The exposure\n",
    "    x = np.random.normal(size=n)\n",
    "\n",
    "    # The mediator\n",
    "    m = x + np.random.normal(size=n)\n",
    "    m /= np.sqrt(2)\n",
    "\n",
    "    if mode == 0:\n",
    "        # No mediation\n",
    "        y = x + np.random.normal(size=n)\n",
    "    elif mode == 1:\n",
    "        # Full mediation\n",
    "        y = m + np.random.normal(size=n)\n",
    "    else:\n",
    "        # Partial mediation\n",
    "        y = m + x + np.random.normal(size=n)\n",
    "\n",
    "    return pd.DataFrame({\"x\": x, \"m\": m, \"y\": y})"
   ]
  },
  {
   "cell_type": "code",
   "execution_count": 5,
   "metadata": {},
   "outputs": [],
   "source": [
    "def fake_mediation(mode):\n",
    "    \"\"\"\n",
    "    Conduct a simplified mediation analysis.  This shows the most\n",
    "    important steps, but is incomplete since is treats the fitted\n",
    "    models as being the exactly equal to the population.\n",
    "    \"\"\"\n",
    "\n",
    "    df = gendat(mode)\n",
    "    m_model = sm.OLS.from_formula(\"m ~ x\", data=df).fit()\n",
    "    o_model = sm.OLS.from_formula(\"y ~ x + m\", data=df).fit()\n",
    "\n",
    "    # Create counterfactual mediator values, forcing the exposure\n",
    "    # to be low.\n",
    "    df_xlow = df.copy()\n",
    "    df_xlow.x = 0\n",
    "    m_xlow = m_model.predict(exog=df_xlow)\n",
    "    m_xlow += np.sqrt(m_model.scale) * np.random.normal(size=n)\n",
    "\n",
    "    # Create counterfactual mediator values, forcing the exposure\n",
    "    # to be high.\n",
    "    df_xhigh = df.copy()\n",
    "    df_xhigh.x = 1\n",
    "    m_xhigh = m_model.predict(exog=df_xhigh)\n",
    "    m_xhigh += np.sqrt(m_model.scale) * np.random.normal(size=n)\n",
    "\n",
    "    # Create counterfactual outcomes for the indirect effect.\n",
    "    df0 = df.copy()\n",
    "    df0[\"x\"] = 0\n",
    "    df0[\"m\"] = m_xlow\n",
    "    y_low = o_model.predict(exog=df0)\n",
    "    y_low += np.sqrt(o_model.scale) * np.random.normal(size=n)\n",
    "    df0[\"x\"] = 0\n",
    "    df0[\"m\"] = m_xhigh\n",
    "    y_high = o_model.predict(exog=df0)\n",
    "    y_high += np.sqrt(o_model.scale) * np.random.normal(size=n)\n",
    "\n",
    "    # The average indirect effect\n",
    "    aie = np.mean(y_high - y_low)\n",
    "    aie_se = np.std(y_high - y_low) / np.sqrt(n)\n",
    "\n",
    "    # Create counterfactual outcomes for the direct effect.\n",
    "    df0 = df.copy()\n",
    "    df0[\"x\"] = 0\n",
    "    df0[\"m\"] = m_xlow\n",
    "    y_low = o_model.predict(exog=df0)\n",
    "    y_low += np.sqrt(o_model.scale) * np.random.normal(size=n)\n",
    "    df0[\"x\"] = 1\n",
    "    y_high = o_model.predict(exog=df0)\n",
    "    y_high += np.sqrt(o_model.scale) * np.random.normal(size=n)\n",
    "\n",
    "    # The average direct effect\n",
    "    ade = np.mean(y_high - y_low)\n",
    "    ade_se = np.std(y_high - y_low) / np.sqrt(n)\n",
    "\n",
    "    return aie, aie_se, ade, ade_se"
   ]
  },
  {
   "cell_type": "code",
   "execution_count": 6,
   "metadata": {
    "lines_to_next_cell": 2
   },
   "outputs": [
    {
     "name": "stdout",
     "output_type": "stream",
     "text": [
      "AIE= -0.0504 (0.0700)  ADE=  1.0401 (0.0685)\n",
      "AIE=  0.8445 (0.0926)  ADE= -0.0184 (0.0732)\n",
      "AIE=  0.7475 (0.0844)  ADE=  1.0485 (0.0729)\n"
     ]
    }
   ],
   "source": [
    "for mode in 0, 1, 2:\n",
    "    aie, aie_se, ade, ade_se = fake_mediation(mode)\n",
    "    print(\"AIE=%8.4f (%.4f)  ADE=%8.4f (%.4f)\" % (aie, aie_se, ade, ade_se))"
   ]
  },
  {
   "cell_type": "code",
   "execution_count": 7,
   "metadata": {},
   "outputs": [
    {
     "name": "stdout",
     "output_type": "stream",
     "text": [
      "                          Estimate  Lower CI bound  Upper CI bound  P-value\n",
      "ACME (control)           -0.057994       -0.160131        0.048136      0.3\n",
      "ACME (treated)           -0.057994       -0.160131        0.048136      0.3\n",
      "ADE (control)             1.026008        0.888199        1.184337      0.0\n",
      "ADE (treated)             1.026008        0.888199        1.184337      0.0\n",
      "Total effect              0.968015        0.870300        1.084963      0.0\n",
      "Prop. mediated (control) -0.056700       -0.163011        0.048579      0.3\n",
      "Prop. mediated (treated) -0.056700       -0.163011        0.048579      0.3\n",
      "ACME (average)           -0.057994       -0.160131        0.048136      0.3\n",
      "ADE (average)             1.026008        0.888199        1.184337      0.0\n",
      "Prop. mediated (average) -0.056700       -0.163011        0.048579      0.3\n"
     ]
    },
    {
     "name": "stdout",
     "output_type": "stream",
     "text": [
      "                          Estimate  Lower CI bound  Upper CI bound  P-value\n",
      "ACME (control)            0.824715        0.694464        0.989623     0.00\n",
      "ACME (treated)            0.824715        0.694464        0.989623     0.00\n",
      "ADE (control)            -0.137848       -0.282513       -0.033049     0.02\n",
      "ADE (treated)            -0.137848       -0.282513       -0.033049     0.02\n",
      "Total effect              0.686866        0.515419        0.864148     0.00\n",
      "Prop. mediated (control)  1.185473        1.046777        1.457412     0.00\n",
      "Prop. mediated (treated)  1.185473        1.046777        1.457412     0.00\n",
      "ACME (average)            0.824715        0.694464        0.989623     0.00\n",
      "ADE (average)            -0.137848       -0.282513       -0.033049     0.02\n",
      "Prop. mediated (average)  1.185473        1.046777        1.457412     0.00\n"
     ]
    },
    {
     "name": "stdout",
     "output_type": "stream",
     "text": [
      "                          Estimate  Lower CI bound  Upper CI bound  P-value\n",
      "ACME (control)            0.678753        0.551686        0.820375      0.0\n",
      "ACME (treated)            0.678753        0.551686        0.820375      0.0\n",
      "ADE (control)             0.901873        0.738679        1.029238      0.0\n",
      "ADE (treated)             0.901873        0.738679        1.029238      0.0\n",
      "Total effect              1.580626        1.422505        1.705761      0.0\n",
      "Prop. mediated (control)  0.432554        0.355283        0.505385      0.0\n",
      "Prop. mediated (treated)  0.432554        0.355283        0.505385      0.0\n",
      "ACME (average)            0.678753        0.551686        0.820375      0.0\n",
      "ADE (average)             0.901873        0.738679        1.029238      0.0\n",
      "Prop. mediated (average)  0.432554        0.355283        0.505385      0.0\n"
     ]
    }
   ],
   "source": [
    "for mode in 0, 1, 2:\n",
    "\n",
    "    df = gendat(mode)\n",
    "    outcome_model = sm.OLS.from_formula(\"y ~ x + m\", data=df)\n",
    "    mediator_model = sm.OLS.from_formula(\"m ~ x\", data=df)\n",
    "    med = sm.stats.Mediation(outcome_model, mediator_model, \"x\", \"m\").fit(n_rep=100)\n",
    "    print(med.summary())"
   ]
  }
 ],
 "metadata": {
  "jupytext": {
   "cell_metadata_filter": "-all"
  },
  "kernelspec": {
   "display_name": "Python 3",
   "language": "python",
   "name": "python3"
  },
  "language_info": {
   "codemirror_mode": {
    "name": "ipython",
    "version": 3
   },
   "file_extension": ".py",
   "mimetype": "text/x-python",
   "name": "python",
   "nbconvert_exporter": "python",
   "pygments_lexer": "ipython3",
   "version": "3.7.3"
  }
 },
 "nbformat": 4,
 "nbformat_minor": 2
}
