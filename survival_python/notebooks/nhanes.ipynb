{
 "cells": [
  {
   "cell_type": "markdown",
   "metadata": {},
   "source": [
    "# Survival analysis of NHANES III data\n",
    "\n",
    "Data sources:\n",
    "\n",
    "[NHANES data files](https://wwwn.cdc.gov/nchs/nhanes/nhanes3/datafiles.aspx)\n",
    "\n",
    "[NHANES mortality files](https://www.cdc.gov/nchs/data-linkage/mortality-public.htm)"
   ]
  },
  {
   "cell_type": "code",
   "execution_count": 1,
   "metadata": {},
   "outputs": [
    {
     "name": "stderr",
     "output_type": "stream",
     "text": [
      "/nfs/kshedden/python3/lib/python3.7/site-packages/statsmodels/compat/pandas.py:23: FutureWarning: The Panel class is removed from pandas. Accessing it from the top-level namespace will also be removed in the next version\n",
      "  data_klasses = (pandas.Series, pandas.DataFrame, pandas.Panel)\n"
     ]
    }
   ],
   "source": [
    "import statsmodels.api as sm\n",
    "import numpy as np\n",
    "import pandas as pd\n",
    "import os\n",
    "import matplotlib.pyplot as plt"
   ]
  },
  {
   "cell_type": "markdown",
   "metadata": {},
   "source": [
    "Read the survival data"
   ]
  },
  {
   "cell_type": "code",
   "execution_count": 2,
   "metadata": {},
   "outputs": [],
   "source": [
    "fname = \"NHANES_III_MORT_2011_PUBLIC.dat.gz\"\n",
    "colspecs = [(0, 5), (14, 15), (15, 16), (43, 46), (46, 49)]\n",
    "names = [\"seqn\", \"eligstat\", \"mortstat\", \"permth_int\", \"permth_exam\"]\n",
    "f = os.path.join(\"../data\", fname)\n",
    "surv = pd.read_fwf(f, colspecs=colspecs, names=names, compression=\"gzip\")"
   ]
  },
  {
   "cell_type": "markdown",
   "metadata": {},
   "source": [
    "Read the interview/examination data"
   ]
  },
  {
   "cell_type": "code",
   "execution_count": 3,
   "metadata": {},
   "outputs": [],
   "source": [
    "colspecs = [(0, 5), (14, 15), (17, 19), (28, 31), (33, 34), (32, 33), (34, 35), (35, 41)]\n",
    "names = [\"seqn\", \"sex\", \"age\", \"county\", \"urbanrural\", \"state\", \"region\", \"poverty\"]\n",
    "f = os.path.join(\"../data\", \"adult.dat.gz\")\n",
    "df = pd.read_fwf(f, colspecs=colspecs, names=names, compression=\"gzip\")\n",
    "df = pd.merge(surv, df, left_on=\"seqn\", right_on=\"seqn\")"
   ]
  },
  {
   "cell_type": "markdown",
   "metadata": {},
   "source": [
    "Recode region with text labels"
   ]
  },
  {
   "cell_type": "code",
   "execution_count": 4,
   "metadata": {},
   "outputs": [],
   "source": [
    "df[\"region\"] = df.region.replace({1: \"NE\", 2: \"MW\", 3: \"S\", 4: \"W\"})"
   ]
  },
  {
   "cell_type": "markdown",
   "metadata": {},
   "source": [
    "These are variables that may predict mortality."
   ]
  },
  {
   "cell_type": "code",
   "execution_count": 5,
   "metadata": {},
   "outputs": [],
   "source": [
    "df[\"poverty\"] = df[\"poverty\"].replace({888888: np.nan})\n",
    "df[\"female\"] = (df.sex == 2).astype(np.int)\n",
    "df[\"rural\"] = (df.urbanrural == 2).astype(np.int)"
   ]
  },
  {
   "cell_type": "markdown",
   "metadata": {},
   "source": [
    "Calculate the age in months at study entry (NHANES interview)"
   ]
  },
  {
   "cell_type": "code",
   "execution_count": 6,
   "metadata": {},
   "outputs": [],
   "source": [
    "df[\"age_months\"] = 12 * df.age"
   ]
  },
  {
   "cell_type": "markdown",
   "metadata": {},
   "source": [
    "Calculate the age in months at final status determination (death or censoring)"
   ]
  },
  {
   "cell_type": "code",
   "execution_count": 7,
   "metadata": {},
   "outputs": [],
   "source": [
    "df[\"end\"] = df.age_months + df.permth_int"
   ]
  },
  {
   "cell_type": "markdown",
   "metadata": {},
   "source": [
    "It is possible to do something more sophisticated about missing data, but here we\n",
    "will do a complete case analysis."
   ]
  },
  {
   "cell_type": "code",
   "execution_count": 8,
   "metadata": {},
   "outputs": [],
   "source": [
    "df = df.dropna()"
   ]
  },
  {
   "cell_type": "markdown",
   "metadata": {},
   "source": [
    "SurvfuncRight can't handle 0 survival times"
   ]
  },
  {
   "cell_type": "code",
   "execution_count": 9,
   "metadata": {
    "lines_to_next_cell": 1
   },
   "outputs": [],
   "source": [
    "df = df.loc[df.end > df.age_months]"
   ]
  },
  {
   "cell_type": "markdown",
   "metadata": {},
   "source": [
    "The hazard function is the derivative of -log(S(t)), where S(t) is the\n",
    "survival function.  Here we calculate the derivative numerically using\n",
    "second differences. This tends to produce a noisy estimate of the derivative,\n",
    "so we smooth it below with local polynomial smoothing."
   ]
  },
  {
   "cell_type": "code",
   "execution_count": 10,
   "metadata": {
    "lines_to_next_cell": 1
   },
   "outputs": [],
   "source": [
    "def hazard(sf):\n",
    "    tm = s.surv_times\n",
    "    pr = s.surv_prob\n",
    "    ii = (pr > 0)\n",
    "    tm = tm[ii]\n",
    "    pr = pr[ii]\n",
    "    lpr = np.log(pr)\n",
    "    return tm[0:-1], -np.diff(lpr) / np.diff(tm)"
   ]
  },
  {
   "cell_type": "markdown",
   "metadata": {},
   "source": [
    "Plot the hazard functions for women and men.  These are unadjusted hazard functions,\n",
    "i.e. they describe the hazard for all people at a given age."
   ]
  },
  {
   "cell_type": "code",
   "execution_count": 11,
   "metadata": {},
   "outputs": [
    {
     "data": {
      "image/png": "[encoded data removed]",
      "text/plain": [
       "<Figure size 432x288 with 1 Axes>"
      ]
     },
     "metadata": {
      "needs_background": "light"
     },
     "output_type": "display_data"
    }
   ],
   "source": [
    "plt.grid(True)\n",
    "sex = {0: \"Male\", 1: \"Female\"}\n",
    "for female in (0, 1):\n",
    "    ii = df.female == female\n",
    "    s = sm.SurvfuncRight(df.loc[ii, \"end\"], df.loc[ii, \"mortstat\"], entry=df.loc[ii, \"age_months\"])\n",
    "    tm, hz = hazard(s)\n",
    "    ha = sm.nonparametric.lowess(np.log(hz), tm/12)\n",
    "    plt.plot(ha[:, 0], ha[:, 1], lw=3, label=sex[female])\n",
    "ha, lb = plt.gca().get_legend_handles_labels()\n",
    "leg = plt.figlegend(ha, lb, \"upper center\", ncol=2)\n",
    "leg.draw_frame(False)\n",
    "plt.xlabel(\"Age\", size=15)\n",
    "plt.ylabel(\"Log hazard\", size=15)\n",
    "_ = plt.xlim(18, 90)"
   ]
  },
  {
   "cell_type": "markdown",
   "metadata": {},
   "source": [
    "Plot \"reverse survival functions\" to get a sense of the follow up time."
   ]
  },
  {
   "cell_type": "code",
   "execution_count": 12,
   "metadata": {},
   "outputs": [
    {
     "data": {
      "text/plain": [
       "Text(0, 0.5, 'Probability not censored')"
      ]
     },
     "execution_count": 12,
     "metadata": {},
     "output_type": "execute_result"
    },
    {
     "data": {
      "image/png": "[encoded data removed]",
      "text/plain": [
       "<Figure size 432x288 with 1 Axes>"
      ]
     },
     "metadata": {
      "needs_background": "light"
     },
     "output_type": "display_data"
    }
   ],
   "source": [
    "plt.grid(True)\n",
    "sex = {0: \"Male\", 1: \"Female\"}\n",
    "for female in (0, 1):\n",
    "    ii = df.female == female\n",
    "    s = sm.SurvfuncRight(df.loc[ii, \"end\"], 1 - df.loc[ii, \"mortstat\"], entry=df.loc[ii, \"age_months\"])\n",
    "    plt.plot(s.surv_times, s.surv_prob, lw=3, label=sex[female])\n",
    "ha, lb = plt.gca().get_legend_handles_labels()\n",
    "leg = plt.figlegend(ha, lb, \"upper center\", ncol=2)\n",
    "leg.draw_frame(False)\n",
    "plt.xlabel(\"Age (months)\", size=15)\n",
    "plt.ylabel(\"Probability not censored\", size=15)"
   ]
  },
  {
   "cell_type": "markdown",
   "metadata": {},
   "source": [
    "Here is another reverse survival function, looking here at follow-up time\n",
    "rather than age."
   ]
  },
  {
   "cell_type": "code",
   "execution_count": 13,
   "metadata": {},
   "outputs": [
    {
     "data": {
      "text/plain": [
       "Text(0, 0.5, 'Probability not censored')"
      ]
     },
     "execution_count": 13,
     "metadata": {},
     "output_type": "execute_result"
    },
    {
     "data": {
      "image/png": "[encoded data removed]",
      "text/plain": [
       "<Figure size 432x288 with 1 Axes>"
      ]
     },
     "metadata": {
      "needs_background": "light"
     },
     "output_type": "display_data"
    }
   ],
   "source": [
    "plt.grid(True)\n",
    "sex = {0: \"Male\", 1: \"Female\"}\n",
    "for female in (0, 1):\n",
    "    ii = df.female == female\n",
    "    t = df.loc[ii, \"end\"]- df.loc[ii, \"age_months\"]\n",
    "    s = sm.SurvfuncRight(t, 1 - df.loc[ii, \"mortstat\"])\n",
    "    plt.plot(s.surv_times, s.surv_prob, lw=3, label=sex[female])\n",
    "ha, lb = plt.gca().get_legend_handles_labels()\n",
    "leg = plt.figlegend(ha, lb, \"upper center\", ncol=2)\n",
    "leg.draw_frame(False)\n",
    "plt.xlabel(\"Follow up time (months)\", size=15)\n",
    "plt.ylabel(\"Probability not censored\", size=15)"
   ]
  },
  {
   "cell_type": "markdown",
   "metadata": {},
   "source": [
    "Fit a proportional hazards regression model, using sex, urbanicity, and\n",
    "poverty status to explain the variation in life span."
   ]
  },
  {
   "cell_type": "code",
   "execution_count": 14,
   "metadata": {},
   "outputs": [
    {
     "name": "stdout",
     "output_type": "stream",
     "text": [
      "                          Results: PHReg\n",
      "==================================================================\n",
      "Model:                     PH Reg         Sample size:        7361\n",
      "Dependent variable:        end            Num. events:        2105\n",
      "Ties:                      Breslow                                \n",
      "------------------------------------------------------------------\n",
      "              log HR log HR SE   HR      t    P>|t|  [0.025 0.975]\n",
      "------------------------------------------------------------------\n",
      "region[T.NE] -0.0879    0.0669 0.9158 -1.3138 0.1889 0.8033 1.0442\n",
      "region[T.S]  -0.0538    0.0743 0.9476 -0.7245 0.4688 0.8192 1.0961\n",
      "region[T.W]  -0.1372    0.0634 0.8718 -2.1641 0.0305 0.7699 0.9871\n",
      "female       -0.3856    0.0442 0.6800 -8.7196 0.0000 0.6236 0.7416\n",
      "rural        -0.0089    0.0685 0.9911 -0.1303 0.8963 0.8666 1.1335\n",
      "poverty      -0.1044    0.0128 0.9009 -8.1307 0.0000 0.8785 0.9238\n",
      "==================================================================\n",
      "Confidence intervals are for the hazard ratios\n",
      "7361 observations have positive entry times\n"
     ]
    }
   ],
   "source": [
    "fml = \"end ~ female + rural + region + poverty\"\n",
    "model1 = sm.PHReg.from_formula(fml, status=\"mortstat\", entry=df.age_months,\n",
    "                               data=df)\n",
    "result1 = model1.fit()\n",
    "print(result1.summary())"
   ]
  },
  {
   "cell_type": "markdown",
   "metadata": {},
   "source": [
    "Fit the same model as above, not stratifying by state of residence."
   ]
  },
  {
   "cell_type": "code",
   "execution_count": 15,
   "metadata": {},
   "outputs": [
    {
     "name": "stdout",
     "output_type": "stream",
     "text": [
      "                       Results: PHReg\n",
      "=============================================================\n",
      "Model:                  PH Reg     Num strata:          8    \n",
      "Dependent variable:     end        Min stratum size:    154  \n",
      "Ties:                   Breslow    Max stratum size:    3612 \n",
      "Sample size:            7320       Avg stratum size:    920.1\n",
      "Num. events:            2105                                 \n",
      "-------------------------------------------------------------\n",
      "         log HR log HR SE   HR      t    P>|t|  [0.025 0.975]\n",
      "-------------------------------------------------------------\n",
      "female  -0.3945    0.0446 0.6740 -8.8481 0.0000 0.6177 0.7356\n",
      "rural   -0.0157    0.0714 0.9845 -0.2194 0.8263 0.8559 1.1323\n",
      "poverty -0.1048    0.0131 0.9005 -8.0205 0.0000 0.8778 0.9239\n",
      "=============================================================\n",
      "Confidence intervals are for the hazard ratios\n",
      "7361 observations have positive entry times\n"
     ]
    }
   ],
   "source": [
    "fml = \"end ~ female + rural + poverty\"\n",
    "model2 = sm.PHReg.from_formula(fml, status=\"mortstat\", entry=df.age_months,\n",
    "                               strata=df.state, data=df)\n",
    "result2 = model2.fit()\n",
    "print(result2.summary())"
   ]
  },
  {
   "cell_type": "markdown",
   "metadata": {},
   "source": [
    "Now stratify instead on county.  Note that the sex and poverty coefficients\n",
    "are similar to what we saw above, but the urbanicity coefficient (rural)\n",
    "changes substantially.  Below, we compare people living in rural areas to\n",
    "people living in non-rural areas, while living in the same county.  Above,\n",
    "we compare people living in rural areas to people living in non-rural areas\n",
    "without the requirement that they live in the same county."
   ]
  },
  {
   "cell_type": "code",
   "execution_count": 16,
   "metadata": {},
   "outputs": [
    {
     "name": "stdout",
     "output_type": "stream",
     "text": [
      "                       Results: PHReg\n",
      "=============================================================\n",
      "Model:                  PH Reg     Num strata:          31   \n",
      "Dependent variable:     end        Min stratum size:    126  \n",
      "Ties:                   Breslow    Max stratum size:    937  \n",
      "Sample size:            7169       Avg stratum size:    237.5\n",
      "Num. events:            2105                                 \n",
      "-------------------------------------------------------------\n",
      "         log HR log HR SE   HR      t    P>|t|  [0.025 0.975]\n",
      "-------------------------------------------------------------\n",
      "female  -0.4131    0.0457 0.6616 -9.0439 0.0000 0.6049 0.7235\n",
      "rural    0.1159    0.1610 1.1229  0.7199 0.4716 0.8191 1.5394\n",
      "poverty -0.1093    0.0137 0.8965 -7.9949 0.0000 0.8728 0.9208\n",
      "=============================================================\n",
      "Confidence intervals are for the hazard ratios\n",
      "7361 observations have positive entry times\n"
     ]
    }
   ],
   "source": [
    "fml = \"end ~ female + rural + poverty\"\n",
    "model3 = sm.PHReg.from_formula(fml, status=\"mortstat\", entry=df.age_months,\n",
    "                               strata=df.county, data=df)\n",
    "result3 = model3.fit()\n",
    "print(result3.summary())"
   ]
  }
 ],
 "metadata": {
  "jupytext": {
   "cell_metadata_filter": "-all"
  },
  "kernelspec": {
   "display_name": "Python 3",
   "language": "python",
   "name": "python3"
  },
  "language_info": {
   "codemirror_mode": {
    "name": "ipython",
    "version": 3
   },
   "file_extension": ".py",
   "mimetype": "text/x-python",
   "name": "python",
   "nbconvert_exporter": "python",
   "pygments_lexer": "ipython3",
   "version": "3.7.3"
  }
 },
 "nbformat": 4,
 "nbformat_minor": 2
}
